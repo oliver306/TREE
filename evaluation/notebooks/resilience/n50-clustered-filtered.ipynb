{
 "cells": [
  {
   "cell_type": "code",
   "execution_count": 39,
   "metadata": {},
   "outputs": [],
   "source": [
    "def allInOne(path, i, rPathsArr, rOneArr, rMultArr, avgHopsPathsArr, avgHopsOneArr, avgHopsMultArr, avgHopsSPArr):\n",
    "\n",
    "    import pandas as pd\n",
    "    import numpy as np\n",
    "    import matplotlib.pyplot as plt\n",
    "\n",
    "    def filterArraysToShortest(arr1, arr1Pos, arr2, arr2Pos):\n",
    "        both_pos = np.logical_and(arr1Pos, arr2Pos)\n",
    "        arr1Filt = arr1[both_pos] \n",
    "        arr2Filt = arr2[both_pos] \n",
    "    \n",
    "        return arr1Filt, arr2Filt\n",
    "    \n",
    "    \n",
    "    def filterArraysToShortest2(arr1, arr1Pos, arr2, arr2Pos):\n",
    "        if np.count_nonzero(arr1Pos) < np.count_nonzero(arr2Pos):\n",
    "            arr1Filt = arr1[arr1Pos] \n",
    "            arr2Filt = arr2[arr1Pos] \n",
    "        else:\n",
    "            arr1Filt = arr1[arr2Pos] \n",
    "            arr2Filt = arr2[arr2Pos] \n",
    "            \n",
    "        return arr1Filt, arr2Filt\n",
    "    \n",
    "    df = pd.read_csv(path)\n",
    "    display(df.head(5))\n",
    "    \n",
    "    reps = df['rep'].to_numpy()\n",
    "    hopsRanked = df['hopsRanked'].to_numpy()\n",
    "    hopsUnranked = df['hopsUnranked'].to_numpy()\n",
    "    hopsRankedOne = df['hopsRankedOne'].to_numpy()\n",
    "    hopsPath = df['hopsPath'].to_numpy()\n",
    "    spLength = df['spLength'].to_numpy()\n",
    "\n",
    "    hopsRankedPositive = hopsRanked > -1\n",
    "    hopsUnrankedPositive = hopsUnranked > -1\n",
    "    hopsRankedOnePositive = hopsRankedOne > -1\n",
    "    hopsPathPositive = hopsPath > -1\n",
    "    spLengthPositive = spLength > -1\n",
    "    \n",
    "    \n",
    "    total = len(df.index)\n",
    "\n",
    "    successesRanked = np.count_nonzero(hopsRanked > -1)\n",
    "    successesRankedOne = np.count_nonzero(hopsRankedOne > -1)\n",
    "    successesUnranked = np.count_nonzero(hopsUnranked > -1)\n",
    "    successesPath = np.count_nonzero(hopsPath > -1)\n",
    "\n",
    "    avgHopsPath = np.mean(hopsPath[hopsPathPositive])\n",
    "    \n",
    "    hopsPathFiltered,hopsRankedFiltered = filterArraysToShortest(hopsPath, hopsPathPositive, hopsRanked, hopsRankedPositive)\n",
    "    avgHopsMult = np.mean(hopsRankedFiltered)\n",
    "    \n",
    "    hopsPathFiltered,hopsRankedOneFiltered = filterArraysToShortest(hopsPath, hopsPathPositive, hopsRankedOne, hopsRankedOnePositive)   \n",
    "    avgHopsOne = np.mean(hopsRankedOneFiltered)\n",
    "    \n",
    "    avgSpLength = np.mean(spLength[spLengthPositive])\n",
    "\n",
    "    percentPaths = (successesPath / total) * 100\n",
    "    percentOne = (successesRankedOne / total) * 100\n",
    "    percentRanked = (successesRanked / total) * 100\n",
    "    \n",
    "    print(\"Resilience Paths: {}%\".format(percentPaths))\n",
    "    print(\"Resilience One Tree: {}%\".format(percentOne))\n",
    "    print(\"Resilience Trees: {}%\".format(percentRanked))\n",
    "    #print(\"Resilience Unranked: {}%\".format((successesUnranked / total) * 100))\n",
    "\n",
    "  \n",
    "    hopsPathFiltered,hopsRankedFiltered = filterArraysToShortest(hopsPath, hopsPathPositive, hopsRanked, hopsRankedPositive)   \n",
    "    \n",
    "\n",
    "\n",
    "    diff = np.subtract(hopsPathFiltered,hopsRankedFiltered)\n",
    "    plt.scatter(np.arange(len(hopsPathFiltered)), diff, color=\"blue\", s=1.5)\n",
    "    plt.show()\n",
    "\n",
    "    higherZero = np.count_nonzero(diff > 0)\n",
    "    lowerZero = np.count_nonzero(diff < 0)\n",
    "    equalZero = np.count_nonzero(diff == 0)\n",
    "\n",
    "    print(\"Trees beat paths in {} runs\".format(higherZero))\n",
    "    print(\"Paths beat trees in {} runs\".format(lowerZero))\n",
    "    print(\"Both performed equally good in {} runs\".format(equalZero))\n",
    "    \n",
    "\n",
    "    hopsPathFiltered,hopsRankedOneFiltered = filterArraysToShortest(hopsPath, hopsPathPositive, hopsRankedOne, hopsRankedOnePositive)   \n",
    "\n",
    "    diff = np.subtract(hopsPathFiltered,hopsRankedOneFiltered)\n",
    "    plt.scatter(np.arange(len(hopsPathFiltered)), diff, color=\"blue\", s=1.5);\n",
    "    plt.show()\n",
    "\n",
    "    higherZero = np.count_nonzero(diff > 0)\n",
    "    lowerZero = np.count_nonzero(diff < 0)\n",
    "    equalZero = np.count_nonzero(diff == 0)\n",
    "\n",
    "    print(\"One Tree beat paths in {} runs\".format(higherZero))\n",
    "    print(\"Paths beat one tree in {} runs\".format(lowerZero))\n",
    "    print(\"Both performed equally good in {} runs\".format(equalZero))\n",
    "\n",
    "\n",
    "\n",
    "\n",
    "    hopsRankedOneFiltered,hopsRankedFiltered = filterArraysToShortest(hopsRankedOne, hopsRankedOnePositive, hopsRanked, hopsRankedPositive)   \n",
    "\n",
    "    diff = np.subtract(hopsRankedOneFiltered,hopsRankedFiltered)\n",
    "    plt.scatter(np.arange(len(hopsRankedFiltered)), diff, color=\"blue\", s=1.5);\n",
    "    plt.show()\n",
    "\n",
    "    higherZero = np.count_nonzero(diff > 0)\n",
    "    lowerZero = np.count_nonzero(diff < 0)\n",
    "    equalZero = np.count_nonzero(diff == 0)\n",
    "\n",
    "    print(\"Multiple Trees beat One Tree in {} runs\".format(higherZero))\n",
    "    print(\"One Tree beat  multiple trees in {} runs\".format(lowerZero))\n",
    "    print(\"Both performed equally good in {} runs\".format(equalZero))\n",
    "\n",
    "\n",
    "\n",
    "\n",
    "    hopsUnrankedFiltered,hopsRankedFiltered = filterArraysToShortest(hopsUnranked, hopsUnrankedPositive, hopsRanked, hopsRankedPositive)   \n",
    "\n",
    "    diff = np.subtract(hopsUnrankedFiltered,hopsRankedFiltered)\n",
    "    plt.scatter(np.arange(len(hopsRankedFiltered)), diff, color=\"blue\", s=1.5);\n",
    "    plt.show()\n",
    "\n",
    "    higherZero = np.count_nonzero(diff > 0)\n",
    "    lowerZero = np.count_nonzero(diff < 0)\n",
    "    equalZero = np.count_nonzero(diff == 0)\n",
    "\n",
    "    print(\"Ranked Trees beat Unranked Tree in {} runs\".format(higherZero))\n",
    "    print(\"Unranked Tree beat ranked trees in {} runs\".format(lowerZero))\n",
    "    print(\"Both performed equally good in {} runs\".format(equalZero))\n",
    "    \n",
    "    rPathsArr[i] = percentPaths\n",
    "    rOneArr[i] = percentOne\n",
    "    rMultArr[i] = percentRanked\n",
    "    avgHopsPathsArr[i] = avgHopsPath\n",
    "    avgHopsOneArr[i] = avgHopsOne\n",
    "    avgHopsMultArr[i] = avgHopsMult\n",
    "    avgHopsSPArr[i] = avgSpLength\n",
    "    \n",
    "    return "
   ]
  },
  {
   "cell_type": "code",
   "execution_count": 24,
   "metadata": {},
   "outputs": [],
   "source": [
    "path_base = 'CSVs/n50-clustered/'"
   ]
  },
  {
   "cell_type": "code",
   "execution_count": 25,
   "metadata": {},
   "outputs": [],
   "source": [
    "files = ['trees-2021-09-05_18-44-17-p0.15-n50-f0.3.csv', \n",
    "         'trees-2021-09-05_18-44-41-p0.15-n50-f0.4.csv', \n",
    "         'trees-2021-09-05_18-45-06-p0.15-n50-f0.5.csv',\n",
    "         'trees-2021-09-05_18-45-31-p0.15-n50-f0.6.csv',\n",
    "         'trees-2021-09-05_18-45-56-p0.15-n50-f0.7.csv',\n",
    "         'trees-2021-09-05_18-46-22-p0.15-n50-f0.8.csv',\n",
    "         'trees-2021-09-05_18-46-42-p0.15-n50-f0.9.csv'\n",
    "        ]"
   ]
  },
  {
   "cell_type": "code",
   "execution_count": 26,
   "metadata": {},
   "outputs": [],
   "source": [
    "nrFiles = len(files)\n",
    "rPaths = [None] * nrFiles\n",
    "rOne = [None] * nrFiles\n",
    "rMult = [None] * nrFiles\n",
    "\n",
    "avgHopsPaths = [None] * nrFiles\n",
    "avgHopsOne = [None] * nrFiles\n",
    "avgHopsMult = [None] * nrFiles\n",
    "avgHopsSP = [None] * nrFiles\n"
   ]
  },
  {
   "cell_type": "code",
   "execution_count": 33,
   "metadata": {},
   "outputs": [
    {
     "data": {
      "text/html": [
       "<div>\n",
       "<style scoped>\n",
       "    .dataframe tbody tr th:only-of-type {\n",
       "        vertical-align: middle;\n",
       "    }\n",
       "\n",
       "    .dataframe tbody tr th {\n",
       "        vertical-align: top;\n",
       "    }\n",
       "\n",
       "    .dataframe thead th {\n",
       "        text-align: right;\n",
       "    }\n",
       "</style>\n",
       "<table border=\"1\" class=\"dataframe\">\n",
       "  <thead>\n",
       "    <tr style=\"text-align: right;\">\n",
       "      <th></th>\n",
       "      <th>rep</th>\n",
       "      <th>nrNodes</th>\n",
       "      <th>nrEdges</th>\n",
       "      <th>edgeProb</th>\n",
       "      <th>nrPaths</th>\n",
       "      <th>nrFails</th>\n",
       "      <th>failureModel</th>\n",
       "      <th>failurePercent</th>\n",
       "      <th>hopsRanked</th>\n",
       "      <th>hopsUnranked</th>\n",
       "      <th>spLength</th>\n",
       "      <th>stretch_mult</th>\n",
       "      <th>nodeAdditions</th>\n",
       "      <th>hopsPath</th>\n",
       "      <th>stretch_path</th>\n",
       "      <th>hopsRankedOne</th>\n",
       "      <th>hopsUnrankedOne</th>\n",
       "      <th>stretch_one</th>\n",
       "      <th>overallNodeAdditionsOne</th>\n",
       "      <th>treeChoice</th>\n",
       "    </tr>\n",
       "  </thead>\n",
       "  <tbody>\n",
       "    <tr>\n",
       "      <th>0</th>\n",
       "      <td>1000</td>\n",
       "      <td>50</td>\n",
       "      <td>186</td>\n",
       "      <td>0.15</td>\n",
       "      <td>5</td>\n",
       "      <td>NaN</td>\n",
       "      <td>clustered</td>\n",
       "      <td>0.3;-0.3</td>\n",
       "      <td>4</td>\n",
       "      <td>4</td>\n",
       "      <td>3</td>\n",
       "      <td>1</td>\n",
       "      <td>0</td>\n",
       "      <td>5</td>\n",
       "      <td>2</td>\n",
       "      <td>3</td>\n",
       "      <td>5</td>\n",
       "      <td>0</td>\n",
       "      <td>0</td>\n",
       "      <td>edgeCount</td>\n",
       "    </tr>\n",
       "    <tr>\n",
       "      <th>1</th>\n",
       "      <td>999</td>\n",
       "      <td>50</td>\n",
       "      <td>181</td>\n",
       "      <td>0.15</td>\n",
       "      <td>8</td>\n",
       "      <td>NaN</td>\n",
       "      <td>clustered</td>\n",
       "      <td>0.3;-0.3</td>\n",
       "      <td>2</td>\n",
       "      <td>2</td>\n",
       "      <td>2</td>\n",
       "      <td>0</td>\n",
       "      <td>26</td>\n",
       "      <td>2</td>\n",
       "      <td>0</td>\n",
       "      <td>2</td>\n",
       "      <td>2</td>\n",
       "      <td>0</td>\n",
       "      <td>8</td>\n",
       "      <td>edgeCount</td>\n",
       "    </tr>\n",
       "    <tr>\n",
       "      <th>2</th>\n",
       "      <td>998</td>\n",
       "      <td>50</td>\n",
       "      <td>169</td>\n",
       "      <td>0.15</td>\n",
       "      <td>8</td>\n",
       "      <td>NaN</td>\n",
       "      <td>clustered</td>\n",
       "      <td>0.3;-0.3</td>\n",
       "      <td>3</td>\n",
       "      <td>3</td>\n",
       "      <td>3</td>\n",
       "      <td>0</td>\n",
       "      <td>0</td>\n",
       "      <td>7</td>\n",
       "      <td>4</td>\n",
       "      <td>3</td>\n",
       "      <td>7</td>\n",
       "      <td>0</td>\n",
       "      <td>0</td>\n",
       "      <td>edgeCount</td>\n",
       "    </tr>\n",
       "    <tr>\n",
       "      <th>3</th>\n",
       "      <td>997</td>\n",
       "      <td>50</td>\n",
       "      <td>190</td>\n",
       "      <td>0.15</td>\n",
       "      <td>7</td>\n",
       "      <td>NaN</td>\n",
       "      <td>clustered</td>\n",
       "      <td>0.3;-0.3</td>\n",
       "      <td>3</td>\n",
       "      <td>2</td>\n",
       "      <td>2</td>\n",
       "      <td>1</td>\n",
       "      <td>8</td>\n",
       "      <td>2</td>\n",
       "      <td>0</td>\n",
       "      <td>2</td>\n",
       "      <td>2</td>\n",
       "      <td>0</td>\n",
       "      <td>2</td>\n",
       "      <td>edgeCount</td>\n",
       "    </tr>\n",
       "    <tr>\n",
       "      <th>4</th>\n",
       "      <td>996</td>\n",
       "      <td>50</td>\n",
       "      <td>175</td>\n",
       "      <td>0.15</td>\n",
       "      <td>9</td>\n",
       "      <td>NaN</td>\n",
       "      <td>clustered</td>\n",
       "      <td>0.3;-0.3</td>\n",
       "      <td>7</td>\n",
       "      <td>3</td>\n",
       "      <td>2</td>\n",
       "      <td>5</td>\n",
       "      <td>0</td>\n",
       "      <td>2</td>\n",
       "      <td>0</td>\n",
       "      <td>3</td>\n",
       "      <td>2</td>\n",
       "      <td>1</td>\n",
       "      <td>0</td>\n",
       "      <td>edgeCount</td>\n",
       "    </tr>\n",
       "  </tbody>\n",
       "</table>\n",
       "</div>"
      ],
      "text/plain": [
       "    rep  nrNodes  nrEdges  edgeProb  nrPaths  nrFails failureModel  \\\n",
       "0  1000       50      186      0.15        5      NaN    clustered   \n",
       "1   999       50      181      0.15        8      NaN    clustered   \n",
       "2   998       50      169      0.15        8      NaN    clustered   \n",
       "3   997       50      190      0.15        7      NaN    clustered   \n",
       "4   996       50      175      0.15        9      NaN    clustered   \n",
       "\n",
       "  failurePercent  hopsRanked  hopsUnranked  spLength  stretch_mult  \\\n",
       "0       0.3;-0.3           4             4         3             1   \n",
       "1       0.3;-0.3           2             2         2             0   \n",
       "2       0.3;-0.3           3             3         3             0   \n",
       "3       0.3;-0.3           3             2         2             1   \n",
       "4       0.3;-0.3           7             3         2             5   \n",
       "\n",
       "   nodeAdditions  hopsPath  stretch_path  hopsRankedOne  hopsUnrankedOne  \\\n",
       "0              0         5             2              3                5   \n",
       "1             26         2             0              2                2   \n",
       "2              0         7             4              3                7   \n",
       "3              8         2             0              2                2   \n",
       "4              0         2             0              3                2   \n",
       "\n",
       "   stretch_one  overallNodeAdditionsOne treeChoice  \n",
       "0            0                        0  edgeCount  \n",
       "1            0                        8  edgeCount  \n",
       "2            0                        0  edgeCount  \n",
       "3            0                        2  edgeCount  \n",
       "4            1                        0  edgeCount  "
      ]
     },
     "metadata": {},
     "output_type": "display_data"
    },
    {
     "name": "stdout",
     "output_type": "stream",
     "text": [
      "Resilience Paths: 100.0%\n",
      "Resilience One Tree: 100.0%\n",
      "Resilience Trees: 100.0%\n"
     ]
    },
    {
     "data": {
      "image/png": "[encoded data removed]",
      "text/plain": [
       "<Figure size 432x288 with 1 Axes>"
      ]
     },
     "metadata": {
      "needs_background": "light"
     },
     "output_type": "display_data"
    },
    {
     "name": "stdout",
     "output_type": "stream",
     "text": [
      "Trees beat paths in 168 runs\n",
      "Paths beat trees in 661 runs\n",
      "Both performed equally good in 171 runs\n"
     ]
    },
    {
     "data": {
      "image/png": "[encoded data removed]",
      "text/plain": [
       "<Figure size 432x288 with 1 Axes>"
      ]
     },
     "metadata": {
      "needs_background": "light"
     },
     "output_type": "display_data"
    },
    {
     "name": "stdout",
     "output_type": "stream",
     "text": [
      "One Tree beat paths in 130 runs\n",
      "Paths beat one tree in 433 runs\n",
      "Both performed equally good in 437 runs\n"
     ]
    },
    {
     "data": {
      "image/png": "[encoded data removed]",
      "text/plain": [
       "<Figure size 432x288 with 1 Axes>"
      ]
     },
     "metadata": {
      "needs_background": "light"
     },
     "output_type": "display_data"
    },
    {
     "name": "stdout",
     "output_type": "stream",
     "text": [
      "Multiple Trees beat One Tree in 189 runs\n",
      "One Tree beat  multiple trees in 457 runs\n",
      "Both performed equally good in 354 runs\n"
     ]
    },
    {
     "data": {
      "image/png": "[encoded data removed]",
      "text/plain": [
       "<Figure size 432x288 with 1 Axes>"
      ]
     },
     "metadata": {
      "needs_background": "light"
     },
     "output_type": "display_data"
    },
    {
     "name": "stdout",
     "output_type": "stream",
     "text": [
      "Ranked Trees beat Unranked Tree in 404 runs\n",
      "Unranked Tree beat ranked trees in 371 runs\n",
      "Both performed equally good in 225 runs\n"
     ]
    },
    {
     "data": {
      "text/html": [
       "<div>\n",
       "<style scoped>\n",
       "    .dataframe tbody tr th:only-of-type {\n",
       "        vertical-align: middle;\n",
       "    }\n",
       "\n",
       "    .dataframe tbody tr th {\n",
       "        vertical-align: top;\n",
       "    }\n",
       "\n",
       "    .dataframe thead th {\n",
       "        text-align: right;\n",
       "    }\n",
       "</style>\n",
       "<table border=\"1\" class=\"dataframe\">\n",
       "  <thead>\n",
       "    <tr style=\"text-align: right;\">\n",
       "      <th></th>\n",
       "      <th>rep</th>\n",
       "      <th>nrNodes</th>\n",
       "      <th>nrEdges</th>\n",
       "      <th>edgeProb</th>\n",
       "      <th>nrPaths</th>\n",
       "      <th>nrFails</th>\n",
       "      <th>failureModel</th>\n",
       "      <th>failurePercent</th>\n",
       "      <th>hopsRanked</th>\n",
       "      <th>hopsUnranked</th>\n",
       "      <th>spLength</th>\n",
       "      <th>stretch_mult</th>\n",
       "      <th>nodeAdditions</th>\n",
       "      <th>hopsPath</th>\n",
       "      <th>stretch_path</th>\n",
       "      <th>hopsRankedOne</th>\n",
       "      <th>hopsUnrankedOne</th>\n",
       "      <th>stretch_one</th>\n",
       "      <th>overallNodeAdditionsOne</th>\n",
       "      <th>treeChoice</th>\n",
       "    </tr>\n",
       "  </thead>\n",
       "  <tbody>\n",
       "    <tr>\n",
       "      <th>0</th>\n",
       "      <td>1000</td>\n",
       "      <td>50</td>\n",
       "      <td>172</td>\n",
       "      <td>0.15</td>\n",
       "      <td>5</td>\n",
       "      <td>NaN</td>\n",
       "      <td>clustered</td>\n",
       "      <td>0.4;-0.3</td>\n",
       "      <td>17</td>\n",
       "      <td>5</td>\n",
       "      <td>2</td>\n",
       "      <td>15</td>\n",
       "      <td>0</td>\n",
       "      <td>2</td>\n",
       "      <td>0</td>\n",
       "      <td>3</td>\n",
       "      <td>2</td>\n",
       "      <td>1</td>\n",
       "      <td>0</td>\n",
       "      <td>edgeCount</td>\n",
       "    </tr>\n",
       "    <tr>\n",
       "      <th>1</th>\n",
       "      <td>999</td>\n",
       "      <td>50</td>\n",
       "      <td>158</td>\n",
       "      <td>0.15</td>\n",
       "      <td>7</td>\n",
       "      <td>NaN</td>\n",
       "      <td>clustered</td>\n",
       "      <td>0.4;-0.3</td>\n",
       "      <td>3</td>\n",
       "      <td>3</td>\n",
       "      <td>3</td>\n",
       "      <td>0</td>\n",
       "      <td>14</td>\n",
       "      <td>3</td>\n",
       "      <td>0</td>\n",
       "      <td>3</td>\n",
       "      <td>3</td>\n",
       "      <td>0</td>\n",
       "      <td>6</td>\n",
       "      <td>edgeCount</td>\n",
       "    </tr>\n",
       "    <tr>\n",
       "      <th>2</th>\n",
       "      <td>998</td>\n",
       "      <td>50</td>\n",
       "      <td>174</td>\n",
       "      <td>0.15</td>\n",
       "      <td>8</td>\n",
       "      <td>NaN</td>\n",
       "      <td>clustered</td>\n",
       "      <td>0.4;-0.3</td>\n",
       "      <td>7</td>\n",
       "      <td>3</td>\n",
       "      <td>3</td>\n",
       "      <td>4</td>\n",
       "      <td>28</td>\n",
       "      <td>3</td>\n",
       "      <td>0</td>\n",
       "      <td>7</td>\n",
       "      <td>10</td>\n",
       "      <td>4</td>\n",
       "      <td>8</td>\n",
       "      <td>edgeCount</td>\n",
       "    </tr>\n",
       "    <tr>\n",
       "      <th>3</th>\n",
       "      <td>997</td>\n",
       "      <td>50</td>\n",
       "      <td>172</td>\n",
       "      <td>0.15</td>\n",
       "      <td>4</td>\n",
       "      <td>NaN</td>\n",
       "      <td>clustered</td>\n",
       "      <td>0.4;-0.3</td>\n",
       "      <td>4</td>\n",
       "      <td>6</td>\n",
       "      <td>3</td>\n",
       "      <td>1</td>\n",
       "      <td>8</td>\n",
       "      <td>10</td>\n",
       "      <td>7</td>\n",
       "      <td>10</td>\n",
       "      <td>10</td>\n",
       "      <td>7</td>\n",
       "      <td>2</td>\n",
       "      <td>edgeCount</td>\n",
       "    </tr>\n",
       "    <tr>\n",
       "      <th>4</th>\n",
       "      <td>996</td>\n",
       "      <td>50</td>\n",
       "      <td>192</td>\n",
       "      <td>0.15</td>\n",
       "      <td>8</td>\n",
       "      <td>NaN</td>\n",
       "      <td>clustered</td>\n",
       "      <td>0.4;-0.3</td>\n",
       "      <td>3</td>\n",
       "      <td>6</td>\n",
       "      <td>2</td>\n",
       "      <td>1</td>\n",
       "      <td>6</td>\n",
       "      <td>4</td>\n",
       "      <td>2</td>\n",
       "      <td>7</td>\n",
       "      <td>4</td>\n",
       "      <td>5</td>\n",
       "      <td>2</td>\n",
       "      <td>edgeCount</td>\n",
       "    </tr>\n",
       "  </tbody>\n",
       "</table>\n",
       "</div>"
      ],
      "text/plain": [
       "    rep  nrNodes  nrEdges  edgeProb  nrPaths  nrFails failureModel  \\\n",
       "0  1000       50      172      0.15        5      NaN    clustered   \n",
       "1   999       50      158      0.15        7      NaN    clustered   \n",
       "2   998       50      174      0.15        8      NaN    clustered   \n",
       "3   997       50      172      0.15        4      NaN    clustered   \n",
       "4   996       50      192      0.15        8      NaN    clustered   \n",
       "\n",
       "  failurePercent  hopsRanked  hopsUnranked  spLength  stretch_mult  \\\n",
       "0       0.4;-0.3          17             5         2            15   \n",
       "1       0.4;-0.3           3             3         3             0   \n",
       "2       0.4;-0.3           7             3         3             4   \n",
       "3       0.4;-0.3           4             6         3             1   \n",
       "4       0.4;-0.3           3             6         2             1   \n",
       "\n",
       "   nodeAdditions  hopsPath  stretch_path  hopsRankedOne  hopsUnrankedOne  \\\n",
       "0              0         2             0              3                2   \n",
       "1             14         3             0              3                3   \n",
       "2             28         3             0              7               10   \n",
       "3              8        10             7             10               10   \n",
       "4              6         4             2              7                4   \n",
       "\n",
       "   stretch_one  overallNodeAdditionsOne treeChoice  \n",
       "0            1                        0  edgeCount  \n",
       "1            0                        6  edgeCount  \n",
       "2            4                        8  edgeCount  \n",
       "3            7                        2  edgeCount  \n",
       "4            5                        2  edgeCount  "
      ]
     },
     "metadata": {},
     "output_type": "display_data"
    },
    {
     "name": "stdout",
     "output_type": "stream",
     "text": [
      "Resilience Paths: 98.8988988988989%\n",
      "Resilience One Tree: 99.7997997997998%\n",
      "Resilience Trees: 100.0%\n"
     ]
    },
    {
     "data": {
      "image/png": "[encoded data removed]",
      "text/plain": [
       "<Figure size 432x288 with 1 Axes>"
      ]
     },
     "metadata": {
      "needs_background": "light"
     },
     "output_type": "display_data"
    },
    {
     "name": "stdout",
     "output_type": "stream",
     "text": [
      "Trees beat paths in 276 runs\n",
      "Paths beat trees in 601 runs\n",
      "Both performed equally good in 111 runs\n"
     ]
    },
    {
     "data": {
      "image/png": "[encoded data removed]",
      "text/plain": [
       "<Figure size 432x288 with 1 Axes>"
      ]
     },
     "metadata": {
      "needs_background": "light"
     },
     "output_type": "display_data"
    },
    {
     "name": "stdout",
     "output_type": "stream",
     "text": [
      "One Tree beat paths in 173 runs\n",
      "Paths beat one tree in 382 runs\n",
      "Both performed equally good in 433 runs\n"
     ]
    },
    {
     "data": {
      "image/png": "[encoded data removed]",
      "text/plain": [
       "<Figure size 432x288 with 1 Axes>"
      ]
     },
     "metadata": {
      "needs_background": "light"
     },
     "output_type": "display_data"
    },
    {
     "name": "stdout",
     "output_type": "stream",
     "text": [
      "Multiple Trees beat One Tree in 305 runs\n",
      "One Tree beat  multiple trees in 451 runs\n",
      "Both performed equally good in 241 runs\n"
     ]
    },
    {
     "data": {
      "image/png": "[encoded data removed]",
      "text/plain": [
       "<Figure size 432x288 with 1 Axes>"
      ]
     },
     "metadata": {
      "needs_background": "light"
     },
     "output_type": "display_data"
    },
    {
     "name": "stdout",
     "output_type": "stream",
     "text": [
      "Ranked Trees beat Unranked Tree in 430 runs\n",
      "Unranked Tree beat ranked trees in 408 runs\n",
      "Both performed equally good in 161 runs\n"
     ]
    },
    {
     "data": {
      "text/html": [
       "<div>\n",
       "<style scoped>\n",
       "    .dataframe tbody tr th:only-of-type {\n",
       "        vertical-align: middle;\n",
       "    }\n",
       "\n",
       "    .dataframe tbody tr th {\n",
       "        vertical-align: top;\n",
       "    }\n",
       "\n",
       "    .dataframe thead th {\n",
       "        text-align: right;\n",
       "    }\n",
       "</style>\n",
       "<table border=\"1\" class=\"dataframe\">\n",
       "  <thead>\n",
       "    <tr style=\"text-align: right;\">\n",
       "      <th></th>\n",
       "      <th>rep</th>\n",
       "      <th>nrNodes</th>\n",
       "      <th>nrEdges</th>\n",
       "      <th>edgeProb</th>\n",
       "      <th>nrPaths</th>\n",
       "      <th>nrFails</th>\n",
       "      <th>failureModel</th>\n",
       "      <th>failurePercent</th>\n",
       "      <th>hopsRanked</th>\n",
       "      <th>hopsUnranked</th>\n",
       "      <th>spLength</th>\n",
       "      <th>stretch_mult</th>\n",
       "      <th>nodeAdditions</th>\n",
       "      <th>hopsPath</th>\n",
       "      <th>stretch_path</th>\n",
       "      <th>hopsRankedOne</th>\n",
       "      <th>hopsUnrankedOne</th>\n",
       "      <th>stretch_one</th>\n",
       "      <th>overallNodeAdditionsOne</th>\n",
       "      <th>treeChoice</th>\n",
       "    </tr>\n",
       "  </thead>\n",
       "  <tbody>\n",
       "    <tr>\n",
       "      <th>0</th>\n",
       "      <td>1000</td>\n",
       "      <td>50</td>\n",
       "      <td>183</td>\n",
       "      <td>0.15</td>\n",
       "      <td>6</td>\n",
       "      <td>NaN</td>\n",
       "      <td>clustered</td>\n",
       "      <td>0.5;-0.3</td>\n",
       "      <td>8</td>\n",
       "      <td>23</td>\n",
       "      <td>2</td>\n",
       "      <td>6</td>\n",
       "      <td>0</td>\n",
       "      <td>2</td>\n",
       "      <td>0</td>\n",
       "      <td>10</td>\n",
       "      <td>2</td>\n",
       "      <td>8</td>\n",
       "      <td>0</td>\n",
       "      <td>edgeCount</td>\n",
       "    </tr>\n",
       "    <tr>\n",
       "      <th>1</th>\n",
       "      <td>999</td>\n",
       "      <td>50</td>\n",
       "      <td>163</td>\n",
       "      <td>0.15</td>\n",
       "      <td>6</td>\n",
       "      <td>NaN</td>\n",
       "      <td>clustered</td>\n",
       "      <td>0.5;-0.3</td>\n",
       "      <td>10</td>\n",
       "      <td>7</td>\n",
       "      <td>3</td>\n",
       "      <td>7</td>\n",
       "      <td>0</td>\n",
       "      <td>10</td>\n",
       "      <td>7</td>\n",
       "      <td>10</td>\n",
       "      <td>10</td>\n",
       "      <td>7</td>\n",
       "      <td>0</td>\n",
       "      <td>edgeCount</td>\n",
       "    </tr>\n",
       "    <tr>\n",
       "      <th>2</th>\n",
       "      <td>998</td>\n",
       "      <td>50</td>\n",
       "      <td>179</td>\n",
       "      <td>0.15</td>\n",
       "      <td>6</td>\n",
       "      <td>NaN</td>\n",
       "      <td>clustered</td>\n",
       "      <td>0.5;-0.3</td>\n",
       "      <td>8</td>\n",
       "      <td>12</td>\n",
       "      <td>3</td>\n",
       "      <td>5</td>\n",
       "      <td>0</td>\n",
       "      <td>22</td>\n",
       "      <td>19</td>\n",
       "      <td>16</td>\n",
       "      <td>16</td>\n",
       "      <td>13</td>\n",
       "      <td>0</td>\n",
       "      <td>edgeCount</td>\n",
       "    </tr>\n",
       "    <tr>\n",
       "      <th>3</th>\n",
       "      <td>997</td>\n",
       "      <td>50</td>\n",
       "      <td>174</td>\n",
       "      <td>0.15</td>\n",
       "      <td>8</td>\n",
       "      <td>NaN</td>\n",
       "      <td>clustered</td>\n",
       "      <td>0.5;-0.3</td>\n",
       "      <td>2</td>\n",
       "      <td>3</td>\n",
       "      <td>2</td>\n",
       "      <td>0</td>\n",
       "      <td>0</td>\n",
       "      <td>7</td>\n",
       "      <td>5</td>\n",
       "      <td>7</td>\n",
       "      <td>11</td>\n",
       "      <td>5</td>\n",
       "      <td>0</td>\n",
       "      <td>edgeCount</td>\n",
       "    </tr>\n",
       "    <tr>\n",
       "      <th>4</th>\n",
       "      <td>996</td>\n",
       "      <td>50</td>\n",
       "      <td>173</td>\n",
       "      <td>0.15</td>\n",
       "      <td>4</td>\n",
       "      <td>NaN</td>\n",
       "      <td>clustered</td>\n",
       "      <td>0.5;-0.3</td>\n",
       "      <td>29</td>\n",
       "      <td>17</td>\n",
       "      <td>3</td>\n",
       "      <td>26</td>\n",
       "      <td>0</td>\n",
       "      <td>9</td>\n",
       "      <td>6</td>\n",
       "      <td>9</td>\n",
       "      <td>9</td>\n",
       "      <td>6</td>\n",
       "      <td>0</td>\n",
       "      <td>edgeCount</td>\n",
       "    </tr>\n",
       "  </tbody>\n",
       "</table>\n",
       "</div>"
      ],
      "text/plain": [
       "    rep  nrNodes  nrEdges  edgeProb  nrPaths  nrFails failureModel  \\\n",
       "0  1000       50      183      0.15        6      NaN    clustered   \n",
       "1   999       50      163      0.15        6      NaN    clustered   \n",
       "2   998       50      179      0.15        6      NaN    clustered   \n",
       "3   997       50      174      0.15        8      NaN    clustered   \n",
       "4   996       50      173      0.15        4      NaN    clustered   \n",
       "\n",
       "  failurePercent  hopsRanked  hopsUnranked  spLength  stretch_mult  \\\n",
       "0       0.5;-0.3           8            23         2             6   \n",
       "1       0.5;-0.3          10             7         3             7   \n",
       "2       0.5;-0.3           8            12         3             5   \n",
       "3       0.5;-0.3           2             3         2             0   \n",
       "4       0.5;-0.3          29            17         3            26   \n",
       "\n",
       "   nodeAdditions  hopsPath  stretch_path  hopsRankedOne  hopsUnrankedOne  \\\n",
       "0              0         2             0             10                2   \n",
       "1              0        10             7             10               10   \n",
       "2              0        22            19             16               16   \n",
       "3              0         7             5              7               11   \n",
       "4              0         9             6              9                9   \n",
       "\n",
       "   stretch_one  overallNodeAdditionsOne treeChoice  \n",
       "0            8                        0  edgeCount  \n",
       "1            7                        0  edgeCount  \n",
       "2           13                        0  edgeCount  \n",
       "3            5                        0  edgeCount  \n",
       "4            6                        0  edgeCount  "
      ]
     },
     "metadata": {},
     "output_type": "display_data"
    },
    {
     "name": "stdout",
     "output_type": "stream",
     "text": [
      "Resilience Paths: 94.95967741935483%\n",
      "Resilience One Tree: 97.68145161290323%\n",
      "Resilience Trees: 99.59677419354838%\n"
     ]
    },
    {
     "data": {
      "image/png": "[encoded data removed]",
      "text/plain": [
       "<Figure size 432x288 with 1 Axes>"
      ]
     },
     "metadata": {
      "needs_background": "light"
     },
     "output_type": "display_data"
    },
    {
     "name": "stdout",
     "output_type": "stream",
     "text": [
      "Trees beat paths in 334 runs\n",
      "Paths beat trees in 531 runs\n",
      "Both performed equally good in 77 runs\n"
     ]
    },
    {
     "data": {
      "image/png": "[encoded data removed]",
      "text/plain": [
       "<Figure size 432x288 with 1 Axes>"
      ]
     },
     "metadata": {
      "needs_background": "light"
     },
     "output_type": "display_data"
    },
    {
     "name": "stdout",
     "output_type": "stream",
     "text": [
      "One Tree beat paths in 218 runs\n",
      "Paths beat one tree in 281 runs\n",
      "Both performed equally good in 443 runs\n"
     ]
    },
    {
     "data": {
      "image/png": "[encoded data removed]",
      "text/plain": [
       "<Figure size 432x288 with 1 Axes>"
      ]
     },
     "metadata": {
      "needs_background": "light"
     },
     "output_type": "display_data"
    },
    {
     "name": "stdout",
     "output_type": "stream",
     "text": [
      "Multiple Trees beat One Tree in 354 runs\n",
      "One Tree beat  multiple trees in 478 runs\n",
      "Both performed equally good in 137 runs\n"
     ]
    },
    {
     "data": {
      "image/png": "[encoded data removed]",
      "text/plain": [
       "<Figure size 432x288 with 1 Axes>"
      ]
     },
     "metadata": {
      "needs_background": "light"
     },
     "output_type": "display_data"
    },
    {
     "name": "stdout",
     "output_type": "stream",
     "text": [
      "Ranked Trees beat Unranked Tree in 416 runs\n",
      "Unranked Tree beat ranked trees in 454 runs\n",
      "Both performed equally good in 118 runs\n"
     ]
    },
    {
     "data": {
      "text/html": [
       "<div>\n",
       "<style scoped>\n",
       "    .dataframe tbody tr th:only-of-type {\n",
       "        vertical-align: middle;\n",
       "    }\n",
       "\n",
       "    .dataframe tbody tr th {\n",
       "        vertical-align: top;\n",
       "    }\n",
       "\n",
       "    .dataframe thead th {\n",
       "        text-align: right;\n",
       "    }\n",
       "</style>\n",
       "<table border=\"1\" class=\"dataframe\">\n",
       "  <thead>\n",
       "    <tr style=\"text-align: right;\">\n",
       "      <th></th>\n",
       "      <th>rep</th>\n",
       "      <th>nrNodes</th>\n",
       "      <th>nrEdges</th>\n",
       "      <th>edgeProb</th>\n",
       "      <th>nrPaths</th>\n",
       "      <th>nrFails</th>\n",
       "      <th>failureModel</th>\n",
       "      <th>failurePercent</th>\n",
       "      <th>hopsRanked</th>\n",
       "      <th>hopsUnranked</th>\n",
       "      <th>spLength</th>\n",
       "      <th>stretch_mult</th>\n",
       "      <th>nodeAdditions</th>\n",
       "      <th>hopsPath</th>\n",
       "      <th>stretch_path</th>\n",
       "      <th>hopsRankedOne</th>\n",
       "      <th>hopsUnrankedOne</th>\n",
       "      <th>stretch_one</th>\n",
       "      <th>overallNodeAdditionsOne</th>\n",
       "      <th>treeChoice</th>\n",
       "    </tr>\n",
       "  </thead>\n",
       "  <tbody>\n",
       "    <tr>\n",
       "      <th>0</th>\n",
       "      <td>1000</td>\n",
       "      <td>50</td>\n",
       "      <td>178</td>\n",
       "      <td>0.15</td>\n",
       "      <td>3</td>\n",
       "      <td>NaN</td>\n",
       "      <td>clustered</td>\n",
       "      <td>0.6;-0.3</td>\n",
       "      <td>-1</td>\n",
       "      <td>-1</td>\n",
       "      <td>4</td>\n",
       "      <td>-5</td>\n",
       "      <td>0</td>\n",
       "      <td>-1</td>\n",
       "      <td>-5</td>\n",
       "      <td>-1</td>\n",
       "      <td>-1</td>\n",
       "      <td>-5</td>\n",
       "      <td>0</td>\n",
       "      <td>edgeCount</td>\n",
       "    </tr>\n",
       "    <tr>\n",
       "      <th>1</th>\n",
       "      <td>999</td>\n",
       "      <td>50</td>\n",
       "      <td>198</td>\n",
       "      <td>0.15</td>\n",
       "      <td>6</td>\n",
       "      <td>NaN</td>\n",
       "      <td>clustered</td>\n",
       "      <td>0.6;-0.3</td>\n",
       "      <td>4</td>\n",
       "      <td>12</td>\n",
       "      <td>3</td>\n",
       "      <td>1</td>\n",
       "      <td>24</td>\n",
       "      <td>7</td>\n",
       "      <td>4</td>\n",
       "      <td>3</td>\n",
       "      <td>3</td>\n",
       "      <td>0</td>\n",
       "      <td>6</td>\n",
       "      <td>edgeCount</td>\n",
       "    </tr>\n",
       "    <tr>\n",
       "      <th>2</th>\n",
       "      <td>998</td>\n",
       "      <td>50</td>\n",
       "      <td>196</td>\n",
       "      <td>0.15</td>\n",
       "      <td>5</td>\n",
       "      <td>NaN</td>\n",
       "      <td>clustered</td>\n",
       "      <td>0.6;-0.3</td>\n",
       "      <td>18</td>\n",
       "      <td>9</td>\n",
       "      <td>3</td>\n",
       "      <td>15</td>\n",
       "      <td>54</td>\n",
       "      <td>9</td>\n",
       "      <td>6</td>\n",
       "      <td>7</td>\n",
       "      <td>35</td>\n",
       "      <td>4</td>\n",
       "      <td>16</td>\n",
       "      <td>edgeCount</td>\n",
       "    </tr>\n",
       "    <tr>\n",
       "      <th>3</th>\n",
       "      <td>997</td>\n",
       "      <td>50</td>\n",
       "      <td>159</td>\n",
       "      <td>0.15</td>\n",
       "      <td>5</td>\n",
       "      <td>NaN</td>\n",
       "      <td>clustered</td>\n",
       "      <td>0.6;-0.3</td>\n",
       "      <td>10</td>\n",
       "      <td>21</td>\n",
       "      <td>4</td>\n",
       "      <td>6</td>\n",
       "      <td>6</td>\n",
       "      <td>22</td>\n",
       "      <td>18</td>\n",
       "      <td>22</td>\n",
       "      <td>30</td>\n",
       "      <td>18</td>\n",
       "      <td>2</td>\n",
       "      <td>edgeCount</td>\n",
       "    </tr>\n",
       "    <tr>\n",
       "      <th>4</th>\n",
       "      <td>996</td>\n",
       "      <td>50</td>\n",
       "      <td>207</td>\n",
       "      <td>0.15</td>\n",
       "      <td>5</td>\n",
       "      <td>NaN</td>\n",
       "      <td>clustered</td>\n",
       "      <td>0.6;-0.3</td>\n",
       "      <td>20</td>\n",
       "      <td>18</td>\n",
       "      <td>4</td>\n",
       "      <td>16</td>\n",
       "      <td>0</td>\n",
       "      <td>-1</td>\n",
       "      <td>-5</td>\n",
       "      <td>-1</td>\n",
       "      <td>-1</td>\n",
       "      <td>-5</td>\n",
       "      <td>0</td>\n",
       "      <td>edgeCount</td>\n",
       "    </tr>\n",
       "  </tbody>\n",
       "</table>\n",
       "</div>"
      ],
      "text/plain": [
       "    rep  nrNodes  nrEdges  edgeProb  nrPaths  nrFails failureModel  \\\n",
       "0  1000       50      178      0.15        3      NaN    clustered   \n",
       "1   999       50      198      0.15        6      NaN    clustered   \n",
       "2   998       50      196      0.15        5      NaN    clustered   \n",
       "3   997       50      159      0.15        5      NaN    clustered   \n",
       "4   996       50      207      0.15        5      NaN    clustered   \n",
       "\n",
       "  failurePercent  hopsRanked  hopsUnranked  spLength  stretch_mult  \\\n",
       "0       0.6;-0.3          -1            -1         4            -5   \n",
       "1       0.6;-0.3           4            12         3             1   \n",
       "2       0.6;-0.3          18             9         3            15   \n",
       "3       0.6;-0.3          10            21         4             6   \n",
       "4       0.6;-0.3          20            18         4            16   \n",
       "\n",
       "   nodeAdditions  hopsPath  stretch_path  hopsRankedOne  hopsUnrankedOne  \\\n",
       "0              0        -1            -5             -1               -1   \n",
       "1             24         7             4              3                3   \n",
       "2             54         9             6              7               35   \n",
       "3              6        22            18             22               30   \n",
       "4              0        -1            -5             -1               -1   \n",
       "\n",
       "   stretch_one  overallNodeAdditionsOne treeChoice  \n",
       "0           -5                        0  edgeCount  \n",
       "1            0                        6  edgeCount  \n",
       "2            4                       16  edgeCount  \n",
       "3           18                        2  edgeCount  \n",
       "4           -5                        0  edgeCount  "
      ]
     },
     "metadata": {},
     "output_type": "display_data"
    },
    {
     "name": "stdout",
     "output_type": "stream",
     "text": [
      "Resilience Paths: 82.72632674297607%\n",
      "Resilience One Tree: 90.32258064516128%\n",
      "Resilience Trees: 97.60665972944848%\n"
     ]
    },
    {
     "data": {
      "image/png": "[encoded data removed]",
      "text/plain": [
       "<Figure size 432x288 with 1 Axes>"
      ]
     },
     "metadata": {
      "needs_background": "light"
     },
     "output_type": "display_data"
    },
    {
     "name": "stdout",
     "output_type": "stream",
     "text": [
      "Trees beat paths in 292 runs\n",
      "Paths beat trees in 451 runs\n",
      "Both performed equally good in 52 runs\n"
     ]
    },
    {
     "data": {
      "image/png": "[encoded data removed]",
      "text/plain": [
       "<Figure size 432x288 with 1 Axes>"
      ]
     },
     "metadata": {
      "needs_background": "light"
     },
     "output_type": "display_data"
    },
    {
     "name": "stdout",
     "output_type": "stream",
     "text": [
      "One Tree beat paths in 175 runs\n",
      "Paths beat one tree in 218 runs\n",
      "Both performed equally good in 402 runs\n"
     ]
    },
    {
     "data": {
      "image/png": "[encoded data removed]",
      "text/plain": [
       "<Figure size 432x288 with 1 Axes>"
      ]
     },
     "metadata": {
      "needs_background": "light"
     },
     "output_type": "display_data"
    },
    {
     "name": "stdout",
     "output_type": "stream",
     "text": [
      "Multiple Trees beat One Tree in 325 runs\n",
      "One Tree beat  multiple trees in 441 runs\n",
      "Both performed equally good in 100 runs\n"
     ]
    },
    {
     "data": {
      "image/png": "[encoded data removed]",
      "text/plain": [
       "<Figure size 432x288 with 1 Axes>"
      ]
     },
     "metadata": {
      "needs_background": "light"
     },
     "output_type": "display_data"
    },
    {
     "name": "stdout",
     "output_type": "stream",
     "text": [
      "Ranked Trees beat Unranked Tree in 412 runs\n",
      "Unranked Tree beat ranked trees in 445 runs\n",
      "Both performed equally good in 81 runs\n"
     ]
    },
    {
     "data": {
      "text/html": [
       "<div>\n",
       "<style scoped>\n",
       "    .dataframe tbody tr th:only-of-type {\n",
       "        vertical-align: middle;\n",
       "    }\n",
       "\n",
       "    .dataframe tbody tr th {\n",
       "        vertical-align: top;\n",
       "    }\n",
       "\n",
       "    .dataframe thead th {\n",
       "        text-align: right;\n",
       "    }\n",
       "</style>\n",
       "<table border=\"1\" class=\"dataframe\">\n",
       "  <thead>\n",
       "    <tr style=\"text-align: right;\">\n",
       "      <th></th>\n",
       "      <th>rep</th>\n",
       "      <th>nrNodes</th>\n",
       "      <th>nrEdges</th>\n",
       "      <th>edgeProb</th>\n",
       "      <th>nrPaths</th>\n",
       "      <th>nrFails</th>\n",
       "      <th>failureModel</th>\n",
       "      <th>failurePercent</th>\n",
       "      <th>hopsRanked</th>\n",
       "      <th>hopsUnranked</th>\n",
       "      <th>spLength</th>\n",
       "      <th>stretch_mult</th>\n",
       "      <th>nodeAdditions</th>\n",
       "      <th>hopsPath</th>\n",
       "      <th>stretch_path</th>\n",
       "      <th>hopsRankedOne</th>\n",
       "      <th>hopsUnrankedOne</th>\n",
       "      <th>stretch_one</th>\n",
       "      <th>overallNodeAdditionsOne</th>\n",
       "      <th>treeChoice</th>\n",
       "    </tr>\n",
       "  </thead>\n",
       "  <tbody>\n",
       "    <tr>\n",
       "      <th>0</th>\n",
       "      <td>1000</td>\n",
       "      <td>50</td>\n",
       "      <td>167</td>\n",
       "      <td>0.15</td>\n",
       "      <td>7</td>\n",
       "      <td>NaN</td>\n",
       "      <td>clustered</td>\n",
       "      <td>0.7;-0.3</td>\n",
       "      <td>17</td>\n",
       "      <td>9</td>\n",
       "      <td>3</td>\n",
       "      <td>14</td>\n",
       "      <td>0</td>\n",
       "      <td>3</td>\n",
       "      <td>0</td>\n",
       "      <td>9</td>\n",
       "      <td>9</td>\n",
       "      <td>6</td>\n",
       "      <td>0</td>\n",
       "      <td>edgeCount</td>\n",
       "    </tr>\n",
       "    <tr>\n",
       "      <th>1</th>\n",
       "      <td>999</td>\n",
       "      <td>50</td>\n",
       "      <td>173</td>\n",
       "      <td>0.15</td>\n",
       "      <td>6</td>\n",
       "      <td>NaN</td>\n",
       "      <td>clustered</td>\n",
       "      <td>0.7;-0.3</td>\n",
       "      <td>10</td>\n",
       "      <td>34</td>\n",
       "      <td>4</td>\n",
       "      <td>6</td>\n",
       "      <td>12</td>\n",
       "      <td>22</td>\n",
       "      <td>18</td>\n",
       "      <td>22</td>\n",
       "      <td>22</td>\n",
       "      <td>18</td>\n",
       "      <td>4</td>\n",
       "      <td>edgeCount</td>\n",
       "    </tr>\n",
       "    <tr>\n",
       "      <th>2</th>\n",
       "      <td>998</td>\n",
       "      <td>50</td>\n",
       "      <td>184</td>\n",
       "      <td>0.15</td>\n",
       "      <td>8</td>\n",
       "      <td>NaN</td>\n",
       "      <td>clustered</td>\n",
       "      <td>0.7;-0.3</td>\n",
       "      <td>20</td>\n",
       "      <td>23</td>\n",
       "      <td>3</td>\n",
       "      <td>17</td>\n",
       "      <td>0</td>\n",
       "      <td>7</td>\n",
       "      <td>4</td>\n",
       "      <td>7</td>\n",
       "      <td>7</td>\n",
       "      <td>4</td>\n",
       "      <td>0</td>\n",
       "      <td>edgeCount</td>\n",
       "    </tr>\n",
       "    <tr>\n",
       "      <th>3</th>\n",
       "      <td>997</td>\n",
       "      <td>50</td>\n",
       "      <td>184</td>\n",
       "      <td>0.15</td>\n",
       "      <td>4</td>\n",
       "      <td>NaN</td>\n",
       "      <td>clustered</td>\n",
       "      <td>0.7;-0.3</td>\n",
       "      <td>3</td>\n",
       "      <td>5</td>\n",
       "      <td>3</td>\n",
       "      <td>0</td>\n",
       "      <td>36</td>\n",
       "      <td>7</td>\n",
       "      <td>4</td>\n",
       "      <td>7</td>\n",
       "      <td>5</td>\n",
       "      <td>4</td>\n",
       "      <td>10</td>\n",
       "      <td>edgeCount</td>\n",
       "    </tr>\n",
       "    <tr>\n",
       "      <th>4</th>\n",
       "      <td>996</td>\n",
       "      <td>50</td>\n",
       "      <td>183</td>\n",
       "      <td>0.15</td>\n",
       "      <td>5</td>\n",
       "      <td>NaN</td>\n",
       "      <td>clustered</td>\n",
       "      <td>0.7;-0.3</td>\n",
       "      <td>22</td>\n",
       "      <td>17</td>\n",
       "      <td>4</td>\n",
       "      <td>18</td>\n",
       "      <td>24</td>\n",
       "      <td>-1</td>\n",
       "      <td>-5</td>\n",
       "      <td>-1</td>\n",
       "      <td>-1</td>\n",
       "      <td>-5</td>\n",
       "      <td>8</td>\n",
       "      <td>edgeCount</td>\n",
       "    </tr>\n",
       "  </tbody>\n",
       "</table>\n",
       "</div>"
      ],
      "text/plain": [
       "    rep  nrNodes  nrEdges  edgeProb  nrPaths  nrFails failureModel  \\\n",
       "0  1000       50      167      0.15        7      NaN    clustered   \n",
       "1   999       50      173      0.15        6      NaN    clustered   \n",
       "2   998       50      184      0.15        8      NaN    clustered   \n",
       "3   997       50      184      0.15        4      NaN    clustered   \n",
       "4   996       50      183      0.15        5      NaN    clustered   \n",
       "\n",
       "  failurePercent  hopsRanked  hopsUnranked  spLength  stretch_mult  \\\n",
       "0       0.7;-0.3          17             9         3            14   \n",
       "1       0.7;-0.3          10            34         4             6   \n",
       "2       0.7;-0.3          20            23         3            17   \n",
       "3       0.7;-0.3           3             5         3             0   \n",
       "4       0.7;-0.3          22            17         4            18   \n",
       "\n",
       "   nodeAdditions  hopsPath  stretch_path  hopsRankedOne  hopsUnrankedOne  \\\n",
       "0              0         3             0              9                9   \n",
       "1             12        22            18             22               22   \n",
       "2              0         7             4              7                7   \n",
       "3             36         7             4              7                5   \n",
       "4             24        -1            -5             -1               -1   \n",
       "\n",
       "   stretch_one  overallNodeAdditionsOne treeChoice  \n",
       "0            6                        0  edgeCount  \n",
       "1           18                        4  edgeCount  \n",
       "2            4                        0  edgeCount  \n",
       "3            4                       10  edgeCount  \n",
       "4           -5                        8  edgeCount  "
      ]
     },
     "metadata": {},
     "output_type": "display_data"
    },
    {
     "name": "stdout",
     "output_type": "stream",
     "text": [
      "Resilience Paths: 51.81159420289855%\n",
      "Resilience One Tree: 58.212560386473434%\n",
      "Resilience Trees: 79.95169082125604%\n"
     ]
    },
    {
     "data": {
      "image/png": "[encoded data removed]",
      "text/plain": [
       "<Figure size 432x288 with 1 Axes>"
      ]
     },
     "metadata": {
      "needs_background": "light"
     },
     "output_type": "display_data"
    },
    {
     "name": "stdout",
     "output_type": "stream",
     "text": [
      "Trees beat paths in 151 runs\n",
      "Paths beat trees in 253 runs\n",
      "Both performed equally good in 25 runs\n"
     ]
    },
    {
     "data": {
      "image/png": "[encoded data removed]",
      "text/plain": [
       "<Figure size 432x288 with 1 Axes>"
      ]
     },
     "metadata": {
      "needs_background": "light"
     },
     "output_type": "display_data"
    },
    {
     "name": "stdout",
     "output_type": "stream",
     "text": [
      "One Tree beat paths in 79 runs\n",
      "Paths beat one tree in 115 runs\n",
      "Both performed equally good in 235 runs\n"
     ]
    },
    {
     "data": {
      "image/png": "[encoded data removed]",
      "text/plain": [
       "<Figure size 432x288 with 1 Axes>"
      ]
     },
     "metadata": {
      "needs_background": "light"
     },
     "output_type": "display_data"
    },
    {
     "name": "stdout",
     "output_type": "stream",
     "text": [
      "Multiple Trees beat One Tree in 181 runs\n",
      "One Tree beat  multiple trees in 251 runs\n",
      "Both performed equally good in 40 runs\n"
     ]
    },
    {
     "data": {
      "image/png": "[encoded data removed]",
      "text/plain": [
       "<Figure size 432x288 with 1 Axes>"
      ]
     },
     "metadata": {
      "needs_background": "light"
     },
     "output_type": "display_data"
    },
    {
     "name": "stdout",
     "output_type": "stream",
     "text": [
      "Ranked Trees beat Unranked Tree in 280 runs\n",
      "Unranked Tree beat ranked trees in 320 runs\n",
      "Both performed equally good in 62 runs\n"
     ]
    },
    {
     "data": {
      "text/html": [
       "<div>\n",
       "<style scoped>\n",
       "    .dataframe tbody tr th:only-of-type {\n",
       "        vertical-align: middle;\n",
       "    }\n",
       "\n",
       "    .dataframe tbody tr th {\n",
       "        vertical-align: top;\n",
       "    }\n",
       "\n",
       "    .dataframe thead th {\n",
       "        text-align: right;\n",
       "    }\n",
       "</style>\n",
       "<table border=\"1\" class=\"dataframe\">\n",
       "  <thead>\n",
       "    <tr style=\"text-align: right;\">\n",
       "      <th></th>\n",
       "      <th>rep</th>\n",
       "      <th>nrNodes</th>\n",
       "      <th>nrEdges</th>\n",
       "      <th>edgeProb</th>\n",
       "      <th>nrPaths</th>\n",
       "      <th>nrFails</th>\n",
       "      <th>failureModel</th>\n",
       "      <th>failurePercent</th>\n",
       "      <th>hopsRanked</th>\n",
       "      <th>hopsUnranked</th>\n",
       "      <th>spLength</th>\n",
       "      <th>stretch_mult</th>\n",
       "      <th>nodeAdditions</th>\n",
       "      <th>hopsPath</th>\n",
       "      <th>stretch_path</th>\n",
       "      <th>hopsRankedOne</th>\n",
       "      <th>hopsUnrankedOne</th>\n",
       "      <th>stretch_one</th>\n",
       "      <th>overallNodeAdditionsOne</th>\n",
       "      <th>treeChoice</th>\n",
       "    </tr>\n",
       "  </thead>\n",
       "  <tbody>\n",
       "    <tr>\n",
       "      <th>0</th>\n",
       "      <td>999</td>\n",
       "      <td>50</td>\n",
       "      <td>169</td>\n",
       "      <td>0.15</td>\n",
       "      <td>8</td>\n",
       "      <td>NaN</td>\n",
       "      <td>clustered</td>\n",
       "      <td>0.7999999999999999;-0.3</td>\n",
       "      <td>-1</td>\n",
       "      <td>-1</td>\n",
       "      <td>4</td>\n",
       "      <td>-5</td>\n",
       "      <td>0</td>\n",
       "      <td>-1</td>\n",
       "      <td>-5</td>\n",
       "      <td>-1</td>\n",
       "      <td>-1</td>\n",
       "      <td>-5</td>\n",
       "      <td>0</td>\n",
       "      <td>edgeCount</td>\n",
       "    </tr>\n",
       "    <tr>\n",
       "      <th>1</th>\n",
       "      <td>998</td>\n",
       "      <td>50</td>\n",
       "      <td>186</td>\n",
       "      <td>0.15</td>\n",
       "      <td>6</td>\n",
       "      <td>NaN</td>\n",
       "      <td>clustered</td>\n",
       "      <td>0.7999999999999999;-0.3</td>\n",
       "      <td>4</td>\n",
       "      <td>6</td>\n",
       "      <td>4</td>\n",
       "      <td>0</td>\n",
       "      <td>32</td>\n",
       "      <td>-1</td>\n",
       "      <td>-5</td>\n",
       "      <td>12</td>\n",
       "      <td>8</td>\n",
       "      <td>8</td>\n",
       "      <td>8</td>\n",
       "      <td>edgeCount</td>\n",
       "    </tr>\n",
       "    <tr>\n",
       "      <th>2</th>\n",
       "      <td>996</td>\n",
       "      <td>50</td>\n",
       "      <td>172</td>\n",
       "      <td>0.15</td>\n",
       "      <td>8</td>\n",
       "      <td>NaN</td>\n",
       "      <td>clustered</td>\n",
       "      <td>0.7999999999999999;-0.3</td>\n",
       "      <td>19</td>\n",
       "      <td>35</td>\n",
       "      <td>3</td>\n",
       "      <td>16</td>\n",
       "      <td>6</td>\n",
       "      <td>3</td>\n",
       "      <td>0</td>\n",
       "      <td>5</td>\n",
       "      <td>5</td>\n",
       "      <td>2</td>\n",
       "      <td>2</td>\n",
       "      <td>edgeCount</td>\n",
       "    </tr>\n",
       "    <tr>\n",
       "      <th>3</th>\n",
       "      <td>993</td>\n",
       "      <td>50</td>\n",
       "      <td>168</td>\n",
       "      <td>0.15</td>\n",
       "      <td>5</td>\n",
       "      <td>NaN</td>\n",
       "      <td>clustered</td>\n",
       "      <td>0.7999999999999999;-0.3</td>\n",
       "      <td>16</td>\n",
       "      <td>10</td>\n",
       "      <td>4</td>\n",
       "      <td>12</td>\n",
       "      <td>0</td>\n",
       "      <td>-1</td>\n",
       "      <td>-5</td>\n",
       "      <td>-1</td>\n",
       "      <td>-1</td>\n",
       "      <td>-5</td>\n",
       "      <td>0</td>\n",
       "      <td>edgeCount</td>\n",
       "    </tr>\n",
       "    <tr>\n",
       "      <th>4</th>\n",
       "      <td>991</td>\n",
       "      <td>50</td>\n",
       "      <td>175</td>\n",
       "      <td>0.15</td>\n",
       "      <td>6</td>\n",
       "      <td>NaN</td>\n",
       "      <td>clustered</td>\n",
       "      <td>0.7999999999999999;-0.3</td>\n",
       "      <td>-1</td>\n",
       "      <td>-1</td>\n",
       "      <td>5</td>\n",
       "      <td>-6</td>\n",
       "      <td>20</td>\n",
       "      <td>-1</td>\n",
       "      <td>-6</td>\n",
       "      <td>-1</td>\n",
       "      <td>-1</td>\n",
       "      <td>-6</td>\n",
       "      <td>8</td>\n",
       "      <td>edgeCount</td>\n",
       "    </tr>\n",
       "  </tbody>\n",
       "</table>\n",
       "</div>"
      ],
      "text/plain": [
       "   rep  nrNodes  nrEdges  edgeProb  nrPaths  nrFails failureModel  \\\n",
       "0  999       50      169      0.15        8      NaN    clustered   \n",
       "1  998       50      186      0.15        6      NaN    clustered   \n",
       "2  996       50      172      0.15        8      NaN    clustered   \n",
       "3  993       50      168      0.15        5      NaN    clustered   \n",
       "4  991       50      175      0.15        6      NaN    clustered   \n",
       "\n",
       "            failurePercent  hopsRanked  hopsUnranked  spLength  stretch_mult  \\\n",
       "0  0.7999999999999999;-0.3          -1            -1         4            -5   \n",
       "1  0.7999999999999999;-0.3           4             6         4             0   \n",
       "2  0.7999999999999999;-0.3          19            35         3            16   \n",
       "3  0.7999999999999999;-0.3          16            10         4            12   \n",
       "4  0.7999999999999999;-0.3          -1            -1         5            -6   \n",
       "\n",
       "   nodeAdditions  hopsPath  stretch_path  hopsRankedOne  hopsUnrankedOne  \\\n",
       "0              0        -1            -5             -1               -1   \n",
       "1             32        -1            -5             12                8   \n",
       "2              6         3             0              5                5   \n",
       "3              0        -1            -5             -1               -1   \n",
       "4             20        -1            -6             -1               -1   \n",
       "\n",
       "   stretch_one  overallNodeAdditionsOne treeChoice  \n",
       "0           -5                        0  edgeCount  \n",
       "1            8                        8  edgeCount  \n",
       "2            2                        2  edgeCount  \n",
       "3           -5                        0  edgeCount  \n",
       "4           -6                        8  edgeCount  "
      ]
     },
     "metadata": {},
     "output_type": "display_data"
    },
    {
     "name": "stdout",
     "output_type": "stream",
     "text": [
      "Resilience Paths: 27.342256214149142%\n",
      "Resilience One Tree: 31.73996175908222%\n",
      "Resilience Trees: 48.37476099426386%\n"
     ]
    },
    {
     "data": {
      "image/png": "[encoded data removed]",
      "text/plain": [
       "<Figure size 432x288 with 1 Axes>"
      ]
     },
     "metadata": {
      "needs_background": "light"
     },
     "output_type": "display_data"
    },
    {
     "name": "stdout",
     "output_type": "stream",
     "text": [
      "Trees beat paths in 46 runs\n",
      "Paths beat trees in 88 runs\n",
      "Both performed equally good in 9 runs\n"
     ]
    },
    {
     "data": {
      "image/png": "[encoded data removed]",
      "text/plain": [
       "<Figure size 432x288 with 1 Axes>"
      ]
     },
     "metadata": {
      "needs_background": "light"
     },
     "output_type": "display_data"
    },
    {
     "name": "stdout",
     "output_type": "stream",
     "text": [
      "One Tree beat paths in 24 runs\n",
      "Paths beat one tree in 41 runs\n",
      "Both performed equally good in 78 runs\n"
     ]
    },
    {
     "data": {
      "image/png": "[encoded data removed]",
      "text/plain": [
       "<Figure size 432x288 with 1 Axes>"
      ]
     },
     "metadata": {
      "needs_background": "light"
     },
     "output_type": "display_data"
    },
    {
     "name": "stdout",
     "output_type": "stream",
     "text": [
      "Multiple Trees beat One Tree in 52 runs\n",
      "One Tree beat  multiple trees in 89 runs\n",
      "Both performed equally good in 14 runs\n"
     ]
    },
    {
     "data": {
      "image/png": "[encoded data removed]",
      "text/plain": [
       "<Figure size 432x288 with 1 Axes>"
      ]
     },
     "metadata": {
      "needs_background": "light"
     },
     "output_type": "display_data"
    },
    {
     "name": "stdout",
     "output_type": "stream",
     "text": [
      "Ranked Trees beat Unranked Tree in 93 runs\n",
      "Unranked Tree beat ranked trees in 127 runs\n",
      "Both performed equally good in 33 runs\n"
     ]
    },
    {
     "data": {
      "text/html": [
       "<div>\n",
       "<style scoped>\n",
       "    .dataframe tbody tr th:only-of-type {\n",
       "        vertical-align: middle;\n",
       "    }\n",
       "\n",
       "    .dataframe tbody tr th {\n",
       "        vertical-align: top;\n",
       "    }\n",
       "\n",
       "    .dataframe thead th {\n",
       "        text-align: right;\n",
       "    }\n",
       "</style>\n",
       "<table border=\"1\" class=\"dataframe\">\n",
       "  <thead>\n",
       "    <tr style=\"text-align: right;\">\n",
       "      <th></th>\n",
       "      <th>rep</th>\n",
       "      <th>nrNodes</th>\n",
       "      <th>nrEdges</th>\n",
       "      <th>edgeProb</th>\n",
       "      <th>nrPaths</th>\n",
       "      <th>nrFails</th>\n",
       "      <th>failureModel</th>\n",
       "      <th>failurePercent</th>\n",
       "      <th>hopsRanked</th>\n",
       "      <th>hopsUnranked</th>\n",
       "      <th>spLength</th>\n",
       "      <th>stretch_mult</th>\n",
       "      <th>nodeAdditions</th>\n",
       "      <th>hopsPath</th>\n",
       "      <th>stretch_path</th>\n",
       "      <th>hopsRankedOne</th>\n",
       "      <th>hopsUnrankedOne</th>\n",
       "      <th>stretch_one</th>\n",
       "      <th>overallNodeAdditionsOne</th>\n",
       "      <th>treeChoice</th>\n",
       "    </tr>\n",
       "  </thead>\n",
       "  <tbody>\n",
       "    <tr>\n",
       "      <th>0</th>\n",
       "      <td>992</td>\n",
       "      <td>50</td>\n",
       "      <td>186</td>\n",
       "      <td>0.15</td>\n",
       "      <td>5</td>\n",
       "      <td>NaN</td>\n",
       "      <td>clustered</td>\n",
       "      <td>0.8999999999999999;-0.3</td>\n",
       "      <td>-1</td>\n",
       "      <td>-1</td>\n",
       "      <td>4</td>\n",
       "      <td>-5</td>\n",
       "      <td>18</td>\n",
       "      <td>-1</td>\n",
       "      <td>-5</td>\n",
       "      <td>-1</td>\n",
       "      <td>-1</td>\n",
       "      <td>-5</td>\n",
       "      <td>6</td>\n",
       "      <td>edgeCount</td>\n",
       "    </tr>\n",
       "    <tr>\n",
       "      <th>1</th>\n",
       "      <td>986</td>\n",
       "      <td>50</td>\n",
       "      <td>190</td>\n",
       "      <td>0.15</td>\n",
       "      <td>6</td>\n",
       "      <td>NaN</td>\n",
       "      <td>clustered</td>\n",
       "      <td>0.8999999999999999;-0.3</td>\n",
       "      <td>-1</td>\n",
       "      <td>-1</td>\n",
       "      <td>5</td>\n",
       "      <td>-6</td>\n",
       "      <td>0</td>\n",
       "      <td>-1</td>\n",
       "      <td>-6</td>\n",
       "      <td>-1</td>\n",
       "      <td>-1</td>\n",
       "      <td>-6</td>\n",
       "      <td>0</td>\n",
       "      <td>edgeCount</td>\n",
       "    </tr>\n",
       "    <tr>\n",
       "      <th>2</th>\n",
       "      <td>976</td>\n",
       "      <td>50</td>\n",
       "      <td>202</td>\n",
       "      <td>0.15</td>\n",
       "      <td>5</td>\n",
       "      <td>NaN</td>\n",
       "      <td>clustered</td>\n",
       "      <td>0.8999999999999999;-0.3</td>\n",
       "      <td>-1</td>\n",
       "      <td>-1</td>\n",
       "      <td>5</td>\n",
       "      <td>-6</td>\n",
       "      <td>24</td>\n",
       "      <td>-1</td>\n",
       "      <td>-6</td>\n",
       "      <td>-1</td>\n",
       "      <td>-1</td>\n",
       "      <td>-6</td>\n",
       "      <td>6</td>\n",
       "      <td>edgeCount</td>\n",
       "    </tr>\n",
       "    <tr>\n",
       "      <th>3</th>\n",
       "      <td>967</td>\n",
       "      <td>50</td>\n",
       "      <td>179</td>\n",
       "      <td>0.15</td>\n",
       "      <td>3</td>\n",
       "      <td>NaN</td>\n",
       "      <td>clustered</td>\n",
       "      <td>0.8999999999999999;-0.3</td>\n",
       "      <td>-1</td>\n",
       "      <td>-1</td>\n",
       "      <td>5</td>\n",
       "      <td>-6</td>\n",
       "      <td>16</td>\n",
       "      <td>-1</td>\n",
       "      <td>-6</td>\n",
       "      <td>-1</td>\n",
       "      <td>-1</td>\n",
       "      <td>-6</td>\n",
       "      <td>6</td>\n",
       "      <td>edgeCount</td>\n",
       "    </tr>\n",
       "    <tr>\n",
       "      <th>4</th>\n",
       "      <td>959</td>\n",
       "      <td>50</td>\n",
       "      <td>194</td>\n",
       "      <td>0.15</td>\n",
       "      <td>7</td>\n",
       "      <td>NaN</td>\n",
       "      <td>clustered</td>\n",
       "      <td>0.8999999999999999;-0.3</td>\n",
       "      <td>13</td>\n",
       "      <td>3</td>\n",
       "      <td>3</td>\n",
       "      <td>10</td>\n",
       "      <td>10</td>\n",
       "      <td>-1</td>\n",
       "      <td>-4</td>\n",
       "      <td>-1</td>\n",
       "      <td>-1</td>\n",
       "      <td>-4</td>\n",
       "      <td>4</td>\n",
       "      <td>edgeCount</td>\n",
       "    </tr>\n",
       "  </tbody>\n",
       "</table>\n",
       "</div>"
      ],
      "text/plain": [
       "   rep  nrNodes  nrEdges  edgeProb  nrPaths  nrFails failureModel  \\\n",
       "0  992       50      186      0.15        5      NaN    clustered   \n",
       "1  986       50      190      0.15        6      NaN    clustered   \n",
       "2  976       50      202      0.15        5      NaN    clustered   \n",
       "3  967       50      179      0.15        3      NaN    clustered   \n",
       "4  959       50      194      0.15        7      NaN    clustered   \n",
       "\n",
       "            failurePercent  hopsRanked  hopsUnranked  spLength  stretch_mult  \\\n",
       "0  0.8999999999999999;-0.3          -1            -1         4            -5   \n",
       "1  0.8999999999999999;-0.3          -1            -1         5            -6   \n",
       "2  0.8999999999999999;-0.3          -1            -1         5            -6   \n",
       "3  0.8999999999999999;-0.3          -1            -1         5            -6   \n",
       "4  0.8999999999999999;-0.3          13             3         3            10   \n",
       "\n",
       "   nodeAdditions  hopsPath  stretch_path  hopsRankedOne  hopsUnrankedOne  \\\n",
       "0             18        -1            -5             -1               -1   \n",
       "1              0        -1            -6             -1               -1   \n",
       "2             24        -1            -6             -1               -1   \n",
       "3             16        -1            -6             -1               -1   \n",
       "4             10        -1            -4             -1               -1   \n",
       "\n",
       "   stretch_one  overallNodeAdditionsOne treeChoice  \n",
       "0           -5                        6  edgeCount  \n",
       "1           -6                        0  edgeCount  \n",
       "2           -6                        6  edgeCount  \n",
       "3           -6                        6  edgeCount  \n",
       "4           -4                        4  edgeCount  "
      ]
     },
     "metadata": {},
     "output_type": "display_data"
    },
    {
     "name": "stdout",
     "output_type": "stream",
     "text": [
      "Resilience Paths: 15.306122448979592%\n",
      "Resilience One Tree: 17.346938775510203%\n",
      "Resilience Trees: 25.510204081632654%\n"
     ]
    },
    {
     "data": {
      "image/png": "[encoded data removed]",
      "text/plain": [
       "<Figure size 432x288 with 1 Axes>"
      ]
     },
     "metadata": {
      "needs_background": "light"
     },
     "output_type": "display_data"
    },
    {
     "name": "stdout",
     "output_type": "stream",
     "text": [
      "Trees beat paths in 9 runs\n",
      "Paths beat trees in 16 runs\n",
      "Both performed equally good in 5 runs\n"
     ]
    },
    {
     "data": {
      "image/png": "[encoded data removed]",
      "text/plain": [
       "<Figure size 432x288 with 1 Axes>"
      ]
     },
     "metadata": {
      "needs_background": "light"
     },
     "output_type": "display_data"
    },
    {
     "name": "stdout",
     "output_type": "stream",
     "text": [
      "One Tree beat paths in 2 runs\n",
      "Paths beat one tree in 11 runs\n",
      "Both performed equally good in 17 runs\n"
     ]
    },
    {
     "data": {
      "image/png": "[encoded data removed]",
      "text/plain": [
       "<Figure size 432x288 with 1 Axes>"
      ]
     },
     "metadata": {
      "needs_background": "light"
     },
     "output_type": "display_data"
    },
    {
     "name": "stdout",
     "output_type": "stream",
     "text": [
      "Multiple Trees beat One Tree in 9 runs\n",
      "One Tree beat  multiple trees in 18 runs\n",
      "Both performed equally good in 4 runs\n"
     ]
    },
    {
     "data": {
      "image/png": "[encoded data removed]",
      "text/plain": [
       "<Figure size 432x288 with 1 Axes>"
      ]
     },
     "metadata": {
      "needs_background": "light"
     },
     "output_type": "display_data"
    },
    {
     "name": "stdout",
     "output_type": "stream",
     "text": [
      "Ranked Trees beat Unranked Tree in 14 runs\n",
      "Unranked Tree beat ranked trees in 25 runs\n",
      "Both performed equally good in 11 runs\n"
     ]
    }
   ],
   "source": [
    "for i in range(nrFiles):\n",
    "    allInOne(path_base + files[i], i, rPaths, rOne, rMult, avgHopsPaths, avgHopsOne, avgHopsMult, avgHopsSP)\n",
    "    "
   ]
  },
  {
   "cell_type": "code",
   "execution_count": 34,
   "metadata": {},
   "outputs": [],
   "source": []
  },
  {
   "cell_type": "code",
   "execution_count": 35,
   "metadata": {},
   "outputs": [
    {
     "data": {
      "image/png": "[encoded data removed]",
      "text/plain": [
       "<Figure size 432x288 with 1 Axes>"
      ]
     },
     "metadata": {
      "needs_background": "light"
     },
     "output_type": "display_data"
    }
   ],
   "source": [
    "import matplotlib.pyplot as plt\n",
    "xVals = [0.3, 0.4, 0.5, 0.6, 0.7, 0.8, 0.9]\n",
    "\n",
    "plt.plot(xVals, rPaths, marker='o', markerfacecolor='blue', markersize=6, color='skyblue', linewidth=4)\n",
    "plt.plot(xVals, rOne, marker='o', markerfacecolor='red', markersize=6, color='darkred', linewidth=4)\n",
    "plt.plot(xVals, rMult, marker='o', markerfacecolor='green', markersize=6, color='darkgreen', linewidth=4)\n",
    "plt.title('Resilience - Failure Rate')\n",
    "plt.xlabel('Failure Rate')\n",
    "plt.ylabel('Resilience')\n",
    "plt.show()"
   ]
  },
  {
   "cell_type": "code",
   "execution_count": 36,
   "metadata": {
    "scrolled": true
   },
   "outputs": [
    {
     "data": {
      "image/png": "[encoded data removed]",
      "text/plain": [
       "<Figure size 432x288 with 1 Axes>"
      ]
     },
     "metadata": {
      "needs_background": "light"
     },
     "output_type": "display_data"
    }
   ],
   "source": [
    "import matplotlib.pyplot as plt\n",
    "\n",
    "plt.plot(xVals, yAvgsPaths, marker='o', markerfacecolor='blue', markersize=6, color='skyblue', linewidth=4)\n",
    "plt.plot(xVals, yAvgsOne, marker='o', markerfacecolor='red', markersize=6, color='darkred', linewidth=4)\n",
    "plt.plot(xVals, yAvgsMult, marker='o', markerfacecolor='green', markersize=6, color='darkgreen', linewidth=4)\n",
    "plt.title('Avg. Hops - Failure Rate')\n",
    "plt.xlabel('Failure Rate')\n",
    "plt.ylabel('Average Hops')\n",
    "plt.show()"
   ]
  },
  {
   "cell_type": "code",
   "execution_count": 15,
   "metadata": {
    "scrolled": true
   },
   "outputs": [
    {
     "data": {
      "text/plain": [
       "[22.369291859695572,\n",
       " 21.23978856319079,\n",
       " 8.630114295179721,\n",
       " 7.05428954423592,\n",
       " 8.012326656394446,\n",
       " 8.122941822173436,\n",
       " 16.666666666666664]"
      ]
     },
     "execution_count": 15,
     "metadata": {},
     "output_type": "execute_result"
    }
   ],
   "source": [
    "import numpy as np\n",
    "\n",
    "percentAvgsOneToPaths = []\n",
    "percentAvgsMultToPaths = []\n",
    "\n",
    "def getIncrease(val1, val2):\n",
    "    return (abs(val2 - val1) / val1) * 100.0\n",
    "\n",
    "for i in range(len(yAvgsPaths)):\n",
    "    percentAvgsOneToPaths.append(getIncrease(yAvgsPaths[i], yAvgsOne[i]))\n",
    "    percentAvgsMultToPaths.append(getIncrease(yAvgsPaths[i], yAvgsMult[i]))\n",
    "\n",
    "percentAvgsOneToPaths"
   ]
  },
  {
   "cell_type": "code",
   "execution_count": 37,
   "metadata": {
    "scrolled": true
   },
   "outputs": [
    {
     "data": {
      "image/png": "[encoded data removed]",
      "text/plain": [
       "<Figure size 432x288 with 1 Axes>"
      ]
     },
     "metadata": {
      "needs_background": "light"
     },
     "output_type": "display_data"
    }
   ],
   "source": [
    "import matplotlib.pyplot as plt\n",
    "\n",
    "plt.plot(xVals, percentAvgsOneToPaths, marker='o', markerfacecolor='red', markersize=6, color='darkred', linewidth=4)\n",
    "plt.plot(xVals, percentAvgsMultToPaths, marker='o', markerfacecolor='green', markersize=6, color='darkgreen', linewidth=4)\n",
    "\n",
    "plt.title('Percent Increase in Hops - Failure Rate')\n",
    "plt.xlabel('Failure Rate')\n",
    "plt.ylabel('Percent difference to BLUE')\n",
    "plt.show()"
   ]
  },
  {
   "cell_type": "code",
   "execution_count": 38,
   "metadata": {},
   "outputs": [
    {
     "name": "stdout",
     "output_type": "stream",
     "text": [
      "avg sp: 2.413\n",
      "avg one: 3.698\n",
      "increase: 53.25321176958144 \n",
      "\n",
      "avg sp: 2.5785785785785786\n",
      "avg one: 5.107287449392713\n",
      "increase: 98.06600007543945 \n",
      "\n",
      "avg sp: 2.78125\n",
      "avg one: 6.961783439490445\n",
      "increase: 150.31131467830815 \n",
      "\n",
      "avg sp: 2.9979188345473466\n",
      "avg one: 8.036477987421383\n",
      "increase: 168.06856459257025 \n",
      "\n",
      "avg sp: 3.393719806763285\n",
      "avg one: 8.17016317016317\n",
      "increase: 140.7435980389717 \n",
      "\n",
      "avg sp: 3.9139579349904396\n",
      "avg one: 6.888111888111888\n",
      "increase: 75.98839850916062 \n",
      "\n",
      "avg sp: 4.3979591836734695\n",
      "avg one: 5.6\n",
      "increase: 27.331786542923425 \n",
      "\n"
     ]
    }
   ],
   "source": [
    "import numpy as np\n",
    "\n",
    "percentAvgsOneToSP = []\n",
    "percentAvgsMultToSP = []\n",
    "percentAvgsPathsToSP = []\n",
    "\n",
    "def getIncrease(val1, val2):\n",
    "    return (abs(val2 - val1) / val1) * 100.0\n",
    "\n",
    "for i in range(len(yAvgsPaths)):\n",
    "    percentAvgsOneToSP.append(getIncrease(yAvgsSP[i], yAvgsOne[i]))\n",
    "    print('avg sp:', yAvgsSP[i])\n",
    "    print('avg one:', yAvgsOne[i])\n",
    "    print('increase:', getIncrease(yAvgsSP[i], yAvgsOne[i]), '\\n')\n",
    "    \n",
    "    percentAvgsMultToSP.append(getIncrease(yAvgsSP[i], yAvgsMult[i]))\n",
    "    percentAvgsPathsToSP.append(getIncrease(yAvgsSP[i], yAvgsPaths[i]))\n"
   ]
  },
  {
   "cell_type": "code",
   "execution_count": 18,
   "metadata": {},
   "outputs": [
    {
     "data": {
      "image/png": "[encoded data removed]",
      "text/plain": [
       "<Figure size 432x288 with 1 Axes>"
      ]
     },
     "metadata": {
      "needs_background": "light"
     },
     "output_type": "display_data"
    }
   ],
   "source": [
    "import matplotlib.pyplot as plt\n",
    "\n",
    "plt.plot(xVals, percentAvgsOneToSP, marker='o', markerfacecolor='red', markersize=6, color='darkred', linewidth=4)\n",
    "plt.plot(xVals, percentAvgsMultToSP, marker='o', markerfacecolor='green', markersize=6, color='darkgreen', linewidth=4)\n",
    "plt.plot(xVals, percentAvgsPathsToSP, marker='o', markerfacecolor='blue', markersize=6, color='skyblue', linewidth=4)\n",
    "\n",
    "plt.title('Percent Increase to SP - Failure Rate')\n",
    "plt.xlabel('Failure Rate')\n",
    "plt.ylabel('Percent difference to Shortest Path')\n",
    "plt.show()"
   ]
  },
  {
   "cell_type": "code",
   "execution_count": null,
   "metadata": {},
   "outputs": [],
   "source": [
    "#do for adversarial and random model too"
   ]
  },
  {
   "cell_type": "code",
   "execution_count": null,
   "metadata": {},
   "outputs": [],
   "source": [
    "#gutes n und p finden in literatur"
   ]
  },
  {
   "cell_type": "code",
   "execution_count": null,
   "metadata": {},
   "outputs": [],
   "source": [
    "#do relative drop-off!"
   ]
  }
 ],
 "metadata": {
  "kernelspec": {
   "display_name": "Python 3",
   "language": "python",
   "name": "python3"
  },
  "language_info": {
   "codemirror_mode": {
    "name": "ipython",
    "version": 3
   },
   "file_extension": ".py",
   "mimetype": "text/x-python",
   "name": "python",
   "nbconvert_exporter": "python",
   "pygments_lexer": "ipython3",
   "version": "3.8.6"
  }
 },
 "nbformat": 4,
 "nbformat_minor": 4
}
