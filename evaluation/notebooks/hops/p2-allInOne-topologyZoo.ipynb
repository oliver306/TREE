{
 "cells": [
  {
   "cell_type": "code",
   "execution_count": 1,
   "metadata": {},
   "outputs": [],
   "source": [
    "def allInOne(path):\n",
    "\n",
    "    import pandas as pd\n",
    "    import numpy as np\n",
    "    import matplotlib.pyplot as plt\n",
    "\n",
    "    def filterArraysToShortest(arr1, arr1Pos, arr2, arr2Pos):\n",
    "        both_pos = np.logical_and(arr1Pos, arr2Pos)\n",
    "        arr1Filt = arr1[both_pos] \n",
    "        arr2Filt = arr2[both_pos] \n",
    "    \n",
    "        return arr1Filt, arr2Filt\n",
    "    \n",
    "    \n",
    "    def filterArraysToShortest2(arr1, arr1Pos, arr2, arr2Pos):\n",
    "        if np.count_nonzero(arr1Pos) < np.count_nonzero(arr2Pos):\n",
    "            arr1Filt = arr1[arr1Pos] \n",
    "            arr2Filt = arr2[arr1Pos] \n",
    "        else:\n",
    "            arr1Filt = arr1[arr2Pos] \n",
    "            arr2Filt = arr2[arr2Pos] \n",
    "            \n",
    "        return arr1Filt, arr2Filt\n",
    "    \n",
    "    df = pd.read_csv(path)\n",
    "    display(df.head(5))\n",
    "    \n",
    "    reps = df['rep'].to_numpy()\n",
    "    hopsRanked = df['hopsRanked'].to_numpy()\n",
    "    hopsUnranked = df['hopsUnranked'].to_numpy()\n",
    "    hopsRankedOne = df['hopsRankedOne'].to_numpy()\n",
    "    hopsPath = df['hopsPath'].to_numpy()\n",
    "\n",
    "    hopsRankedPositive = hopsRanked > -1\n",
    "    hopsUnrankedPositive = hopsUnranked > -1\n",
    "    hopsRankedOnePositive = hopsRankedOne > -1\n",
    "    hopsPathPositive = hopsPath > -1\n",
    "    \n",
    "    total = len(df.index)\n",
    "\n",
    "    successesRanked = np.count_nonzero(hopsRanked > -1)\n",
    "    successesRankedOne = np.count_nonzero(hopsRankedOne > -1)\n",
    "    successesUnranked = np.count_nonzero(hopsUnranked > -1)\n",
    "    successesPath = np.count_nonzero(hopsPath > -1)\n",
    "\n",
    "    print(\"Resilience Paths: {}%\".format((successesPath / total) * 100))\n",
    "    print(\"Resilience One Tree: {}%\".format((successesRankedOne / total) * 100))\n",
    "    print(\"Resilience Trees: {}%\".format((successesRanked / total) * 100))\n",
    "    #print(\"Resilience Unranked: {}%\".format((successesUnranked / total) * 100))\n",
    "\n",
    "  \n",
    "    hopsPathFiltered,hopsRankedFiltered = filterArraysToShortest(hopsPath, hopsPathPositive, hopsRanked, hopsRankedPositive)   \n",
    "    \n",
    "    diff = np.subtract(hopsPathFiltered,hopsRankedFiltered)\n",
    "    plt.scatter(np.arange(len(hopsPathFiltered)), diff, color=\"blue\", s=1.5)\n",
    "    plt.show()\n",
    "\n",
    "    higherZero = np.count_nonzero(diff > 0)\n",
    "    lowerZero = np.count_nonzero(diff < 0)\n",
    "    equalZero = np.count_nonzero(diff == 0)\n",
    "\n",
    "    print(\"Trees beat paths in {} runs\".format(higherZero))\n",
    "    print(\"Paths beat trees in {} runs\".format(lowerZero))\n",
    "    print(\"Both performed equally good in {} runs\".format(equalZero))\n",
    "    \n",
    "\n",
    "    hopsPathFiltered,hopsRankedOneFiltered = filterArraysToShortest(hopsPath, hopsPathPositive, hopsRankedOne, hopsRankedOnePositive)   \n",
    "\n",
    "    diff = np.subtract(hopsPathFiltered,hopsRankedOneFiltered)\n",
    "    plt.scatter(np.arange(len(hopsPathFiltered)), diff, color=\"blue\", s=1.5);\n",
    "    plt.show()\n",
    "\n",
    "    higherZero = np.count_nonzero(diff > 0)\n",
    "    lowerZero = np.count_nonzero(diff < 0)\n",
    "    equalZero = np.count_nonzero(diff == 0)\n",
    "\n",
    "    print(\"One Tree beat paths in {} runs\".format(higherZero))\n",
    "    print(\"Paths beat one tree in {} runs\".format(lowerZero))\n",
    "    print(\"Both performed equally good in {} runs\".format(equalZero))\n",
    "\n",
    "\n",
    "\n",
    "\n",
    "    hopsRankedOneFiltered,hopsRankedFiltered = filterArraysToShortest(hopsRankedOne, hopsRankedOnePositive, hopsRanked, hopsRankedPositive)   \n",
    "\n",
    "    diff = np.subtract(hopsRankedOneFiltered,hopsRankedFiltered)\n",
    "    plt.scatter(np.arange(len(hopsRankedFiltered)), diff, color=\"blue\", s=1.5);\n",
    "    plt.show()\n",
    "\n",
    "    higherZero = np.count_nonzero(diff > 0)\n",
    "    lowerZero = np.count_nonzero(diff < 0)\n",
    "    equalZero = np.count_nonzero(diff == 0)\n",
    "\n",
    "    print(\"Multiple Trees beat One Tree in {} runs\".format(higherZero))\n",
    "    print(\"One Tree beat  multiple trees in {} runs\".format(lowerZero))\n",
    "    print(\"Both performed equally good in {} runs\".format(equalZero))\n",
    "\n",
    "\n",
    "\n",
    "\n",
    "    hopsUnrankedFiltered,hopsRankedFiltered = filterArraysToShortest(hopsUnranked, hopsUnrankedPositive, hopsRanked, hopsRankedPositive)   \n",
    "\n",
    "    diff = np.subtract(hopsUnrankedFiltered,hopsRankedFiltered)\n",
    "    plt.scatter(np.arange(len(hopsRankedFiltered)), diff, color=\"blue\", s=1.5);\n",
    "    plt.show()\n",
    "\n",
    "    higherZero = np.count_nonzero(diff > 0)\n",
    "    lowerZero = np.count_nonzero(diff < 0)\n",
    "    equalZero = np.count_nonzero(diff == 0)\n",
    "\n",
    "    print(\"Ranked Trees beat Unranked Tree in {} runs\".format(higherZero))\n",
    "    print(\"Unranked Tree beat ranked trees in {} runs\".format(lowerZero))\n",
    "    print(\"Both performed equally good in {} runs\".format(equalZero))"
   ]
  },
  {
   "cell_type": "markdown",
   "metadata": {},
   "source": [
    "## CLUSTERED, 60%, -30% per hop"
   ]
  },
  {
   "cell_type": "code",
   "execution_count": 17,
   "metadata": {},
   "outputs": [
    {
     "data": {
      "text/html": [
       "<div>\n",
       "<style scoped>\n",
       "    .dataframe tbody tr th:only-of-type {\n",
       "        vertical-align: middle;\n",
       "    }\n",
       "\n",
       "    .dataframe tbody tr th {\n",
       "        vertical-align: top;\n",
       "    }\n",
       "\n",
       "    .dataframe thead th {\n",
       "        text-align: right;\n",
       "    }\n",
       "</style>\n",
       "<table border=\"1\" class=\"dataframe\">\n",
       "  <thead>\n",
       "    <tr style=\"text-align: right;\">\n",
       "      <th></th>\n",
       "      <th>rep</th>\n",
       "      <th>nrNodes</th>\n",
       "      <th>nrEdges</th>\n",
       "      <th>edgeProb</th>\n",
       "      <th>nrPaths</th>\n",
       "      <th>nrFails</th>\n",
       "      <th>failureModel</th>\n",
       "      <th>failurePercent</th>\n",
       "      <th>hopsRanked</th>\n",
       "      <th>hopsUnranked</th>\n",
       "      <th>spLength</th>\n",
       "      <th>stretch_mult</th>\n",
       "      <th>nodeAdditions</th>\n",
       "      <th>hopsPath</th>\n",
       "      <th>stretch_path</th>\n",
       "      <th>hopsRankedOne</th>\n",
       "      <th>hopsUnrankedOne</th>\n",
       "      <th>stretch_one</th>\n",
       "      <th>overallNodeAdditionsOne</th>\n",
       "      <th>treeChoice</th>\n",
       "    </tr>\n",
       "  </thead>\n",
       "  <tbody>\n",
       "    <tr>\n",
       "      <th>0</th>\n",
       "      <td>999</td>\n",
       "      <td>25</td>\n",
       "      <td>56</td>\n",
       "      <td>graphml/AttMpls.graphml</td>\n",
       "      <td>9</td>\n",
       "      <td>8</td>\n",
       "      <td>clustered</td>\n",
       "      <td>0.6;-0.3</td>\n",
       "      <td>2</td>\n",
       "      <td>2</td>\n",
       "      <td>2</td>\n",
       "      <td>0</td>\n",
       "      <td>0</td>\n",
       "      <td>4</td>\n",
       "      <td>2</td>\n",
       "      <td>2</td>\n",
       "      <td>2</td>\n",
       "      <td>0</td>\n",
       "      <td>0</td>\n",
       "      <td>shortest</td>\n",
       "    </tr>\n",
       "    <tr>\n",
       "      <th>1</th>\n",
       "      <td>998</td>\n",
       "      <td>25</td>\n",
       "      <td>56</td>\n",
       "      <td>graphml/AttMpls.graphml</td>\n",
       "      <td>3</td>\n",
       "      <td>2</td>\n",
       "      <td>clustered</td>\n",
       "      <td>0.6;-0.3</td>\n",
       "      <td>5</td>\n",
       "      <td>5</td>\n",
       "      <td>3</td>\n",
       "      <td>2</td>\n",
       "      <td>0</td>\n",
       "      <td>10</td>\n",
       "      <td>7</td>\n",
       "      <td>5</td>\n",
       "      <td>5</td>\n",
       "      <td>2</td>\n",
       "      <td>0</td>\n",
       "      <td>shortest</td>\n",
       "    </tr>\n",
       "    <tr>\n",
       "      <th>2</th>\n",
       "      <td>997</td>\n",
       "      <td>25</td>\n",
       "      <td>56</td>\n",
       "      <td>graphml/AttMpls.graphml</td>\n",
       "      <td>2</td>\n",
       "      <td>1</td>\n",
       "      <td>clustered</td>\n",
       "      <td>0.6;-0.3</td>\n",
       "      <td>3</td>\n",
       "      <td>3</td>\n",
       "      <td>3</td>\n",
       "      <td>0</td>\n",
       "      <td>0</td>\n",
       "      <td>8</td>\n",
       "      <td>5</td>\n",
       "      <td>3</td>\n",
       "      <td>3</td>\n",
       "      <td>0</td>\n",
       "      <td>0</td>\n",
       "      <td>shortest</td>\n",
       "    </tr>\n",
       "    <tr>\n",
       "      <th>3</th>\n",
       "      <td>996</td>\n",
       "      <td>25</td>\n",
       "      <td>56</td>\n",
       "      <td>graphml/AttMpls.graphml</td>\n",
       "      <td>3</td>\n",
       "      <td>2</td>\n",
       "      <td>clustered</td>\n",
       "      <td>0.6;-0.3</td>\n",
       "      <td>3</td>\n",
       "      <td>3</td>\n",
       "      <td>3</td>\n",
       "      <td>0</td>\n",
       "      <td>0</td>\n",
       "      <td>3</td>\n",
       "      <td>0</td>\n",
       "      <td>5</td>\n",
       "      <td>5</td>\n",
       "      <td>2</td>\n",
       "      <td>0</td>\n",
       "      <td>shortest</td>\n",
       "    </tr>\n",
       "    <tr>\n",
       "      <th>4</th>\n",
       "      <td>995</td>\n",
       "      <td>25</td>\n",
       "      <td>56</td>\n",
       "      <td>graphml/AttMpls.graphml</td>\n",
       "      <td>2</td>\n",
       "      <td>1</td>\n",
       "      <td>clustered</td>\n",
       "      <td>0.6;-0.3</td>\n",
       "      <td>3</td>\n",
       "      <td>3</td>\n",
       "      <td>4</td>\n",
       "      <td>-1</td>\n",
       "      <td>12</td>\n",
       "      <td>-1</td>\n",
       "      <td>-5</td>\n",
       "      <td>3</td>\n",
       "      <td>3</td>\n",
       "      <td>-1</td>\n",
       "      <td>0</td>\n",
       "      <td>shortest</td>\n",
       "    </tr>\n",
       "  </tbody>\n",
       "</table>\n",
       "</div>"
      ],
      "text/plain": [
       "   rep  nrNodes  nrEdges                 edgeProb  nrPaths  nrFails  \\\n",
       "0  999       25       56  graphml/AttMpls.graphml        9        8   \n",
       "1  998       25       56  graphml/AttMpls.graphml        3        2   \n",
       "2  997       25       56  graphml/AttMpls.graphml        2        1   \n",
       "3  996       25       56  graphml/AttMpls.graphml        3        2   \n",
       "4  995       25       56  graphml/AttMpls.graphml        2        1   \n",
       "\n",
       "  failureModel failurePercent  hopsRanked  hopsUnranked  spLength  \\\n",
       "0    clustered       0.6;-0.3           2             2         2   \n",
       "1    clustered       0.6;-0.3           5             5         3   \n",
       "2    clustered       0.6;-0.3           3             3         3   \n",
       "3    clustered       0.6;-0.3           3             3         3   \n",
       "4    clustered       0.6;-0.3           3             3         4   \n",
       "\n",
       "   stretch_mult  nodeAdditions  hopsPath  stretch_path  hopsRankedOne  \\\n",
       "0             0              0         4             2              2   \n",
       "1             2              0        10             7              5   \n",
       "2             0              0         8             5              3   \n",
       "3             0              0         3             0              5   \n",
       "4            -1             12        -1            -5              3   \n",
       "\n",
       "   hopsUnrankedOne  stretch_one  overallNodeAdditionsOne treeChoice  \n",
       "0                2            0                        0   shortest  \n",
       "1                5            2                        0   shortest  \n",
       "2                3            0                        0   shortest  \n",
       "3                5            2                        0   shortest  \n",
       "4                3           -1                        0   shortest  "
      ]
     },
     "metadata": {},
     "output_type": "display_data"
    },
    {
     "name": "stdout",
     "output_type": "stream",
     "text": [
      "Resilience Paths: 65.8675799086758%\n",
      "Resilience One Tree: 97.03196347031964%\n",
      "Resilience Trees: 99.31506849315068%\n"
     ]
    },
    {
     "data": {
      "image/png": "[encoded data removed]",
      "text/plain": [
       "<Figure size 432x288 with 1 Axes>"
      ]
     },
     "metadata": {
      "needs_background": "light"
     },
     "output_type": "display_data"
    },
    {
     "name": "stdout",
     "output_type": "stream",
     "text": [
      "Trees beat paths in 291 runs\n",
      "Paths beat trees in 47 runs\n",
      "Both performed equally good in 239 runs\n"
     ]
    },
    {
     "data": {
      "image/png": "[encoded data removed]",
      "text/plain": [
       "<Figure size 432x288 with 1 Axes>"
      ]
     },
     "metadata": {
      "needs_background": "light"
     },
     "output_type": "display_data"
    },
    {
     "name": "stdout",
     "output_type": "stream",
     "text": [
      "One Tree beat paths in 286 runs\n",
      "Paths beat one tree in 21 runs\n",
      "Both performed equally good in 270 runs\n"
     ]
    },
    {
     "data": {
      "image/png": "[encoded data removed]",
      "text/plain": [
       "<Figure size 432x288 with 1 Axes>"
      ]
     },
     "metadata": {
      "needs_background": "light"
     },
     "output_type": "display_data"
    },
    {
     "name": "stdout",
     "output_type": "stream",
     "text": [
      "Multiple Trees beat One Tree in 63 runs\n",
      "One Tree beat  multiple trees in 88 runs\n",
      "Both performed equally good in 699 runs\n"
     ]
    },
    {
     "data": {
      "image/png": "[encoded data removed]",
      "text/plain": [
       "<Figure size 432x288 with 1 Axes>"
      ]
     },
     "metadata": {
      "needs_background": "light"
     },
     "output_type": "display_data"
    },
    {
     "name": "stdout",
     "output_type": "stream",
     "text": [
      "Ranked Trees beat Unranked Tree in 132 runs\n",
      "Unranked Tree beat ranked trees in 14 runs\n",
      "Both performed equally good in 724 runs\n"
     ]
    }
   ],
   "source": [
    "allInOne(\"CSVs/trees-2021-08-02_10-54-26-n25.csv\")"
   ]
  },
  {
   "cell_type": "markdown",
   "metadata": {},
   "source": [
    "## CLUSTERED, 50%, -15% per hop"
   ]
  },
  {
   "cell_type": "code",
   "execution_count": 71,
   "metadata": {},
   "outputs": [
    {
     "data": {
      "text/html": [
       "<div>\n",
       "<style scoped>\n",
       "    .dataframe tbody tr th:only-of-type {\n",
       "        vertical-align: middle;\n",
       "    }\n",
       "\n",
       "    .dataframe tbody tr th {\n",
       "        vertical-align: top;\n",
       "    }\n",
       "\n",
       "    .dataframe thead th {\n",
       "        text-align: right;\n",
       "    }\n",
       "</style>\n",
       "<table border=\"1\" class=\"dataframe\">\n",
       "  <thead>\n",
       "    <tr style=\"text-align: right;\">\n",
       "      <th></th>\n",
       "      <th>rep</th>\n",
       "      <th>nrNodes</th>\n",
       "      <th>nrEdges</th>\n",
       "      <th>edgeProb</th>\n",
       "      <th>nrPaths</th>\n",
       "      <th>nrFails</th>\n",
       "      <th>failureModel</th>\n",
       "      <th>failurePercent</th>\n",
       "      <th>hopsRanked</th>\n",
       "      <th>hopsUnranked</th>\n",
       "      <th>spLength</th>\n",
       "      <th>stretch</th>\n",
       "      <th>nodeAdditions</th>\n",
       "      <th>hopsPath</th>\n",
       "      <th>hopsRankedOne</th>\n",
       "      <th>hopsUnrankedOne</th>\n",
       "      <th>overallNodeAdditionsOne</th>\n",
       "    </tr>\n",
       "  </thead>\n",
       "  <tbody>\n",
       "    <tr>\n",
       "      <th>0</th>\n",
       "      <td>999</td>\n",
       "      <td>100</td>\n",
       "      <td>245</td>\n",
       "      <td>0.05</td>\n",
       "      <td>4</td>\n",
       "      <td>3</td>\n",
       "      <td>clustered</td>\n",
       "      <td>0.5;-0.15</td>\n",
       "      <td>3</td>\n",
       "      <td>3</td>\n",
       "      <td>3</td>\n",
       "      <td>0</td>\n",
       "      <td>4</td>\n",
       "      <td>3</td>\n",
       "      <td>3</td>\n",
       "      <td>3</td>\n",
       "      <td>2</td>\n",
       "    </tr>\n",
       "    <tr>\n",
       "      <th>1</th>\n",
       "      <td>997</td>\n",
       "      <td>100</td>\n",
       "      <td>232</td>\n",
       "      <td>0.05</td>\n",
       "      <td>1</td>\n",
       "      <td>0</td>\n",
       "      <td>clustered</td>\n",
       "      <td>0.5;-0.15</td>\n",
       "      <td>16</td>\n",
       "      <td>8</td>\n",
       "      <td>6</td>\n",
       "      <td>10</td>\n",
       "      <td>10</td>\n",
       "      <td>-1</td>\n",
       "      <td>16</td>\n",
       "      <td>8</td>\n",
       "      <td>10</td>\n",
       "    </tr>\n",
       "    <tr>\n",
       "      <th>2</th>\n",
       "      <td>996</td>\n",
       "      <td>100</td>\n",
       "      <td>278</td>\n",
       "      <td>0.05</td>\n",
       "      <td>1</td>\n",
       "      <td>0</td>\n",
       "      <td>clustered</td>\n",
       "      <td>0.5;-0.15</td>\n",
       "      <td>7</td>\n",
       "      <td>7</td>\n",
       "      <td>5</td>\n",
       "      <td>2</td>\n",
       "      <td>4</td>\n",
       "      <td>-1</td>\n",
       "      <td>7</td>\n",
       "      <td>7</td>\n",
       "      <td>4</td>\n",
       "    </tr>\n",
       "    <tr>\n",
       "      <th>3</th>\n",
       "      <td>994</td>\n",
       "      <td>100</td>\n",
       "      <td>231</td>\n",
       "      <td>0.05</td>\n",
       "      <td>8</td>\n",
       "      <td>7</td>\n",
       "      <td>clustered</td>\n",
       "      <td>0.5;-0.15</td>\n",
       "      <td>-1</td>\n",
       "      <td>-1</td>\n",
       "      <td>5</td>\n",
       "      <td>-6</td>\n",
       "      <td>0</td>\n",
       "      <td>-1</td>\n",
       "      <td>-1</td>\n",
       "      <td>-1</td>\n",
       "      <td>0</td>\n",
       "    </tr>\n",
       "    <tr>\n",
       "      <th>4</th>\n",
       "      <td>993</td>\n",
       "      <td>100</td>\n",
       "      <td>256</td>\n",
       "      <td>0.05</td>\n",
       "      <td>3</td>\n",
       "      <td>2</td>\n",
       "      <td>clustered</td>\n",
       "      <td>0.5;-0.15</td>\n",
       "      <td>-1</td>\n",
       "      <td>-1</td>\n",
       "      <td>6</td>\n",
       "      <td>-7</td>\n",
       "      <td>0</td>\n",
       "      <td>-1</td>\n",
       "      <td>-1</td>\n",
       "      <td>-1</td>\n",
       "      <td>0</td>\n",
       "    </tr>\n",
       "  </tbody>\n",
       "</table>\n",
       "</div>"
      ],
      "text/plain": [
       "   rep  nrNodes  nrEdges  edgeProb  nrPaths  nrFails failureModel  \\\n",
       "0  999      100      245      0.05        4        3    clustered   \n",
       "1  997      100      232      0.05        1        0    clustered   \n",
       "2  996      100      278      0.05        1        0    clustered   \n",
       "3  994      100      231      0.05        8        7    clustered   \n",
       "4  993      100      256      0.05        3        2    clustered   \n",
       "\n",
       "  failurePercent  hopsRanked  hopsUnranked  spLength  stretch  nodeAdditions  \\\n",
       "0      0.5;-0.15           3             3         3        0              4   \n",
       "1      0.5;-0.15          16             8         6       10             10   \n",
       "2      0.5;-0.15           7             7         5        2              4   \n",
       "3      0.5;-0.15          -1            -1         5       -6              0   \n",
       "4      0.5;-0.15          -1            -1         6       -7              0   \n",
       "\n",
       "   hopsPath  hopsRankedOne  hopsUnrankedOne  overallNodeAdditionsOne  \n",
       "0         3              3                3                        2  \n",
       "1        -1             16                8                       10  \n",
       "2        -1              7                7                        4  \n",
       "3        -1             -1               -1                        0  \n",
       "4        -1             -1               -1                        0  "
      ]
     },
     "metadata": {},
     "output_type": "display_data"
    },
    {
     "name": "stdout",
     "output_type": "stream",
     "text": [
      "Resilience Paths: 36.90322580645161%\n",
      "Resilience One Tree: 45.16129032258064%\n",
      "Resilience Trees: 64.77419354838709%\n"
     ]
    },
    {
     "data": {
      "image/png": "[encoded data removed]",
      "text/plain": [
       "<Figure size 432x288 with 1 Axes>"
      ]
     },
     "metadata": {
      "needs_background": "light"
     },
     "output_type": "display_data"
    },
    {
     "name": "stdout",
     "output_type": "stream",
     "text": [
      "Trees beat paths in 35 runs\n",
      "Paths beat trees in 98 runs\n",
      "Both performed equally good in 153 runs\n"
     ]
    },
    {
     "data": {
      "image/png": "[encoded data removed]",
      "text/plain": [
       "<Figure size 432x288 with 1 Axes>"
      ]
     },
     "metadata": {
      "needs_background": "light"
     },
     "output_type": "display_data"
    },
    {
     "name": "stdout",
     "output_type": "stream",
     "text": [
      "One Tree beat paths in 21 runs\n",
      "Paths beat one tree in 39 runs\n",
      "Both performed equally good in 226 runs\n"
     ]
    },
    {
     "data": {
      "image/png": "[encoded data removed]",
      "text/plain": [
       "<Figure size 432x288 with 1 Axes>"
      ]
     },
     "metadata": {
      "needs_background": "light"
     },
     "output_type": "display_data"
    },
    {
     "name": "stdout",
     "output_type": "stream",
     "text": [
      "Multiple Trees beat One Tree in 43 runs\n",
      "One Tree beat  multiple trees in 111 runs\n",
      "Both performed equally good in 193 runs\n"
     ]
    },
    {
     "data": {
      "image/png": "[encoded data removed]",
      "text/plain": [
       "<Figure size 432x288 with 1 Axes>"
      ]
     },
     "metadata": {
      "needs_background": "light"
     },
     "output_type": "display_data"
    },
    {
     "name": "stdout",
     "output_type": "stream",
     "text": [
      "Ranked Trees beat Unranked Tree in 131 runs\n",
      "Unranked Tree beat ranked trees in 85 runs\n",
      "Both performed equally good in 286 runs\n"
     ]
    }
   ],
   "source": [
    "allInOne('CSVs/trees-2021-07-25_14-24-23-p0.05-n100.csv')\n"
   ]
  },
  {
   "cell_type": "markdown",
   "metadata": {},
   "source": [
    "## Adversarial failures around D (varying failure rate)"
   ]
  },
  {
   "cell_type": "code",
   "execution_count": 72,
   "metadata": {},
   "outputs": [
    {
     "data": {
      "text/html": [
       "<div>\n",
       "<style scoped>\n",
       "    .dataframe tbody tr th:only-of-type {\n",
       "        vertical-align: middle;\n",
       "    }\n",
       "\n",
       "    .dataframe tbody tr th {\n",
       "        vertical-align: top;\n",
       "    }\n",
       "\n",
       "    .dataframe thead th {\n",
       "        text-align: right;\n",
       "    }\n",
       "</style>\n",
       "<table border=\"1\" class=\"dataframe\">\n",
       "  <thead>\n",
       "    <tr style=\"text-align: right;\">\n",
       "      <th></th>\n",
       "      <th>rep</th>\n",
       "      <th>nrNodes</th>\n",
       "      <th>nrEdges</th>\n",
       "      <th>edgeProb</th>\n",
       "      <th>nrPaths</th>\n",
       "      <th>nrFails</th>\n",
       "      <th>failureModel</th>\n",
       "      <th>failurePercent</th>\n",
       "      <th>hopsRanked</th>\n",
       "      <th>hopsUnranked</th>\n",
       "      <th>spLength</th>\n",
       "      <th>stretch</th>\n",
       "      <th>nodeAdditions</th>\n",
       "      <th>hopsPath</th>\n",
       "      <th>hopsRankedOne</th>\n",
       "      <th>hopsUnrankedOne</th>\n",
       "      <th>overallNodeAdditionsOne</th>\n",
       "    </tr>\n",
       "  </thead>\n",
       "  <tbody>\n",
       "    <tr>\n",
       "      <th>0</th>\n",
       "      <td>1000</td>\n",
       "      <td>100</td>\n",
       "      <td>234</td>\n",
       "      <td>0.05</td>\n",
       "      <td>7</td>\n",
       "      <td>6</td>\n",
       "      <td>adversarial</td>\n",
       "      <td>0.35</td>\n",
       "      <td>7</td>\n",
       "      <td>7</td>\n",
       "      <td>3</td>\n",
       "      <td>4</td>\n",
       "      <td>4</td>\n",
       "      <td>7</td>\n",
       "      <td>7</td>\n",
       "      <td>7</td>\n",
       "      <td>2</td>\n",
       "    </tr>\n",
       "    <tr>\n",
       "      <th>1</th>\n",
       "      <td>999</td>\n",
       "      <td>100</td>\n",
       "      <td>250</td>\n",
       "      <td>0.05</td>\n",
       "      <td>3</td>\n",
       "      <td>2</td>\n",
       "      <td>adversarial</td>\n",
       "      <td>0.67</td>\n",
       "      <td>20</td>\n",
       "      <td>26</td>\n",
       "      <td>4</td>\n",
       "      <td>16</td>\n",
       "      <td>0</td>\n",
       "      <td>15</td>\n",
       "      <td>15</td>\n",
       "      <td>15</td>\n",
       "      <td>0</td>\n",
       "    </tr>\n",
       "    <tr>\n",
       "      <th>2</th>\n",
       "      <td>998</td>\n",
       "      <td>100</td>\n",
       "      <td>250</td>\n",
       "      <td>0.05</td>\n",
       "      <td>4</td>\n",
       "      <td>3</td>\n",
       "      <td>adversarial</td>\n",
       "      <td>0.84</td>\n",
       "      <td>15</td>\n",
       "      <td>15</td>\n",
       "      <td>3</td>\n",
       "      <td>12</td>\n",
       "      <td>0</td>\n",
       "      <td>12</td>\n",
       "      <td>12</td>\n",
       "      <td>12</td>\n",
       "      <td>0</td>\n",
       "    </tr>\n",
       "    <tr>\n",
       "      <th>3</th>\n",
       "      <td>997</td>\n",
       "      <td>100</td>\n",
       "      <td>267</td>\n",
       "      <td>0.05</td>\n",
       "      <td>7</td>\n",
       "      <td>6</td>\n",
       "      <td>adversarial</td>\n",
       "      <td>0.76</td>\n",
       "      <td>9</td>\n",
       "      <td>9</td>\n",
       "      <td>3</td>\n",
       "      <td>6</td>\n",
       "      <td>10</td>\n",
       "      <td>9</td>\n",
       "      <td>9</td>\n",
       "      <td>9</td>\n",
       "      <td>4</td>\n",
       "    </tr>\n",
       "    <tr>\n",
       "      <th>4</th>\n",
       "      <td>996</td>\n",
       "      <td>100</td>\n",
       "      <td>263</td>\n",
       "      <td>0.05</td>\n",
       "      <td>9</td>\n",
       "      <td>8</td>\n",
       "      <td>adversarial</td>\n",
       "      <td>0.69</td>\n",
       "      <td>12</td>\n",
       "      <td>12</td>\n",
       "      <td>4</td>\n",
       "      <td>8</td>\n",
       "      <td>4</td>\n",
       "      <td>12</td>\n",
       "      <td>12</td>\n",
       "      <td>12</td>\n",
       "      <td>2</td>\n",
       "    </tr>\n",
       "  </tbody>\n",
       "</table>\n",
       "</div>"
      ],
      "text/plain": [
       "    rep  nrNodes  nrEdges  edgeProb  nrPaths  nrFails failureModel  \\\n",
       "0  1000      100      234      0.05        7        6  adversarial   \n",
       "1   999      100      250      0.05        3        2  adversarial   \n",
       "2   998      100      250      0.05        4        3  adversarial   \n",
       "3   997      100      267      0.05        7        6  adversarial   \n",
       "4   996      100      263      0.05        9        8  adversarial   \n",
       "\n",
       "   failurePercent  hopsRanked  hopsUnranked  spLength  stretch  nodeAdditions  \\\n",
       "0            0.35           7             7         3        4              4   \n",
       "1            0.67          20            26         4       16              0   \n",
       "2            0.84          15            15         3       12              0   \n",
       "3            0.76           9             9         3        6             10   \n",
       "4            0.69          12            12         4        8              4   \n",
       "\n",
       "   hopsPath  hopsRankedOne  hopsUnrankedOne  overallNodeAdditionsOne  \n",
       "0         7              7                7                        2  \n",
       "1        15             15               15                        0  \n",
       "2        12             12               12                        0  \n",
       "3         9              9                9                        4  \n",
       "4        12             12               12                        2  "
      ]
     },
     "metadata": {},
     "output_type": "display_data"
    },
    {
     "name": "stdout",
     "output_type": "stream",
     "text": [
      "Resilience Paths: 94.28857715430861%\n",
      "Resilience One Tree: 100.0%\n",
      "Resilience Trees: 100.0%\n"
     ]
    },
    {
     "data": {
      "image/png": "[encoded data removed]",
      "text/plain": [
       "<Figure size 432x288 with 1 Axes>"
      ]
     },
     "metadata": {
      "needs_background": "light"
     },
     "output_type": "display_data"
    },
    {
     "name": "stdout",
     "output_type": "stream",
     "text": [
      "Trees beat paths in 162 runs\n",
      "Paths beat trees in 166 runs\n",
      "Both performed equally good in 613 runs\n"
     ]
    },
    {
     "data": {
      "image/png": "[encoded data removed]",
      "text/plain": [
       "<Figure size 432x288 with 1 Axes>"
      ]
     },
     "metadata": {
      "needs_background": "light"
     },
     "output_type": "display_data"
    },
    {
     "name": "stdout",
     "output_type": "stream",
     "text": [
      "One Tree beat paths in 54 runs\n",
      "Paths beat one tree in 68 runs\n",
      "Both performed equally good in 819 runs\n"
     ]
    },
    {
     "data": {
      "image/png": "[encoded data removed]",
      "text/plain": [
       "<Figure size 432x288 with 1 Axes>"
      ]
     },
     "metadata": {
      "needs_background": "light"
     },
     "output_type": "display_data"
    },
    {
     "name": "stdout",
     "output_type": "stream",
     "text": [
      "Multiple Trees beat One Tree in 172 runs\n",
      "One Tree beat  multiple trees in 152 runs\n",
      "Both performed equally good in 674 runs\n"
     ]
    },
    {
     "data": {
      "image/png": "[encoded data removed]",
      "text/plain": [
       "<Figure size 432x288 with 1 Axes>"
      ]
     },
     "metadata": {
      "needs_background": "light"
     },
     "output_type": "display_data"
    },
    {
     "name": "stdout",
     "output_type": "stream",
     "text": [
      "Ranked Trees beat Unranked Tree in 234 runs\n",
      "Unranked Tree beat ranked trees in 120 runs\n",
      "Both performed equally good in 644 runs\n"
     ]
    }
   ],
   "source": [
    "allInOne('CSVs/trees-2021-07-24_19-48-33-p0.05-n100.csv')"
   ]
  },
  {
   "cell_type": "markdown",
   "metadata": {},
   "source": [
    "## Fixed adversarial failure rate 80%"
   ]
  },
  {
   "cell_type": "code",
   "execution_count": 73,
   "metadata": {},
   "outputs": [
    {
     "data": {
      "text/html": [
       "<div>\n",
       "<style scoped>\n",
       "    .dataframe tbody tr th:only-of-type {\n",
       "        vertical-align: middle;\n",
       "    }\n",
       "\n",
       "    .dataframe tbody tr th {\n",
       "        vertical-align: top;\n",
       "    }\n",
       "\n",
       "    .dataframe thead th {\n",
       "        text-align: right;\n",
       "    }\n",
       "</style>\n",
       "<table border=\"1\" class=\"dataframe\">\n",
       "  <thead>\n",
       "    <tr style=\"text-align: right;\">\n",
       "      <th></th>\n",
       "      <th>rep</th>\n",
       "      <th>nrNodes</th>\n",
       "      <th>nrEdges</th>\n",
       "      <th>edgeProb</th>\n",
       "      <th>nrPaths</th>\n",
       "      <th>nrFails</th>\n",
       "      <th>failureModel</th>\n",
       "      <th>failurePercent</th>\n",
       "      <th>hopsRanked</th>\n",
       "      <th>hopsUnranked</th>\n",
       "      <th>spLength</th>\n",
       "      <th>stretch_mult</th>\n",
       "      <th>nodeAdditions</th>\n",
       "      <th>hopsPath</th>\n",
       "      <th>stretch_path</th>\n",
       "      <th>hopsRankedOne</th>\n",
       "      <th>hopsUnrankedOne</th>\n",
       "      <th>stretch_one</th>\n",
       "      <th>overallNodeAdditionsOne</th>\n",
       "    </tr>\n",
       "  </thead>\n",
       "  <tbody>\n",
       "    <tr>\n",
       "      <th>0</th>\n",
       "      <td>1000</td>\n",
       "      <td>100</td>\n",
       "      <td>248</td>\n",
       "      <td>0.05</td>\n",
       "      <td>3</td>\n",
       "      <td>2</td>\n",
       "      <td>adversarial</td>\n",
       "      <td>0.8</td>\n",
       "      <td>15</td>\n",
       "      <td>15</td>\n",
       "      <td>4</td>\n",
       "      <td>11</td>\n",
       "      <td>0</td>\n",
       "      <td>10</td>\n",
       "      <td>6</td>\n",
       "      <td>4</td>\n",
       "      <td>4</td>\n",
       "      <td>0</td>\n",
       "      <td>0</td>\n",
       "    </tr>\n",
       "    <tr>\n",
       "      <th>1</th>\n",
       "      <td>999</td>\n",
       "      <td>100</td>\n",
       "      <td>262</td>\n",
       "      <td>0.05</td>\n",
       "      <td>4</td>\n",
       "      <td>3</td>\n",
       "      <td>adversarial</td>\n",
       "      <td>0.8</td>\n",
       "      <td>29</td>\n",
       "      <td>29</td>\n",
       "      <td>5</td>\n",
       "      <td>24</td>\n",
       "      <td>0</td>\n",
       "      <td>23</td>\n",
       "      <td>18</td>\n",
       "      <td>23</td>\n",
       "      <td>23</td>\n",
       "      <td>18</td>\n",
       "      <td>0</td>\n",
       "    </tr>\n",
       "    <tr>\n",
       "      <th>2</th>\n",
       "      <td>998</td>\n",
       "      <td>100</td>\n",
       "      <td>248</td>\n",
       "      <td>0.05</td>\n",
       "      <td>6</td>\n",
       "      <td>5</td>\n",
       "      <td>adversarial</td>\n",
       "      <td>0.8</td>\n",
       "      <td>5</td>\n",
       "      <td>20</td>\n",
       "      <td>3</td>\n",
       "      <td>2</td>\n",
       "      <td>0</td>\n",
       "      <td>5</td>\n",
       "      <td>2</td>\n",
       "      <td>9</td>\n",
       "      <td>9</td>\n",
       "      <td>6</td>\n",
       "      <td>0</td>\n",
       "    </tr>\n",
       "    <tr>\n",
       "      <th>3</th>\n",
       "      <td>997</td>\n",
       "      <td>100</td>\n",
       "      <td>240</td>\n",
       "      <td>0.05</td>\n",
       "      <td>4</td>\n",
       "      <td>3</td>\n",
       "      <td>adversarial</td>\n",
       "      <td>0.8</td>\n",
       "      <td>12</td>\n",
       "      <td>16</td>\n",
       "      <td>4</td>\n",
       "      <td>8</td>\n",
       "      <td>0</td>\n",
       "      <td>14</td>\n",
       "      <td>10</td>\n",
       "      <td>20</td>\n",
       "      <td>20</td>\n",
       "      <td>16</td>\n",
       "      <td>0</td>\n",
       "    </tr>\n",
       "    <tr>\n",
       "      <th>4</th>\n",
       "      <td>996</td>\n",
       "      <td>100</td>\n",
       "      <td>243</td>\n",
       "      <td>0.05</td>\n",
       "      <td>3</td>\n",
       "      <td>2</td>\n",
       "      <td>adversarial</td>\n",
       "      <td>0.8</td>\n",
       "      <td>8</td>\n",
       "      <td>8</td>\n",
       "      <td>4</td>\n",
       "      <td>4</td>\n",
       "      <td>26</td>\n",
       "      <td>8</td>\n",
       "      <td>4</td>\n",
       "      <td>8</td>\n",
       "      <td>8</td>\n",
       "      <td>4</td>\n",
       "      <td>12</td>\n",
       "    </tr>\n",
       "  </tbody>\n",
       "</table>\n",
       "</div>"
      ],
      "text/plain": [
       "    rep  nrNodes  nrEdges  edgeProb  nrPaths  nrFails failureModel  \\\n",
       "0  1000      100      248      0.05        3        2  adversarial   \n",
       "1   999      100      262      0.05        4        3  adversarial   \n",
       "2   998      100      248      0.05        6        5  adversarial   \n",
       "3   997      100      240      0.05        4        3  adversarial   \n",
       "4   996      100      243      0.05        3        2  adversarial   \n",
       "\n",
       "   failurePercent  hopsRanked  hopsUnranked  spLength  stretch_mult  \\\n",
       "0             0.8          15            15         4            11   \n",
       "1             0.8          29            29         5            24   \n",
       "2             0.8           5            20         3             2   \n",
       "3             0.8          12            16         4             8   \n",
       "4             0.8           8             8         4             4   \n",
       "\n",
       "   nodeAdditions  hopsPath  stretch_path  hopsRankedOne  hopsUnrankedOne  \\\n",
       "0              0        10             6              4                4   \n",
       "1              0        23            18             23               23   \n",
       "2              0         5             2              9                9   \n",
       "3              0        14            10             20               20   \n",
       "4             26         8             4              8                8   \n",
       "\n",
       "   stretch_one  overallNodeAdditionsOne  \n",
       "0            0                        0  \n",
       "1           18                        0  \n",
       "2            6                        0  \n",
       "3           16                        0  \n",
       "4            4                       12  "
      ]
     },
     "metadata": {},
     "output_type": "display_data"
    },
    {
     "name": "stdout",
     "output_type": "stream",
     "text": [
      "Resilience Paths: 88.64321608040201%\n",
      "Resilience One Tree: 100.0%\n",
      "Resilience Trees: 100.0%\n"
     ]
    },
    {
     "data": {
      "image/png": "[encoded data removed]",
      "text/plain": [
       "<Figure size 432x288 with 1 Axes>"
      ]
     },
     "metadata": {
      "needs_background": "light"
     },
     "output_type": "display_data"
    },
    {
     "name": "stdout",
     "output_type": "stream",
     "text": [
      "Trees beat paths in 243 runs\n",
      "Paths beat trees in 262 runs\n",
      "Both performed equally good in 377 runs\n"
     ]
    },
    {
     "data": {
      "image/png": "[encoded data removed]",
      "text/plain": [
       "<Figure size 432x288 with 1 Axes>"
      ]
     },
     "metadata": {
      "needs_background": "light"
     },
     "output_type": "display_data"
    },
    {
     "name": "stdout",
     "output_type": "stream",
     "text": [
      "One Tree beat paths in 81 runs\n",
      "Paths beat one tree in 105 runs\n",
      "Both performed equally good in 696 runs\n"
     ]
    },
    {
     "data": {
      "image/png": "[encoded data removed]",
      "text/plain": [
       "<Figure size 432x288 with 1 Axes>"
      ]
     },
     "metadata": {
      "needs_background": "light"
     },
     "output_type": "display_data"
    },
    {
     "name": "stdout",
     "output_type": "stream",
     "text": [
      "Multiple Trees beat One Tree in 281 runs\n",
      "One Tree beat  multiple trees in 284 runs\n",
      "Both performed equally good in 430 runs\n"
     ]
    },
    {
     "data": {
      "image/png": "[encoded data removed]",
      "text/plain": [
       "<Figure size 432x288 with 1 Axes>"
      ]
     },
     "metadata": {
      "needs_background": "light"
     },
     "output_type": "display_data"
    },
    {
     "name": "stdout",
     "output_type": "stream",
     "text": [
      "Ranked Trees beat Unranked Tree in 223 runs\n",
      "Unranked Tree beat ranked trees in 249 runs\n",
      "Both performed equally good in 523 runs\n"
     ]
    }
   ],
   "source": [
    "allInOne('CSVs/trees-2021-07-25_14-37-35-p0.05-n100.csv')\n"
   ]
  },
  {
   "cell_type": "markdown",
   "metadata": {},
   "source": [
    "## AFTER BUGFIX"
   ]
  },
  {
   "cell_type": "code",
   "execution_count": 4,
   "metadata": {},
   "outputs": [
    {
     "data": {
      "text/html": [
       "<div>\n",
       "<style scoped>\n",
       "    .dataframe tbody tr th:only-of-type {\n",
       "        vertical-align: middle;\n",
       "    }\n",
       "\n",
       "    .dataframe tbody tr th {\n",
       "        vertical-align: top;\n",
       "    }\n",
       "\n",
       "    .dataframe thead th {\n",
       "        text-align: right;\n",
       "    }\n",
       "</style>\n",
       "<table border=\"1\" class=\"dataframe\">\n",
       "  <thead>\n",
       "    <tr style=\"text-align: right;\">\n",
       "      <th></th>\n",
       "      <th>rep</th>\n",
       "      <th>nrNodes</th>\n",
       "      <th>nrEdges</th>\n",
       "      <th>edgeProb</th>\n",
       "      <th>nrPaths</th>\n",
       "      <th>nrFails</th>\n",
       "      <th>failureModel</th>\n",
       "      <th>failurePercent</th>\n",
       "      <th>hopsRanked</th>\n",
       "      <th>hopsUnranked</th>\n",
       "      <th>spLength</th>\n",
       "      <th>stretch_mult</th>\n",
       "      <th>nodeAdditions</th>\n",
       "      <th>hopsPath</th>\n",
       "      <th>stretch_path</th>\n",
       "      <th>hopsRankedOne</th>\n",
       "      <th>hopsUnrankedOne</th>\n",
       "      <th>stretch_one</th>\n",
       "      <th>overallNodeAdditionsOne</th>\n",
       "      <th>treeChoice</th>\n",
       "    </tr>\n",
       "  </thead>\n",
       "  <tbody>\n",
       "    <tr>\n",
       "      <th>0</th>\n",
       "      <td>1000</td>\n",
       "      <td>25</td>\n",
       "      <td>56</td>\n",
       "      <td>graphml/AttMpls.graphml</td>\n",
       "      <td>4</td>\n",
       "      <td>3</td>\n",
       "      <td>clustered</td>\n",
       "      <td>0.7;-0.3</td>\n",
       "      <td>-1</td>\n",
       "      <td>-1</td>\n",
       "      <td>4</td>\n",
       "      <td>-5</td>\n",
       "      <td>6</td>\n",
       "      <td>-1</td>\n",
       "      <td>-5</td>\n",
       "      <td>-1</td>\n",
       "      <td>-1</td>\n",
       "      <td>-5</td>\n",
       "      <td>2</td>\n",
       "      <td>shortest</td>\n",
       "    </tr>\n",
       "    <tr>\n",
       "      <th>1</th>\n",
       "      <td>995</td>\n",
       "      <td>25</td>\n",
       "      <td>56</td>\n",
       "      <td>graphml/AttMpls.graphml</td>\n",
       "      <td>2</td>\n",
       "      <td>1</td>\n",
       "      <td>clustered</td>\n",
       "      <td>0.7;-0.3</td>\n",
       "      <td>3</td>\n",
       "      <td>3</td>\n",
       "      <td>3</td>\n",
       "      <td>0</td>\n",
       "      <td>2</td>\n",
       "      <td>-1</td>\n",
       "      <td>-4</td>\n",
       "      <td>3</td>\n",
       "      <td>3</td>\n",
       "      <td>0</td>\n",
       "      <td>2</td>\n",
       "      <td>shortest</td>\n",
       "    </tr>\n",
       "    <tr>\n",
       "      <th>2</th>\n",
       "      <td>994</td>\n",
       "      <td>25</td>\n",
       "      <td>56</td>\n",
       "      <td>graphml/AttMpls.graphml</td>\n",
       "      <td>4</td>\n",
       "      <td>3</td>\n",
       "      <td>clustered</td>\n",
       "      <td>0.7;-0.3</td>\n",
       "      <td>4</td>\n",
       "      <td>4</td>\n",
       "      <td>2</td>\n",
       "      <td>2</td>\n",
       "      <td>8</td>\n",
       "      <td>-1</td>\n",
       "      <td>-3</td>\n",
       "      <td>6</td>\n",
       "      <td>6</td>\n",
       "      <td>4</td>\n",
       "      <td>4</td>\n",
       "      <td>shortest</td>\n",
       "    </tr>\n",
       "    <tr>\n",
       "      <th>3</th>\n",
       "      <td>992</td>\n",
       "      <td>25</td>\n",
       "      <td>56</td>\n",
       "      <td>graphml/AttMpls.graphml</td>\n",
       "      <td>4</td>\n",
       "      <td>3</td>\n",
       "      <td>clustered</td>\n",
       "      <td>0.7;-0.3</td>\n",
       "      <td>4</td>\n",
       "      <td>4</td>\n",
       "      <td>3</td>\n",
       "      <td>1</td>\n",
       "      <td>12</td>\n",
       "      <td>14</td>\n",
       "      <td>11</td>\n",
       "      <td>14</td>\n",
       "      <td>14</td>\n",
       "      <td>11</td>\n",
       "      <td>6</td>\n",
       "      <td>shortest</td>\n",
       "    </tr>\n",
       "    <tr>\n",
       "      <th>4</th>\n",
       "      <td>991</td>\n",
       "      <td>25</td>\n",
       "      <td>56</td>\n",
       "      <td>graphml/AttMpls.graphml</td>\n",
       "      <td>2</td>\n",
       "      <td>1</td>\n",
       "      <td>clustered</td>\n",
       "      <td>0.7;-0.3</td>\n",
       "      <td>-1</td>\n",
       "      <td>-1</td>\n",
       "      <td>6</td>\n",
       "      <td>-7</td>\n",
       "      <td>8</td>\n",
       "      <td>-1</td>\n",
       "      <td>-7</td>\n",
       "      <td>-1</td>\n",
       "      <td>-1</td>\n",
       "      <td>-7</td>\n",
       "      <td>6</td>\n",
       "      <td>shortest</td>\n",
       "    </tr>\n",
       "  </tbody>\n",
       "</table>\n",
       "</div>"
      ],
      "text/plain": [
       "    rep  nrNodes  nrEdges                 edgeProb  nrPaths  nrFails  \\\n",
       "0  1000       25       56  graphml/AttMpls.graphml        4        3   \n",
       "1   995       25       56  graphml/AttMpls.graphml        2        1   \n",
       "2   994       25       56  graphml/AttMpls.graphml        4        3   \n",
       "3   992       25       56  graphml/AttMpls.graphml        4        3   \n",
       "4   991       25       56  graphml/AttMpls.graphml        2        1   \n",
       "\n",
       "  failureModel failurePercent  hopsRanked  hopsUnranked  spLength  \\\n",
       "0    clustered       0.7;-0.3          -1            -1         4   \n",
       "1    clustered       0.7;-0.3           3             3         3   \n",
       "2    clustered       0.7;-0.3           4             4         2   \n",
       "3    clustered       0.7;-0.3           4             4         3   \n",
       "4    clustered       0.7;-0.3          -1            -1         6   \n",
       "\n",
       "   stretch_mult  nodeAdditions  hopsPath  stretch_path  hopsRankedOne  \\\n",
       "0            -5              6        -1            -5             -1   \n",
       "1             0              2        -1            -4              3   \n",
       "2             2              8        -1            -3              6   \n",
       "3             1             12        14            11             14   \n",
       "4            -7              8        -1            -7             -1   \n",
       "\n",
       "   hopsUnrankedOne  stretch_one  overallNodeAdditionsOne treeChoice  \n",
       "0               -1           -5                        2   shortest  \n",
       "1                3            0                        2   shortest  \n",
       "2                6            4                        4   shortest  \n",
       "3               14           11                        6   shortest  \n",
       "4               -1           -7                        6   shortest  "
      ]
     },
     "metadata": {},
     "output_type": "display_data"
    },
    {
     "name": "stdout",
     "output_type": "stream",
     "text": [
      "Resilience Paths: 43.262411347517734%\n",
      "Resilience One Tree: 54.25531914893617%\n",
      "Resilience Trees: 66.48936170212765%\n"
     ]
    },
    {
     "data": {
      "image/png": "[encoded data removed]",
      "text/plain": [
       "<Figure size 432x288 with 1 Axes>"
      ]
     },
     "metadata": {
      "needs_background": "light"
     },
     "output_type": "display_data"
    },
    {
     "name": "stdout",
     "output_type": "stream",
     "text": [
      "Trees beat paths in 38 runs\n",
      "Paths beat trees in 68 runs\n",
      "Both performed equally good in 138 runs\n"
     ]
    },
    {
     "data": {
      "image/png": "[encoded data removed]",
      "text/plain": [
       "<Figure size 432x288 with 1 Axes>"
      ]
     },
     "metadata": {
      "needs_background": "light"
     },
     "output_type": "display_data"
    },
    {
     "name": "stdout",
     "output_type": "stream",
     "text": [
      "One Tree beat paths in 24 runs\n",
      "Paths beat one tree in 51 runs\n",
      "Both performed equally good in 169 runs\n"
     ]
    },
    {
     "data": {
      "image/png": "[encoded data removed]",
      "text/plain": [
       "<Figure size 432x288 with 1 Axes>"
      ]
     },
     "metadata": {
      "needs_background": "light"
     },
     "output_type": "display_data"
    },
    {
     "name": "stdout",
     "output_type": "stream",
     "text": [
      "Multiple Trees beat One Tree in 56 runs\n",
      "One Tree beat  multiple trees in 74 runs\n",
      "Both performed equally good in 165 runs\n"
     ]
    },
    {
     "data": {
      "image/png": "[encoded data removed]",
      "text/plain": [
       "<Figure size 432x288 with 1 Axes>"
      ]
     },
     "metadata": {
      "needs_background": "light"
     },
     "output_type": "display_data"
    },
    {
     "name": "stdout",
     "output_type": "stream",
     "text": [
      "Ranked Trees beat Unranked Tree in 39 runs\n",
      "Unranked Tree beat ranked trees in 44 runs\n",
      "Both performed equally good in 292 runs\n"
     ]
    }
   ],
   "source": [
    "allInOne('CSVs/trees-2021-08-08_13-05-29-n25.csv')\n"
   ]
  },
  {
   "cell_type": "code",
   "execution_count": 6,
   "metadata": {},
   "outputs": [
    {
     "data": {
      "text/html": [
       "<div>\n",
       "<style scoped>\n",
       "    .dataframe tbody tr th:only-of-type {\n",
       "        vertical-align: middle;\n",
       "    }\n",
       "\n",
       "    .dataframe tbody tr th {\n",
       "        vertical-align: top;\n",
       "    }\n",
       "\n",
       "    .dataframe thead th {\n",
       "        text-align: right;\n",
       "    }\n",
       "</style>\n",
       "<table border=\"1\" class=\"dataframe\">\n",
       "  <thead>\n",
       "    <tr style=\"text-align: right;\">\n",
       "      <th></th>\n",
       "      <th>rep</th>\n",
       "      <th>nrNodes</th>\n",
       "      <th>nrEdges</th>\n",
       "      <th>edgeProb</th>\n",
       "      <th>nrPaths</th>\n",
       "      <th>nrFails</th>\n",
       "      <th>failureModel</th>\n",
       "      <th>failurePercent</th>\n",
       "      <th>hopsRanked</th>\n",
       "      <th>hopsUnranked</th>\n",
       "      <th>spLength</th>\n",
       "      <th>stretch_mult</th>\n",
       "      <th>nodeAdditions</th>\n",
       "      <th>hopsPath</th>\n",
       "      <th>stretch_path</th>\n",
       "      <th>hopsRankedOne</th>\n",
       "      <th>hopsUnrankedOne</th>\n",
       "      <th>stretch_one</th>\n",
       "      <th>overallNodeAdditionsOne</th>\n",
       "      <th>treeChoice</th>\n",
       "    </tr>\n",
       "  </thead>\n",
       "  <tbody>\n",
       "    <tr>\n",
       "      <th>0</th>\n",
       "      <td>999</td>\n",
       "      <td>25</td>\n",
       "      <td>56</td>\n",
       "      <td>graphml/AttMpls.graphml</td>\n",
       "      <td>2</td>\n",
       "      <td>1</td>\n",
       "      <td>clustered</td>\n",
       "      <td>0.6;-0.3</td>\n",
       "      <td>-1</td>\n",
       "      <td>-1</td>\n",
       "      <td>4</td>\n",
       "      <td>-5</td>\n",
       "      <td>0</td>\n",
       "      <td>-1</td>\n",
       "      <td>-5</td>\n",
       "      <td>-1</td>\n",
       "      <td>-1</td>\n",
       "      <td>-5</td>\n",
       "      <td>0</td>\n",
       "      <td>shortest</td>\n",
       "    </tr>\n",
       "    <tr>\n",
       "      <th>1</th>\n",
       "      <td>998</td>\n",
       "      <td>25</td>\n",
       "      <td>56</td>\n",
       "      <td>graphml/AttMpls.graphml</td>\n",
       "      <td>4</td>\n",
       "      <td>3</td>\n",
       "      <td>clustered</td>\n",
       "      <td>0.6;-0.3</td>\n",
       "      <td>3</td>\n",
       "      <td>3</td>\n",
       "      <td>3</td>\n",
       "      <td>0</td>\n",
       "      <td>0</td>\n",
       "      <td>3</td>\n",
       "      <td>0</td>\n",
       "      <td>3</td>\n",
       "      <td>3</td>\n",
       "      <td>0</td>\n",
       "      <td>0</td>\n",
       "      <td>shortest</td>\n",
       "    </tr>\n",
       "    <tr>\n",
       "      <th>2</th>\n",
       "      <td>997</td>\n",
       "      <td>25</td>\n",
       "      <td>56</td>\n",
       "      <td>graphml/AttMpls.graphml</td>\n",
       "      <td>4</td>\n",
       "      <td>3</td>\n",
       "      <td>clustered</td>\n",
       "      <td>0.6;-0.3</td>\n",
       "      <td>7</td>\n",
       "      <td>7</td>\n",
       "      <td>3</td>\n",
       "      <td>4</td>\n",
       "      <td>0</td>\n",
       "      <td>5</td>\n",
       "      <td>2</td>\n",
       "      <td>7</td>\n",
       "      <td>7</td>\n",
       "      <td>4</td>\n",
       "      <td>0</td>\n",
       "      <td>shortest</td>\n",
       "    </tr>\n",
       "    <tr>\n",
       "      <th>3</th>\n",
       "      <td>996</td>\n",
       "      <td>25</td>\n",
       "      <td>56</td>\n",
       "      <td>graphml/AttMpls.graphml</td>\n",
       "      <td>5</td>\n",
       "      <td>4</td>\n",
       "      <td>clustered</td>\n",
       "      <td>0.6;-0.3</td>\n",
       "      <td>-1</td>\n",
       "      <td>-1</td>\n",
       "      <td>7</td>\n",
       "      <td>-8</td>\n",
       "      <td>8</td>\n",
       "      <td>-1</td>\n",
       "      <td>-8</td>\n",
       "      <td>-1</td>\n",
       "      <td>-1</td>\n",
       "      <td>-8</td>\n",
       "      <td>4</td>\n",
       "      <td>shortest</td>\n",
       "    </tr>\n",
       "    <tr>\n",
       "      <th>4</th>\n",
       "      <td>995</td>\n",
       "      <td>25</td>\n",
       "      <td>56</td>\n",
       "      <td>graphml/AttMpls.graphml</td>\n",
       "      <td>4</td>\n",
       "      <td>3</td>\n",
       "      <td>clustered</td>\n",
       "      <td>0.6;-0.3</td>\n",
       "      <td>8</td>\n",
       "      <td>8</td>\n",
       "      <td>3</td>\n",
       "      <td>5</td>\n",
       "      <td>0</td>\n",
       "      <td>-1</td>\n",
       "      <td>-4</td>\n",
       "      <td>-1</td>\n",
       "      <td>-1</td>\n",
       "      <td>-4</td>\n",
       "      <td>0</td>\n",
       "      <td>shortest</td>\n",
       "    </tr>\n",
       "  </tbody>\n",
       "</table>\n",
       "</div>"
      ],
      "text/plain": [
       "   rep  nrNodes  nrEdges                 edgeProb  nrPaths  nrFails  \\\n",
       "0  999       25       56  graphml/AttMpls.graphml        2        1   \n",
       "1  998       25       56  graphml/AttMpls.graphml        4        3   \n",
       "2  997       25       56  graphml/AttMpls.graphml        4        3   \n",
       "3  996       25       56  graphml/AttMpls.graphml        5        4   \n",
       "4  995       25       56  graphml/AttMpls.graphml        4        3   \n",
       "\n",
       "  failureModel failurePercent  hopsRanked  hopsUnranked  spLength  \\\n",
       "0    clustered       0.6;-0.3          -1            -1         4   \n",
       "1    clustered       0.6;-0.3           3             3         3   \n",
       "2    clustered       0.6;-0.3           7             7         3   \n",
       "3    clustered       0.6;-0.3          -1            -1         7   \n",
       "4    clustered       0.6;-0.3           8             8         3   \n",
       "\n",
       "   stretch_mult  nodeAdditions  hopsPath  stretch_path  hopsRankedOne  \\\n",
       "0            -5              0        -1            -5             -1   \n",
       "1             0              0         3             0              3   \n",
       "2             4              0         5             2              7   \n",
       "3            -8              8        -1            -8             -1   \n",
       "4             5              0        -1            -4             -1   \n",
       "\n",
       "   hopsUnrankedOne  stretch_one  overallNodeAdditionsOne treeChoice  \n",
       "0               -1           -5                        0   shortest  \n",
       "1                3            0                        0   shortest  \n",
       "2                7            4                        0   shortest  \n",
       "3               -1           -8                        4   shortest  \n",
       "4               -1           -4                        0   shortest  "
      ]
     },
     "metadata": {},
     "output_type": "display_data"
    },
    {
     "name": "stdout",
     "output_type": "stream",
     "text": [
      "Resilience Paths: 67.1590909090909%\n",
      "Resilience One Tree: 78.86363636363637%\n",
      "Resilience Trees: 90.79545454545455%\n"
     ]
    },
    {
     "data": {
      "image/png": "[encoded data removed]",
      "text/plain": [
       "<Figure size 432x288 with 1 Axes>"
      ]
     },
     "metadata": {
      "needs_background": "light"
     },
     "output_type": "display_data"
    },
    {
     "name": "stdout",
     "output_type": "stream",
     "text": [
      "Trees beat paths in 140 runs\n",
      "Paths beat trees in 152 runs\n",
      "Both performed equally good in 299 runs\n"
     ]
    },
    {
     "data": {
      "image/png": "[encoded data removed]",
      "text/plain": [
       "<Figure size 432x288 with 1 Axes>"
      ]
     },
     "metadata": {
      "needs_background": "light"
     },
     "output_type": "display_data"
    },
    {
     "name": "stdout",
     "output_type": "stream",
     "text": [
      "One Tree beat paths in 93 runs\n",
      "Paths beat one tree in 113 runs\n",
      "Both performed equally good in 385 runs\n"
     ]
    },
    {
     "data": {
      "image/png": "[encoded data removed]",
      "text/plain": [
       "<Figure size 432x288 with 1 Axes>"
      ]
     },
     "metadata": {
      "needs_background": "light"
     },
     "output_type": "display_data"
    },
    {
     "name": "stdout",
     "output_type": "stream",
     "text": [
      "Multiple Trees beat One Tree in 146 runs\n",
      "One Tree beat  multiple trees in 171 runs\n",
      "Both performed equally good in 371 runs\n"
     ]
    },
    {
     "data": {
      "image/png": "[encoded data removed]",
      "text/plain": [
       "<Figure size 432x288 with 1 Axes>"
      ]
     },
     "metadata": {
      "needs_background": "light"
     },
     "output_type": "display_data"
    },
    {
     "name": "stdout",
     "output_type": "stream",
     "text": [
      "Ranked Trees beat Unranked Tree in 129 runs\n",
      "Unranked Tree beat ranked trees in 84 runs\n",
      "Both performed equally good in 586 runs\n"
     ]
    }
   ],
   "source": [
    "allInOne('CSVs/trees-2021-08-08_13-09-49-n25.csv')\n"
   ]
  },
  {
   "cell_type": "code",
   "execution_count": 7,
   "metadata": {},
   "outputs": [
    {
     "data": {
      "text/html": [
       "<div>\n",
       "<style scoped>\n",
       "    .dataframe tbody tr th:only-of-type {\n",
       "        vertical-align: middle;\n",
       "    }\n",
       "\n",
       "    .dataframe tbody tr th {\n",
       "        vertical-align: top;\n",
       "    }\n",
       "\n",
       "    .dataframe thead th {\n",
       "        text-align: right;\n",
       "    }\n",
       "</style>\n",
       "<table border=\"1\" class=\"dataframe\">\n",
       "  <thead>\n",
       "    <tr style=\"text-align: right;\">\n",
       "      <th></th>\n",
       "      <th>rep</th>\n",
       "      <th>nrNodes</th>\n",
       "      <th>nrEdges</th>\n",
       "      <th>edgeProb</th>\n",
       "      <th>nrPaths</th>\n",
       "      <th>nrFails</th>\n",
       "      <th>failureModel</th>\n",
       "      <th>failurePercent</th>\n",
       "      <th>hopsRanked</th>\n",
       "      <th>hopsUnranked</th>\n",
       "      <th>spLength</th>\n",
       "      <th>stretch_mult</th>\n",
       "      <th>nodeAdditions</th>\n",
       "      <th>hopsPath</th>\n",
       "      <th>stretch_path</th>\n",
       "      <th>hopsRankedOne</th>\n",
       "      <th>hopsUnrankedOne</th>\n",
       "      <th>stretch_one</th>\n",
       "      <th>overallNodeAdditionsOne</th>\n",
       "      <th>treeChoice</th>\n",
       "    </tr>\n",
       "  </thead>\n",
       "  <tbody>\n",
       "    <tr>\n",
       "      <th>0</th>\n",
       "      <td>1000</td>\n",
       "      <td>25</td>\n",
       "      <td>56</td>\n",
       "      <td>graphml/AttMpls.graphml</td>\n",
       "      <td>4</td>\n",
       "      <td>3</td>\n",
       "      <td>clustered</td>\n",
       "      <td>0.6;-0.3</td>\n",
       "      <td>3</td>\n",
       "      <td>9</td>\n",
       "      <td>3</td>\n",
       "      <td>0</td>\n",
       "      <td>0</td>\n",
       "      <td>5</td>\n",
       "      <td>2</td>\n",
       "      <td>3</td>\n",
       "      <td>5</td>\n",
       "      <td>0</td>\n",
       "      <td>0</td>\n",
       "      <td>edgeCount</td>\n",
       "    </tr>\n",
       "    <tr>\n",
       "      <th>1</th>\n",
       "      <td>999</td>\n",
       "      <td>25</td>\n",
       "      <td>56</td>\n",
       "      <td>graphml/AttMpls.graphml</td>\n",
       "      <td>5</td>\n",
       "      <td>4</td>\n",
       "      <td>clustered</td>\n",
       "      <td>0.6;-0.3</td>\n",
       "      <td>6</td>\n",
       "      <td>2</td>\n",
       "      <td>2</td>\n",
       "      <td>4</td>\n",
       "      <td>2</td>\n",
       "      <td>2</td>\n",
       "      <td>0</td>\n",
       "      <td>10</td>\n",
       "      <td>10</td>\n",
       "      <td>8</td>\n",
       "      <td>2</td>\n",
       "      <td>edgeCount</td>\n",
       "    </tr>\n",
       "    <tr>\n",
       "      <th>2</th>\n",
       "      <td>998</td>\n",
       "      <td>25</td>\n",
       "      <td>56</td>\n",
       "      <td>graphml/AttMpls.graphml</td>\n",
       "      <td>2</td>\n",
       "      <td>1</td>\n",
       "      <td>clustered</td>\n",
       "      <td>0.6;-0.3</td>\n",
       "      <td>4</td>\n",
       "      <td>3</td>\n",
       "      <td>3</td>\n",
       "      <td>1</td>\n",
       "      <td>0</td>\n",
       "      <td>3</td>\n",
       "      <td>0</td>\n",
       "      <td>3</td>\n",
       "      <td>3</td>\n",
       "      <td>0</td>\n",
       "      <td>0</td>\n",
       "      <td>edgeCount</td>\n",
       "    </tr>\n",
       "    <tr>\n",
       "      <th>3</th>\n",
       "      <td>996</td>\n",
       "      <td>25</td>\n",
       "      <td>56</td>\n",
       "      <td>graphml/AttMpls.graphml</td>\n",
       "      <td>2</td>\n",
       "      <td>1</td>\n",
       "      <td>clustered</td>\n",
       "      <td>0.6;-0.3</td>\n",
       "      <td>4</td>\n",
       "      <td>4</td>\n",
       "      <td>4</td>\n",
       "      <td>0</td>\n",
       "      <td>4</td>\n",
       "      <td>-1</td>\n",
       "      <td>-5</td>\n",
       "      <td>-1</td>\n",
       "      <td>-1</td>\n",
       "      <td>-5</td>\n",
       "      <td>4</td>\n",
       "      <td>edgeCount</td>\n",
       "    </tr>\n",
       "    <tr>\n",
       "      <th>4</th>\n",
       "      <td>995</td>\n",
       "      <td>25</td>\n",
       "      <td>56</td>\n",
       "      <td>graphml/AttMpls.graphml</td>\n",
       "      <td>2</td>\n",
       "      <td>1</td>\n",
       "      <td>clustered</td>\n",
       "      <td>0.6;-0.3</td>\n",
       "      <td>-1</td>\n",
       "      <td>-1</td>\n",
       "      <td>5</td>\n",
       "      <td>-6</td>\n",
       "      <td>6</td>\n",
       "      <td>-1</td>\n",
       "      <td>-6</td>\n",
       "      <td>-1</td>\n",
       "      <td>-1</td>\n",
       "      <td>-6</td>\n",
       "      <td>6</td>\n",
       "      <td>edgeCount</td>\n",
       "    </tr>\n",
       "  </tbody>\n",
       "</table>\n",
       "</div>"
      ],
      "text/plain": [
       "    rep  nrNodes  nrEdges                 edgeProb  nrPaths  nrFails  \\\n",
       "0  1000       25       56  graphml/AttMpls.graphml        4        3   \n",
       "1   999       25       56  graphml/AttMpls.graphml        5        4   \n",
       "2   998       25       56  graphml/AttMpls.graphml        2        1   \n",
       "3   996       25       56  graphml/AttMpls.graphml        2        1   \n",
       "4   995       25       56  graphml/AttMpls.graphml        2        1   \n",
       "\n",
       "  failureModel failurePercent  hopsRanked  hopsUnranked  spLength  \\\n",
       "0    clustered       0.6;-0.3           3             9         3   \n",
       "1    clustered       0.6;-0.3           6             2         2   \n",
       "2    clustered       0.6;-0.3           4             3         3   \n",
       "3    clustered       0.6;-0.3           4             4         4   \n",
       "4    clustered       0.6;-0.3          -1            -1         5   \n",
       "\n",
       "   stretch_mult  nodeAdditions  hopsPath  stretch_path  hopsRankedOne  \\\n",
       "0             0              0         5             2              3   \n",
       "1             4              2         2             0             10   \n",
       "2             1              0         3             0              3   \n",
       "3             0              4        -1            -5             -1   \n",
       "4            -6              6        -1            -6             -1   \n",
       "\n",
       "   hopsUnrankedOne  stretch_one  overallNodeAdditionsOne treeChoice  \n",
       "0                5            0                        0  edgeCount  \n",
       "1               10            8                        2  edgeCount  \n",
       "2                3            0                        0  edgeCount  \n",
       "3               -1           -5                        4  edgeCount  \n",
       "4               -1           -6                        6  edgeCount  "
      ]
     },
     "metadata": {},
     "output_type": "display_data"
    },
    {
     "name": "stdout",
     "output_type": "stream",
     "text": [
      "Resilience Paths: 64.16382252559727%\n",
      "Resilience One Tree: 76.3367463026166%\n",
      "Resilience Trees: 88.39590443686008%\n"
     ]
    },
    {
     "data": {
      "image/png": "[encoded data removed]",
      "text/plain": [
       "<Figure size 432x288 with 1 Axes>"
      ]
     },
     "metadata": {
      "needs_background": "light"
     },
     "output_type": "display_data"
    },
    {
     "name": "stdout",
     "output_type": "stream",
     "text": [
      "Trees beat paths in 143 runs\n",
      "Paths beat trees in 155 runs\n",
      "Both performed equally good in 266 runs\n"
     ]
    },
    {
     "data": {
      "image/png": "[encoded data removed]",
      "text/plain": [
       "<Figure size 432x288 with 1 Axes>"
      ]
     },
     "metadata": {
      "needs_background": "light"
     },
     "output_type": "display_data"
    },
    {
     "name": "stdout",
     "output_type": "stream",
     "text": [
      "One Tree beat paths in 100 runs\n",
      "Paths beat one tree in 114 runs\n",
      "Both performed equally good in 350 runs\n"
     ]
    },
    {
     "data": {
      "image/png": "[encoded data removed]",
      "text/plain": [
       "<Figure size 432x288 with 1 Axes>"
      ]
     },
     "metadata": {
      "needs_background": "light"
     },
     "output_type": "display_data"
    },
    {
     "name": "stdout",
     "output_type": "stream",
     "text": [
      "Multiple Trees beat One Tree in 215 runs\n",
      "One Tree beat  multiple trees in 194 runs\n",
      "Both performed equally good in 254 runs\n"
     ]
    },
    {
     "data": {
      "image/png": "[encoded data removed]",
      "text/plain": [
       "<Figure size 432x288 with 1 Axes>"
      ]
     },
     "metadata": {
      "needs_background": "light"
     },
     "output_type": "display_data"
    },
    {
     "name": "stdout",
     "output_type": "stream",
     "text": [
      "Ranked Trees beat Unranked Tree in 239 runs\n",
      "Unranked Tree beat ranked trees in 210 runs\n",
      "Both performed equally good in 328 runs\n"
     ]
    }
   ],
   "source": [
    "allInOne('CSVs/trees-2021-08-08_13-33-06-n25.csv')\n"
   ]
  },
  {
   "cell_type": "markdown",
   "metadata": {},
   "source": [
    "### Reverse=False"
   ]
  },
  {
   "cell_type": "code",
   "execution_count": 9,
   "metadata": {},
   "outputs": [
    {
     "data": {
      "text/html": [
       "<div>\n",
       "<style scoped>\n",
       "    .dataframe tbody tr th:only-of-type {\n",
       "        vertical-align: middle;\n",
       "    }\n",
       "\n",
       "    .dataframe tbody tr th {\n",
       "        vertical-align: top;\n",
       "    }\n",
       "\n",
       "    .dataframe thead th {\n",
       "        text-align: right;\n",
       "    }\n",
       "</style>\n",
       "<table border=\"1\" class=\"dataframe\">\n",
       "  <thead>\n",
       "    <tr style=\"text-align: right;\">\n",
       "      <th></th>\n",
       "      <th>rep</th>\n",
       "      <th>nrNodes</th>\n",
       "      <th>nrEdges</th>\n",
       "      <th>edgeProb</th>\n",
       "      <th>nrPaths</th>\n",
       "      <th>nrFails</th>\n",
       "      <th>failureModel</th>\n",
       "      <th>failurePercent</th>\n",
       "      <th>hopsRanked</th>\n",
       "      <th>hopsUnranked</th>\n",
       "      <th>spLength</th>\n",
       "      <th>stretch_mult</th>\n",
       "      <th>nodeAdditions</th>\n",
       "      <th>hopsPath</th>\n",
       "      <th>stretch_path</th>\n",
       "      <th>hopsRankedOne</th>\n",
       "      <th>hopsUnrankedOne</th>\n",
       "      <th>stretch_one</th>\n",
       "      <th>overallNodeAdditionsOne</th>\n",
       "      <th>treeChoice</th>\n",
       "    </tr>\n",
       "  </thead>\n",
       "  <tbody>\n",
       "    <tr>\n",
       "      <th>0</th>\n",
       "      <td>1000</td>\n",
       "      <td>25</td>\n",
       "      <td>56</td>\n",
       "      <td>graphml/AttMpls.graphml</td>\n",
       "      <td>3</td>\n",
       "      <td>2</td>\n",
       "      <td>clustered</td>\n",
       "      <td>0.6;-0.3</td>\n",
       "      <td>7</td>\n",
       "      <td>7</td>\n",
       "      <td>4</td>\n",
       "      <td>3</td>\n",
       "      <td>0</td>\n",
       "      <td>-1</td>\n",
       "      <td>-5</td>\n",
       "      <td>-1</td>\n",
       "      <td>-1</td>\n",
       "      <td>-5</td>\n",
       "      <td>0</td>\n",
       "      <td>edgeCount</td>\n",
       "    </tr>\n",
       "    <tr>\n",
       "      <th>1</th>\n",
       "      <td>999</td>\n",
       "      <td>25</td>\n",
       "      <td>56</td>\n",
       "      <td>graphml/AttMpls.graphml</td>\n",
       "      <td>4</td>\n",
       "      <td>3</td>\n",
       "      <td>clustered</td>\n",
       "      <td>0.6;-0.3</td>\n",
       "      <td>3</td>\n",
       "      <td>7</td>\n",
       "      <td>2</td>\n",
       "      <td>1</td>\n",
       "      <td>0</td>\n",
       "      <td>5</td>\n",
       "      <td>3</td>\n",
       "      <td>3</td>\n",
       "      <td>7</td>\n",
       "      <td>1</td>\n",
       "      <td>0</td>\n",
       "      <td>edgeCount</td>\n",
       "    </tr>\n",
       "    <tr>\n",
       "      <th>2</th>\n",
       "      <td>998</td>\n",
       "      <td>25</td>\n",
       "      <td>56</td>\n",
       "      <td>graphml/AttMpls.graphml</td>\n",
       "      <td>3</td>\n",
       "      <td>2</td>\n",
       "      <td>clustered</td>\n",
       "      <td>0.6;-0.3</td>\n",
       "      <td>15</td>\n",
       "      <td>17</td>\n",
       "      <td>5</td>\n",
       "      <td>10</td>\n",
       "      <td>4</td>\n",
       "      <td>-1</td>\n",
       "      <td>-6</td>\n",
       "      <td>-1</td>\n",
       "      <td>-1</td>\n",
       "      <td>-6</td>\n",
       "      <td>2</td>\n",
       "      <td>edgeCount</td>\n",
       "    </tr>\n",
       "    <tr>\n",
       "      <th>3</th>\n",
       "      <td>997</td>\n",
       "      <td>25</td>\n",
       "      <td>56</td>\n",
       "      <td>graphml/AttMpls.graphml</td>\n",
       "      <td>3</td>\n",
       "      <td>2</td>\n",
       "      <td>clustered</td>\n",
       "      <td>0.6;-0.3</td>\n",
       "      <td>14</td>\n",
       "      <td>13</td>\n",
       "      <td>3</td>\n",
       "      <td>11</td>\n",
       "      <td>0</td>\n",
       "      <td>6</td>\n",
       "      <td>3</td>\n",
       "      <td>10</td>\n",
       "      <td>10</td>\n",
       "      <td>7</td>\n",
       "      <td>0</td>\n",
       "      <td>edgeCount</td>\n",
       "    </tr>\n",
       "    <tr>\n",
       "      <th>4</th>\n",
       "      <td>996</td>\n",
       "      <td>25</td>\n",
       "      <td>56</td>\n",
       "      <td>graphml/AttMpls.graphml</td>\n",
       "      <td>2</td>\n",
       "      <td>1</td>\n",
       "      <td>clustered</td>\n",
       "      <td>0.6;-0.3</td>\n",
       "      <td>17</td>\n",
       "      <td>25</td>\n",
       "      <td>5</td>\n",
       "      <td>12</td>\n",
       "      <td>0</td>\n",
       "      <td>11</td>\n",
       "      <td>6</td>\n",
       "      <td>11</td>\n",
       "      <td>11</td>\n",
       "      <td>6</td>\n",
       "      <td>0</td>\n",
       "      <td>edgeCount</td>\n",
       "    </tr>\n",
       "  </tbody>\n",
       "</table>\n",
       "</div>"
      ],
      "text/plain": [
       "    rep  nrNodes  nrEdges                 edgeProb  nrPaths  nrFails  \\\n",
       "0  1000       25       56  graphml/AttMpls.graphml        3        2   \n",
       "1   999       25       56  graphml/AttMpls.graphml        4        3   \n",
       "2   998       25       56  graphml/AttMpls.graphml        3        2   \n",
       "3   997       25       56  graphml/AttMpls.graphml        3        2   \n",
       "4   996       25       56  graphml/AttMpls.graphml        2        1   \n",
       "\n",
       "  failureModel failurePercent  hopsRanked  hopsUnranked  spLength  \\\n",
       "0    clustered       0.6;-0.3           7             7         4   \n",
       "1    clustered       0.6;-0.3           3             7         2   \n",
       "2    clustered       0.6;-0.3          15            17         5   \n",
       "3    clustered       0.6;-0.3          14            13         3   \n",
       "4    clustered       0.6;-0.3          17            25         5   \n",
       "\n",
       "   stretch_mult  nodeAdditions  hopsPath  stretch_path  hopsRankedOne  \\\n",
       "0             3              0        -1            -5             -1   \n",
       "1             1              0         5             3              3   \n",
       "2            10              4        -1            -6             -1   \n",
       "3            11              0         6             3             10   \n",
       "4            12              0        11             6             11   \n",
       "\n",
       "   hopsUnrankedOne  stretch_one  overallNodeAdditionsOne treeChoice  \n",
       "0               -1           -5                        0  edgeCount  \n",
       "1                7            1                        0  edgeCount  \n",
       "2               -1           -6                        2  edgeCount  \n",
       "3               10            7                        0  edgeCount  \n",
       "4               11            6                        0  edgeCount  "
      ]
     },
     "metadata": {},
     "output_type": "display_data"
    },
    {
     "name": "stdout",
     "output_type": "stream",
     "text": [
      "Resilience Paths: 63.93063583815029%\n",
      "Resilience One Tree: 78.61271676300578%\n",
      "Resilience Trees: 90.98265895953757%\n"
     ]
    },
    {
     "data": {
      "image/png": "[encoded data removed]",
      "text/plain": [
       "<Figure size 432x288 with 1 Axes>"
      ]
     },
     "metadata": {
      "needs_background": "light"
     },
     "output_type": "display_data"
    },
    {
     "name": "stdout",
     "output_type": "stream",
     "text": [
      "Trees beat paths in 125 runs\n",
      "Paths beat trees in 154 runs\n",
      "Both performed equally good in 274 runs\n"
     ]
    },
    {
     "data": {
      "image/png": "[encoded data removed]",
      "text/plain": [
       "<Figure size 432x288 with 1 Axes>"
      ]
     },
     "metadata": {
      "needs_background": "light"
     },
     "output_type": "display_data"
    },
    {
     "name": "stdout",
     "output_type": "stream",
     "text": [
      "One Tree beat paths in 70 runs\n",
      "Paths beat one tree in 81 runs\n",
      "Both performed equally good in 402 runs\n"
     ]
    },
    {
     "data": {
      "image/png": "[encoded data removed]",
      "text/plain": [
       "<Figure size 432x288 with 1 Axes>"
      ]
     },
     "metadata": {
      "needs_background": "light"
     },
     "output_type": "display_data"
    },
    {
     "name": "stdout",
     "output_type": "stream",
     "text": [
      "Multiple Trees beat One Tree in 185 runs\n",
      "One Tree beat  multiple trees in 160 runs\n",
      "Both performed equally good in 327 runs\n"
     ]
    },
    {
     "data": {
      "image/png": "[encoded data removed]",
      "text/plain": [
       "<Figure size 432x288 with 1 Axes>"
      ]
     },
     "metadata": {
      "needs_background": "light"
     },
     "output_type": "display_data"
    },
    {
     "name": "stdout",
     "output_type": "stream",
     "text": [
      "Ranked Trees beat Unranked Tree in 232 runs\n",
      "Unranked Tree beat ranked trees in 210 runs\n",
      "Both performed equally good in 345 runs\n"
     ]
    }
   ],
   "source": [
    "allInOne('CSVs/trees-2021-08-08_14-32-46-n25.csv')\n",
    "\n"
   ]
  },
  {
   "cell_type": "code",
   "execution_count": 10,
   "metadata": {},
   "outputs": [
    {
     "data": {
      "text/html": [
       "<div>\n",
       "<style scoped>\n",
       "    .dataframe tbody tr th:only-of-type {\n",
       "        vertical-align: middle;\n",
       "    }\n",
       "\n",
       "    .dataframe tbody tr th {\n",
       "        vertical-align: top;\n",
       "    }\n",
       "\n",
       "    .dataframe thead th {\n",
       "        text-align: right;\n",
       "    }\n",
       "</style>\n",
       "<table border=\"1\" class=\"dataframe\">\n",
       "  <thead>\n",
       "    <tr style=\"text-align: right;\">\n",
       "      <th></th>\n",
       "      <th>rep</th>\n",
       "      <th>nrNodes</th>\n",
       "      <th>nrEdges</th>\n",
       "      <th>edgeProb</th>\n",
       "      <th>nrPaths</th>\n",
       "      <th>nrFails</th>\n",
       "      <th>failureModel</th>\n",
       "      <th>failurePercent</th>\n",
       "      <th>hopsRanked</th>\n",
       "      <th>hopsUnranked</th>\n",
       "      <th>spLength</th>\n",
       "      <th>stretch_mult</th>\n",
       "      <th>nodeAdditions</th>\n",
       "      <th>hopsPath</th>\n",
       "      <th>stretch_path</th>\n",
       "      <th>hopsRankedOne</th>\n",
       "      <th>hopsUnrankedOne</th>\n",
       "      <th>stretch_one</th>\n",
       "      <th>overallNodeAdditionsOne</th>\n",
       "      <th>treeChoice</th>\n",
       "    </tr>\n",
       "  </thead>\n",
       "  <tbody>\n",
       "    <tr>\n",
       "      <th>0</th>\n",
       "      <td>1000</td>\n",
       "      <td>197</td>\n",
       "      <td>243</td>\n",
       "      <td>graphml/Cogentco.graphml</td>\n",
       "      <td>2</td>\n",
       "      <td>1</td>\n",
       "      <td>clustered</td>\n",
       "      <td>0.6;-0.3</td>\n",
       "      <td>18</td>\n",
       "      <td>18</td>\n",
       "      <td>18</td>\n",
       "      <td>0</td>\n",
       "      <td>0</td>\n",
       "      <td>18</td>\n",
       "      <td>0</td>\n",
       "      <td>18</td>\n",
       "      <td>18</td>\n",
       "      <td>0</td>\n",
       "      <td>0</td>\n",
       "      <td>edgeCount</td>\n",
       "    </tr>\n",
       "    <tr>\n",
       "      <th>1</th>\n",
       "      <td>999</td>\n",
       "      <td>197</td>\n",
       "      <td>243</td>\n",
       "      <td>graphml/Cogentco.graphml</td>\n",
       "      <td>2</td>\n",
       "      <td>1</td>\n",
       "      <td>clustered</td>\n",
       "      <td>0.6;-0.3</td>\n",
       "      <td>38</td>\n",
       "      <td>38</td>\n",
       "      <td>17</td>\n",
       "      <td>21</td>\n",
       "      <td>0</td>\n",
       "      <td>38</td>\n",
       "      <td>21</td>\n",
       "      <td>38</td>\n",
       "      <td>38</td>\n",
       "      <td>21</td>\n",
       "      <td>0</td>\n",
       "      <td>edgeCount</td>\n",
       "    </tr>\n",
       "    <tr>\n",
       "      <th>2</th>\n",
       "      <td>998</td>\n",
       "      <td>197</td>\n",
       "      <td>243</td>\n",
       "      <td>graphml/Cogentco.graphml</td>\n",
       "      <td>2</td>\n",
       "      <td>1</td>\n",
       "      <td>clustered</td>\n",
       "      <td>0.6;-0.3</td>\n",
       "      <td>18</td>\n",
       "      <td>18</td>\n",
       "      <td>16</td>\n",
       "      <td>2</td>\n",
       "      <td>0</td>\n",
       "      <td>18</td>\n",
       "      <td>2</td>\n",
       "      <td>18</td>\n",
       "      <td>18</td>\n",
       "      <td>2</td>\n",
       "      <td>0</td>\n",
       "      <td>edgeCount</td>\n",
       "    </tr>\n",
       "    <tr>\n",
       "      <th>3</th>\n",
       "      <td>997</td>\n",
       "      <td>197</td>\n",
       "      <td>243</td>\n",
       "      <td>graphml/Cogentco.graphml</td>\n",
       "      <td>2</td>\n",
       "      <td>1</td>\n",
       "      <td>clustered</td>\n",
       "      <td>0.6;-0.3</td>\n",
       "      <td>4</td>\n",
       "      <td>4</td>\n",
       "      <td>4</td>\n",
       "      <td>0</td>\n",
       "      <td>2</td>\n",
       "      <td>4</td>\n",
       "      <td>0</td>\n",
       "      <td>20</td>\n",
       "      <td>4</td>\n",
       "      <td>16</td>\n",
       "      <td>2</td>\n",
       "      <td>edgeCount</td>\n",
       "    </tr>\n",
       "    <tr>\n",
       "      <th>4</th>\n",
       "      <td>996</td>\n",
       "      <td>197</td>\n",
       "      <td>243</td>\n",
       "      <td>graphml/Cogentco.graphml</td>\n",
       "      <td>1</td>\n",
       "      <td>0</td>\n",
       "      <td>clustered</td>\n",
       "      <td>0.6;-0.3</td>\n",
       "      <td>7</td>\n",
       "      <td>7</td>\n",
       "      <td>7</td>\n",
       "      <td>0</td>\n",
       "      <td>0</td>\n",
       "      <td>7</td>\n",
       "      <td>0</td>\n",
       "      <td>7</td>\n",
       "      <td>7</td>\n",
       "      <td>0</td>\n",
       "      <td>0</td>\n",
       "      <td>edgeCount</td>\n",
       "    </tr>\n",
       "  </tbody>\n",
       "</table>\n",
       "</div>"
      ],
      "text/plain": [
       "    rep  nrNodes  nrEdges                  edgeProb  nrPaths  nrFails  \\\n",
       "0  1000      197      243  graphml/Cogentco.graphml        2        1   \n",
       "1   999      197      243  graphml/Cogentco.graphml        2        1   \n",
       "2   998      197      243  graphml/Cogentco.graphml        2        1   \n",
       "3   997      197      243  graphml/Cogentco.graphml        2        1   \n",
       "4   996      197      243  graphml/Cogentco.graphml        1        0   \n",
       "\n",
       "  failureModel failurePercent  hopsRanked  hopsUnranked  spLength  \\\n",
       "0    clustered       0.6;-0.3          18            18        18   \n",
       "1    clustered       0.6;-0.3          38            38        17   \n",
       "2    clustered       0.6;-0.3          18            18        16   \n",
       "3    clustered       0.6;-0.3           4             4         4   \n",
       "4    clustered       0.6;-0.3           7             7         7   \n",
       "\n",
       "   stretch_mult  nodeAdditions  hopsPath  stretch_path  hopsRankedOne  \\\n",
       "0             0              0        18             0             18   \n",
       "1            21              0        38            21             38   \n",
       "2             2              0        18             2             18   \n",
       "3             0              2         4             0             20   \n",
       "4             0              0         7             0              7   \n",
       "\n",
       "   hopsUnrankedOne  stretch_one  overallNodeAdditionsOne treeChoice  \n",
       "0               18            0                        0  edgeCount  \n",
       "1               38           21                        0  edgeCount  \n",
       "2               18            2                        0  edgeCount  \n",
       "3                4           16                        2  edgeCount  \n",
       "4                7            0                        0  edgeCount  "
      ]
     },
     "metadata": {},
     "output_type": "display_data"
    },
    {
     "name": "stdout",
     "output_type": "stream",
     "text": [
      "Resilience Paths: 73.11977715877437%\n",
      "Resilience One Tree: 88.3008356545961%\n",
      "Resilience Trees: 93.03621169916435%\n"
     ]
    },
    {
     "data": {
      "image/png": "[encoded data removed]",
      "text/plain": [
       "<Figure size 432x288 with 1 Axes>"
      ]
     },
     "metadata": {
      "needs_background": "light"
     },
     "output_type": "display_data"
    },
    {
     "name": "stdout",
     "output_type": "stream",
     "text": [
      "Trees beat paths in 11 runs\n",
      "Paths beat trees in 40 runs\n",
      "Both performed equally good in 474 runs\n"
     ]
    },
    {
     "data": {
      "image/png": "[encoded data removed]",
      "text/plain": [
       "<Figure size 432x288 with 1 Axes>"
      ]
     },
     "metadata": {
      "needs_background": "light"
     },
     "output_type": "display_data"
    },
    {
     "name": "stdout",
     "output_type": "stream",
     "text": [
      "One Tree beat paths in 31 runs\n",
      "Paths beat one tree in 36 runs\n",
      "Both performed equally good in 458 runs\n"
     ]
    },
    {
     "data": {
      "image/png": "[encoded data removed]",
      "text/plain": [
       "<Figure size 432x288 with 1 Axes>"
      ]
     },
     "metadata": {
      "needs_background": "light"
     },
     "output_type": "display_data"
    },
    {
     "name": "stdout",
     "output_type": "stream",
     "text": [
      "Multiple Trees beat One Tree in 34 runs\n",
      "One Tree beat  multiple trees in 70 runs\n",
      "Both performed equally good in 528 runs\n"
     ]
    },
    {
     "data": {
      "image/png": "[encoded data removed]",
      "text/plain": [
       "<Figure size 432x288 with 1 Axes>"
      ]
     },
     "metadata": {
      "needs_background": "light"
     },
     "output_type": "display_data"
    },
    {
     "name": "stdout",
     "output_type": "stream",
     "text": [
      "Ranked Trees beat Unranked Tree in 88 runs\n",
      "Unranked Tree beat ranked trees in 84 runs\n",
      "Both performed equally good in 496 runs\n"
     ]
    }
   ],
   "source": [
    "allInOne('CSVs/trees-2021-08-08_14-44-09-n197.csv')\n"
   ]
  },
  {
   "cell_type": "code",
   "execution_count": 11,
   "metadata": {},
   "outputs": [
    {
     "data": {
      "text/html": [
       "<div>\n",
       "<style scoped>\n",
       "    .dataframe tbody tr th:only-of-type {\n",
       "        vertical-align: middle;\n",
       "    }\n",
       "\n",
       "    .dataframe tbody tr th {\n",
       "        vertical-align: top;\n",
       "    }\n",
       "\n",
       "    .dataframe thead th {\n",
       "        text-align: right;\n",
       "    }\n",
       "</style>\n",
       "<table border=\"1\" class=\"dataframe\">\n",
       "  <thead>\n",
       "    <tr style=\"text-align: right;\">\n",
       "      <th></th>\n",
       "      <th>rep</th>\n",
       "      <th>nrNodes</th>\n",
       "      <th>nrEdges</th>\n",
       "      <th>edgeProb</th>\n",
       "      <th>nrPaths</th>\n",
       "      <th>nrFails</th>\n",
       "      <th>failureModel</th>\n",
       "      <th>failurePercent</th>\n",
       "      <th>hopsRanked</th>\n",
       "      <th>hopsUnranked</th>\n",
       "      <th>spLength</th>\n",
       "      <th>stretch_mult</th>\n",
       "      <th>nodeAdditions</th>\n",
       "      <th>hopsPath</th>\n",
       "      <th>stretch_path</th>\n",
       "      <th>hopsRankedOne</th>\n",
       "      <th>hopsUnrankedOne</th>\n",
       "      <th>stretch_one</th>\n",
       "      <th>overallNodeAdditionsOne</th>\n",
       "      <th>treeChoice</th>\n",
       "    </tr>\n",
       "  </thead>\n",
       "  <tbody>\n",
       "    <tr>\n",
       "      <th>0</th>\n",
       "      <td>1000</td>\n",
       "      <td>113</td>\n",
       "      <td>161</td>\n",
       "      <td>graphml/Deltacom.graphml</td>\n",
       "      <td>2</td>\n",
       "      <td>1</td>\n",
       "      <td>clustered</td>\n",
       "      <td>0.6;-0.3</td>\n",
       "      <td>23</td>\n",
       "      <td>23</td>\n",
       "      <td>8</td>\n",
       "      <td>15</td>\n",
       "      <td>4</td>\n",
       "      <td>23</td>\n",
       "      <td>15</td>\n",
       "      <td>9</td>\n",
       "      <td>53</td>\n",
       "      <td>1</td>\n",
       "      <td>4</td>\n",
       "      <td>edgeCount</td>\n",
       "    </tr>\n",
       "    <tr>\n",
       "      <th>1</th>\n",
       "      <td>999</td>\n",
       "      <td>113</td>\n",
       "      <td>161</td>\n",
       "      <td>graphml/Deltacom.graphml</td>\n",
       "      <td>4</td>\n",
       "      <td>3</td>\n",
       "      <td>clustered</td>\n",
       "      <td>0.6;-0.3</td>\n",
       "      <td>24</td>\n",
       "      <td>24</td>\n",
       "      <td>6</td>\n",
       "      <td>18</td>\n",
       "      <td>2</td>\n",
       "      <td>25</td>\n",
       "      <td>19</td>\n",
       "      <td>25</td>\n",
       "      <td>24</td>\n",
       "      <td>19</td>\n",
       "      <td>2</td>\n",
       "      <td>edgeCount</td>\n",
       "    </tr>\n",
       "    <tr>\n",
       "      <th>2</th>\n",
       "      <td>998</td>\n",
       "      <td>113</td>\n",
       "      <td>161</td>\n",
       "      <td>graphml/Deltacom.graphml</td>\n",
       "      <td>1</td>\n",
       "      <td>0</td>\n",
       "      <td>clustered</td>\n",
       "      <td>0.6;-0.3</td>\n",
       "      <td>-1</td>\n",
       "      <td>-1</td>\n",
       "      <td>12</td>\n",
       "      <td>-13</td>\n",
       "      <td>4</td>\n",
       "      <td>-1</td>\n",
       "      <td>-13</td>\n",
       "      <td>-1</td>\n",
       "      <td>-1</td>\n",
       "      <td>-13</td>\n",
       "      <td>4</td>\n",
       "      <td>edgeCount</td>\n",
       "    </tr>\n",
       "    <tr>\n",
       "      <th>3</th>\n",
       "      <td>996</td>\n",
       "      <td>113</td>\n",
       "      <td>161</td>\n",
       "      <td>graphml/Deltacom.graphml</td>\n",
       "      <td>2</td>\n",
       "      <td>1</td>\n",
       "      <td>clustered</td>\n",
       "      <td>0.6;-0.3</td>\n",
       "      <td>16</td>\n",
       "      <td>16</td>\n",
       "      <td>15</td>\n",
       "      <td>1</td>\n",
       "      <td>2</td>\n",
       "      <td>44</td>\n",
       "      <td>29</td>\n",
       "      <td>44</td>\n",
       "      <td>16</td>\n",
       "      <td>29</td>\n",
       "      <td>2</td>\n",
       "      <td>edgeCount</td>\n",
       "    </tr>\n",
       "    <tr>\n",
       "      <th>4</th>\n",
       "      <td>995</td>\n",
       "      <td>113</td>\n",
       "      <td>161</td>\n",
       "      <td>graphml/Deltacom.graphml</td>\n",
       "      <td>2</td>\n",
       "      <td>1</td>\n",
       "      <td>clustered</td>\n",
       "      <td>0.6;-0.3</td>\n",
       "      <td>21</td>\n",
       "      <td>21</td>\n",
       "      <td>8</td>\n",
       "      <td>13</td>\n",
       "      <td>2</td>\n",
       "      <td>21</td>\n",
       "      <td>13</td>\n",
       "      <td>9</td>\n",
       "      <td>49</td>\n",
       "      <td>1</td>\n",
       "      <td>2</td>\n",
       "      <td>edgeCount</td>\n",
       "    </tr>\n",
       "  </tbody>\n",
       "</table>\n",
       "</div>"
      ],
      "text/plain": [
       "    rep  nrNodes  nrEdges                  edgeProb  nrPaths  nrFails  \\\n",
       "0  1000      113      161  graphml/Deltacom.graphml        2        1   \n",
       "1   999      113      161  graphml/Deltacom.graphml        4        3   \n",
       "2   998      113      161  graphml/Deltacom.graphml        1        0   \n",
       "3   996      113      161  graphml/Deltacom.graphml        2        1   \n",
       "4   995      113      161  graphml/Deltacom.graphml        2        1   \n",
       "\n",
       "  failureModel failurePercent  hopsRanked  hopsUnranked  spLength  \\\n",
       "0    clustered       0.6;-0.3          23            23         8   \n",
       "1    clustered       0.6;-0.3          24            24         6   \n",
       "2    clustered       0.6;-0.3          -1            -1        12   \n",
       "3    clustered       0.6;-0.3          16            16        15   \n",
       "4    clustered       0.6;-0.3          21            21         8   \n",
       "\n",
       "   stretch_mult  nodeAdditions  hopsPath  stretch_path  hopsRankedOne  \\\n",
       "0            15              4        23            15              9   \n",
       "1            18              2        25            19             25   \n",
       "2           -13              4        -1           -13             -1   \n",
       "3             1              2        44            29             44   \n",
       "4            13              2        21            13              9   \n",
       "\n",
       "   hopsUnrankedOne  stretch_one  overallNodeAdditionsOne treeChoice  \n",
       "0               53            1                        4  edgeCount  \n",
       "1               24           19                        2  edgeCount  \n",
       "2               -1          -13                        4  edgeCount  \n",
       "3               16           29                        2  edgeCount  \n",
       "4               49            1                        2  edgeCount  "
      ]
     },
     "metadata": {},
     "output_type": "display_data"
    },
    {
     "name": "stdout",
     "output_type": "stream",
     "text": [
      "Resilience Paths: 72.80927835051546%\n",
      "Resilience One Tree: 86.34020618556701%\n",
      "Resilience Trees: 90.33505154639175%\n"
     ]
    },
    {
     "data": {
      "image/png": "[encoded data removed]",
      "text/plain": [
       "<Figure size 432x288 with 1 Axes>"
      ]
     },
     "metadata": {
      "needs_background": "light"
     },
     "output_type": "display_data"
    },
    {
     "name": "stdout",
     "output_type": "stream",
     "text": [
      "Trees beat paths in 36 runs\n",
      "Paths beat trees in 57 runs\n",
      "Both performed equally good in 472 runs\n"
     ]
    },
    {
     "data": {
      "image/png": "[encoded data removed]",
      "text/plain": [
       "<Figure size 432x288 with 1 Axes>"
      ]
     },
     "metadata": {
      "needs_background": "light"
     },
     "output_type": "display_data"
    },
    {
     "name": "stdout",
     "output_type": "stream",
     "text": [
      "One Tree beat paths in 55 runs\n",
      "Paths beat one tree in 51 runs\n",
      "Both performed equally good in 459 runs\n"
     ]
    },
    {
     "data": {
      "image/png": "[encoded data removed]",
      "text/plain": [
       "<Figure size 432x288 with 1 Axes>"
      ]
     },
     "metadata": {
      "needs_background": "light"
     },
     "output_type": "display_data"
    },
    {
     "name": "stdout",
     "output_type": "stream",
     "text": [
      "Multiple Trees beat One Tree in 80 runs\n",
      "One Tree beat  multiple trees in 101 runs\n",
      "Both performed equally good in 485 runs\n"
     ]
    },
    {
     "data": {
      "image/png": "[encoded data removed]",
      "text/plain": [
       "<Figure size 432x288 with 1 Axes>"
      ]
     },
     "metadata": {
      "needs_background": "light"
     },
     "output_type": "display_data"
    },
    {
     "name": "stdout",
     "output_type": "stream",
     "text": [
      "Ranked Trees beat Unranked Tree in 94 runs\n",
      "Unranked Tree beat ranked trees in 95 runs\n",
      "Both performed equally good in 512 runs\n"
     ]
    }
   ],
   "source": [
    "allInOne('CSVs/trees-2021-08-08_14-45-37-n113.csv')\n"
   ]
  },
  {
   "cell_type": "code",
   "execution_count": 12,
   "metadata": {},
   "outputs": [
    {
     "data": {
      "text/html": [
       "<div>\n",
       "<style scoped>\n",
       "    .dataframe tbody tr th:only-of-type {\n",
       "        vertical-align: middle;\n",
       "    }\n",
       "\n",
       "    .dataframe tbody tr th {\n",
       "        vertical-align: top;\n",
       "    }\n",
       "\n",
       "    .dataframe thead th {\n",
       "        text-align: right;\n",
       "    }\n",
       "</style>\n",
       "<table border=\"1\" class=\"dataframe\">\n",
       "  <thead>\n",
       "    <tr style=\"text-align: right;\">\n",
       "      <th></th>\n",
       "      <th>rep</th>\n",
       "      <th>nrNodes</th>\n",
       "      <th>nrEdges</th>\n",
       "      <th>edgeProb</th>\n",
       "      <th>nrPaths</th>\n",
       "      <th>nrFails</th>\n",
       "      <th>failureModel</th>\n",
       "      <th>failurePercent</th>\n",
       "      <th>hopsRanked</th>\n",
       "      <th>hopsUnranked</th>\n",
       "      <th>spLength</th>\n",
       "      <th>stretch_mult</th>\n",
       "      <th>nodeAdditions</th>\n",
       "      <th>hopsPath</th>\n",
       "      <th>stretch_path</th>\n",
       "      <th>hopsRankedOne</th>\n",
       "      <th>hopsUnrankedOne</th>\n",
       "      <th>stretch_one</th>\n",
       "      <th>overallNodeAdditionsOne</th>\n",
       "      <th>treeChoice</th>\n",
       "    </tr>\n",
       "  </thead>\n",
       "  <tbody>\n",
       "    <tr>\n",
       "      <th>0</th>\n",
       "      <td>999</td>\n",
       "      <td>149</td>\n",
       "      <td>193</td>\n",
       "      <td>graphml/GtsCe.graphml</td>\n",
       "      <td>1</td>\n",
       "      <td>0</td>\n",
       "      <td>clustered</td>\n",
       "      <td>0.6;-0.3</td>\n",
       "      <td>13</td>\n",
       "      <td>67</td>\n",
       "      <td>13</td>\n",
       "      <td>0</td>\n",
       "      <td>6</td>\n",
       "      <td>13</td>\n",
       "      <td>0</td>\n",
       "      <td>13</td>\n",
       "      <td>67</td>\n",
       "      <td>0</td>\n",
       "      <td>6</td>\n",
       "      <td>edgeCount</td>\n",
       "    </tr>\n",
       "    <tr>\n",
       "      <th>1</th>\n",
       "      <td>997</td>\n",
       "      <td>149</td>\n",
       "      <td>193</td>\n",
       "      <td>graphml/GtsCe.graphml</td>\n",
       "      <td>2</td>\n",
       "      <td>1</td>\n",
       "      <td>clustered</td>\n",
       "      <td>0.6;-0.3</td>\n",
       "      <td>59</td>\n",
       "      <td>59</td>\n",
       "      <td>15</td>\n",
       "      <td>44</td>\n",
       "      <td>0</td>\n",
       "      <td>59</td>\n",
       "      <td>44</td>\n",
       "      <td>59</td>\n",
       "      <td>59</td>\n",
       "      <td>44</td>\n",
       "      <td>0</td>\n",
       "      <td>edgeCount</td>\n",
       "    </tr>\n",
       "    <tr>\n",
       "      <th>2</th>\n",
       "      <td>996</td>\n",
       "      <td>149</td>\n",
       "      <td>193</td>\n",
       "      <td>graphml/GtsCe.graphml</td>\n",
       "      <td>2</td>\n",
       "      <td>1</td>\n",
       "      <td>clustered</td>\n",
       "      <td>0.6;-0.3</td>\n",
       "      <td>14</td>\n",
       "      <td>14</td>\n",
       "      <td>14</td>\n",
       "      <td>0</td>\n",
       "      <td>0</td>\n",
       "      <td>14</td>\n",
       "      <td>0</td>\n",
       "      <td>14</td>\n",
       "      <td>14</td>\n",
       "      <td>0</td>\n",
       "      <td>0</td>\n",
       "      <td>edgeCount</td>\n",
       "    </tr>\n",
       "    <tr>\n",
       "      <th>3</th>\n",
       "      <td>995</td>\n",
       "      <td>149</td>\n",
       "      <td>193</td>\n",
       "      <td>graphml/GtsCe.graphml</td>\n",
       "      <td>1</td>\n",
       "      <td>0</td>\n",
       "      <td>clustered</td>\n",
       "      <td>0.6;-0.3</td>\n",
       "      <td>3</td>\n",
       "      <td>25</td>\n",
       "      <td>3</td>\n",
       "      <td>0</td>\n",
       "      <td>4</td>\n",
       "      <td>3</td>\n",
       "      <td>0</td>\n",
       "      <td>3</td>\n",
       "      <td>25</td>\n",
       "      <td>0</td>\n",
       "      <td>4</td>\n",
       "      <td>edgeCount</td>\n",
       "    </tr>\n",
       "    <tr>\n",
       "      <th>4</th>\n",
       "      <td>994</td>\n",
       "      <td>149</td>\n",
       "      <td>193</td>\n",
       "      <td>graphml/GtsCe.graphml</td>\n",
       "      <td>2</td>\n",
       "      <td>1</td>\n",
       "      <td>clustered</td>\n",
       "      <td>0.6;-0.3</td>\n",
       "      <td>40</td>\n",
       "      <td>40</td>\n",
       "      <td>15</td>\n",
       "      <td>25</td>\n",
       "      <td>0</td>\n",
       "      <td>40</td>\n",
       "      <td>25</td>\n",
       "      <td>40</td>\n",
       "      <td>40</td>\n",
       "      <td>25</td>\n",
       "      <td>0</td>\n",
       "      <td>edgeCount</td>\n",
       "    </tr>\n",
       "  </tbody>\n",
       "</table>\n",
       "</div>"
      ],
      "text/plain": [
       "   rep  nrNodes  nrEdges               edgeProb  nrPaths  nrFails  \\\n",
       "0  999      149      193  graphml/GtsCe.graphml        1        0   \n",
       "1  997      149      193  graphml/GtsCe.graphml        2        1   \n",
       "2  996      149      193  graphml/GtsCe.graphml        2        1   \n",
       "3  995      149      193  graphml/GtsCe.graphml        1        0   \n",
       "4  994      149      193  graphml/GtsCe.graphml        2        1   \n",
       "\n",
       "  failureModel failurePercent  hopsRanked  hopsUnranked  spLength  \\\n",
       "0    clustered       0.6;-0.3          13            67        13   \n",
       "1    clustered       0.6;-0.3          59            59        15   \n",
       "2    clustered       0.6;-0.3          14            14        14   \n",
       "3    clustered       0.6;-0.3           3            25         3   \n",
       "4    clustered       0.6;-0.3          40            40        15   \n",
       "\n",
       "   stretch_mult  nodeAdditions  hopsPath  stretch_path  hopsRankedOne  \\\n",
       "0             0              6        13             0             13   \n",
       "1            44              0        59            44             59   \n",
       "2             0              0        14             0             14   \n",
       "3             0              4         3             0              3   \n",
       "4            25              0        40            25             40   \n",
       "\n",
       "   hopsUnrankedOne  stretch_one  overallNodeAdditionsOne treeChoice  \n",
       "0               67            0                        6  edgeCount  \n",
       "1               59           44                        0  edgeCount  \n",
       "2               14            0                        0  edgeCount  \n",
       "3               25            0                        4  edgeCount  \n",
       "4               40           25                        0  edgeCount  "
      ]
     },
     "metadata": {},
     "output_type": "display_data"
    },
    {
     "name": "stdout",
     "output_type": "stream",
     "text": [
      "Resilience Paths: 76.99724517906336%\n",
      "Resilience One Tree: 86.63911845730028%\n",
      "Resilience Trees: 91.04683195592287%\n"
     ]
    },
    {
     "data": {
      "image/png": "[encoded data removed]",
      "text/plain": [
       "<Figure size 432x288 with 1 Axes>"
      ]
     },
     "metadata": {
      "needs_background": "light"
     },
     "output_type": "display_data"
    },
    {
     "name": "stdout",
     "output_type": "stream",
     "text": [
      "Trees beat paths in 30 runs\n",
      "Paths beat trees in 45 runs\n",
      "Both performed equally good in 484 runs\n"
     ]
    },
    {
     "data": {
      "image/png": "[encoded data removed]",
      "text/plain": [
       "<Figure size 432x288 with 1 Axes>"
      ]
     },
     "metadata": {
      "needs_background": "light"
     },
     "output_type": "display_data"
    },
    {
     "name": "stdout",
     "output_type": "stream",
     "text": [
      "One Tree beat paths in 41 runs\n",
      "Paths beat one tree in 38 runs\n",
      "Both performed equally good in 480 runs\n"
     ]
    },
    {
     "data": {
      "image/png": "[encoded data removed]",
      "text/plain": [
       "<Figure size 432x288 with 1 Axes>"
      ]
     },
     "metadata": {
      "needs_background": "light"
     },
     "output_type": "display_data"
    },
    {
     "name": "stdout",
     "output_type": "stream",
     "text": [
      "Multiple Trees beat One Tree in 48 runs\n",
      "One Tree beat  multiple trees in 81 runs\n",
      "Both performed equally good in 498 runs\n"
     ]
    },
    {
     "data": {
      "image/png": "[encoded data removed]",
      "text/plain": [
       "<Figure size 432x288 with 1 Axes>"
      ]
     },
     "metadata": {
      "needs_background": "light"
     },
     "output_type": "display_data"
    },
    {
     "name": "stdout",
     "output_type": "stream",
     "text": [
      "Ranked Trees beat Unranked Tree in 82 runs\n",
      "Unranked Tree beat ranked trees in 70 runs\n",
      "Both performed equally good in 509 runs\n"
     ]
    }
   ],
   "source": [
    "allInOne('CSVs/trees-2021-08-08_14-47-03-n149.csv')\n",
    "\n"
   ]
  },
  {
   "cell_type": "code",
   "execution_count": 13,
   "metadata": {},
   "outputs": [
    {
     "data": {
      "text/html": [
       "<div>\n",
       "<style scoped>\n",
       "    .dataframe tbody tr th:only-of-type {\n",
       "        vertical-align: middle;\n",
       "    }\n",
       "\n",
       "    .dataframe tbody tr th {\n",
       "        vertical-align: top;\n",
       "    }\n",
       "\n",
       "    .dataframe thead th {\n",
       "        text-align: right;\n",
       "    }\n",
       "</style>\n",
       "<table border=\"1\" class=\"dataframe\">\n",
       "  <thead>\n",
       "    <tr style=\"text-align: right;\">\n",
       "      <th></th>\n",
       "      <th>rep</th>\n",
       "      <th>nrNodes</th>\n",
       "      <th>nrEdges</th>\n",
       "      <th>edgeProb</th>\n",
       "      <th>nrPaths</th>\n",
       "      <th>nrFails</th>\n",
       "      <th>failureModel</th>\n",
       "      <th>failurePercent</th>\n",
       "      <th>hopsRanked</th>\n",
       "      <th>hopsUnranked</th>\n",
       "      <th>spLength</th>\n",
       "      <th>stretch_mult</th>\n",
       "      <th>nodeAdditions</th>\n",
       "      <th>hopsPath</th>\n",
       "      <th>stretch_path</th>\n",
       "      <th>hopsRankedOne</th>\n",
       "      <th>hopsUnrankedOne</th>\n",
       "      <th>stretch_one</th>\n",
       "      <th>overallNodeAdditionsOne</th>\n",
       "      <th>treeChoice</th>\n",
       "    </tr>\n",
       "  </thead>\n",
       "  <tbody>\n",
       "    <tr>\n",
       "      <th>0</th>\n",
       "      <td>1000</td>\n",
       "      <td>110</td>\n",
       "      <td>148</td>\n",
       "      <td>graphml/Interoute.graphml</td>\n",
       "      <td>2</td>\n",
       "      <td>1</td>\n",
       "      <td>clustered</td>\n",
       "      <td>0.6;-0.3</td>\n",
       "      <td>-1</td>\n",
       "      <td>-1</td>\n",
       "      <td>14</td>\n",
       "      <td>-15</td>\n",
       "      <td>2</td>\n",
       "      <td>-1</td>\n",
       "      <td>-15</td>\n",
       "      <td>-1</td>\n",
       "      <td>-1</td>\n",
       "      <td>-15</td>\n",
       "      <td>2</td>\n",
       "      <td>edgeCount</td>\n",
       "    </tr>\n",
       "    <tr>\n",
       "      <th>1</th>\n",
       "      <td>998</td>\n",
       "      <td>110</td>\n",
       "      <td>148</td>\n",
       "      <td>graphml/Interoute.graphml</td>\n",
       "      <td>3</td>\n",
       "      <td>2</td>\n",
       "      <td>clustered</td>\n",
       "      <td>0.6;-0.3</td>\n",
       "      <td>54</td>\n",
       "      <td>54</td>\n",
       "      <td>11</td>\n",
       "      <td>43</td>\n",
       "      <td>2</td>\n",
       "      <td>54</td>\n",
       "      <td>43</td>\n",
       "      <td>28</td>\n",
       "      <td>62</td>\n",
       "      <td>17</td>\n",
       "      <td>2</td>\n",
       "      <td>edgeCount</td>\n",
       "    </tr>\n",
       "    <tr>\n",
       "      <th>2</th>\n",
       "      <td>997</td>\n",
       "      <td>110</td>\n",
       "      <td>148</td>\n",
       "      <td>graphml/Interoute.graphml</td>\n",
       "      <td>3</td>\n",
       "      <td>2</td>\n",
       "      <td>clustered</td>\n",
       "      <td>0.6;-0.3</td>\n",
       "      <td>38</td>\n",
       "      <td>24</td>\n",
       "      <td>10</td>\n",
       "      <td>28</td>\n",
       "      <td>0</td>\n",
       "      <td>36</td>\n",
       "      <td>26</td>\n",
       "      <td>36</td>\n",
       "      <td>36</td>\n",
       "      <td>26</td>\n",
       "      <td>0</td>\n",
       "      <td>edgeCount</td>\n",
       "    </tr>\n",
       "    <tr>\n",
       "      <th>3</th>\n",
       "      <td>996</td>\n",
       "      <td>110</td>\n",
       "      <td>148</td>\n",
       "      <td>graphml/Interoute.graphml</td>\n",
       "      <td>2</td>\n",
       "      <td>1</td>\n",
       "      <td>clustered</td>\n",
       "      <td>0.6;-0.3</td>\n",
       "      <td>6</td>\n",
       "      <td>6</td>\n",
       "      <td>6</td>\n",
       "      <td>0</td>\n",
       "      <td>2</td>\n",
       "      <td>6</td>\n",
       "      <td>0</td>\n",
       "      <td>6</td>\n",
       "      <td>14</td>\n",
       "      <td>0</td>\n",
       "      <td>2</td>\n",
       "      <td>edgeCount</td>\n",
       "    </tr>\n",
       "    <tr>\n",
       "      <th>4</th>\n",
       "      <td>995</td>\n",
       "      <td>110</td>\n",
       "      <td>148</td>\n",
       "      <td>graphml/Interoute.graphml</td>\n",
       "      <td>2</td>\n",
       "      <td>1</td>\n",
       "      <td>clustered</td>\n",
       "      <td>0.6;-0.3</td>\n",
       "      <td>33</td>\n",
       "      <td>33</td>\n",
       "      <td>13</td>\n",
       "      <td>20</td>\n",
       "      <td>0</td>\n",
       "      <td>33</td>\n",
       "      <td>20</td>\n",
       "      <td>33</td>\n",
       "      <td>33</td>\n",
       "      <td>20</td>\n",
       "      <td>0</td>\n",
       "      <td>edgeCount</td>\n",
       "    </tr>\n",
       "  </tbody>\n",
       "</table>\n",
       "</div>"
      ],
      "text/plain": [
       "    rep  nrNodes  nrEdges                   edgeProb  nrPaths  nrFails  \\\n",
       "0  1000      110      148  graphml/Interoute.graphml        2        1   \n",
       "1   998      110      148  graphml/Interoute.graphml        3        2   \n",
       "2   997      110      148  graphml/Interoute.graphml        3        2   \n",
       "3   996      110      148  graphml/Interoute.graphml        2        1   \n",
       "4   995      110      148  graphml/Interoute.graphml        2        1   \n",
       "\n",
       "  failureModel failurePercent  hopsRanked  hopsUnranked  spLength  \\\n",
       "0    clustered       0.6;-0.3          -1            -1        14   \n",
       "1    clustered       0.6;-0.3          54            54        11   \n",
       "2    clustered       0.6;-0.3          38            24        10   \n",
       "3    clustered       0.6;-0.3           6             6         6   \n",
       "4    clustered       0.6;-0.3          33            33        13   \n",
       "\n",
       "   stretch_mult  nodeAdditions  hopsPath  stretch_path  hopsRankedOne  \\\n",
       "0           -15              2        -1           -15             -1   \n",
       "1            43              2        54            43             28   \n",
       "2            28              0        36            26             36   \n",
       "3             0              2         6             0              6   \n",
       "4            20              0        33            20             33   \n",
       "\n",
       "   hopsUnrankedOne  stretch_one  overallNodeAdditionsOne treeChoice  \n",
       "0               -1          -15                        2  edgeCount  \n",
       "1               62           17                        2  edgeCount  \n",
       "2               36           26                        0  edgeCount  \n",
       "3               14            0                        2  edgeCount  \n",
       "4               33           20                        0  edgeCount  "
      ]
     },
     "metadata": {},
     "output_type": "display_data"
    },
    {
     "name": "stdout",
     "output_type": "stream",
     "text": [
      "Resilience Paths: 73.38709677419355%\n",
      "Resilience One Tree: 84.94623655913979%\n",
      "Resilience Trees: 90.45698924731182%\n"
     ]
    },
    {
     "data": {
      "image/png": "[encoded data removed]",
      "text/plain": [
       "<Figure size 432x288 with 1 Axes>"
      ]
     },
     "metadata": {
      "needs_background": "light"
     },
     "output_type": "display_data"
    },
    {
     "name": "stdout",
     "output_type": "stream",
     "text": [
      "Trees beat paths in 32 runs\n",
      "Paths beat trees in 48 runs\n",
      "Both performed equally good in 466 runs\n"
     ]
    },
    {
     "data": {
      "image/png": "[encoded data removed]",
      "text/plain": [
       "<Figure size 432x288 with 1 Axes>"
      ]
     },
     "metadata": {
      "needs_background": "light"
     },
     "output_type": "display_data"
    },
    {
     "name": "stdout",
     "output_type": "stream",
     "text": [
      "One Tree beat paths in 38 runs\n",
      "Paths beat one tree in 59 runs\n",
      "Both performed equally good in 449 runs\n"
     ]
    },
    {
     "data": {
      "image/png": "[encoded data removed]",
      "text/plain": [
       "<Figure size 432x288 with 1 Axes>"
      ]
     },
     "metadata": {
      "needs_background": "light"
     },
     "output_type": "display_data"
    },
    {
     "name": "stdout",
     "output_type": "stream",
     "text": [
      "Multiple Trees beat One Tree in 76 runs\n",
      "One Tree beat  multiple trees in 92 runs\n",
      "Both performed equally good in 460 runs\n"
     ]
    },
    {
     "data": {
      "image/png": "[encoded data removed]",
      "text/plain": [
       "<Figure size 432x288 with 1 Axes>"
      ]
     },
     "metadata": {
      "needs_background": "light"
     },
     "output_type": "display_data"
    },
    {
     "name": "stdout",
     "output_type": "stream",
     "text": [
      "Ranked Trees beat Unranked Tree in 64 runs\n",
      "Unranked Tree beat ranked trees in 86 runs\n",
      "Both performed equally good in 523 runs\n"
     ]
    }
   ],
   "source": [
    "allInOne('CSVs/trees-2021-08-08_14-48-35-n110.csv')\n",
    "\n"
   ]
  },
  {
   "cell_type": "code",
   "execution_count": 14,
   "metadata": {},
   "outputs": [
    {
     "data": {
      "text/html": [
       "<div>\n",
       "<style scoped>\n",
       "    .dataframe tbody tr th:only-of-type {\n",
       "        vertical-align: middle;\n",
       "    }\n",
       "\n",
       "    .dataframe tbody tr th {\n",
       "        vertical-align: top;\n",
       "    }\n",
       "\n",
       "    .dataframe thead th {\n",
       "        text-align: right;\n",
       "    }\n",
       "</style>\n",
       "<table border=\"1\" class=\"dataframe\">\n",
       "  <thead>\n",
       "    <tr style=\"text-align: right;\">\n",
       "      <th></th>\n",
       "      <th>rep</th>\n",
       "      <th>nrNodes</th>\n",
       "      <th>nrEdges</th>\n",
       "      <th>edgeProb</th>\n",
       "      <th>nrPaths</th>\n",
       "      <th>nrFails</th>\n",
       "      <th>failureModel</th>\n",
       "      <th>failurePercent</th>\n",
       "      <th>hopsRanked</th>\n",
       "      <th>hopsUnranked</th>\n",
       "      <th>spLength</th>\n",
       "      <th>stretch_mult</th>\n",
       "      <th>nodeAdditions</th>\n",
       "      <th>hopsPath</th>\n",
       "      <th>stretch_path</th>\n",
       "      <th>hopsRankedOne</th>\n",
       "      <th>hopsUnrankedOne</th>\n",
       "      <th>stretch_one</th>\n",
       "      <th>overallNodeAdditionsOne</th>\n",
       "      <th>treeChoice</th>\n",
       "    </tr>\n",
       "  </thead>\n",
       "  <tbody>\n",
       "    <tr>\n",
       "      <th>0</th>\n",
       "      <td>998</td>\n",
       "      <td>93</td>\n",
       "      <td>103</td>\n",
       "      <td>graphml/Oteglobe.graphml</td>\n",
       "      <td>1</td>\n",
       "      <td>0</td>\n",
       "      <td>clustered</td>\n",
       "      <td>0.6;-0.3</td>\n",
       "      <td>10</td>\n",
       "      <td>10</td>\n",
       "      <td>10</td>\n",
       "      <td>0</td>\n",
       "      <td>0</td>\n",
       "      <td>10</td>\n",
       "      <td>0</td>\n",
       "      <td>10</td>\n",
       "      <td>10</td>\n",
       "      <td>0</td>\n",
       "      <td>0</td>\n",
       "      <td>edgeCount</td>\n",
       "    </tr>\n",
       "    <tr>\n",
       "      <th>1</th>\n",
       "      <td>997</td>\n",
       "      <td>93</td>\n",
       "      <td>103</td>\n",
       "      <td>graphml/Oteglobe.graphml</td>\n",
       "      <td>2</td>\n",
       "      <td>1</td>\n",
       "      <td>clustered</td>\n",
       "      <td>0.6;-0.3</td>\n",
       "      <td>24</td>\n",
       "      <td>24</td>\n",
       "      <td>10</td>\n",
       "      <td>14</td>\n",
       "      <td>0</td>\n",
       "      <td>-1</td>\n",
       "      <td>-11</td>\n",
       "      <td>-1</td>\n",
       "      <td>-1</td>\n",
       "      <td>-11</td>\n",
       "      <td>0</td>\n",
       "      <td>edgeCount</td>\n",
       "    </tr>\n",
       "    <tr>\n",
       "      <th>2</th>\n",
       "      <td>995</td>\n",
       "      <td>93</td>\n",
       "      <td>103</td>\n",
       "      <td>graphml/Oteglobe.graphml</td>\n",
       "      <td>2</td>\n",
       "      <td>1</td>\n",
       "      <td>clustered</td>\n",
       "      <td>0.6;-0.3</td>\n",
       "      <td>49</td>\n",
       "      <td>33</td>\n",
       "      <td>13</td>\n",
       "      <td>36</td>\n",
       "      <td>4</td>\n",
       "      <td>33</td>\n",
       "      <td>20</td>\n",
       "      <td>33</td>\n",
       "      <td>33</td>\n",
       "      <td>20</td>\n",
       "      <td>4</td>\n",
       "      <td>edgeCount</td>\n",
       "    </tr>\n",
       "    <tr>\n",
       "      <th>3</th>\n",
       "      <td>994</td>\n",
       "      <td>93</td>\n",
       "      <td>103</td>\n",
       "      <td>graphml/Oteglobe.graphml</td>\n",
       "      <td>1</td>\n",
       "      <td>0</td>\n",
       "      <td>clustered</td>\n",
       "      <td>0.6;-0.3</td>\n",
       "      <td>8</td>\n",
       "      <td>12</td>\n",
       "      <td>8</td>\n",
       "      <td>0</td>\n",
       "      <td>6</td>\n",
       "      <td>8</td>\n",
       "      <td>0</td>\n",
       "      <td>8</td>\n",
       "      <td>12</td>\n",
       "      <td>0</td>\n",
       "      <td>6</td>\n",
       "      <td>edgeCount</td>\n",
       "    </tr>\n",
       "    <tr>\n",
       "      <th>4</th>\n",
       "      <td>993</td>\n",
       "      <td>93</td>\n",
       "      <td>103</td>\n",
       "      <td>graphml/Oteglobe.graphml</td>\n",
       "      <td>2</td>\n",
       "      <td>1</td>\n",
       "      <td>clustered</td>\n",
       "      <td>0.6;-0.3</td>\n",
       "      <td>24</td>\n",
       "      <td>24</td>\n",
       "      <td>14</td>\n",
       "      <td>10</td>\n",
       "      <td>0</td>\n",
       "      <td>-1</td>\n",
       "      <td>-15</td>\n",
       "      <td>-1</td>\n",
       "      <td>-1</td>\n",
       "      <td>-15</td>\n",
       "      <td>0</td>\n",
       "      <td>edgeCount</td>\n",
       "    </tr>\n",
       "  </tbody>\n",
       "</table>\n",
       "</div>"
      ],
      "text/plain": [
       "   rep  nrNodes  nrEdges                  edgeProb  nrPaths  nrFails  \\\n",
       "0  998       93      103  graphml/Oteglobe.graphml        1        0   \n",
       "1  997       93      103  graphml/Oteglobe.graphml        2        1   \n",
       "2  995       93      103  graphml/Oteglobe.graphml        2        1   \n",
       "3  994       93      103  graphml/Oteglobe.graphml        1        0   \n",
       "4  993       93      103  graphml/Oteglobe.graphml        2        1   \n",
       "\n",
       "  failureModel failurePercent  hopsRanked  hopsUnranked  spLength  \\\n",
       "0    clustered       0.6;-0.3          10            10        10   \n",
       "1    clustered       0.6;-0.3          24            24        10   \n",
       "2    clustered       0.6;-0.3          49            33        13   \n",
       "3    clustered       0.6;-0.3           8            12         8   \n",
       "4    clustered       0.6;-0.3          24            24        14   \n",
       "\n",
       "   stretch_mult  nodeAdditions  hopsPath  stretch_path  hopsRankedOne  \\\n",
       "0             0              0        10             0             10   \n",
       "1            14              0        -1           -11             -1   \n",
       "2            36              4        33            20             33   \n",
       "3             0              6         8             0              8   \n",
       "4            10              0        -1           -15             -1   \n",
       "\n",
       "   hopsUnrankedOne  stretch_one  overallNodeAdditionsOne treeChoice  \n",
       "0               10            0                        0  edgeCount  \n",
       "1               -1          -11                        0  edgeCount  \n",
       "2               33           20                        4  edgeCount  \n",
       "3               12            0                        6  edgeCount  \n",
       "4               -1          -15                        0  edgeCount  "
      ]
     },
     "metadata": {},
     "output_type": "display_data"
    },
    {
     "name": "stdout",
     "output_type": "stream",
     "text": [
      "Resilience Paths: 71.25506072874494%\n",
      "Resilience One Tree: 84.21052631578947%\n",
      "Resilience Trees: 87.71929824561403%\n"
     ]
    },
    {
     "data": {
      "image/png": "[encoded data removed]",
      "text/plain": [
       "<Figure size 432x288 with 1 Axes>"
      ]
     },
     "metadata": {
      "needs_background": "light"
     },
     "output_type": "display_data"
    },
    {
     "name": "stdout",
     "output_type": "stream",
     "text": [
      "Trees beat paths in 20 runs\n",
      "Paths beat trees in 23 runs\n",
      "Both performed equally good in 485 runs\n"
     ]
    },
    {
     "data": {
      "image/png": "[encoded data removed]",
      "text/plain": [
       "<Figure size 432x288 with 1 Axes>"
      ]
     },
     "metadata": {
      "needs_background": "light"
     },
     "output_type": "display_data"
    },
    {
     "name": "stdout",
     "output_type": "stream",
     "text": [
      "One Tree beat paths in 20 runs\n",
      "Paths beat one tree in 16 runs\n",
      "Both performed equally good in 492 runs\n"
     ]
    },
    {
     "data": {
      "image/png": "[encoded data removed]",
      "text/plain": [
       "<Figure size 432x288 with 1 Axes>"
      ]
     },
     "metadata": {
      "needs_background": "light"
     },
     "output_type": "display_data"
    },
    {
     "name": "stdout",
     "output_type": "stream",
     "text": [
      "Multiple Trees beat One Tree in 20 runs\n",
      "One Tree beat  multiple trees in 32 runs\n",
      "Both performed equally good in 572 runs\n"
     ]
    },
    {
     "data": {
      "image/png": "[encoded data removed]",
      "text/plain": [
       "<Figure size 432x288 with 1 Axes>"
      ]
     },
     "metadata": {
      "needs_background": "light"
     },
     "output_type": "display_data"
    },
    {
     "name": "stdout",
     "output_type": "stream",
     "text": [
      "Ranked Trees beat Unranked Tree in 72 runs\n",
      "Unranked Tree beat ranked trees in 57 runs\n",
      "Both performed equally good in 521 runs\n"
     ]
    }
   ],
   "source": [
    "allInOne('CSVs/trees-2021-08-08_14-50-24-n93.csv')\n"
   ]
  },
  {
   "cell_type": "code",
   "execution_count": 15,
   "metadata": {},
   "outputs": [
    {
     "data": {
      "text/html": [
       "<div>\n",
       "<style scoped>\n",
       "    .dataframe tbody tr th:only-of-type {\n",
       "        vertical-align: middle;\n",
       "    }\n",
       "\n",
       "    .dataframe tbody tr th {\n",
       "        vertical-align: top;\n",
       "    }\n",
       "\n",
       "    .dataframe thead th {\n",
       "        text-align: right;\n",
       "    }\n",
       "</style>\n",
       "<table border=\"1\" class=\"dataframe\">\n",
       "  <thead>\n",
       "    <tr style=\"text-align: right;\">\n",
       "      <th></th>\n",
       "      <th>rep</th>\n",
       "      <th>nrNodes</th>\n",
       "      <th>nrEdges</th>\n",
       "      <th>edgeProb</th>\n",
       "      <th>nrPaths</th>\n",
       "      <th>nrFails</th>\n",
       "      <th>failureModel</th>\n",
       "      <th>failurePercent</th>\n",
       "      <th>hopsRanked</th>\n",
       "      <th>hopsUnranked</th>\n",
       "      <th>spLength</th>\n",
       "      <th>stretch_mult</th>\n",
       "      <th>nodeAdditions</th>\n",
       "      <th>hopsPath</th>\n",
       "      <th>stretch_path</th>\n",
       "      <th>hopsRankedOne</th>\n",
       "      <th>hopsUnrankedOne</th>\n",
       "      <th>stretch_one</th>\n",
       "      <th>overallNodeAdditionsOne</th>\n",
       "      <th>treeChoice</th>\n",
       "    </tr>\n",
       "  </thead>\n",
       "  <tbody>\n",
       "    <tr>\n",
       "      <th>0</th>\n",
       "      <td>1000</td>\n",
       "      <td>113</td>\n",
       "      <td>161</td>\n",
       "      <td>graphml/Deltacom.graphml</td>\n",
       "      <td>2</td>\n",
       "      <td>1</td>\n",
       "      <td>adversarial</td>\n",
       "      <td>0.8</td>\n",
       "      <td>2</td>\n",
       "      <td>2</td>\n",
       "      <td>2</td>\n",
       "      <td>0</td>\n",
       "      <td>0</td>\n",
       "      <td>2</td>\n",
       "      <td>0</td>\n",
       "      <td>2</td>\n",
       "      <td>2</td>\n",
       "      <td>0</td>\n",
       "      <td>0</td>\n",
       "      <td>edgeCount</td>\n",
       "    </tr>\n",
       "    <tr>\n",
       "      <th>1</th>\n",
       "      <td>999</td>\n",
       "      <td>113</td>\n",
       "      <td>161</td>\n",
       "      <td>graphml/Deltacom.graphml</td>\n",
       "      <td>1</td>\n",
       "      <td>0</td>\n",
       "      <td>adversarial</td>\n",
       "      <td>0.8</td>\n",
       "      <td>17</td>\n",
       "      <td>79</td>\n",
       "      <td>17</td>\n",
       "      <td>0</td>\n",
       "      <td>2</td>\n",
       "      <td>17</td>\n",
       "      <td>0</td>\n",
       "      <td>17</td>\n",
       "      <td>79</td>\n",
       "      <td>0</td>\n",
       "      <td>2</td>\n",
       "      <td>edgeCount</td>\n",
       "    </tr>\n",
       "    <tr>\n",
       "      <th>2</th>\n",
       "      <td>998</td>\n",
       "      <td>113</td>\n",
       "      <td>161</td>\n",
       "      <td>graphml/Deltacom.graphml</td>\n",
       "      <td>2</td>\n",
       "      <td>1</td>\n",
       "      <td>adversarial</td>\n",
       "      <td>0.8</td>\n",
       "      <td>6</td>\n",
       "      <td>6</td>\n",
       "      <td>6</td>\n",
       "      <td>0</td>\n",
       "      <td>4</td>\n",
       "      <td>6</td>\n",
       "      <td>0</td>\n",
       "      <td>9</td>\n",
       "      <td>24</td>\n",
       "      <td>3</td>\n",
       "      <td>4</td>\n",
       "      <td>edgeCount</td>\n",
       "    </tr>\n",
       "    <tr>\n",
       "      <th>3</th>\n",
       "      <td>997</td>\n",
       "      <td>113</td>\n",
       "      <td>161</td>\n",
       "      <td>graphml/Deltacom.graphml</td>\n",
       "      <td>3</td>\n",
       "      <td>2</td>\n",
       "      <td>adversarial</td>\n",
       "      <td>0.8</td>\n",
       "      <td>24</td>\n",
       "      <td>24</td>\n",
       "      <td>8</td>\n",
       "      <td>16</td>\n",
       "      <td>0</td>\n",
       "      <td>42</td>\n",
       "      <td>34</td>\n",
       "      <td>24</td>\n",
       "      <td>24</td>\n",
       "      <td>16</td>\n",
       "      <td>0</td>\n",
       "      <td>edgeCount</td>\n",
       "    </tr>\n",
       "    <tr>\n",
       "      <th>4</th>\n",
       "      <td>996</td>\n",
       "      <td>113</td>\n",
       "      <td>161</td>\n",
       "      <td>graphml/Deltacom.graphml</td>\n",
       "      <td>3</td>\n",
       "      <td>2</td>\n",
       "      <td>adversarial</td>\n",
       "      <td>0.8</td>\n",
       "      <td>11</td>\n",
       "      <td>11</td>\n",
       "      <td>11</td>\n",
       "      <td>0</td>\n",
       "      <td>2</td>\n",
       "      <td>11</td>\n",
       "      <td>0</td>\n",
       "      <td>11</td>\n",
       "      <td>11</td>\n",
       "      <td>0</td>\n",
       "      <td>2</td>\n",
       "      <td>edgeCount</td>\n",
       "    </tr>\n",
       "  </tbody>\n",
       "</table>\n",
       "</div>"
      ],
      "text/plain": [
       "    rep  nrNodes  nrEdges                  edgeProb  nrPaths  nrFails  \\\n",
       "0  1000      113      161  graphml/Deltacom.graphml        2        1   \n",
       "1   999      113      161  graphml/Deltacom.graphml        1        0   \n",
       "2   998      113      161  graphml/Deltacom.graphml        2        1   \n",
       "3   997      113      161  graphml/Deltacom.graphml        3        2   \n",
       "4   996      113      161  graphml/Deltacom.graphml        3        2   \n",
       "\n",
       "  failureModel  failurePercent  hopsRanked  hopsUnranked  spLength  \\\n",
       "0  adversarial             0.8           2             2         2   \n",
       "1  adversarial             0.8          17            79        17   \n",
       "2  adversarial             0.8           6             6         6   \n",
       "3  adversarial             0.8          24            24         8   \n",
       "4  adversarial             0.8          11            11        11   \n",
       "\n",
       "   stretch_mult  nodeAdditions  hopsPath  stretch_path  hopsRankedOne  \\\n",
       "0             0              0         2             0              2   \n",
       "1             0              2        17             0             17   \n",
       "2             0              4         6             0              9   \n",
       "3            16              0        42            34             24   \n",
       "4             0              2        11             0             11   \n",
       "\n",
       "   hopsUnrankedOne  stretch_one  overallNodeAdditionsOne treeChoice  \n",
       "0                2            0                        0  edgeCount  \n",
       "1               79            0                        2  edgeCount  \n",
       "2               24            3                        4  edgeCount  \n",
       "3               24           16                        0  edgeCount  \n",
       "4               11            0                        2  edgeCount  "
      ]
     },
     "metadata": {},
     "output_type": "display_data"
    },
    {
     "name": "stdout",
     "output_type": "stream",
     "text": [
      "Resilience Paths: 82.2429906542056%\n",
      "Resilience One Tree: 100.0%\n",
      "Resilience Trees: 100.0%\n"
     ]
    },
    {
     "data": {
      "image/png": "[encoded data removed]",
      "text/plain": [
       "<Figure size 432x288 with 1 Axes>"
      ]
     },
     "metadata": {
      "needs_background": "light"
     },
     "output_type": "display_data"
    },
    {
     "name": "stdout",
     "output_type": "stream",
     "text": [
      "Trees beat paths in 75 runs\n",
      "Paths beat trees in 87 runs\n",
      "Both performed equally good in 630 runs\n"
     ]
    },
    {
     "data": {
      "image/png": "[encoded data removed]",
      "text/plain": [
       "<Figure size 432x288 with 1 Axes>"
      ]
     },
     "metadata": {
      "needs_background": "light"
     },
     "output_type": "display_data"
    },
    {
     "name": "stdout",
     "output_type": "stream",
     "text": [
      "One Tree beat paths in 89 runs\n",
      "Paths beat one tree in 76 runs\n",
      "Both performed equally good in 627 runs\n"
     ]
    },
    {
     "data": {
      "image/png": "[encoded data removed]",
      "text/plain": [
       "<Figure size 432x288 with 1 Axes>"
      ]
     },
     "metadata": {
      "needs_background": "light"
     },
     "output_type": "display_data"
    },
    {
     "name": "stdout",
     "output_type": "stream",
     "text": [
      "Multiple Trees beat One Tree in 135 runs\n",
      "One Tree beat  multiple trees in 182 runs\n",
      "Both performed equally good in 646 runs\n"
     ]
    },
    {
     "data": {
      "image/png": "[encoded data removed]",
      "text/plain": [
       "<Figure size 432x288 with 1 Axes>"
      ]
     },
     "metadata": {
      "needs_background": "light"
     },
     "output_type": "display_data"
    },
    {
     "name": "stdout",
     "output_type": "stream",
     "text": [
      "Ranked Trees beat Unranked Tree in 110 runs\n",
      "Unranked Tree beat ranked trees in 138 runs\n",
      "Both performed equally good in 715 runs\n"
     ]
    }
   ],
   "source": [
    "#adversarial failures 80%\n",
    "allInOne('CSVs/trees-2021-08-08_14-52-48-n113.csv')\n"
   ]
  },
  {
   "cell_type": "code",
   "execution_count": 16,
   "metadata": {},
   "outputs": [
    {
     "data": {
      "text/html": [
       "<div>\n",
       "<style scoped>\n",
       "    .dataframe tbody tr th:only-of-type {\n",
       "        vertical-align: middle;\n",
       "    }\n",
       "\n",
       "    .dataframe tbody tr th {\n",
       "        vertical-align: top;\n",
       "    }\n",
       "\n",
       "    .dataframe thead th {\n",
       "        text-align: right;\n",
       "    }\n",
       "</style>\n",
       "<table border=\"1\" class=\"dataframe\">\n",
       "  <thead>\n",
       "    <tr style=\"text-align: right;\">\n",
       "      <th></th>\n",
       "      <th>rep</th>\n",
       "      <th>nrNodes</th>\n",
       "      <th>nrEdges</th>\n",
       "      <th>edgeProb</th>\n",
       "      <th>nrPaths</th>\n",
       "      <th>nrFails</th>\n",
       "      <th>failureModel</th>\n",
       "      <th>failurePercent</th>\n",
       "      <th>hopsRanked</th>\n",
       "      <th>hopsUnranked</th>\n",
       "      <th>spLength</th>\n",
       "      <th>stretch_mult</th>\n",
       "      <th>nodeAdditions</th>\n",
       "      <th>hopsPath</th>\n",
       "      <th>stretch_path</th>\n",
       "      <th>hopsRankedOne</th>\n",
       "      <th>hopsUnrankedOne</th>\n",
       "      <th>stretch_one</th>\n",
       "      <th>overallNodeAdditionsOne</th>\n",
       "      <th>treeChoice</th>\n",
       "    </tr>\n",
       "  </thead>\n",
       "  <tbody>\n",
       "    <tr>\n",
       "      <th>0</th>\n",
       "      <td>1000</td>\n",
       "      <td>113</td>\n",
       "      <td>161</td>\n",
       "      <td>graphml/Deltacom.graphml</td>\n",
       "      <td>2</td>\n",
       "      <td>1</td>\n",
       "      <td>adversarial</td>\n",
       "      <td>0.95</td>\n",
       "      <td>8</td>\n",
       "      <td>8</td>\n",
       "      <td>8</td>\n",
       "      <td>0</td>\n",
       "      <td>0</td>\n",
       "      <td>8</td>\n",
       "      <td>0</td>\n",
       "      <td>8</td>\n",
       "      <td>8</td>\n",
       "      <td>0</td>\n",
       "      <td>0</td>\n",
       "      <td>edgeCount</td>\n",
       "    </tr>\n",
       "    <tr>\n",
       "      <th>1</th>\n",
       "      <td>999</td>\n",
       "      <td>113</td>\n",
       "      <td>161</td>\n",
       "      <td>graphml/Deltacom.graphml</td>\n",
       "      <td>2</td>\n",
       "      <td>1</td>\n",
       "      <td>adversarial</td>\n",
       "      <td>0.95</td>\n",
       "      <td>27</td>\n",
       "      <td>49</td>\n",
       "      <td>7</td>\n",
       "      <td>20</td>\n",
       "      <td>2</td>\n",
       "      <td>21</td>\n",
       "      <td>14</td>\n",
       "      <td>11</td>\n",
       "      <td>35</td>\n",
       "      <td>4</td>\n",
       "      <td>2</td>\n",
       "      <td>edgeCount</td>\n",
       "    </tr>\n",
       "    <tr>\n",
       "      <th>2</th>\n",
       "      <td>998</td>\n",
       "      <td>113</td>\n",
       "      <td>161</td>\n",
       "      <td>graphml/Deltacom.graphml</td>\n",
       "      <td>2</td>\n",
       "      <td>1</td>\n",
       "      <td>adversarial</td>\n",
       "      <td>0.95</td>\n",
       "      <td>5</td>\n",
       "      <td>5</td>\n",
       "      <td>5</td>\n",
       "      <td>0</td>\n",
       "      <td>0</td>\n",
       "      <td>5</td>\n",
       "      <td>0</td>\n",
       "      <td>5</td>\n",
       "      <td>5</td>\n",
       "      <td>0</td>\n",
       "      <td>0</td>\n",
       "      <td>edgeCount</td>\n",
       "    </tr>\n",
       "    <tr>\n",
       "      <th>3</th>\n",
       "      <td>997</td>\n",
       "      <td>113</td>\n",
       "      <td>161</td>\n",
       "      <td>graphml/Deltacom.graphml</td>\n",
       "      <td>2</td>\n",
       "      <td>1</td>\n",
       "      <td>adversarial</td>\n",
       "      <td>0.95</td>\n",
       "      <td>19</td>\n",
       "      <td>19</td>\n",
       "      <td>7</td>\n",
       "      <td>12</td>\n",
       "      <td>0</td>\n",
       "      <td>15</td>\n",
       "      <td>8</td>\n",
       "      <td>15</td>\n",
       "      <td>15</td>\n",
       "      <td>8</td>\n",
       "      <td>0</td>\n",
       "      <td>edgeCount</td>\n",
       "    </tr>\n",
       "    <tr>\n",
       "      <th>4</th>\n",
       "      <td>996</td>\n",
       "      <td>113</td>\n",
       "      <td>161</td>\n",
       "      <td>graphml/Deltacom.graphml</td>\n",
       "      <td>3</td>\n",
       "      <td>2</td>\n",
       "      <td>adversarial</td>\n",
       "      <td>0.95</td>\n",
       "      <td>8</td>\n",
       "      <td>8</td>\n",
       "      <td>4</td>\n",
       "      <td>4</td>\n",
       "      <td>0</td>\n",
       "      <td>8</td>\n",
       "      <td>4</td>\n",
       "      <td>8</td>\n",
       "      <td>8</td>\n",
       "      <td>4</td>\n",
       "      <td>0</td>\n",
       "      <td>edgeCount</td>\n",
       "    </tr>\n",
       "  </tbody>\n",
       "</table>\n",
       "</div>"
      ],
      "text/plain": [
       "    rep  nrNodes  nrEdges                  edgeProb  nrPaths  nrFails  \\\n",
       "0  1000      113      161  graphml/Deltacom.graphml        2        1   \n",
       "1   999      113      161  graphml/Deltacom.graphml        2        1   \n",
       "2   998      113      161  graphml/Deltacom.graphml        2        1   \n",
       "3   997      113      161  graphml/Deltacom.graphml        2        1   \n",
       "4   996      113      161  graphml/Deltacom.graphml        3        2   \n",
       "\n",
       "  failureModel  failurePercent  hopsRanked  hopsUnranked  spLength  \\\n",
       "0  adversarial            0.95           8             8         8   \n",
       "1  adversarial            0.95          27            49         7   \n",
       "2  adversarial            0.95           5             5         5   \n",
       "3  adversarial            0.95          19            19         7   \n",
       "4  adversarial            0.95           8             8         4   \n",
       "\n",
       "   stretch_mult  nodeAdditions  hopsPath  stretch_path  hopsRankedOne  \\\n",
       "0             0              0         8             0              8   \n",
       "1            20              2        21            14             11   \n",
       "2             0              0         5             0              5   \n",
       "3            12              0        15             8             15   \n",
       "4             4              0         8             4              8   \n",
       "\n",
       "   hopsUnrankedOne  stretch_one  overallNodeAdditionsOne treeChoice  \n",
       "0                8            0                        0  edgeCount  \n",
       "1               35            4                        2  edgeCount  \n",
       "2                5            0                        0  edgeCount  \n",
       "3               15            8                        0  edgeCount  \n",
       "4                8            4                        0  edgeCount  "
      ]
     },
     "metadata": {},
     "output_type": "display_data"
    },
    {
     "name": "stdout",
     "output_type": "stream",
     "text": [
      "Resilience Paths: 82.32271325796505%\n",
      "Resilience One Tree: 100.0%\n",
      "Resilience Trees: 100.0%\n"
     ]
    },
    {
     "data": {
      "image/png": "[encoded data removed]",
      "text/plain": [
       "<Figure size 432x288 with 1 Axes>"
      ]
     },
     "metadata": {
      "needs_background": "light"
     },
     "output_type": "display_data"
    },
    {
     "name": "stdout",
     "output_type": "stream",
     "text": [
      "Trees beat paths in 82 runs\n",
      "Paths beat trees in 121 runs\n",
      "Both performed equally good in 598 runs\n"
     ]
    },
    {
     "data": {
      "image/png": "[encoded data removed]",
      "text/plain": [
       "<Figure size 432x288 with 1 Axes>"
      ]
     },
     "metadata": {
      "needs_background": "light"
     },
     "output_type": "display_data"
    },
    {
     "name": "stdout",
     "output_type": "stream",
     "text": [
      "One Tree beat paths in 98 runs\n",
      "Paths beat one tree in 80 runs\n",
      "Both performed equally good in 623 runs\n"
     ]
    },
    {
     "data": {
      "image/png": "[encoded data removed]",
      "text/plain": [
       "<Figure size 432x288 with 1 Axes>"
      ]
     },
     "metadata": {
      "needs_background": "light"
     },
     "output_type": "display_data"
    },
    {
     "name": "stdout",
     "output_type": "stream",
     "text": [
      "Multiple Trees beat One Tree in 133 runs\n",
      "One Tree beat  multiple trees in 194 runs\n",
      "Both performed equally good in 646 runs\n"
     ]
    },
    {
     "data": {
      "image/png": "[encoded data removed]",
      "text/plain": [
       "<Figure size 432x288 with 1 Axes>"
      ]
     },
     "metadata": {
      "needs_background": "light"
     },
     "output_type": "display_data"
    },
    {
     "name": "stdout",
     "output_type": "stream",
     "text": [
      "Ranked Trees beat Unranked Tree in 139 runs\n",
      "Unranked Tree beat ranked trees in 139 runs\n",
      "Both performed equally good in 695 runs\n"
     ]
    }
   ],
   "source": [
    "#adversarial failures 95%\n",
    "allInOne('CSVs/trees-2021-08-08_14-57-45-n113.csv')\n",
    "\n"
   ]
  },
  {
   "cell_type": "code",
   "execution_count": null,
   "metadata": {},
   "outputs": [],
   "source": []
  }
 ],
 "metadata": {
  "kernelspec": {
   "display_name": "Python 3",
   "language": "python",
   "name": "python3"
  },
  "language_info": {
   "codemirror_mode": {
    "name": "ipython",
    "version": 3
   },
   "file_extension": ".py",
   "mimetype": "text/x-python",
   "name": "python",
   "nbconvert_exporter": "python",
   "pygments_lexer": "ipython3",
   "version": "3.8.6"
  }
 },
 "nbformat": 4,
 "nbformat_minor": 4
}
