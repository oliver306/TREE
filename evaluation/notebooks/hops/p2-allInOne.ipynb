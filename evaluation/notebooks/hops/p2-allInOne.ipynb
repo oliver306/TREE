{
 "cells": [
  {
   "cell_type": "code",
   "execution_count": 75,
   "metadata": {},
   "outputs": [],
   "source": [
    "def allInOne(path):\n",
    "\n",
    "    import pandas as pd\n",
    "    import numpy as np\n",
    "    import matplotlib.pyplot as plt\n",
    "\n",
    "    def filterArraysToShortest(arr1, arr1Pos, arr2, arr2Pos):\n",
    "        both_pos = np.logical_and(arr1Pos, arr2Pos)\n",
    "        arr1Filt = arr1[both_pos] \n",
    "        arr2Filt = arr2[both_pos] \n",
    "    \n",
    "        return arr1Filt, arr2Filt\n",
    "    \n",
    "    df = pd.read_csv(path)\n",
    "    display(df.head(5))\n",
    "    \n",
    "    reps = df['rep'].to_numpy()\n",
    "    hopsRanked = df['hopsRanked'].to_numpy()\n",
    "    hopsUnranked = df['hopsUnranked'].to_numpy()\n",
    "    hopsRankedOne = df['hopsRankedOne'].to_numpy()\n",
    "    hopsPath = df['hopsPath'].to_numpy()\n",
    "\n",
    "    hopsRankedPositive = hopsRanked > -1\n",
    "    hopsUnrankedPositive = hopsUnranked > -1\n",
    "    hopsRankedOnePositive = hopsRankedOne > -1\n",
    "    hopsPathPositive = hopsPath > -1\n",
    "    \n",
    "    total = len(df.index)\n",
    "\n",
    "    print(\"total:\", total)\n",
    "    successesRanked = np.count_nonzero(hopsRanked > -1)\n",
    "    successesRankedOne = np.count_nonzero(hopsRankedOne > -1)\n",
    "    successesUnranked = np.count_nonzero(hopsUnranked > -1)\n",
    "    successesPath = np.count_nonzero(hopsPath > -1)\n",
    "\n",
    "    print(\"Resilience Paths: {}%\".format((successesPath / total) * 100))\n",
    "    print(\"Resilience One Tree: {}%\".format((successesRankedOne / total) * 100))\n",
    "    print(\"Resilience Trees: {}%\".format((successesRanked / total) * 100))\n",
    "    #print(\"Resilience Unranked: {}%\".format((successesUnranked / total) * 100))\n",
    "\n",
    "  \n",
    "    hopsPathFiltered,hopsRankedFiltered = filterArraysToShortest(hopsPath, hopsPathPositive, hopsRanked, hopsRankedPositive)   \n",
    "    \n",
    "    diff = np.subtract(hopsPathFiltered,hopsRankedFiltered)\n",
    "    plt.scatter(np.arange(len(hopsPathFiltered)), diff, color=\"blue\", s=1.5)\n",
    "    plt.show()\n",
    "\n",
    "    higherZero = np.count_nonzero(diff > 0)\n",
    "    lowerZero = np.count_nonzero(diff < 0)\n",
    "    equalZero = np.count_nonzero(diff == 0)\n",
    "\n",
    "    print(\"Trees beat paths in {} runs\".format(higherZero))\n",
    "    print(\"Paths beat trees in {} runs\".format(lowerZero))\n",
    "    print(\"Both performed equally good in {} runs\".format(equalZero))\n",
    "    \n",
    "\n",
    "    hopsPathFiltered,hopsRankedOneFiltered = filterArraysToShortest(hopsPath, hopsPathPositive, hopsRankedOne, hopsRankedOnePositive)   \n",
    "\n",
    "    diff = np.subtract(hopsPathFiltered,hopsRankedOneFiltered)\n",
    "    plt.scatter(np.arange(len(hopsPathFiltered)), diff, color=\"blue\", s=1.5);\n",
    "    plt.show()\n",
    "\n",
    "    higherZero = np.count_nonzero(diff > 0)\n",
    "    lowerZero = np.count_nonzero(diff < 0)\n",
    "    equalZero = np.count_nonzero(diff == 0)\n",
    "\n",
    "    print(\"One Tree beat paths in {} runs\".format(higherZero))\n",
    "    print(\"Paths beat one tree in {} runs\".format(lowerZero))\n",
    "    print(\"Both performed equally good in {} runs\".format(equalZero))\n",
    "\n",
    "\n",
    "\n",
    "\n",
    "    hopsRankedOneFiltered,hopsRankedFiltered = filterArraysToShortest(hopsRankedOne, hopsRankedOnePositive, hopsRanked, hopsRankedPositive)   \n",
    "\n",
    "    diff = np.subtract(hopsRankedOneFiltered,hopsRankedFiltered)\n",
    "    plt.scatter(np.arange(len(hopsRankedFiltered)), diff, color=\"blue\", s=1.5);\n",
    "    plt.show()\n",
    "\n",
    "    higherZero = np.count_nonzero(diff > 0)\n",
    "    lowerZero = np.count_nonzero(diff < 0)\n",
    "    equalZero = np.count_nonzero(diff == 0)\n",
    "\n",
    "    print(\"Multiple Trees beat One Tree in {} runs\".format(higherZero))\n",
    "    print(\"One Tree beat  multiple trees in {} runs\".format(lowerZero))\n",
    "    print(\"Both performed equally good in {} runs\".format(equalZero))\n",
    "\n",
    "\n",
    "\n",
    "\n",
    "    hopsUnrankedFiltered,hopsRankedFiltered = filterArraysToShortest(hopsUnranked, hopsUnrankedPositive, hopsRanked, hopsRankedPositive)   \n",
    "\n",
    "    diff = np.subtract(hopsUnrankedFiltered,hopsRankedFiltered)\n",
    "    plt.scatter(np.arange(len(hopsRankedFiltered)), diff, color=\"blue\", s=1.5);\n",
    "    plt.show()\n",
    "\n",
    "    higherZero = np.count_nonzero(diff > 0)\n",
    "    lowerZero = np.count_nonzero(diff < 0)\n",
    "    equalZero = np.count_nonzero(diff == 0)\n",
    "\n",
    "    print(\"Ranked Trees beat Unranked Tree in {} runs\".format(higherZero))\n",
    "    print(\"Unranked Tree beat ranked trees in {} runs\".format(lowerZero))\n",
    "    print(\"Both performed equally good in {} runs\".format(equalZero))"
   ]
  },
  {
   "cell_type": "markdown",
   "metadata": {},
   "source": [
    "## CLUSTERED, 70%, -30% per hop"
   ]
  },
  {
   "cell_type": "code",
   "execution_count": 76,
   "metadata": {},
   "outputs": [
    {
     "data": {
      "text/html": [
       "<div>\n",
       "<style scoped>\n",
       "    .dataframe tbody tr th:only-of-type {\n",
       "        vertical-align: middle;\n",
       "    }\n",
       "\n",
       "    .dataframe tbody tr th {\n",
       "        vertical-align: top;\n",
       "    }\n",
       "\n",
       "    .dataframe thead th {\n",
       "        text-align: right;\n",
       "    }\n",
       "</style>\n",
       "<table border=\"1\" class=\"dataframe\">\n",
       "  <thead>\n",
       "    <tr style=\"text-align: right;\">\n",
       "      <th></th>\n",
       "      <th>rep</th>\n",
       "      <th>nrNodes</th>\n",
       "      <th>nrEdges</th>\n",
       "      <th>edgeProb</th>\n",
       "      <th>nrPaths</th>\n",
       "      <th>nrFails</th>\n",
       "      <th>failureModel</th>\n",
       "      <th>failurePercent</th>\n",
       "      <th>hopsRanked</th>\n",
       "      <th>hopsUnranked</th>\n",
       "      <th>spLength</th>\n",
       "      <th>stretch</th>\n",
       "      <th>nodeAdditions</th>\n",
       "      <th>hopsPath</th>\n",
       "      <th>hopsRankedOne</th>\n",
       "      <th>hopsUnrankedOne</th>\n",
       "      <th>overallNodeAdditionsOne</th>\n",
       "    </tr>\n",
       "  </thead>\n",
       "  <tbody>\n",
       "    <tr>\n",
       "      <th>0</th>\n",
       "      <td>1000</td>\n",
       "      <td>100</td>\n",
       "      <td>250</td>\n",
       "      <td>0.05</td>\n",
       "      <td>2</td>\n",
       "      <td>1</td>\n",
       "      <td>clustered</td>\n",
       "      <td>-1</td>\n",
       "      <td>2</td>\n",
       "      <td>2</td>\n",
       "      <td>2</td>\n",
       "      <td>0</td>\n",
       "      <td>10</td>\n",
       "      <td>2</td>\n",
       "      <td>2</td>\n",
       "      <td>2</td>\n",
       "      <td>10</td>\n",
       "    </tr>\n",
       "    <tr>\n",
       "      <th>1</th>\n",
       "      <td>999</td>\n",
       "      <td>100</td>\n",
       "      <td>231</td>\n",
       "      <td>0.05</td>\n",
       "      <td>9</td>\n",
       "      <td>8</td>\n",
       "      <td>clustered</td>\n",
       "      <td>-1</td>\n",
       "      <td>7</td>\n",
       "      <td>7</td>\n",
       "      <td>3</td>\n",
       "      <td>4</td>\n",
       "      <td>0</td>\n",
       "      <td>7</td>\n",
       "      <td>7</td>\n",
       "      <td>7</td>\n",
       "      <td>0</td>\n",
       "    </tr>\n",
       "    <tr>\n",
       "      <th>2</th>\n",
       "      <td>998</td>\n",
       "      <td>100</td>\n",
       "      <td>261</td>\n",
       "      <td>0.05</td>\n",
       "      <td>3</td>\n",
       "      <td>2</td>\n",
       "      <td>clustered</td>\n",
       "      <td>-1</td>\n",
       "      <td>7</td>\n",
       "      <td>13</td>\n",
       "      <td>5</td>\n",
       "      <td>2</td>\n",
       "      <td>20</td>\n",
       "      <td>-1</td>\n",
       "      <td>-1</td>\n",
       "      <td>-1</td>\n",
       "      <td>8</td>\n",
       "    </tr>\n",
       "    <tr>\n",
       "      <th>3</th>\n",
       "      <td>997</td>\n",
       "      <td>100</td>\n",
       "      <td>228</td>\n",
       "      <td>0.05</td>\n",
       "      <td>3</td>\n",
       "      <td>2</td>\n",
       "      <td>clustered</td>\n",
       "      <td>-1</td>\n",
       "      <td>-1</td>\n",
       "      <td>-1</td>\n",
       "      <td>5</td>\n",
       "      <td>-6</td>\n",
       "      <td>14</td>\n",
       "      <td>-1</td>\n",
       "      <td>-1</td>\n",
       "      <td>-1</td>\n",
       "      <td>6</td>\n",
       "    </tr>\n",
       "    <tr>\n",
       "      <th>4</th>\n",
       "      <td>995</td>\n",
       "      <td>100</td>\n",
       "      <td>230</td>\n",
       "      <td>0.05</td>\n",
       "      <td>2</td>\n",
       "      <td>1</td>\n",
       "      <td>clustered</td>\n",
       "      <td>-1</td>\n",
       "      <td>12</td>\n",
       "      <td>12</td>\n",
       "      <td>6</td>\n",
       "      <td>6</td>\n",
       "      <td>0</td>\n",
       "      <td>-1</td>\n",
       "      <td>-1</td>\n",
       "      <td>-1</td>\n",
       "      <td>0</td>\n",
       "    </tr>\n",
       "  </tbody>\n",
       "</table>\n",
       "</div>"
      ],
      "text/plain": [
       "    rep  nrNodes  nrEdges  edgeProb  nrPaths  nrFails failureModel  \\\n",
       "0  1000      100      250      0.05        2        1    clustered   \n",
       "1   999      100      231      0.05        9        8    clustered   \n",
       "2   998      100      261      0.05        3        2    clustered   \n",
       "3   997      100      228      0.05        3        2    clustered   \n",
       "4   995      100      230      0.05        2        1    clustered   \n",
       "\n",
       "   failurePercent  hopsRanked  hopsUnranked  spLength  stretch  nodeAdditions  \\\n",
       "0              -1           2             2         2        0             10   \n",
       "1              -1           7             7         3        4              0   \n",
       "2              -1           7            13         5        2             20   \n",
       "3              -1          -1            -1         5       -6             14   \n",
       "4              -1          12            12         6        6              0   \n",
       "\n",
       "   hopsPath  hopsRankedOne  hopsUnrankedOne  overallNodeAdditionsOne  \n",
       "0         2              2                2                       10  \n",
       "1         7              7                7                        0  \n",
       "2        -1             -1               -1                        8  \n",
       "3        -1             -1               -1                        6  \n",
       "4        -1             -1               -1                        0  "
      ]
     },
     "metadata": {},
     "output_type": "display_data"
    },
    {
     "name": "stdout",
     "output_type": "stream",
     "text": [
      "total: 760\n",
      "Resilience Paths: 48.026315789473685%\n",
      "Resilience One Tree: 58.94736842105262%\n",
      "Resilience Trees: 84.47368421052632%\n"
     ]
    },
    {
     "data": {
      "image/png": "[encoded data removed]",
      "text/plain": [
       "<Figure size 432x288 with 1 Axes>"
      ]
     },
     "metadata": {
      "needs_background": "light"
     },
     "output_type": "display_data"
    },
    {
     "name": "stdout",
     "output_type": "stream",
     "text": [
      "Trees beat paths in 62 runs\n",
      "Paths beat trees in 141 runs\n",
      "Both performed equally good in 162 runs\n"
     ]
    },
    {
     "data": {
      "image/png": "[encoded data removed]",
      "text/plain": [
       "<Figure size 432x288 with 1 Axes>"
      ]
     },
     "metadata": {
      "needs_background": "light"
     },
     "output_type": "display_data"
    },
    {
     "name": "stdout",
     "output_type": "stream",
     "text": [
      "One Tree beat paths in 38 runs\n",
      "Paths beat one tree in 40 runs\n",
      "Both performed equally good in 287 runs\n"
     ]
    },
    {
     "data": {
      "image/png": "[encoded data removed]",
      "text/plain": [
       "<Figure size 432x288 with 1 Axes>"
      ]
     },
     "metadata": {
      "needs_background": "light"
     },
     "output_type": "display_data"
    },
    {
     "name": "stdout",
     "output_type": "stream",
     "text": [
      "Multiple Trees beat One Tree in 69 runs\n",
      "One Tree beat  multiple trees in 181 runs\n",
      "Both performed equally good in 196 runs\n"
     ]
    },
    {
     "data": {
      "image/png": "[encoded data removed]",
      "text/plain": [
       "<Figure size 432x288 with 1 Axes>"
      ]
     },
     "metadata": {
      "needs_background": "light"
     },
     "output_type": "display_data"
    },
    {
     "name": "stdout",
     "output_type": "stream",
     "text": [
      "Ranked Trees beat Unranked Tree in 183 runs\n",
      "Unranked Tree beat ranked trees in 128 runs\n",
      "Both performed equally good in 331 runs\n"
     ]
    }
   ],
   "source": [
    "allInOne(\"CSVs/trees-2021-07-25_13-22-50-p0.05-n100.csv\")"
   ]
  },
  {
   "cell_type": "markdown",
   "metadata": {},
   "source": [
    "## CLUSTERED, 50%, -15% per hop"
   ]
  },
  {
   "cell_type": "code",
   "execution_count": 71,
   "metadata": {},
   "outputs": [
    {
     "data": {
      "text/html": [
       "<div>\n",
       "<style scoped>\n",
       "    .dataframe tbody tr th:only-of-type {\n",
       "        vertical-align: middle;\n",
       "    }\n",
       "\n",
       "    .dataframe tbody tr th {\n",
       "        vertical-align: top;\n",
       "    }\n",
       "\n",
       "    .dataframe thead th {\n",
       "        text-align: right;\n",
       "    }\n",
       "</style>\n",
       "<table border=\"1\" class=\"dataframe\">\n",
       "  <thead>\n",
       "    <tr style=\"text-align: right;\">\n",
       "      <th></th>\n",
       "      <th>rep</th>\n",
       "      <th>nrNodes</th>\n",
       "      <th>nrEdges</th>\n",
       "      <th>edgeProb</th>\n",
       "      <th>nrPaths</th>\n",
       "      <th>nrFails</th>\n",
       "      <th>failureModel</th>\n",
       "      <th>failurePercent</th>\n",
       "      <th>hopsRanked</th>\n",
       "      <th>hopsUnranked</th>\n",
       "      <th>spLength</th>\n",
       "      <th>stretch</th>\n",
       "      <th>nodeAdditions</th>\n",
       "      <th>hopsPath</th>\n",
       "      <th>hopsRankedOne</th>\n",
       "      <th>hopsUnrankedOne</th>\n",
       "      <th>overallNodeAdditionsOne</th>\n",
       "    </tr>\n",
       "  </thead>\n",
       "  <tbody>\n",
       "    <tr>\n",
       "      <th>0</th>\n",
       "      <td>999</td>\n",
       "      <td>100</td>\n",
       "      <td>245</td>\n",
       "      <td>0.05</td>\n",
       "      <td>4</td>\n",
       "      <td>3</td>\n",
       "      <td>clustered</td>\n",
       "      <td>0.5;-0.15</td>\n",
       "      <td>3</td>\n",
       "      <td>3</td>\n",
       "      <td>3</td>\n",
       "      <td>0</td>\n",
       "      <td>4</td>\n",
       "      <td>3</td>\n",
       "      <td>3</td>\n",
       "      <td>3</td>\n",
       "      <td>2</td>\n",
       "    </tr>\n",
       "    <tr>\n",
       "      <th>1</th>\n",
       "      <td>997</td>\n",
       "      <td>100</td>\n",
       "      <td>232</td>\n",
       "      <td>0.05</td>\n",
       "      <td>1</td>\n",
       "      <td>0</td>\n",
       "      <td>clustered</td>\n",
       "      <td>0.5;-0.15</td>\n",
       "      <td>16</td>\n",
       "      <td>8</td>\n",
       "      <td>6</td>\n",
       "      <td>10</td>\n",
       "      <td>10</td>\n",
       "      <td>-1</td>\n",
       "      <td>16</td>\n",
       "      <td>8</td>\n",
       "      <td>10</td>\n",
       "    </tr>\n",
       "    <tr>\n",
       "      <th>2</th>\n",
       "      <td>996</td>\n",
       "      <td>100</td>\n",
       "      <td>278</td>\n",
       "      <td>0.05</td>\n",
       "      <td>1</td>\n",
       "      <td>0</td>\n",
       "      <td>clustered</td>\n",
       "      <td>0.5;-0.15</td>\n",
       "      <td>7</td>\n",
       "      <td>7</td>\n",
       "      <td>5</td>\n",
       "      <td>2</td>\n",
       "      <td>4</td>\n",
       "      <td>-1</td>\n",
       "      <td>7</td>\n",
       "      <td>7</td>\n",
       "      <td>4</td>\n",
       "    </tr>\n",
       "    <tr>\n",
       "      <th>3</th>\n",
       "      <td>994</td>\n",
       "      <td>100</td>\n",
       "      <td>231</td>\n",
       "      <td>0.05</td>\n",
       "      <td>8</td>\n",
       "      <td>7</td>\n",
       "      <td>clustered</td>\n",
       "      <td>0.5;-0.15</td>\n",
       "      <td>-1</td>\n",
       "      <td>-1</td>\n",
       "      <td>5</td>\n",
       "      <td>-6</td>\n",
       "      <td>0</td>\n",
       "      <td>-1</td>\n",
       "      <td>-1</td>\n",
       "      <td>-1</td>\n",
       "      <td>0</td>\n",
       "    </tr>\n",
       "    <tr>\n",
       "      <th>4</th>\n",
       "      <td>993</td>\n",
       "      <td>100</td>\n",
       "      <td>256</td>\n",
       "      <td>0.05</td>\n",
       "      <td>3</td>\n",
       "      <td>2</td>\n",
       "      <td>clustered</td>\n",
       "      <td>0.5;-0.15</td>\n",
       "      <td>-1</td>\n",
       "      <td>-1</td>\n",
       "      <td>6</td>\n",
       "      <td>-7</td>\n",
       "      <td>0</td>\n",
       "      <td>-1</td>\n",
       "      <td>-1</td>\n",
       "      <td>-1</td>\n",
       "      <td>0</td>\n",
       "    </tr>\n",
       "  </tbody>\n",
       "</table>\n",
       "</div>"
      ],
      "text/plain": [
       "   rep  nrNodes  nrEdges  edgeProb  nrPaths  nrFails failureModel  \\\n",
       "0  999      100      245      0.05        4        3    clustered   \n",
       "1  997      100      232      0.05        1        0    clustered   \n",
       "2  996      100      278      0.05        1        0    clustered   \n",
       "3  994      100      231      0.05        8        7    clustered   \n",
       "4  993      100      256      0.05        3        2    clustered   \n",
       "\n",
       "  failurePercent  hopsRanked  hopsUnranked  spLength  stretch  nodeAdditions  \\\n",
       "0      0.5;-0.15           3             3         3        0              4   \n",
       "1      0.5;-0.15          16             8         6       10             10   \n",
       "2      0.5;-0.15           7             7         5        2              4   \n",
       "3      0.5;-0.15          -1            -1         5       -6              0   \n",
       "4      0.5;-0.15          -1            -1         6       -7              0   \n",
       "\n",
       "   hopsPath  hopsRankedOne  hopsUnrankedOne  overallNodeAdditionsOne  \n",
       "0         3              3                3                        2  \n",
       "1        -1             16                8                       10  \n",
       "2        -1              7                7                        4  \n",
       "3        -1             -1               -1                        0  \n",
       "4        -1             -1               -1                        0  "
      ]
     },
     "metadata": {},
     "output_type": "display_data"
    },
    {
     "name": "stdout",
     "output_type": "stream",
     "text": [
      "Resilience Paths: 36.90322580645161%\n",
      "Resilience One Tree: 45.16129032258064%\n",
      "Resilience Trees: 64.77419354838709%\n"
     ]
    },
    {
     "data": {
      "image/png": "[encoded data removed]",
      "text/plain": [
       "<Figure size 432x288 with 1 Axes>"
      ]
     },
     "metadata": {
      "needs_background": "light"
     },
     "output_type": "display_data"
    },
    {
     "name": "stdout",
     "output_type": "stream",
     "text": [
      "Trees beat paths in 35 runs\n",
      "Paths beat trees in 98 runs\n",
      "Both performed equally good in 153 runs\n"
     ]
    },
    {
     "data": {
      "image/png": "[encoded data removed]",
      "text/plain": [
       "<Figure size 432x288 with 1 Axes>"
      ]
     },
     "metadata": {
      "needs_background": "light"
     },
     "output_type": "display_data"
    },
    {
     "name": "stdout",
     "output_type": "stream",
     "text": [
      "One Tree beat paths in 21 runs\n",
      "Paths beat one tree in 39 runs\n",
      "Both performed equally good in 226 runs\n"
     ]
    },
    {
     "data": {
      "image/png": "[encoded data removed]",
      "text/plain": [
       "<Figure size 432x288 with 1 Axes>"
      ]
     },
     "metadata": {
      "needs_background": "light"
     },
     "output_type": "display_data"
    },
    {
     "name": "stdout",
     "output_type": "stream",
     "text": [
      "Multiple Trees beat One Tree in 43 runs\n",
      "One Tree beat  multiple trees in 111 runs\n",
      "Both performed equally good in 193 runs\n"
     ]
    },
    {
     "data": {
      "image/png": "[encoded data removed]",
      "text/plain": [
       "<Figure size 432x288 with 1 Axes>"
      ]
     },
     "metadata": {
      "needs_background": "light"
     },
     "output_type": "display_data"
    },
    {
     "name": "stdout",
     "output_type": "stream",
     "text": [
      "Ranked Trees beat Unranked Tree in 131 runs\n",
      "Unranked Tree beat ranked trees in 85 runs\n",
      "Both performed equally good in 286 runs\n"
     ]
    }
   ],
   "source": [
    "allInOne('CSVs/trees-2021-07-25_14-24-23-p0.05-n100.csv')\n"
   ]
  },
  {
   "cell_type": "markdown",
   "metadata": {},
   "source": [
    "## Adversarial failures around D (varying failure rate)"
   ]
  },
  {
   "cell_type": "code",
   "execution_count": 72,
   "metadata": {},
   "outputs": [
    {
     "data": {
      "text/html": [
       "<div>\n",
       "<style scoped>\n",
       "    .dataframe tbody tr th:only-of-type {\n",
       "        vertical-align: middle;\n",
       "    }\n",
       "\n",
       "    .dataframe tbody tr th {\n",
       "        vertical-align: top;\n",
       "    }\n",
       "\n",
       "    .dataframe thead th {\n",
       "        text-align: right;\n",
       "    }\n",
       "</style>\n",
       "<table border=\"1\" class=\"dataframe\">\n",
       "  <thead>\n",
       "    <tr style=\"text-align: right;\">\n",
       "      <th></th>\n",
       "      <th>rep</th>\n",
       "      <th>nrNodes</th>\n",
       "      <th>nrEdges</th>\n",
       "      <th>edgeProb</th>\n",
       "      <th>nrPaths</th>\n",
       "      <th>nrFails</th>\n",
       "      <th>failureModel</th>\n",
       "      <th>failurePercent</th>\n",
       "      <th>hopsRanked</th>\n",
       "      <th>hopsUnranked</th>\n",
       "      <th>spLength</th>\n",
       "      <th>stretch</th>\n",
       "      <th>nodeAdditions</th>\n",
       "      <th>hopsPath</th>\n",
       "      <th>hopsRankedOne</th>\n",
       "      <th>hopsUnrankedOne</th>\n",
       "      <th>overallNodeAdditionsOne</th>\n",
       "    </tr>\n",
       "  </thead>\n",
       "  <tbody>\n",
       "    <tr>\n",
       "      <th>0</th>\n",
       "      <td>1000</td>\n",
       "      <td>100</td>\n",
       "      <td>234</td>\n",
       "      <td>0.05</td>\n",
       "      <td>7</td>\n",
       "      <td>6</td>\n",
       "      <td>adversarial</td>\n",
       "      <td>0.35</td>\n",
       "      <td>7</td>\n",
       "      <td>7</td>\n",
       "      <td>3</td>\n",
       "      <td>4</td>\n",
       "      <td>4</td>\n",
       "      <td>7</td>\n",
       "      <td>7</td>\n",
       "      <td>7</td>\n",
       "      <td>2</td>\n",
       "    </tr>\n",
       "    <tr>\n",
       "      <th>1</th>\n",
       "      <td>999</td>\n",
       "      <td>100</td>\n",
       "      <td>250</td>\n",
       "      <td>0.05</td>\n",
       "      <td>3</td>\n",
       "      <td>2</td>\n",
       "      <td>adversarial</td>\n",
       "      <td>0.67</td>\n",
       "      <td>20</td>\n",
       "      <td>26</td>\n",
       "      <td>4</td>\n",
       "      <td>16</td>\n",
       "      <td>0</td>\n",
       "      <td>15</td>\n",
       "      <td>15</td>\n",
       "      <td>15</td>\n",
       "      <td>0</td>\n",
       "    </tr>\n",
       "    <tr>\n",
       "      <th>2</th>\n",
       "      <td>998</td>\n",
       "      <td>100</td>\n",
       "      <td>250</td>\n",
       "      <td>0.05</td>\n",
       "      <td>4</td>\n",
       "      <td>3</td>\n",
       "      <td>adversarial</td>\n",
       "      <td>0.84</td>\n",
       "      <td>15</td>\n",
       "      <td>15</td>\n",
       "      <td>3</td>\n",
       "      <td>12</td>\n",
       "      <td>0</td>\n",
       "      <td>12</td>\n",
       "      <td>12</td>\n",
       "      <td>12</td>\n",
       "      <td>0</td>\n",
       "    </tr>\n",
       "    <tr>\n",
       "      <th>3</th>\n",
       "      <td>997</td>\n",
       "      <td>100</td>\n",
       "      <td>267</td>\n",
       "      <td>0.05</td>\n",
       "      <td>7</td>\n",
       "      <td>6</td>\n",
       "      <td>adversarial</td>\n",
       "      <td>0.76</td>\n",
       "      <td>9</td>\n",
       "      <td>9</td>\n",
       "      <td>3</td>\n",
       "      <td>6</td>\n",
       "      <td>10</td>\n",
       "      <td>9</td>\n",
       "      <td>9</td>\n",
       "      <td>9</td>\n",
       "      <td>4</td>\n",
       "    </tr>\n",
       "    <tr>\n",
       "      <th>4</th>\n",
       "      <td>996</td>\n",
       "      <td>100</td>\n",
       "      <td>263</td>\n",
       "      <td>0.05</td>\n",
       "      <td>9</td>\n",
       "      <td>8</td>\n",
       "      <td>adversarial</td>\n",
       "      <td>0.69</td>\n",
       "      <td>12</td>\n",
       "      <td>12</td>\n",
       "      <td>4</td>\n",
       "      <td>8</td>\n",
       "      <td>4</td>\n",
       "      <td>12</td>\n",
       "      <td>12</td>\n",
       "      <td>12</td>\n",
       "      <td>2</td>\n",
       "    </tr>\n",
       "  </tbody>\n",
       "</table>\n",
       "</div>"
      ],
      "text/plain": [
       "    rep  nrNodes  nrEdges  edgeProb  nrPaths  nrFails failureModel  \\\n",
       "0  1000      100      234      0.05        7        6  adversarial   \n",
       "1   999      100      250      0.05        3        2  adversarial   \n",
       "2   998      100      250      0.05        4        3  adversarial   \n",
       "3   997      100      267      0.05        7        6  adversarial   \n",
       "4   996      100      263      0.05        9        8  adversarial   \n",
       "\n",
       "   failurePercent  hopsRanked  hopsUnranked  spLength  stretch  nodeAdditions  \\\n",
       "0            0.35           7             7         3        4              4   \n",
       "1            0.67          20            26         4       16              0   \n",
       "2            0.84          15            15         3       12              0   \n",
       "3            0.76           9             9         3        6             10   \n",
       "4            0.69          12            12         4        8              4   \n",
       "\n",
       "   hopsPath  hopsRankedOne  hopsUnrankedOne  overallNodeAdditionsOne  \n",
       "0         7              7                7                        2  \n",
       "1        15             15               15                        0  \n",
       "2        12             12               12                        0  \n",
       "3         9              9                9                        4  \n",
       "4        12             12               12                        2  "
      ]
     },
     "metadata": {},
     "output_type": "display_data"
    },
    {
     "name": "stdout",
     "output_type": "stream",
     "text": [
      "Resilience Paths: 94.28857715430861%\n",
      "Resilience One Tree: 100.0%\n",
      "Resilience Trees: 100.0%\n"
     ]
    },
    {
     "data": {
      "image/png": "[encoded data removed]",
      "text/plain": [
       "<Figure size 432x288 with 1 Axes>"
      ]
     },
     "metadata": {
      "needs_background": "light"
     },
     "output_type": "display_data"
    },
    {
     "name": "stdout",
     "output_type": "stream",
     "text": [
      "Trees beat paths in 162 runs\n",
      "Paths beat trees in 166 runs\n",
      "Both performed equally good in 613 runs\n"
     ]
    },
    {
     "data": {
      "image/png": "[encoded data removed]",
      "text/plain": [
       "<Figure size 432x288 with 1 Axes>"
      ]
     },
     "metadata": {
      "needs_background": "light"
     },
     "output_type": "display_data"
    },
    {
     "name": "stdout",
     "output_type": "stream",
     "text": [
      "One Tree beat paths in 54 runs\n",
      "Paths beat one tree in 68 runs\n",
      "Both performed equally good in 819 runs\n"
     ]
    },
    {
     "data": {
      "image/png": "[encoded data removed]",
      "text/plain": [
       "<Figure size 432x288 with 1 Axes>"
      ]
     },
     "metadata": {
      "needs_background": "light"
     },
     "output_type": "display_data"
    },
    {
     "name": "stdout",
     "output_type": "stream",
     "text": [
      "Multiple Trees beat One Tree in 172 runs\n",
      "One Tree beat  multiple trees in 152 runs\n",
      "Both performed equally good in 674 runs\n"
     ]
    },
    {
     "data": {
      "image/png": "[encoded data removed]",
      "text/plain": [
       "<Figure size 432x288 with 1 Axes>"
      ]
     },
     "metadata": {
      "needs_background": "light"
     },
     "output_type": "display_data"
    },
    {
     "name": "stdout",
     "output_type": "stream",
     "text": [
      "Ranked Trees beat Unranked Tree in 234 runs\n",
      "Unranked Tree beat ranked trees in 120 runs\n",
      "Both performed equally good in 644 runs\n"
     ]
    }
   ],
   "source": [
    "allInOne('CSVs/trees-2021-07-24_19-48-33-p0.05-n100.csv')"
   ]
  },
  {
   "cell_type": "markdown",
   "metadata": {},
   "source": [
    "## Fixed adversarial failure rate 80%"
   ]
  },
  {
   "cell_type": "code",
   "execution_count": 73,
   "metadata": {},
   "outputs": [
    {
     "data": {
      "text/html": [
       "<div>\n",
       "<style scoped>\n",
       "    .dataframe tbody tr th:only-of-type {\n",
       "        vertical-align: middle;\n",
       "    }\n",
       "\n",
       "    .dataframe tbody tr th {\n",
       "        vertical-align: top;\n",
       "    }\n",
       "\n",
       "    .dataframe thead th {\n",
       "        text-align: right;\n",
       "    }\n",
       "</style>\n",
       "<table border=\"1\" class=\"dataframe\">\n",
       "  <thead>\n",
       "    <tr style=\"text-align: right;\">\n",
       "      <th></th>\n",
       "      <th>rep</th>\n",
       "      <th>nrNodes</th>\n",
       "      <th>nrEdges</th>\n",
       "      <th>edgeProb</th>\n",
       "      <th>nrPaths</th>\n",
       "      <th>nrFails</th>\n",
       "      <th>failureModel</th>\n",
       "      <th>failurePercent</th>\n",
       "      <th>hopsRanked</th>\n",
       "      <th>hopsUnranked</th>\n",
       "      <th>spLength</th>\n",
       "      <th>stretch_mult</th>\n",
       "      <th>nodeAdditions</th>\n",
       "      <th>hopsPath</th>\n",
       "      <th>stretch_path</th>\n",
       "      <th>hopsRankedOne</th>\n",
       "      <th>hopsUnrankedOne</th>\n",
       "      <th>stretch_one</th>\n",
       "      <th>overallNodeAdditionsOne</th>\n",
       "    </tr>\n",
       "  </thead>\n",
       "  <tbody>\n",
       "    <tr>\n",
       "      <th>0</th>\n",
       "      <td>1000</td>\n",
       "      <td>100</td>\n",
       "      <td>248</td>\n",
       "      <td>0.05</td>\n",
       "      <td>3</td>\n",
       "      <td>2</td>\n",
       "      <td>adversarial</td>\n",
       "      <td>0.8</td>\n",
       "      <td>15</td>\n",
       "      <td>15</td>\n",
       "      <td>4</td>\n",
       "      <td>11</td>\n",
       "      <td>0</td>\n",
       "      <td>10</td>\n",
       "      <td>6</td>\n",
       "      <td>4</td>\n",
       "      <td>4</td>\n",
       "      <td>0</td>\n",
       "      <td>0</td>\n",
       "    </tr>\n",
       "    <tr>\n",
       "      <th>1</th>\n",
       "      <td>999</td>\n",
       "      <td>100</td>\n",
       "      <td>262</td>\n",
       "      <td>0.05</td>\n",
       "      <td>4</td>\n",
       "      <td>3</td>\n",
       "      <td>adversarial</td>\n",
       "      <td>0.8</td>\n",
       "      <td>29</td>\n",
       "      <td>29</td>\n",
       "      <td>5</td>\n",
       "      <td>24</td>\n",
       "      <td>0</td>\n",
       "      <td>23</td>\n",
       "      <td>18</td>\n",
       "      <td>23</td>\n",
       "      <td>23</td>\n",
       "      <td>18</td>\n",
       "      <td>0</td>\n",
       "    </tr>\n",
       "    <tr>\n",
       "      <th>2</th>\n",
       "      <td>998</td>\n",
       "      <td>100</td>\n",
       "      <td>248</td>\n",
       "      <td>0.05</td>\n",
       "      <td>6</td>\n",
       "      <td>5</td>\n",
       "      <td>adversarial</td>\n",
       "      <td>0.8</td>\n",
       "      <td>5</td>\n",
       "      <td>20</td>\n",
       "      <td>3</td>\n",
       "      <td>2</td>\n",
       "      <td>0</td>\n",
       "      <td>5</td>\n",
       "      <td>2</td>\n",
       "      <td>9</td>\n",
       "      <td>9</td>\n",
       "      <td>6</td>\n",
       "      <td>0</td>\n",
       "    </tr>\n",
       "    <tr>\n",
       "      <th>3</th>\n",
       "      <td>997</td>\n",
       "      <td>100</td>\n",
       "      <td>240</td>\n",
       "      <td>0.05</td>\n",
       "      <td>4</td>\n",
       "      <td>3</td>\n",
       "      <td>adversarial</td>\n",
       "      <td>0.8</td>\n",
       "      <td>12</td>\n",
       "      <td>16</td>\n",
       "      <td>4</td>\n",
       "      <td>8</td>\n",
       "      <td>0</td>\n",
       "      <td>14</td>\n",
       "      <td>10</td>\n",
       "      <td>20</td>\n",
       "      <td>20</td>\n",
       "      <td>16</td>\n",
       "      <td>0</td>\n",
       "    </tr>\n",
       "    <tr>\n",
       "      <th>4</th>\n",
       "      <td>996</td>\n",
       "      <td>100</td>\n",
       "      <td>243</td>\n",
       "      <td>0.05</td>\n",
       "      <td>3</td>\n",
       "      <td>2</td>\n",
       "      <td>adversarial</td>\n",
       "      <td>0.8</td>\n",
       "      <td>8</td>\n",
       "      <td>8</td>\n",
       "      <td>4</td>\n",
       "      <td>4</td>\n",
       "      <td>26</td>\n",
       "      <td>8</td>\n",
       "      <td>4</td>\n",
       "      <td>8</td>\n",
       "      <td>8</td>\n",
       "      <td>4</td>\n",
       "      <td>12</td>\n",
       "    </tr>\n",
       "  </tbody>\n",
       "</table>\n",
       "</div>"
      ],
      "text/plain": [
       "    rep  nrNodes  nrEdges  edgeProb  nrPaths  nrFails failureModel  \\\n",
       "0  1000      100      248      0.05        3        2  adversarial   \n",
       "1   999      100      262      0.05        4        3  adversarial   \n",
       "2   998      100      248      0.05        6        5  adversarial   \n",
       "3   997      100      240      0.05        4        3  adversarial   \n",
       "4   996      100      243      0.05        3        2  adversarial   \n",
       "\n",
       "   failurePercent  hopsRanked  hopsUnranked  spLength  stretch_mult  \\\n",
       "0             0.8          15            15         4            11   \n",
       "1             0.8          29            29         5            24   \n",
       "2             0.8           5            20         3             2   \n",
       "3             0.8          12            16         4             8   \n",
       "4             0.8           8             8         4             4   \n",
       "\n",
       "   nodeAdditions  hopsPath  stretch_path  hopsRankedOne  hopsUnrankedOne  \\\n",
       "0              0        10             6              4                4   \n",
       "1              0        23            18             23               23   \n",
       "2              0         5             2              9                9   \n",
       "3              0        14            10             20               20   \n",
       "4             26         8             4              8                8   \n",
       "\n",
       "   stretch_one  overallNodeAdditionsOne  \n",
       "0            0                        0  \n",
       "1           18                        0  \n",
       "2            6                        0  \n",
       "3           16                        0  \n",
       "4            4                       12  "
      ]
     },
     "metadata": {},
     "output_type": "display_data"
    },
    {
     "name": "stdout",
     "output_type": "stream",
     "text": [
      "Resilience Paths: 88.64321608040201%\n",
      "Resilience One Tree: 100.0%\n",
      "Resilience Trees: 100.0%\n"
     ]
    },
    {
     "data": {
      "image/png": "[encoded data removed]",
      "text/plain": [
       "<Figure size 432x288 with 1 Axes>"
      ]
     },
     "metadata": {
      "needs_background": "light"
     },
     "output_type": "display_data"
    },
    {
     "name": "stdout",
     "output_type": "stream",
     "text": [
      "Trees beat paths in 243 runs\n",
      "Paths beat trees in 262 runs\n",
      "Both performed equally good in 377 runs\n"
     ]
    },
    {
     "data": {
      "image/png": "[encoded data removed]",
      "text/plain": [
       "<Figure size 432x288 with 1 Axes>"
      ]
     },
     "metadata": {
      "needs_background": "light"
     },
     "output_type": "display_data"
    },
    {
     "name": "stdout",
     "output_type": "stream",
     "text": [
      "One Tree beat paths in 81 runs\n",
      "Paths beat one tree in 105 runs\n",
      "Both performed equally good in 696 runs\n"
     ]
    },
    {
     "data": {
      "image/png": "[encoded data removed]",
      "text/plain": [
       "<Figure size 432x288 with 1 Axes>"
      ]
     },
     "metadata": {
      "needs_background": "light"
     },
     "output_type": "display_data"
    },
    {
     "name": "stdout",
     "output_type": "stream",
     "text": [
      "Multiple Trees beat One Tree in 281 runs\n",
      "One Tree beat  multiple trees in 284 runs\n",
      "Both performed equally good in 430 runs\n"
     ]
    },
    {
     "data": {
      "image/png": "[encoded data removed]",
      "text/plain": [
       "<Figure size 432x288 with 1 Axes>"
      ]
     },
     "metadata": {
      "needs_background": "light"
     },
     "output_type": "display_data"
    },
    {
     "name": "stdout",
     "output_type": "stream",
     "text": [
      "Ranked Trees beat Unranked Tree in 223 runs\n",
      "Unranked Tree beat ranked trees in 249 runs\n",
      "Both performed equally good in 523 runs\n"
     ]
    }
   ],
   "source": [
    "allInOne('CSVs/trees-2021-07-25_14-37-35-p0.05-n100.csv')\n"
   ]
  },
  {
   "cell_type": "markdown",
   "metadata": {},
   "source": [
    "## (TODO: Schlecht angebundenes S?)"
   ]
  },
  {
   "cell_type": "code",
   "execution_count": 74,
   "metadata": {},
   "outputs": [
    {
     "data": {
      "text/html": [
       "<div>\n",
       "<style scoped>\n",
       "    .dataframe tbody tr th:only-of-type {\n",
       "        vertical-align: middle;\n",
       "    }\n",
       "\n",
       "    .dataframe tbody tr th {\n",
       "        vertical-align: top;\n",
       "    }\n",
       "\n",
       "    .dataframe thead th {\n",
       "        text-align: right;\n",
       "    }\n",
       "</style>\n",
       "<table border=\"1\" class=\"dataframe\">\n",
       "  <thead>\n",
       "    <tr style=\"text-align: right;\">\n",
       "      <th></th>\n",
       "      <th>rep</th>\n",
       "      <th>nrNodes</th>\n",
       "      <th>nrEdges</th>\n",
       "      <th>edgeProb</th>\n",
       "      <th>nrPaths</th>\n",
       "      <th>nrFails</th>\n",
       "      <th>failureModel</th>\n",
       "      <th>failurePercent</th>\n",
       "      <th>hopsRanked</th>\n",
       "      <th>hopsUnranked</th>\n",
       "      <th>spLength</th>\n",
       "      <th>stretch_mult</th>\n",
       "      <th>nodeAdditions</th>\n",
       "      <th>hopsPath</th>\n",
       "      <th>stretch_path</th>\n",
       "      <th>hopsRankedOne</th>\n",
       "      <th>hopsUnrankedOne</th>\n",
       "      <th>stretch_one</th>\n",
       "      <th>overallNodeAdditionsOne</th>\n",
       "      <th>treeChoice</th>\n",
       "    </tr>\n",
       "  </thead>\n",
       "  <tbody>\n",
       "    <tr>\n",
       "      <th>0</th>\n",
       "      <td>1000</td>\n",
       "      <td>100</td>\n",
       "      <td>240</td>\n",
       "      <td>0.05</td>\n",
       "      <td>7</td>\n",
       "      <td>6</td>\n",
       "      <td>clustered</td>\n",
       "      <td>0.5;-0.15</td>\n",
       "      <td>27</td>\n",
       "      <td>42</td>\n",
       "      <td>5</td>\n",
       "      <td>22</td>\n",
       "      <td>0</td>\n",
       "      <td>23</td>\n",
       "      <td>18</td>\n",
       "      <td>23</td>\n",
       "      <td>23</td>\n",
       "      <td>18</td>\n",
       "      <td>0</td>\n",
       "      <td>shortest</td>\n",
       "    </tr>\n",
       "    <tr>\n",
       "      <th>1</th>\n",
       "      <td>999</td>\n",
       "      <td>100</td>\n",
       "      <td>254</td>\n",
       "      <td>0.05</td>\n",
       "      <td>2</td>\n",
       "      <td>1</td>\n",
       "      <td>clustered</td>\n",
       "      <td>0.5;-0.15</td>\n",
       "      <td>-1</td>\n",
       "      <td>-1</td>\n",
       "      <td>5</td>\n",
       "      <td>-6</td>\n",
       "      <td>26</td>\n",
       "      <td>-1</td>\n",
       "      <td>-6</td>\n",
       "      <td>-1</td>\n",
       "      <td>-1</td>\n",
       "      <td>-6</td>\n",
       "      <td>0</td>\n",
       "      <td>shortest</td>\n",
       "    </tr>\n",
       "    <tr>\n",
       "      <th>2</th>\n",
       "      <td>998</td>\n",
       "      <td>100</td>\n",
       "      <td>226</td>\n",
       "      <td>0.05</td>\n",
       "      <td>4</td>\n",
       "      <td>3</td>\n",
       "      <td>clustered</td>\n",
       "      <td>0.5;-0.15</td>\n",
       "      <td>19</td>\n",
       "      <td>19</td>\n",
       "      <td>5</td>\n",
       "      <td>14</td>\n",
       "      <td>8</td>\n",
       "      <td>-1</td>\n",
       "      <td>-6</td>\n",
       "      <td>-1</td>\n",
       "      <td>-1</td>\n",
       "      <td>-6</td>\n",
       "      <td>0</td>\n",
       "      <td>shortest</td>\n",
       "    </tr>\n",
       "    <tr>\n",
       "      <th>3</th>\n",
       "      <td>995</td>\n",
       "      <td>100</td>\n",
       "      <td>253</td>\n",
       "      <td>0.05</td>\n",
       "      <td>1</td>\n",
       "      <td>0</td>\n",
       "      <td>clustered</td>\n",
       "      <td>0.5;-0.15</td>\n",
       "      <td>-1</td>\n",
       "      <td>-1</td>\n",
       "      <td>8</td>\n",
       "      <td>-9</td>\n",
       "      <td>4</td>\n",
       "      <td>-1</td>\n",
       "      <td>-9</td>\n",
       "      <td>-1</td>\n",
       "      <td>-1</td>\n",
       "      <td>-9</td>\n",
       "      <td>4</td>\n",
       "      <td>shortest</td>\n",
       "    </tr>\n",
       "    <tr>\n",
       "      <th>4</th>\n",
       "      <td>993</td>\n",
       "      <td>100</td>\n",
       "      <td>251</td>\n",
       "      <td>0.05</td>\n",
       "      <td>3</td>\n",
       "      <td>2</td>\n",
       "      <td>clustered</td>\n",
       "      <td>0.5;-0.15</td>\n",
       "      <td>-1</td>\n",
       "      <td>-1</td>\n",
       "      <td>7</td>\n",
       "      <td>-8</td>\n",
       "      <td>6</td>\n",
       "      <td>-1</td>\n",
       "      <td>-8</td>\n",
       "      <td>-1</td>\n",
       "      <td>-1</td>\n",
       "      <td>-8</td>\n",
       "      <td>0</td>\n",
       "      <td>shortest</td>\n",
       "    </tr>\n",
       "  </tbody>\n",
       "</table>\n",
       "</div>"
      ],
      "text/plain": [
       "    rep  nrNodes  nrEdges  edgeProb  nrPaths  nrFails failureModel  \\\n",
       "0  1000      100      240      0.05        7        6    clustered   \n",
       "1   999      100      254      0.05        2        1    clustered   \n",
       "2   998      100      226      0.05        4        3    clustered   \n",
       "3   995      100      253      0.05        1        0    clustered   \n",
       "4   993      100      251      0.05        3        2    clustered   \n",
       "\n",
       "  failurePercent  hopsRanked  hopsUnranked  spLength  stretch_mult  \\\n",
       "0      0.5;-0.15          27            42         5            22   \n",
       "1      0.5;-0.15          -1            -1         5            -6   \n",
       "2      0.5;-0.15          19            19         5            14   \n",
       "3      0.5;-0.15          -1            -1         8            -9   \n",
       "4      0.5;-0.15          -1            -1         7            -8   \n",
       "\n",
       "   nodeAdditions  hopsPath  stretch_path  hopsRankedOne  hopsUnrankedOne  \\\n",
       "0              0        23            18             23               23   \n",
       "1             26        -1            -6             -1               -1   \n",
       "2              8        -1            -6             -1               -1   \n",
       "3              4        -1            -9             -1               -1   \n",
       "4              6        -1            -8             -1               -1   \n",
       "\n",
       "   stretch_one  overallNodeAdditionsOne treeChoice  \n",
       "0           18                        0   shortest  \n",
       "1           -6                        0   shortest  \n",
       "2           -6                        0   shortest  \n",
       "3           -9                        4   shortest  \n",
       "4           -8                        0   shortest  "
      ]
     },
     "metadata": {},
     "output_type": "display_data"
    },
    {
     "name": "stdout",
     "output_type": "stream",
     "text": [
      "Resilience Paths: 39.41411451398136%\n",
      "Resilience One Tree: 40.612516644474034%\n",
      "Resilience Trees: 65.24633821571238%\n"
     ]
    },
    {
     "data": {
      "image/png": "[encoded data removed]",
      "text/plain": [
       "<Figure size 432x288 with 1 Axes>"
      ]
     },
     "metadata": {
      "needs_background": "light"
     },
     "output_type": "display_data"
    },
    {
     "name": "stdout",
     "output_type": "stream",
     "text": [
      "Trees beat paths in 35 runs\n",
      "Paths beat trees in 106 runs\n",
      "Both performed equally good in 155 runs\n"
     ]
    },
    {
     "data": {
      "image/png": "[encoded data removed]",
      "text/plain": [
       "<Figure size 432x288 with 1 Axes>"
      ]
     },
     "metadata": {
      "needs_background": "light"
     },
     "output_type": "display_data"
    },
    {
     "name": "stdout",
     "output_type": "stream",
     "text": [
      "One Tree beat paths in 19 runs\n",
      "Paths beat one tree in 25 runs\n",
      "Both performed equally good in 252 runs\n"
     ]
    },
    {
     "data": {
      "image/png": "[encoded data removed]",
      "text/plain": [
       "<Figure size 432x288 with 1 Axes>"
      ]
     },
     "metadata": {
      "needs_background": "light"
     },
     "output_type": "display_data"
    },
    {
     "name": "stdout",
     "output_type": "stream",
     "text": [
      "Multiple Trees beat One Tree in 36 runs\n",
      "One Tree beat  multiple trees in 100 runs\n",
      "Both performed equally good in 169 runs\n"
     ]
    },
    {
     "data": {
      "image/png": "[encoded data removed]",
      "text/plain": [
       "<Figure size 432x288 with 1 Axes>"
      ]
     },
     "metadata": {
      "needs_background": "light"
     },
     "output_type": "display_data"
    },
    {
     "name": "stdout",
     "output_type": "stream",
     "text": [
      "Ranked Trees beat Unranked Tree in 127 runs\n",
      "Unranked Tree beat ranked trees in 75 runs\n",
      "Both performed equally good in 288 runs\n"
     ]
    }
   ],
   "source": [
    "allInOne('CSVs/trees-2021-08-01_19-33-45-p0.05-n100.csv')\n"
   ]
  },
  {
   "cell_type": "code",
   "execution_count": null,
   "metadata": {},
   "outputs": [],
   "source": []
  }
 ],
 "metadata": {
  "kernelspec": {
   "display_name": "Python 3",
   "language": "python",
   "name": "python3"
  },
  "language_info": {
   "codemirror_mode": {
    "name": "ipython",
    "version": 3
   },
   "file_extension": ".py",
   "mimetype": "text/x-python",
   "name": "python",
   "nbconvert_exporter": "python",
   "pygments_lexer": "ipython3",
   "version": "3.8.6"
  }
 },
 "nbformat": 4,
 "nbformat_minor": 4
}
