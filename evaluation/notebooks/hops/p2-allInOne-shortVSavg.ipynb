{
 "cells": [
  {
   "cell_type": "code",
   "execution_count": 15,
   "metadata": {},
   "outputs": [],
   "source": [
    "def allInOne(path):\n",
    "\n",
    "    import pandas as pd\n",
    "    import numpy as np\n",
    "    import matplotlib.pyplot as plt\n",
    "\n",
    "    def filterArraysToShortest(arr1, arr1Pos, arr2, arr2Pos):\n",
    "        both_pos = np.logical_and(arr1Pos, arr2Pos)\n",
    "        arr1Filt = arr1[both_pos] \n",
    "        arr2Filt = arr2[both_pos] \n",
    "    \n",
    "        return arr1Filt, arr2Filt\n",
    "    \n",
    "    df = pd.read_csv(path)\n",
    "    display(df.head(5))\n",
    "    \n",
    "    reps = df['rep'].to_numpy()\n",
    "    hopsRanked = df['hopsRanked'].to_numpy()\n",
    "    hopsUnranked = df['hopsUnranked'].to_numpy()\n",
    "    hopsRankedOne = df['hopsRankedOne'].to_numpy()\n",
    "    hopsPath = df['hopsPath'].to_numpy()\n",
    "\n",
    "    hopsRankedPositive = hopsRanked > -1\n",
    "    hopsUnrankedPositive = hopsUnranked > -1\n",
    "    hopsRankedOnePositive = hopsRankedOne > -1\n",
    "    hopsPathPositive = hopsPath > -1\n",
    "    \n",
    "    total = len(df.index)\n",
    "\n",
    "    successesRanked = np.count_nonzero(hopsRanked > -1)\n",
    "    successesRankedOne = np.count_nonzero(hopsRankedOne > -1)\n",
    "    successesUnranked = np.count_nonzero(hopsUnranked > -1)\n",
    "    successesPath = np.count_nonzero(hopsPath > -1)\n",
    "\n",
    "    print(\"Resilience Paths: {}%\".format((successesPath / total) * 100))\n",
    "    print(\"Resilience One Tree: {}%\".format((successesRankedOne / total) * 100))\n",
    "    print(\"Resilience Trees: {}%\".format((successesRanked / total) * 100))\n",
    "    #print(\"Resilience Unranked: {}%\".format((successesUnranked / total) * 100))\n",
    "\n",
    "  \n",
    "    hopsPathFiltered,hopsRankedFiltered = filterArraysToShortest(hopsPath, hopsPathPositive, hopsRanked, hopsRankedPositive)   \n",
    "    \n",
    "    diff = np.subtract(hopsPathFiltered,hopsRankedFiltered)\n",
    "    plt.scatter(np.arange(len(hopsPathFiltered)), diff, color=\"blue\", s=1.5)\n",
    "    plt.show()\n",
    "\n",
    "    higherZero = np.count_nonzero(diff > 0)\n",
    "    lowerZero = np.count_nonzero(diff < 0)\n",
    "    equalZero = np.count_nonzero(diff == 0)\n",
    "\n",
    "    print(\"Trees beat paths in {} runs\".format(higherZero))\n",
    "    print(\"Paths beat trees in {} runs\".format(lowerZero))\n",
    "    print(\"Both performed equally good in {} runs\".format(equalZero))\n",
    "    \n",
    "\n",
    "    hopsPathFiltered,hopsRankedOneFiltered = filterArraysToShortest(hopsPath, hopsPathPositive, hopsRankedOne, hopsRankedOnePositive)   \n",
    "\n",
    "    diff = np.subtract(hopsPathFiltered,hopsRankedOneFiltered)\n",
    "    plt.scatter(np.arange(len(hopsPathFiltered)), diff, color=\"blue\", s=1.5);\n",
    "    plt.show()\n",
    "\n",
    "    higherZero = np.count_nonzero(diff > 0)\n",
    "    lowerZero = np.count_nonzero(diff < 0)\n",
    "    equalZero = np.count_nonzero(diff == 0)\n",
    "\n",
    "    print(\"One Tree beat paths in {} runs\".format(higherZero))\n",
    "    print(\"Paths beat one tree in {} runs\".format(lowerZero))\n",
    "    print(\"Both performed equally good in {} runs\".format(equalZero))\n",
    "\n",
    "\n",
    "\n",
    "\n",
    "    hopsRankedOneFiltered,hopsRankedFiltered = filterArraysToShortest(hopsRankedOne, hopsRankedOnePositive, hopsRanked, hopsRankedPositive)   \n",
    "\n",
    "    diff = np.subtract(hopsRankedOneFiltered,hopsRankedFiltered)\n",
    "    plt.scatter(np.arange(len(hopsRankedFiltered)), diff, color=\"blue\", s=1.5);\n",
    "    plt.show()\n",
    "\n",
    "    higherZero = np.count_nonzero(diff > 0)\n",
    "    lowerZero = np.count_nonzero(diff < 0)\n",
    "    equalZero = np.count_nonzero(diff == 0)\n",
    "\n",
    "    print(\"Multiple Trees beat One Tree in {} runs\".format(higherZero))\n",
    "    print(\"One Tree beat  multiple trees in {} runs\".format(lowerZero))\n",
    "    print(\"Both performed equally good in {} runs\".format(equalZero))\n",
    "\n",
    "\n",
    "\n",
    "\n",
    "    hopsUnrankedFiltered,hopsRankedFiltered = filterArraysToShortest(hopsUnranked, hopsUnrankedPositive, hopsRanked, hopsRankedPositive)   \n",
    "\n",
    "    diff = np.subtract(hopsUnrankedFiltered,hopsRankedFiltered)\n",
    "    plt.scatter(np.arange(len(hopsRankedFiltered)), diff, color=\"blue\", s=1.5);\n",
    "    plt.show()\n",
    "\n",
    "    higherZero = np.count_nonzero(diff > 0)\n",
    "    lowerZero = np.count_nonzero(diff < 0)\n",
    "    equalZero = np.count_nonzero(diff == 0)\n",
    "\n",
    "    print(\"Ranked Trees beat Unranked Tree in {} runs\".format(higherZero))\n",
    "    print(\"Unranked Tree beat ranked trees in {} runs\".format(lowerZero))\n",
    "    print(\"Both performed equally good in {} runs\".format(equalZero))"
   ]
  },
  {
   "cell_type": "markdown",
   "metadata": {},
   "source": [
    "## clustered - shortest"
   ]
  },
  {
   "cell_type": "code",
   "execution_count": 16,
   "metadata": {},
   "outputs": [
    {
     "data": {
      "text/html": [
       "<div>\n",
       "<style scoped>\n",
       "    .dataframe tbody tr th:only-of-type {\n",
       "        vertical-align: middle;\n",
       "    }\n",
       "\n",
       "    .dataframe tbody tr th {\n",
       "        vertical-align: top;\n",
       "    }\n",
       "\n",
       "    .dataframe thead th {\n",
       "        text-align: right;\n",
       "    }\n",
       "</style>\n",
       "<table border=\"1\" class=\"dataframe\">\n",
       "  <thead>\n",
       "    <tr style=\"text-align: right;\">\n",
       "      <th></th>\n",
       "      <th>rep</th>\n",
       "      <th>nrNodes</th>\n",
       "      <th>nrEdges</th>\n",
       "      <th>edgeProb</th>\n",
       "      <th>nrPaths</th>\n",
       "      <th>nrFails</th>\n",
       "      <th>failureModel</th>\n",
       "      <th>failurePercent</th>\n",
       "      <th>hopsRanked</th>\n",
       "      <th>hopsUnranked</th>\n",
       "      <th>spLength</th>\n",
       "      <th>stretch_mult</th>\n",
       "      <th>nodeAdditions</th>\n",
       "      <th>hopsPath</th>\n",
       "      <th>stretch_path</th>\n",
       "      <th>hopsRankedOne</th>\n",
       "      <th>hopsUnrankedOne</th>\n",
       "      <th>stretch_one</th>\n",
       "      <th>overallNodeAdditionsOne</th>\n",
       "      <th>treeChoice</th>\n",
       "    </tr>\n",
       "  </thead>\n",
       "  <tbody>\n",
       "    <tr>\n",
       "      <th>0</th>\n",
       "      <td>1000</td>\n",
       "      <td>100</td>\n",
       "      <td>236</td>\n",
       "      <td>0.05</td>\n",
       "      <td>3</td>\n",
       "      <td>2</td>\n",
       "      <td>clustered</td>\n",
       "      <td>0.5;-0.15</td>\n",
       "      <td>9</td>\n",
       "      <td>9</td>\n",
       "      <td>5</td>\n",
       "      <td>4</td>\n",
       "      <td>8</td>\n",
       "      <td>7</td>\n",
       "      <td>2</td>\n",
       "      <td>7</td>\n",
       "      <td>7</td>\n",
       "      <td>2</td>\n",
       "      <td>4</td>\n",
       "      <td>shortest</td>\n",
       "    </tr>\n",
       "    <tr>\n",
       "      <th>1</th>\n",
       "      <td>999</td>\n",
       "      <td>100</td>\n",
       "      <td>230</td>\n",
       "      <td>0.05</td>\n",
       "      <td>3</td>\n",
       "      <td>2</td>\n",
       "      <td>clustered</td>\n",
       "      <td>0.5;-0.15</td>\n",
       "      <td>-1</td>\n",
       "      <td>-1</td>\n",
       "      <td>5</td>\n",
       "      <td>-6</td>\n",
       "      <td>0</td>\n",
       "      <td>-1</td>\n",
       "      <td>-6</td>\n",
       "      <td>-1</td>\n",
       "      <td>-1</td>\n",
       "      <td>-6</td>\n",
       "      <td>0</td>\n",
       "      <td>shortest</td>\n",
       "    </tr>\n",
       "    <tr>\n",
       "      <th>2</th>\n",
       "      <td>998</td>\n",
       "      <td>100</td>\n",
       "      <td>266</td>\n",
       "      <td>0.05</td>\n",
       "      <td>8</td>\n",
       "      <td>7</td>\n",
       "      <td>clustered</td>\n",
       "      <td>0.5;-0.15</td>\n",
       "      <td>2</td>\n",
       "      <td>2</td>\n",
       "      <td>2</td>\n",
       "      <td>0</td>\n",
       "      <td>0</td>\n",
       "      <td>2</td>\n",
       "      <td>0</td>\n",
       "      <td>2</td>\n",
       "      <td>2</td>\n",
       "      <td>0</td>\n",
       "      <td>0</td>\n",
       "      <td>shortest</td>\n",
       "    </tr>\n",
       "    <tr>\n",
       "      <th>3</th>\n",
       "      <td>996</td>\n",
       "      <td>100</td>\n",
       "      <td>269</td>\n",
       "      <td>0.05</td>\n",
       "      <td>3</td>\n",
       "      <td>2</td>\n",
       "      <td>clustered</td>\n",
       "      <td>0.5;-0.15</td>\n",
       "      <td>4</td>\n",
       "      <td>4</td>\n",
       "      <td>4</td>\n",
       "      <td>0</td>\n",
       "      <td>0</td>\n",
       "      <td>14</td>\n",
       "      <td>10</td>\n",
       "      <td>14</td>\n",
       "      <td>14</td>\n",
       "      <td>10</td>\n",
       "      <td>0</td>\n",
       "      <td>shortest</td>\n",
       "    </tr>\n",
       "    <tr>\n",
       "      <th>4</th>\n",
       "      <td>995</td>\n",
       "      <td>100</td>\n",
       "      <td>251</td>\n",
       "      <td>0.05</td>\n",
       "      <td>5</td>\n",
       "      <td>4</td>\n",
       "      <td>clustered</td>\n",
       "      <td>0.5;-0.15</td>\n",
       "      <td>5</td>\n",
       "      <td>5</td>\n",
       "      <td>4</td>\n",
       "      <td>1</td>\n",
       "      <td>10</td>\n",
       "      <td>-1</td>\n",
       "      <td>-5</td>\n",
       "      <td>-1</td>\n",
       "      <td>-1</td>\n",
       "      <td>-5</td>\n",
       "      <td>4</td>\n",
       "      <td>shortest</td>\n",
       "    </tr>\n",
       "  </tbody>\n",
       "</table>\n",
       "</div>"
      ],
      "text/plain": [
       "    rep  nrNodes  nrEdges  edgeProb  nrPaths  nrFails failureModel  \\\n",
       "0  1000      100      236      0.05        3        2    clustered   \n",
       "1   999      100      230      0.05        3        2    clustered   \n",
       "2   998      100      266      0.05        8        7    clustered   \n",
       "3   996      100      269      0.05        3        2    clustered   \n",
       "4   995      100      251      0.05        5        4    clustered   \n",
       "\n",
       "  failurePercent  hopsRanked  hopsUnranked  spLength  stretch_mult  \\\n",
       "0      0.5;-0.15           9             9         5             4   \n",
       "1      0.5;-0.15          -1            -1         5            -6   \n",
       "2      0.5;-0.15           2             2         2             0   \n",
       "3      0.5;-0.15           4             4         4             0   \n",
       "4      0.5;-0.15           5             5         4             1   \n",
       "\n",
       "   nodeAdditions  hopsPath  stretch_path  hopsRankedOne  hopsUnrankedOne  \\\n",
       "0              8         7             2              7                7   \n",
       "1              0        -1            -6             -1               -1   \n",
       "2              0         2             0              2                2   \n",
       "3              0        14            10             14               14   \n",
       "4             10        -1            -5             -1               -1   \n",
       "\n",
       "   stretch_one  overallNodeAdditionsOne treeChoice  \n",
       "0            2                        4   shortest  \n",
       "1           -6                        0   shortest  \n",
       "2            0                        0   shortest  \n",
       "3           10                        0   shortest  \n",
       "4           -5                        4   shortest  "
      ]
     },
     "metadata": {},
     "output_type": "display_data"
    },
    {
     "name": "stdout",
     "output_type": "stream",
     "text": [
      "Resilience Paths: 38.642297650130544%\n",
      "Resilience One Tree: 45.43080939947781%\n",
      "Resilience Trees: 67.36292428198433%\n"
     ]
    },
    {
     "data": {
      "image/png": "[encoded data removed]",
      "text/plain": [
       "<Figure size 432x288 with 1 Axes>"
      ]
     },
     "metadata": {
      "needs_background": "light"
     },
     "output_type": "display_data"
    },
    {
     "name": "stdout",
     "output_type": "stream",
     "text": [
      "Trees beat paths in 37 runs\n",
      "Paths beat trees in 98 runs\n",
      "Both performed equally good in 161 runs\n"
     ]
    },
    {
     "data": {
      "image/png": "[encoded data removed]",
      "text/plain": [
       "<Figure size 432x288 with 1 Axes>"
      ]
     },
     "metadata": {
      "needs_background": "light"
     },
     "output_type": "display_data"
    },
    {
     "name": "stdout",
     "output_type": "stream",
     "text": [
      "One Tree beat paths in 19 runs\n",
      "Paths beat one tree in 40 runs\n",
      "Both performed equally good in 237 runs\n"
     ]
    },
    {
     "data": {
      "image/png": "[encoded data removed]",
      "text/plain": [
       "<Figure size 432x288 with 1 Axes>"
      ]
     },
     "metadata": {
      "needs_background": "light"
     },
     "output_type": "display_data"
    },
    {
     "name": "stdout",
     "output_type": "stream",
     "text": [
      "Multiple Trees beat One Tree in 48 runs\n",
      "One Tree beat  multiple trees in 117 runs\n",
      "Both performed equally good in 181 runs\n"
     ]
    },
    {
     "data": {
      "image/png": "[encoded data removed]",
      "text/plain": [
       "<Figure size 432x288 with 1 Axes>"
      ]
     },
     "metadata": {
      "needs_background": "light"
     },
     "output_type": "display_data"
    },
    {
     "name": "stdout",
     "output_type": "stream",
     "text": [
      "Ranked Trees beat Unranked Tree in 135 runs\n",
      "Unranked Tree beat ranked trees in 67 runs\n",
      "Both performed equally good in 314 runs\n"
     ]
    }
   ],
   "source": [
    "allInOne(\"CSVs/shortestVSavg/trees-2021-07-25_15-41-07-p0.05-n100.csv\")"
   ]
  },
  {
   "cell_type": "markdown",
   "metadata": {},
   "source": [
    "## clustered - avg"
   ]
  },
  {
   "cell_type": "code",
   "execution_count": 17,
   "metadata": {},
   "outputs": [
    {
     "data": {
      "text/html": [
       "<div>\n",
       "<style scoped>\n",
       "    .dataframe tbody tr th:only-of-type {\n",
       "        vertical-align: middle;\n",
       "    }\n",
       "\n",
       "    .dataframe tbody tr th {\n",
       "        vertical-align: top;\n",
       "    }\n",
       "\n",
       "    .dataframe thead th {\n",
       "        text-align: right;\n",
       "    }\n",
       "</style>\n",
       "<table border=\"1\" class=\"dataframe\">\n",
       "  <thead>\n",
       "    <tr style=\"text-align: right;\">\n",
       "      <th></th>\n",
       "      <th>rep</th>\n",
       "      <th>nrNodes</th>\n",
       "      <th>nrEdges</th>\n",
       "      <th>edgeProb</th>\n",
       "      <th>nrPaths</th>\n",
       "      <th>nrFails</th>\n",
       "      <th>failureModel</th>\n",
       "      <th>failurePercent</th>\n",
       "      <th>hopsRanked</th>\n",
       "      <th>hopsUnranked</th>\n",
       "      <th>spLength</th>\n",
       "      <th>stretch_mult</th>\n",
       "      <th>nodeAdditions</th>\n",
       "      <th>hopsPath</th>\n",
       "      <th>stretch_path</th>\n",
       "      <th>hopsRankedOne</th>\n",
       "      <th>hopsUnrankedOne</th>\n",
       "      <th>stretch_one</th>\n",
       "      <th>overallNodeAdditionsOne</th>\n",
       "      <th>treeChoice</th>\n",
       "    </tr>\n",
       "  </thead>\n",
       "  <tbody>\n",
       "    <tr>\n",
       "      <th>0</th>\n",
       "      <td>1000</td>\n",
       "      <td>100</td>\n",
       "      <td>248</td>\n",
       "      <td>0.05</td>\n",
       "      <td>5</td>\n",
       "      <td>4</td>\n",
       "      <td>clustered</td>\n",
       "      <td>0.5;-0.15</td>\n",
       "      <td>19</td>\n",
       "      <td>19</td>\n",
       "      <td>5</td>\n",
       "      <td>14</td>\n",
       "      <td>16</td>\n",
       "      <td>-1</td>\n",
       "      <td>-6</td>\n",
       "      <td>-1</td>\n",
       "      <td>-1</td>\n",
       "      <td>-6</td>\n",
       "      <td>6</td>\n",
       "      <td>average</td>\n",
       "    </tr>\n",
       "    <tr>\n",
       "      <th>1</th>\n",
       "      <td>999</td>\n",
       "      <td>100</td>\n",
       "      <td>248</td>\n",
       "      <td>0.05</td>\n",
       "      <td>4</td>\n",
       "      <td>3</td>\n",
       "      <td>clustered</td>\n",
       "      <td>0.5;-0.15</td>\n",
       "      <td>4</td>\n",
       "      <td>22</td>\n",
       "      <td>4</td>\n",
       "      <td>0</td>\n",
       "      <td>0</td>\n",
       "      <td>10</td>\n",
       "      <td>6</td>\n",
       "      <td>10</td>\n",
       "      <td>10</td>\n",
       "      <td>6</td>\n",
       "      <td>0</td>\n",
       "      <td>average</td>\n",
       "    </tr>\n",
       "    <tr>\n",
       "      <th>2</th>\n",
       "      <td>998</td>\n",
       "      <td>100</td>\n",
       "      <td>241</td>\n",
       "      <td>0.05</td>\n",
       "      <td>3</td>\n",
       "      <td>2</td>\n",
       "      <td>clustered</td>\n",
       "      <td>0.5;-0.15</td>\n",
       "      <td>5</td>\n",
       "      <td>5</td>\n",
       "      <td>5</td>\n",
       "      <td>0</td>\n",
       "      <td>0</td>\n",
       "      <td>5</td>\n",
       "      <td>0</td>\n",
       "      <td>5</td>\n",
       "      <td>5</td>\n",
       "      <td>0</td>\n",
       "      <td>0</td>\n",
       "      <td>average</td>\n",
       "    </tr>\n",
       "    <tr>\n",
       "      <th>3</th>\n",
       "      <td>997</td>\n",
       "      <td>100</td>\n",
       "      <td>263</td>\n",
       "      <td>0.05</td>\n",
       "      <td>6</td>\n",
       "      <td>5</td>\n",
       "      <td>clustered</td>\n",
       "      <td>0.5;-0.15</td>\n",
       "      <td>14</td>\n",
       "      <td>6</td>\n",
       "      <td>5</td>\n",
       "      <td>9</td>\n",
       "      <td>4</td>\n",
       "      <td>-1</td>\n",
       "      <td>-6</td>\n",
       "      <td>-1</td>\n",
       "      <td>-1</td>\n",
       "      <td>-6</td>\n",
       "      <td>2</td>\n",
       "      <td>average</td>\n",
       "    </tr>\n",
       "    <tr>\n",
       "      <th>4</th>\n",
       "      <td>995</td>\n",
       "      <td>100</td>\n",
       "      <td>240</td>\n",
       "      <td>0.05</td>\n",
       "      <td>5</td>\n",
       "      <td>4</td>\n",
       "      <td>clustered</td>\n",
       "      <td>0.5;-0.15</td>\n",
       "      <td>26</td>\n",
       "      <td>34</td>\n",
       "      <td>6</td>\n",
       "      <td>20</td>\n",
       "      <td>0</td>\n",
       "      <td>-1</td>\n",
       "      <td>-7</td>\n",
       "      <td>-1</td>\n",
       "      <td>-1</td>\n",
       "      <td>-7</td>\n",
       "      <td>0</td>\n",
       "      <td>average</td>\n",
       "    </tr>\n",
       "  </tbody>\n",
       "</table>\n",
       "</div>"
      ],
      "text/plain": [
       "    rep  nrNodes  nrEdges  edgeProb  nrPaths  nrFails failureModel  \\\n",
       "0  1000      100      248      0.05        5        4    clustered   \n",
       "1   999      100      248      0.05        4        3    clustered   \n",
       "2   998      100      241      0.05        3        2    clustered   \n",
       "3   997      100      263      0.05        6        5    clustered   \n",
       "4   995      100      240      0.05        5        4    clustered   \n",
       "\n",
       "  failurePercent  hopsRanked  hopsUnranked  spLength  stretch_mult  \\\n",
       "0      0.5;-0.15          19            19         5            14   \n",
       "1      0.5;-0.15           4            22         4             0   \n",
       "2      0.5;-0.15           5             5         5             0   \n",
       "3      0.5;-0.15          14             6         5             9   \n",
       "4      0.5;-0.15          26            34         6            20   \n",
       "\n",
       "   nodeAdditions  hopsPath  stretch_path  hopsRankedOne  hopsUnrankedOne  \\\n",
       "0             16        -1            -6             -1               -1   \n",
       "1              0        10             6             10               10   \n",
       "2              0         5             0              5                5   \n",
       "3              4        -1            -6             -1               -1   \n",
       "4              0        -1            -7             -1               -1   \n",
       "\n",
       "   stretch_one  overallNodeAdditionsOne treeChoice  \n",
       "0           -6                        6    average  \n",
       "1            6                        0    average  \n",
       "2            0                        0    average  \n",
       "3           -6                        2    average  \n",
       "4           -7                        0    average  "
      ]
     },
     "metadata": {},
     "output_type": "display_data"
    },
    {
     "name": "stdout",
     "output_type": "stream",
     "text": [
      "Resilience Paths: 36.46258503401361%\n",
      "Resilience One Tree: 43.26530612244898%\n",
      "Resilience Trees: 65.98639455782312%\n"
     ]
    },
    {
     "data": {
      "image/png": "[encoded data removed]",
      "text/plain": [
       "<Figure size 432x288 with 1 Axes>"
      ]
     },
     "metadata": {
      "needs_background": "light"
     },
     "output_type": "display_data"
    },
    {
     "name": "stdout",
     "output_type": "stream",
     "text": [
      "Trees beat paths in 57 runs\n",
      "Paths beat trees in 95 runs\n",
      "Both performed equally good in 116 runs\n"
     ]
    },
    {
     "data": {
      "image/png": "[encoded data removed]",
      "text/plain": [
       "<Figure size 432x288 with 1 Axes>"
      ]
     },
     "metadata": {
      "needs_background": "light"
     },
     "output_type": "display_data"
    },
    {
     "name": "stdout",
     "output_type": "stream",
     "text": [
      "One Tree beat paths in 28 runs\n",
      "Paths beat one tree in 19 runs\n",
      "Both performed equally good in 221 runs\n"
     ]
    },
    {
     "data": {
      "image/png": "[encoded data removed]",
      "text/plain": [
       "<Figure size 432x288 with 1 Axes>"
      ]
     },
     "metadata": {
      "needs_background": "light"
     },
     "output_type": "display_data"
    },
    {
     "name": "stdout",
     "output_type": "stream",
     "text": [
      "Multiple Trees beat One Tree in 80 runs\n",
      "One Tree beat  multiple trees in 104 runs\n",
      "Both performed equally good in 134 runs\n"
     ]
    },
    {
     "data": {
      "image/png": "[encoded data removed]",
      "text/plain": [
       "<Figure size 432x288 with 1 Axes>"
      ]
     },
     "metadata": {
      "needs_background": "light"
     },
     "output_type": "display_data"
    },
    {
     "name": "stdout",
     "output_type": "stream",
     "text": [
      "Ranked Trees beat Unranked Tree in 192 runs\n",
      "Unranked Tree beat ranked trees in 130 runs\n",
      "Both performed equally good in 163 runs\n"
     ]
    }
   ],
   "source": [
    "allInOne(\"CSVs/shortestVSavg/trees-2021-07-25_15-39-35-p0.05-n100.csv\")"
   ]
  },
  {
   "cell_type": "markdown",
   "metadata": {},
   "source": [
    "## clustered - edgeCount"
   ]
  },
  {
   "cell_type": "code",
   "execution_count": 18,
   "metadata": {},
   "outputs": [
    {
     "data": {
      "text/html": [
       "<div>\n",
       "<style scoped>\n",
       "    .dataframe tbody tr th:only-of-type {\n",
       "        vertical-align: middle;\n",
       "    }\n",
       "\n",
       "    .dataframe tbody tr th {\n",
       "        vertical-align: top;\n",
       "    }\n",
       "\n",
       "    .dataframe thead th {\n",
       "        text-align: right;\n",
       "    }\n",
       "</style>\n",
       "<table border=\"1\" class=\"dataframe\">\n",
       "  <thead>\n",
       "    <tr style=\"text-align: right;\">\n",
       "      <th></th>\n",
       "      <th>rep</th>\n",
       "      <th>nrNodes</th>\n",
       "      <th>nrEdges</th>\n",
       "      <th>edgeProb</th>\n",
       "      <th>nrPaths</th>\n",
       "      <th>nrFails</th>\n",
       "      <th>failureModel</th>\n",
       "      <th>failurePercent</th>\n",
       "      <th>hopsRanked</th>\n",
       "      <th>hopsUnranked</th>\n",
       "      <th>spLength</th>\n",
       "      <th>stretch_mult</th>\n",
       "      <th>nodeAdditions</th>\n",
       "      <th>hopsPath</th>\n",
       "      <th>stretch_path</th>\n",
       "      <th>hopsRankedOne</th>\n",
       "      <th>hopsUnrankedOne</th>\n",
       "      <th>stretch_one</th>\n",
       "      <th>overallNodeAdditionsOne</th>\n",
       "      <th>treeChoice</th>\n",
       "    </tr>\n",
       "  </thead>\n",
       "  <tbody>\n",
       "    <tr>\n",
       "      <th>0</th>\n",
       "      <td>999</td>\n",
       "      <td>100</td>\n",
       "      <td>252</td>\n",
       "      <td>0.05</td>\n",
       "      <td>5</td>\n",
       "      <td>4</td>\n",
       "      <td>clustered</td>\n",
       "      <td>0.5;-0.15</td>\n",
       "      <td>-1</td>\n",
       "      <td>-1</td>\n",
       "      <td>6</td>\n",
       "      <td>-7</td>\n",
       "      <td>0</td>\n",
       "      <td>-1</td>\n",
       "      <td>-7</td>\n",
       "      <td>-1</td>\n",
       "      <td>-1</td>\n",
       "      <td>-7</td>\n",
       "      <td>0</td>\n",
       "      <td>edgeCount</td>\n",
       "    </tr>\n",
       "    <tr>\n",
       "      <th>1</th>\n",
       "      <td>996</td>\n",
       "      <td>100</td>\n",
       "      <td>254</td>\n",
       "      <td>0.05</td>\n",
       "      <td>7</td>\n",
       "      <td>6</td>\n",
       "      <td>clustered</td>\n",
       "      <td>0.5;-0.15</td>\n",
       "      <td>18</td>\n",
       "      <td>10</td>\n",
       "      <td>4</td>\n",
       "      <td>14</td>\n",
       "      <td>0</td>\n",
       "      <td>6</td>\n",
       "      <td>2</td>\n",
       "      <td>10</td>\n",
       "      <td>10</td>\n",
       "      <td>6</td>\n",
       "      <td>0</td>\n",
       "      <td>edgeCount</td>\n",
       "    </tr>\n",
       "    <tr>\n",
       "      <th>2</th>\n",
       "      <td>992</td>\n",
       "      <td>100</td>\n",
       "      <td>247</td>\n",
       "      <td>0.05</td>\n",
       "      <td>2</td>\n",
       "      <td>1</td>\n",
       "      <td>clustered</td>\n",
       "      <td>0.5;-0.15</td>\n",
       "      <td>-1</td>\n",
       "      <td>-1</td>\n",
       "      <td>7</td>\n",
       "      <td>-8</td>\n",
       "      <td>16</td>\n",
       "      <td>-1</td>\n",
       "      <td>-8</td>\n",
       "      <td>-1</td>\n",
       "      <td>-1</td>\n",
       "      <td>-8</td>\n",
       "      <td>8</td>\n",
       "      <td>edgeCount</td>\n",
       "    </tr>\n",
       "    <tr>\n",
       "      <th>3</th>\n",
       "      <td>991</td>\n",
       "      <td>100</td>\n",
       "      <td>245</td>\n",
       "      <td>0.05</td>\n",
       "      <td>5</td>\n",
       "      <td>4</td>\n",
       "      <td>clustered</td>\n",
       "      <td>0.5;-0.15</td>\n",
       "      <td>-1</td>\n",
       "      <td>-1</td>\n",
       "      <td>5</td>\n",
       "      <td>-6</td>\n",
       "      <td>4</td>\n",
       "      <td>-1</td>\n",
       "      <td>-6</td>\n",
       "      <td>-1</td>\n",
       "      <td>-1</td>\n",
       "      <td>-6</td>\n",
       "      <td>2</td>\n",
       "      <td>edgeCount</td>\n",
       "    </tr>\n",
       "    <tr>\n",
       "      <th>4</th>\n",
       "      <td>990</td>\n",
       "      <td>100</td>\n",
       "      <td>237</td>\n",
       "      <td>0.05</td>\n",
       "      <td>2</td>\n",
       "      <td>1</td>\n",
       "      <td>clustered</td>\n",
       "      <td>0.5;-0.15</td>\n",
       "      <td>9</td>\n",
       "      <td>5</td>\n",
       "      <td>4</td>\n",
       "      <td>5</td>\n",
       "      <td>0</td>\n",
       "      <td>10</td>\n",
       "      <td>6</td>\n",
       "      <td>10</td>\n",
       "      <td>10</td>\n",
       "      <td>6</td>\n",
       "      <td>0</td>\n",
       "      <td>edgeCount</td>\n",
       "    </tr>\n",
       "  </tbody>\n",
       "</table>\n",
       "</div>"
      ],
      "text/plain": [
       "   rep  nrNodes  nrEdges  edgeProb  nrPaths  nrFails failureModel  \\\n",
       "0  999      100      252      0.05        5        4    clustered   \n",
       "1  996      100      254      0.05        7        6    clustered   \n",
       "2  992      100      247      0.05        2        1    clustered   \n",
       "3  991      100      245      0.05        5        4    clustered   \n",
       "4  990      100      237      0.05        2        1    clustered   \n",
       "\n",
       "  failurePercent  hopsRanked  hopsUnranked  spLength  stretch_mult  \\\n",
       "0      0.5;-0.15          -1            -1         6            -7   \n",
       "1      0.5;-0.15          18            10         4            14   \n",
       "2      0.5;-0.15          -1            -1         7            -8   \n",
       "3      0.5;-0.15          -1            -1         5            -6   \n",
       "4      0.5;-0.15           9             5         4             5   \n",
       "\n",
       "   nodeAdditions  hopsPath  stretch_path  hopsRankedOne  hopsUnrankedOne  \\\n",
       "0              0        -1            -7             -1               -1   \n",
       "1              0         6             2             10               10   \n",
       "2             16        -1            -8             -1               -1   \n",
       "3              4        -1            -6             -1               -1   \n",
       "4              0        10             6             10               10   \n",
       "\n",
       "   stretch_one  overallNodeAdditionsOne treeChoice  \n",
       "0           -7                        0  edgeCount  \n",
       "1            6                        0  edgeCount  \n",
       "2           -8                        8  edgeCount  \n",
       "3           -6                        2  edgeCount  \n",
       "4            6                        0  edgeCount  "
      ]
     },
     "metadata": {},
     "output_type": "display_data"
    },
    {
     "name": "stdout",
     "output_type": "stream",
     "text": [
      "Resilience Paths: 38.46153846153847%\n",
      "Resilience One Tree: 44.230769230769226%\n",
      "Resilience Trees: 64.42307692307693%\n"
     ]
    },
    {
     "data": {
      "image/png": "[encoded data removed]",
      "text/plain": [
       "<Figure size 432x288 with 1 Axes>"
      ]
     },
     "metadata": {
      "needs_background": "light"
     },
     "output_type": "display_data"
    },
    {
     "name": "stdout",
     "output_type": "stream",
     "text": [
      "Trees beat paths in 70 runs\n",
      "Paths beat trees in 90 runs\n",
      "Both performed equally good in 120 runs\n"
     ]
    },
    {
     "data": {
      "image/png": "[encoded data removed]",
      "text/plain": [
       "<Figure size 432x288 with 1 Axes>"
      ]
     },
     "metadata": {
      "needs_background": "light"
     },
     "output_type": "display_data"
    },
    {
     "name": "stdout",
     "output_type": "stream",
     "text": [
      "One Tree beat paths in 34 runs\n",
      "Paths beat one tree in 37 runs\n",
      "Both performed equally good in 209 runs\n"
     ]
    },
    {
     "data": {
      "image/png": "[encoded data removed]",
      "text/plain": [
       "<Figure size 432x288 with 1 Axes>"
      ]
     },
     "metadata": {
      "needs_background": "light"
     },
     "output_type": "display_data"
    },
    {
     "name": "stdout",
     "output_type": "stream",
     "text": [
      "Multiple Trees beat One Tree in 71 runs\n",
      "One Tree beat  multiple trees in 109 runs\n",
      "Both performed equally good in 142 runs\n"
     ]
    },
    {
     "data": {
      "image/png": "[encoded data removed]",
      "text/plain": [
       "<Figure size 432x288 with 1 Axes>"
      ]
     },
     "metadata": {
      "needs_background": "light"
     },
     "output_type": "display_data"
    },
    {
     "name": "stdout",
     "output_type": "stream",
     "text": [
      "Ranked Trees beat Unranked Tree in 170 runs\n",
      "Unranked Tree beat ranked trees in 132 runs\n",
      "Both performed equally good in 167 runs\n"
     ]
    }
   ],
   "source": [
    "allInOne(\"CSVs/shortestVSavg/trees-2021-07-25_15-57-55-p0.05-n100.csv\")"
   ]
  },
  {
   "cell_type": "markdown",
   "metadata": {},
   "source": [
    "## done: Abarbeiten der Pfade / Bäume, welche Reihenfolge?"
   ]
  },
  {
   "cell_type": "markdown",
   "metadata": {},
   "source": [
    "## done: Ausfälle um D mit prozetualem Abfall"
   ]
  },
  {
   "cell_type": "markdown",
   "metadata": {},
   "source": [
    "## TODO: Topology Zoo"
   ]
  },
  {
   "cell_type": "markdown",
   "metadata": {},
   "source": [
    "## Laufzeit: in ms"
   ]
  },
  {
   "cell_type": "markdown",
   "metadata": {},
   "source": [
    "## TODO: Resilience"
   ]
  },
  {
   "cell_type": "markdown",
   "metadata": {},
   "source": [
    "## (TODO: Schlecht angebundenes S?)"
   ]
  },
  {
   "cell_type": "code",
   "execution_count": null,
   "metadata": {},
   "outputs": [],
   "source": []
  }
 ],
 "metadata": {
  "kernelspec": {
   "display_name": "Python 3",
   "language": "python",
   "name": "python3"
  },
  "language_info": {
   "codemirror_mode": {
    "name": "ipython",
    "version": 3
   },
   "file_extension": ".py",
   "mimetype": "text/x-python",
   "name": "python",
   "nbconvert_exporter": "python",
   "pygments_lexer": "ipython3",
   "version": "3.8.6"
  }
 },
 "nbformat": 4,
 "nbformat_minor": 4
}
