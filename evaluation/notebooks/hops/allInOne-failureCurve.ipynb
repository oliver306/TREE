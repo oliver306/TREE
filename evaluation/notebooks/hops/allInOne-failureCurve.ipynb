{
 "cells": [
  {
   "cell_type": "code",
   "execution_count": 14,
   "metadata": {},
   "outputs": [],
   "source": [
    "def allInOne(path):\n",
    "\n",
    "    import pandas as pd\n",
    "    import numpy as np\n",
    "    import matplotlib.pyplot as plt\n",
    "\n",
    "    def filterArraysToShortest(arr1, arr1Pos, arr2, arr2Pos):\n",
    "        both_pos = np.logical_and(arr1Pos, arr2Pos)\n",
    "        arr1Filt = arr1[both_pos] \n",
    "        arr2Filt = arr2[both_pos] \n",
    "    \n",
    "        return arr1Filt, arr2Filt\n",
    "    \n",
    "    \n",
    "    def filterArraysToShortest2(arr1, arr1Pos, arr2, arr2Pos):\n",
    "        if np.count_nonzero(arr1Pos) < np.count_nonzero(arr2Pos):\n",
    "            arr1Filt = arr1[arr1Pos] \n",
    "            arr2Filt = arr2[arr1Pos] \n",
    "        else:\n",
    "            arr1Filt = arr1[arr2Pos] \n",
    "            arr2Filt = arr2[arr2Pos] \n",
    "            \n",
    "        return arr1Filt, arr2Filt\n",
    "    \n",
    "    df = pd.read_csv(path)\n",
    "    display(df.head(5))\n",
    "    \n",
    "    reps = df['rep'].to_numpy()\n",
    "    hopsRanked = df['hopsRanked'].to_numpy()\n",
    "    hopsUnranked = df['hopsUnranked'].to_numpy()\n",
    "    hopsRankedOne = df['hopsRankedOne'].to_numpy()\n",
    "    hopsPath = df['hopsPath'].to_numpy()\n",
    "\n",
    "    hopsRankedPositive = hopsRanked > -1\n",
    "    hopsUnrankedPositive = hopsUnranked > -1\n",
    "    hopsRankedOnePositive = hopsRankedOne > -1\n",
    "    hopsPathPositive = hopsPath > -1\n",
    "    \n",
    "    total = len(df.index)\n",
    "\n",
    "    successesRanked = np.count_nonzero(hopsRanked > -1)\n",
    "    successesRankedOne = np.count_nonzero(hopsRankedOne > -1)\n",
    "    successesUnranked = np.count_nonzero(hopsUnranked > -1)\n",
    "    successesPath = np.count_nonzero(hopsPath > -1)\n",
    "\n",
    "    \n",
    "    \n",
    "    percentPaths = (successesPath / total) * 100\n",
    "    percentOne = (successesRankedOne / total) * 100\n",
    "    percentRanked = (successesRanked / total) * 100\n",
    "    \n",
    "    print(\"Resilience Paths: {}%\".format(percentPaths))\n",
    "    print(\"Resilience One Tree: {}%\".format(percentOne))\n",
    "    print(\"Resilience Trees: {}%\".format(percentRanked))\n",
    "    #print(\"Resilience Unranked: {}%\".format((successesUnranked / total) * 100))\n",
    "\n",
    "  \n",
    "    hopsPathFiltered,hopsRankedFiltered = filterArraysToShortest(hopsPath, hopsPathPositive, hopsRanked, hopsRankedPositive)   \n",
    "    \n",
    "    diff = np.subtract(hopsPathFiltered,hopsRankedFiltered)\n",
    "    plt.scatter(np.arange(len(hopsPathFiltered)), diff, color=\"blue\", s=1.5)\n",
    "    plt.show()\n",
    "\n",
    "    higherZero = np.count_nonzero(diff > 0)\n",
    "    lowerZero = np.count_nonzero(diff < 0)\n",
    "    equalZero = np.count_nonzero(diff == 0)\n",
    "\n",
    "    print(\"Trees beat paths in {} runs\".format(higherZero))\n",
    "    print(\"Paths beat trees in {} runs\".format(lowerZero))\n",
    "    print(\"Both performed equally good in {} runs\".format(equalZero))\n",
    "    \n",
    "\n",
    "    hopsPathFiltered,hopsRankedOneFiltered = filterArraysToShortest(hopsPath, hopsPathPositive, hopsRankedOne, hopsRankedOnePositive)   \n",
    "\n",
    "    diff = np.subtract(hopsPathFiltered,hopsRankedOneFiltered)\n",
    "    plt.scatter(np.arange(len(hopsPathFiltered)), diff, color=\"blue\", s=1.5);\n",
    "    plt.show()\n",
    "\n",
    "    higherZero = np.count_nonzero(diff > 0)\n",
    "    lowerZero = np.count_nonzero(diff < 0)\n",
    "    equalZero = np.count_nonzero(diff == 0)\n",
    "\n",
    "    print(\"One Tree beat paths in {} runs\".format(higherZero))\n",
    "    print(\"Paths beat one tree in {} runs\".format(lowerZero))\n",
    "    print(\"Both performed equally good in {} runs\".format(equalZero))\n",
    "\n",
    "\n",
    "\n",
    "\n",
    "    hopsRankedOneFiltered,hopsRankedFiltered = filterArraysToShortest(hopsRankedOne, hopsRankedOnePositive, hopsRanked, hopsRankedPositive)   \n",
    "\n",
    "    diff = np.subtract(hopsRankedOneFiltered,hopsRankedFiltered)\n",
    "    plt.scatter(np.arange(len(hopsRankedFiltered)), diff, color=\"blue\", s=1.5);\n",
    "    plt.show()\n",
    "\n",
    "    higherZero = np.count_nonzero(diff > 0)\n",
    "    lowerZero = np.count_nonzero(diff < 0)\n",
    "    equalZero = np.count_nonzero(diff == 0)\n",
    "\n",
    "    print(\"Multiple Trees beat One Tree in {} runs\".format(higherZero))\n",
    "    print(\"One Tree beat  multiple trees in {} runs\".format(lowerZero))\n",
    "    print(\"Both performed equally good in {} runs\".format(equalZero))\n",
    "\n",
    "\n",
    "\n",
    "\n",
    "    hopsUnrankedFiltered,hopsRankedFiltered = filterArraysToShortest(hopsUnranked, hopsUnrankedPositive, hopsRanked, hopsRankedPositive)   \n",
    "\n",
    "    diff = np.subtract(hopsUnrankedFiltered,hopsRankedFiltered)\n",
    "    plt.scatter(np.arange(len(hopsRankedFiltered)), diff, color=\"blue\", s=1.5);\n",
    "    plt.show()\n",
    "\n",
    "    higherZero = np.count_nonzero(diff > 0)\n",
    "    lowerZero = np.count_nonzero(diff < 0)\n",
    "    equalZero = np.count_nonzero(diff == 0)\n",
    "\n",
    "    print(\"Ranked Trees beat Unranked Tree in {} runs\".format(higherZero))\n",
    "    print(\"Unranked Tree beat ranked trees in {} runs\".format(lowerZero))\n",
    "    print(\"Both performed equally good in {} runs\".format(equalZero))\n",
    "    \n",
    "    return percentPaths, percentOne, percentRanked"
   ]
  },
  {
   "cell_type": "code",
   "execution_count": 15,
   "metadata": {},
   "outputs": [
    {
     "data": {
      "text/html": [
       "<div>\n",
       "<style scoped>\n",
       "    .dataframe tbody tr th:only-of-type {\n",
       "        vertical-align: middle;\n",
       "    }\n",
       "\n",
       "    .dataframe tbody tr th {\n",
       "        vertical-align: top;\n",
       "    }\n",
       "\n",
       "    .dataframe thead th {\n",
       "        text-align: right;\n",
       "    }\n",
       "</style>\n",
       "<table border=\"1\" class=\"dataframe\">\n",
       "  <thead>\n",
       "    <tr style=\"text-align: right;\">\n",
       "      <th></th>\n",
       "      <th>rep</th>\n",
       "      <th>nrNodes</th>\n",
       "      <th>nrEdges</th>\n",
       "      <th>edgeProb</th>\n",
       "      <th>nrPaths</th>\n",
       "      <th>nrFails</th>\n",
       "      <th>failureModel</th>\n",
       "      <th>failurePercent</th>\n",
       "      <th>hopsRanked</th>\n",
       "      <th>hopsUnranked</th>\n",
       "      <th>spLength</th>\n",
       "      <th>stretch_mult</th>\n",
       "      <th>nodeAdditions</th>\n",
       "      <th>hopsPath</th>\n",
       "      <th>stretch_path</th>\n",
       "      <th>hopsRankedOne</th>\n",
       "      <th>hopsUnrankedOne</th>\n",
       "      <th>stretch_one</th>\n",
       "      <th>overallNodeAdditionsOne</th>\n",
       "      <th>treeChoice</th>\n",
       "    </tr>\n",
       "  </thead>\n",
       "  <tbody>\n",
       "    <tr>\n",
       "      <th>0</th>\n",
       "      <td>1000</td>\n",
       "      <td>25</td>\n",
       "      <td>56</td>\n",
       "      <td>graphml/AttMpls.graphml</td>\n",
       "      <td>2</td>\n",
       "      <td>1</td>\n",
       "      <td>clustered</td>\n",
       "      <td>0.3;-0.3</td>\n",
       "      <td>4</td>\n",
       "      <td>4</td>\n",
       "      <td>4</td>\n",
       "      <td>0</td>\n",
       "      <td>4</td>\n",
       "      <td>4</td>\n",
       "      <td>0</td>\n",
       "      <td>4</td>\n",
       "      <td>4</td>\n",
       "      <td>0</td>\n",
       "      <td>2</td>\n",
       "      <td>edgeCount</td>\n",
       "    </tr>\n",
       "    <tr>\n",
       "      <th>1</th>\n",
       "      <td>999</td>\n",
       "      <td>25</td>\n",
       "      <td>56</td>\n",
       "      <td>graphml/AttMpls.graphml</td>\n",
       "      <td>3</td>\n",
       "      <td>2</td>\n",
       "      <td>clustered</td>\n",
       "      <td>0.3;-0.3</td>\n",
       "      <td>5</td>\n",
       "      <td>8</td>\n",
       "      <td>3</td>\n",
       "      <td>2</td>\n",
       "      <td>0</td>\n",
       "      <td>3</td>\n",
       "      <td>0</td>\n",
       "      <td>3</td>\n",
       "      <td>3</td>\n",
       "      <td>0</td>\n",
       "      <td>0</td>\n",
       "      <td>edgeCount</td>\n",
       "    </tr>\n",
       "    <tr>\n",
       "      <th>2</th>\n",
       "      <td>998</td>\n",
       "      <td>25</td>\n",
       "      <td>56</td>\n",
       "      <td>graphml/AttMpls.graphml</td>\n",
       "      <td>2</td>\n",
       "      <td>1</td>\n",
       "      <td>clustered</td>\n",
       "      <td>0.3;-0.3</td>\n",
       "      <td>4</td>\n",
       "      <td>4</td>\n",
       "      <td>3</td>\n",
       "      <td>1</td>\n",
       "      <td>0</td>\n",
       "      <td>3</td>\n",
       "      <td>0</td>\n",
       "      <td>3</td>\n",
       "      <td>3</td>\n",
       "      <td>0</td>\n",
       "      <td>0</td>\n",
       "      <td>edgeCount</td>\n",
       "    </tr>\n",
       "    <tr>\n",
       "      <th>3</th>\n",
       "      <td>997</td>\n",
       "      <td>25</td>\n",
       "      <td>56</td>\n",
       "      <td>graphml/AttMpls.graphml</td>\n",
       "      <td>4</td>\n",
       "      <td>3</td>\n",
       "      <td>clustered</td>\n",
       "      <td>0.3;-0.3</td>\n",
       "      <td>2</td>\n",
       "      <td>2</td>\n",
       "      <td>2</td>\n",
       "      <td>0</td>\n",
       "      <td>0</td>\n",
       "      <td>3</td>\n",
       "      <td>1</td>\n",
       "      <td>3</td>\n",
       "      <td>2</td>\n",
       "      <td>1</td>\n",
       "      <td>0</td>\n",
       "      <td>edgeCount</td>\n",
       "    </tr>\n",
       "    <tr>\n",
       "      <th>4</th>\n",
       "      <td>996</td>\n",
       "      <td>25</td>\n",
       "      <td>56</td>\n",
       "      <td>graphml/AttMpls.graphml</td>\n",
       "      <td>2</td>\n",
       "      <td>1</td>\n",
       "      <td>clustered</td>\n",
       "      <td>0.3;-0.3</td>\n",
       "      <td>3</td>\n",
       "      <td>3</td>\n",
       "      <td>3</td>\n",
       "      <td>0</td>\n",
       "      <td>0</td>\n",
       "      <td>3</td>\n",
       "      <td>0</td>\n",
       "      <td>3</td>\n",
       "      <td>3</td>\n",
       "      <td>0</td>\n",
       "      <td>0</td>\n",
       "      <td>edgeCount</td>\n",
       "    </tr>\n",
       "  </tbody>\n",
       "</table>\n",
       "</div>"
      ],
      "text/plain": [
       "    rep  nrNodes  nrEdges                 edgeProb  nrPaths  nrFails  \\\n",
       "0  1000       25       56  graphml/AttMpls.graphml        2        1   \n",
       "1   999       25       56  graphml/AttMpls.graphml        3        2   \n",
       "2   998       25       56  graphml/AttMpls.graphml        2        1   \n",
       "3   997       25       56  graphml/AttMpls.graphml        4        3   \n",
       "4   996       25       56  graphml/AttMpls.graphml        2        1   \n",
       "\n",
       "  failureModel failurePercent  hopsRanked  hopsUnranked  spLength  \\\n",
       "0    clustered       0.3;-0.3           4             4         4   \n",
       "1    clustered       0.3;-0.3           5             8         3   \n",
       "2    clustered       0.3;-0.3           4             4         3   \n",
       "3    clustered       0.3;-0.3           2             2         2   \n",
       "4    clustered       0.3;-0.3           3             3         3   \n",
       "\n",
       "   stretch_mult  nodeAdditions  hopsPath  stretch_path  hopsRankedOne  \\\n",
       "0             0              4         4             0              4   \n",
       "1             2              0         3             0              3   \n",
       "2             1              0         3             0              3   \n",
       "3             0              0         3             1              3   \n",
       "4             0              0         3             0              3   \n",
       "\n",
       "   hopsUnrankedOne  stretch_one  overallNodeAdditionsOne treeChoice  \n",
       "0                4            0                        2  edgeCount  \n",
       "1                3            0                        0  edgeCount  \n",
       "2                3            0                        0  edgeCount  \n",
       "3                2            1                        0  edgeCount  \n",
       "4                3            0                        0  edgeCount  "
      ]
     },
     "metadata": {},
     "output_type": "display_data"
    },
    {
     "name": "stdout",
     "output_type": "stream",
     "text": [
      "Resilience Paths: 99.7%\n",
      "Resilience One Tree: 100.0%\n",
      "Resilience Trees: 100.0%\n"
     ]
    },
    {
     "data": {
      "image/png": "[encoded data removed]",
      "text/plain": [
       "<Figure size 432x288 with 1 Axes>"
      ]
     },
     "metadata": {
      "needs_background": "light"
     },
     "output_type": "display_data"
    },
    {
     "name": "stdout",
     "output_type": "stream",
     "text": [
      "Trees beat paths in 163 runs\n",
      "Paths beat trees in 419 runs\n",
      "Both performed equally good in 415 runs\n"
     ]
    },
    {
     "data": {
      "image/png": "[encoded data removed]",
      "text/plain": [
       "<Figure size 432x288 with 1 Axes>"
      ]
     },
     "metadata": {
      "needs_background": "light"
     },
     "output_type": "display_data"
    },
    {
     "name": "stdout",
     "output_type": "stream",
     "text": [
      "One Tree beat paths in 90 runs\n",
      "Paths beat one tree in 99 runs\n",
      "Both performed equally good in 808 runs\n"
     ]
    },
    {
     "data": {
      "image/png": "[encoded data removed]",
      "text/plain": [
       "<Figure size 432x288 with 1 Axes>"
      ]
     },
     "metadata": {
      "needs_background": "light"
     },
     "output_type": "display_data"
    },
    {
     "name": "stdout",
     "output_type": "stream",
     "text": [
      "Multiple Trees beat One Tree in 137 runs\n",
      "One Tree beat  multiple trees in 377 runs\n",
      "Both performed equally good in 486 runs\n"
     ]
    },
    {
     "data": {
      "image/png": "[encoded data removed]",
      "text/plain": [
       "<Figure size 432x288 with 1 Axes>"
      ]
     },
     "metadata": {
      "needs_background": "light"
     },
     "output_type": "display_data"
    },
    {
     "name": "stdout",
     "output_type": "stream",
     "text": [
      "Ranked Trees beat Unranked Tree in 258 runs\n",
      "Unranked Tree beat ranked trees in 274 runs\n",
      "Both performed equally good in 468 runs\n"
     ]
    }
   ],
   "source": [
    "#0.3\n",
    "rPaths03, rOne03, rMult03 = allInOne('CSVs/curve/trees-2021-08-08_17-27-47-n25.csv')\n"
   ]
  },
  {
   "cell_type": "code",
   "execution_count": 16,
   "metadata": {},
   "outputs": [
    {
     "data": {
      "text/html": [
       "<div>\n",
       "<style scoped>\n",
       "    .dataframe tbody tr th:only-of-type {\n",
       "        vertical-align: middle;\n",
       "    }\n",
       "\n",
       "    .dataframe tbody tr th {\n",
       "        vertical-align: top;\n",
       "    }\n",
       "\n",
       "    .dataframe thead th {\n",
       "        text-align: right;\n",
       "    }\n",
       "</style>\n",
       "<table border=\"1\" class=\"dataframe\">\n",
       "  <thead>\n",
       "    <tr style=\"text-align: right;\">\n",
       "      <th></th>\n",
       "      <th>rep</th>\n",
       "      <th>nrNodes</th>\n",
       "      <th>nrEdges</th>\n",
       "      <th>edgeProb</th>\n",
       "      <th>nrPaths</th>\n",
       "      <th>nrFails</th>\n",
       "      <th>failureModel</th>\n",
       "      <th>failurePercent</th>\n",
       "      <th>hopsRanked</th>\n",
       "      <th>hopsUnranked</th>\n",
       "      <th>spLength</th>\n",
       "      <th>stretch_mult</th>\n",
       "      <th>nodeAdditions</th>\n",
       "      <th>hopsPath</th>\n",
       "      <th>stretch_path</th>\n",
       "      <th>hopsRankedOne</th>\n",
       "      <th>hopsUnrankedOne</th>\n",
       "      <th>stretch_one</th>\n",
       "      <th>overallNodeAdditionsOne</th>\n",
       "      <th>treeChoice</th>\n",
       "    </tr>\n",
       "  </thead>\n",
       "  <tbody>\n",
       "    <tr>\n",
       "      <th>0</th>\n",
       "      <td>1000</td>\n",
       "      <td>25</td>\n",
       "      <td>56</td>\n",
       "      <td>graphml/AttMpls.graphml</td>\n",
       "      <td>2</td>\n",
       "      <td>1</td>\n",
       "      <td>clustered</td>\n",
       "      <td>0.4;-0.3</td>\n",
       "      <td>3</td>\n",
       "      <td>3</td>\n",
       "      <td>3</td>\n",
       "      <td>0</td>\n",
       "      <td>0</td>\n",
       "      <td>3</td>\n",
       "      <td>0</td>\n",
       "      <td>3</td>\n",
       "      <td>3</td>\n",
       "      <td>0</td>\n",
       "      <td>0</td>\n",
       "      <td>edgeCount</td>\n",
       "    </tr>\n",
       "    <tr>\n",
       "      <th>1</th>\n",
       "      <td>999</td>\n",
       "      <td>25</td>\n",
       "      <td>56</td>\n",
       "      <td>graphml/AttMpls.graphml</td>\n",
       "      <td>2</td>\n",
       "      <td>1</td>\n",
       "      <td>clustered</td>\n",
       "      <td>0.4;-0.3</td>\n",
       "      <td>5</td>\n",
       "      <td>5</td>\n",
       "      <td>5</td>\n",
       "      <td>0</td>\n",
       "      <td>2</td>\n",
       "      <td>5</td>\n",
       "      <td>0</td>\n",
       "      <td>5</td>\n",
       "      <td>5</td>\n",
       "      <td>0</td>\n",
       "      <td>2</td>\n",
       "      <td>edgeCount</td>\n",
       "    </tr>\n",
       "    <tr>\n",
       "      <th>2</th>\n",
       "      <td>998</td>\n",
       "      <td>25</td>\n",
       "      <td>56</td>\n",
       "      <td>graphml/AttMpls.graphml</td>\n",
       "      <td>4</td>\n",
       "      <td>3</td>\n",
       "      <td>clustered</td>\n",
       "      <td>0.4;-0.3</td>\n",
       "      <td>2</td>\n",
       "      <td>2</td>\n",
       "      <td>2</td>\n",
       "      <td>0</td>\n",
       "      <td>0</td>\n",
       "      <td>2</td>\n",
       "      <td>0</td>\n",
       "      <td>2</td>\n",
       "      <td>2</td>\n",
       "      <td>0</td>\n",
       "      <td>0</td>\n",
       "      <td>edgeCount</td>\n",
       "    </tr>\n",
       "    <tr>\n",
       "      <th>3</th>\n",
       "      <td>997</td>\n",
       "      <td>25</td>\n",
       "      <td>56</td>\n",
       "      <td>graphml/AttMpls.graphml</td>\n",
       "      <td>4</td>\n",
       "      <td>3</td>\n",
       "      <td>clustered</td>\n",
       "      <td>0.4;-0.3</td>\n",
       "      <td>4</td>\n",
       "      <td>5</td>\n",
       "      <td>3</td>\n",
       "      <td>1</td>\n",
       "      <td>4</td>\n",
       "      <td>3</td>\n",
       "      <td>0</td>\n",
       "      <td>3</td>\n",
       "      <td>3</td>\n",
       "      <td>0</td>\n",
       "      <td>4</td>\n",
       "      <td>edgeCount</td>\n",
       "    </tr>\n",
       "    <tr>\n",
       "      <th>4</th>\n",
       "      <td>996</td>\n",
       "      <td>25</td>\n",
       "      <td>56</td>\n",
       "      <td>graphml/AttMpls.graphml</td>\n",
       "      <td>2</td>\n",
       "      <td>1</td>\n",
       "      <td>clustered</td>\n",
       "      <td>0.4;-0.3</td>\n",
       "      <td>3</td>\n",
       "      <td>3</td>\n",
       "      <td>3</td>\n",
       "      <td>0</td>\n",
       "      <td>0</td>\n",
       "      <td>3</td>\n",
       "      <td>0</td>\n",
       "      <td>3</td>\n",
       "      <td>3</td>\n",
       "      <td>0</td>\n",
       "      <td>0</td>\n",
       "      <td>edgeCount</td>\n",
       "    </tr>\n",
       "  </tbody>\n",
       "</table>\n",
       "</div>"
      ],
      "text/plain": [
       "    rep  nrNodes  nrEdges                 edgeProb  nrPaths  nrFails  \\\n",
       "0  1000       25       56  graphml/AttMpls.graphml        2        1   \n",
       "1   999       25       56  graphml/AttMpls.graphml        2        1   \n",
       "2   998       25       56  graphml/AttMpls.graphml        4        3   \n",
       "3   997       25       56  graphml/AttMpls.graphml        4        3   \n",
       "4   996       25       56  graphml/AttMpls.graphml        2        1   \n",
       "\n",
       "  failureModel failurePercent  hopsRanked  hopsUnranked  spLength  \\\n",
       "0    clustered       0.4;-0.3           3             3         3   \n",
       "1    clustered       0.4;-0.3           5             5         5   \n",
       "2    clustered       0.4;-0.3           2             2         2   \n",
       "3    clustered       0.4;-0.3           4             5         3   \n",
       "4    clustered       0.4;-0.3           3             3         3   \n",
       "\n",
       "   stretch_mult  nodeAdditions  hopsPath  stretch_path  hopsRankedOne  \\\n",
       "0             0              0         3             0              3   \n",
       "1             0              2         5             0              5   \n",
       "2             0              0         2             0              2   \n",
       "3             1              4         3             0              3   \n",
       "4             0              0         3             0              3   \n",
       "\n",
       "   hopsUnrankedOne  stretch_one  overallNodeAdditionsOne treeChoice  \n",
       "0                3            0                        0  edgeCount  \n",
       "1                5            0                        2  edgeCount  \n",
       "2                2            0                        0  edgeCount  \n",
       "3                3            0                        4  edgeCount  \n",
       "4                3            0                        0  edgeCount  "
      ]
     },
     "metadata": {},
     "output_type": "display_data"
    },
    {
     "name": "stdout",
     "output_type": "stream",
     "text": [
      "Resilience Paths: 97.3%\n",
      "Resilience One Tree: 99.6%\n",
      "Resilience Trees: 100.0%\n"
     ]
    },
    {
     "data": {
      "image/png": "[encoded data removed]",
      "text/plain": [
       "<Figure size 432x288 with 1 Axes>"
      ]
     },
     "metadata": {
      "needs_background": "light"
     },
     "output_type": "display_data"
    },
    {
     "name": "stdout",
     "output_type": "stream",
     "text": [
      "Trees beat paths in 337 runs\n",
      "Paths beat trees in 323 runs\n",
      "Both performed equally good in 313 runs\n"
     ]
    },
    {
     "data": {
      "image/png": "[encoded data removed]",
      "text/plain": [
       "<Figure size 432x288 with 1 Axes>"
      ]
     },
     "metadata": {
      "needs_background": "light"
     },
     "output_type": "display_data"
    },
    {
     "name": "stdout",
     "output_type": "stream",
     "text": [
      "One Tree beat paths in 125 runs\n",
      "Paths beat one tree in 87 runs\n",
      "Both performed equally good in 761 runs\n"
     ]
    },
    {
     "data": {
      "image/png": "[encoded data removed]",
      "text/plain": [
       "<Figure size 432x288 with 1 Axes>"
      ]
     },
     "metadata": {
      "needs_background": "light"
     },
     "output_type": "display_data"
    },
    {
     "name": "stdout",
     "output_type": "stream",
     "text": [
      "Multiple Trees beat One Tree in 309 runs\n",
      "One Tree beat  multiple trees in 304 runs\n",
      "Both performed equally good in 383 runs\n"
     ]
    },
    {
     "data": {
      "image/png": "[encoded data removed]",
      "text/plain": [
       "<Figure size 432x288 with 1 Axes>"
      ]
     },
     "metadata": {
      "needs_background": "light"
     },
     "output_type": "display_data"
    },
    {
     "name": "stdout",
     "output_type": "stream",
     "text": [
      "Ranked Trees beat Unranked Tree in 260 runs\n",
      "Unranked Tree beat ranked trees in 302 runs\n",
      "Both performed equally good in 438 runs\n"
     ]
    }
   ],
   "source": [
    "#0.4\n",
    "rPaths04, rOne04, rMult04 = allInOne('CSVs/curve/trees-2021-08-08_17-28-23-n25.csv')\n"
   ]
  },
  {
   "cell_type": "code",
   "execution_count": 17,
   "metadata": {},
   "outputs": [
    {
     "data": {
      "text/html": [
       "<div>\n",
       "<style scoped>\n",
       "    .dataframe tbody tr th:only-of-type {\n",
       "        vertical-align: middle;\n",
       "    }\n",
       "\n",
       "    .dataframe tbody tr th {\n",
       "        vertical-align: top;\n",
       "    }\n",
       "\n",
       "    .dataframe thead th {\n",
       "        text-align: right;\n",
       "    }\n",
       "</style>\n",
       "<table border=\"1\" class=\"dataframe\">\n",
       "  <thead>\n",
       "    <tr style=\"text-align: right;\">\n",
       "      <th></th>\n",
       "      <th>rep</th>\n",
       "      <th>nrNodes</th>\n",
       "      <th>nrEdges</th>\n",
       "      <th>edgeProb</th>\n",
       "      <th>nrPaths</th>\n",
       "      <th>nrFails</th>\n",
       "      <th>failureModel</th>\n",
       "      <th>failurePercent</th>\n",
       "      <th>hopsRanked</th>\n",
       "      <th>hopsUnranked</th>\n",
       "      <th>spLength</th>\n",
       "      <th>stretch_mult</th>\n",
       "      <th>nodeAdditions</th>\n",
       "      <th>hopsPath</th>\n",
       "      <th>stretch_path</th>\n",
       "      <th>hopsRankedOne</th>\n",
       "      <th>hopsUnrankedOne</th>\n",
       "      <th>stretch_one</th>\n",
       "      <th>overallNodeAdditionsOne</th>\n",
       "      <th>treeChoice</th>\n",
       "    </tr>\n",
       "  </thead>\n",
       "  <tbody>\n",
       "    <tr>\n",
       "      <th>0</th>\n",
       "      <td>1000</td>\n",
       "      <td>25</td>\n",
       "      <td>56</td>\n",
       "      <td>graphml/AttMpls.graphml</td>\n",
       "      <td>3</td>\n",
       "      <td>2</td>\n",
       "      <td>clustered</td>\n",
       "      <td>0.5;-0.3</td>\n",
       "      <td>7</td>\n",
       "      <td>3</td>\n",
       "      <td>3</td>\n",
       "      <td>4</td>\n",
       "      <td>0</td>\n",
       "      <td>3</td>\n",
       "      <td>0</td>\n",
       "      <td>3</td>\n",
       "      <td>3</td>\n",
       "      <td>0</td>\n",
       "      <td>0</td>\n",
       "      <td>edgeCount</td>\n",
       "    </tr>\n",
       "    <tr>\n",
       "      <th>1</th>\n",
       "      <td>999</td>\n",
       "      <td>25</td>\n",
       "      <td>56</td>\n",
       "      <td>graphml/AttMpls.graphml</td>\n",
       "      <td>3</td>\n",
       "      <td>2</td>\n",
       "      <td>clustered</td>\n",
       "      <td>0.5;-0.3</td>\n",
       "      <td>5</td>\n",
       "      <td>6</td>\n",
       "      <td>3</td>\n",
       "      <td>2</td>\n",
       "      <td>12</td>\n",
       "      <td>-1</td>\n",
       "      <td>-4</td>\n",
       "      <td>5</td>\n",
       "      <td>5</td>\n",
       "      <td>2</td>\n",
       "      <td>4</td>\n",
       "      <td>edgeCount</td>\n",
       "    </tr>\n",
       "    <tr>\n",
       "      <th>2</th>\n",
       "      <td>998</td>\n",
       "      <td>25</td>\n",
       "      <td>56</td>\n",
       "      <td>graphml/AttMpls.graphml</td>\n",
       "      <td>2</td>\n",
       "      <td>1</td>\n",
       "      <td>clustered</td>\n",
       "      <td>0.5;-0.3</td>\n",
       "      <td>9</td>\n",
       "      <td>8</td>\n",
       "      <td>3</td>\n",
       "      <td>6</td>\n",
       "      <td>14</td>\n",
       "      <td>7</td>\n",
       "      <td>4</td>\n",
       "      <td>7</td>\n",
       "      <td>7</td>\n",
       "      <td>4</td>\n",
       "      <td>10</td>\n",
       "      <td>edgeCount</td>\n",
       "    </tr>\n",
       "    <tr>\n",
       "      <th>3</th>\n",
       "      <td>997</td>\n",
       "      <td>25</td>\n",
       "      <td>56</td>\n",
       "      <td>graphml/AttMpls.graphml</td>\n",
       "      <td>5</td>\n",
       "      <td>4</td>\n",
       "      <td>clustered</td>\n",
       "      <td>0.5;-0.3</td>\n",
       "      <td>9</td>\n",
       "      <td>5</td>\n",
       "      <td>3</td>\n",
       "      <td>6</td>\n",
       "      <td>0</td>\n",
       "      <td>9</td>\n",
       "      <td>6</td>\n",
       "      <td>7</td>\n",
       "      <td>7</td>\n",
       "      <td>4</td>\n",
       "      <td>0</td>\n",
       "      <td>edgeCount</td>\n",
       "    </tr>\n",
       "    <tr>\n",
       "      <th>4</th>\n",
       "      <td>996</td>\n",
       "      <td>25</td>\n",
       "      <td>56</td>\n",
       "      <td>graphml/AttMpls.graphml</td>\n",
       "      <td>2</td>\n",
       "      <td>1</td>\n",
       "      <td>clustered</td>\n",
       "      <td>0.5;-0.3</td>\n",
       "      <td>3</td>\n",
       "      <td>3</td>\n",
       "      <td>3</td>\n",
       "      <td>0</td>\n",
       "      <td>2</td>\n",
       "      <td>3</td>\n",
       "      <td>0</td>\n",
       "      <td>3</td>\n",
       "      <td>3</td>\n",
       "      <td>0</td>\n",
       "      <td>2</td>\n",
       "      <td>edgeCount</td>\n",
       "    </tr>\n",
       "  </tbody>\n",
       "</table>\n",
       "</div>"
      ],
      "text/plain": [
       "    rep  nrNodes  nrEdges                 edgeProb  nrPaths  nrFails  \\\n",
       "0  1000       25       56  graphml/AttMpls.graphml        3        2   \n",
       "1   999       25       56  graphml/AttMpls.graphml        3        2   \n",
       "2   998       25       56  graphml/AttMpls.graphml        2        1   \n",
       "3   997       25       56  graphml/AttMpls.graphml        5        4   \n",
       "4   996       25       56  graphml/AttMpls.graphml        2        1   \n",
       "\n",
       "  failureModel failurePercent  hopsRanked  hopsUnranked  spLength  \\\n",
       "0    clustered       0.5;-0.3           7             3         3   \n",
       "1    clustered       0.5;-0.3           5             6         3   \n",
       "2    clustered       0.5;-0.3           9             8         3   \n",
       "3    clustered       0.5;-0.3           9             5         3   \n",
       "4    clustered       0.5;-0.3           3             3         3   \n",
       "\n",
       "   stretch_mult  nodeAdditions  hopsPath  stretch_path  hopsRankedOne  \\\n",
       "0             4              0         3             0              3   \n",
       "1             2             12        -1            -4              5   \n",
       "2             6             14         7             4              7   \n",
       "3             6              0         9             6              7   \n",
       "4             0              2         3             0              3   \n",
       "\n",
       "   hopsUnrankedOne  stretch_one  overallNodeAdditionsOne treeChoice  \n",
       "0                3            0                        0  edgeCount  \n",
       "1                5            2                        4  edgeCount  \n",
       "2                7            4                       10  edgeCount  \n",
       "3                7            4                        0  edgeCount  \n",
       "4                3            0                        2  edgeCount  "
      ]
     },
     "metadata": {},
     "output_type": "display_data"
    },
    {
     "name": "stdout",
     "output_type": "stream",
     "text": [
      "Resilience Paths: 81.87565858798736%\n",
      "Resilience One Tree: 91.6754478398314%\n",
      "Resilience Trees: 96.4172813487882%\n"
     ]
    },
    {
     "data": {
      "image/png": "[encoded data removed]",
      "text/plain": [
       "<Figure size 432x288 with 1 Axes>"
      ]
     },
     "metadata": {
      "needs_background": "light"
     },
     "output_type": "display_data"
    },
    {
     "name": "stdout",
     "output_type": "stream",
     "text": [
      "Trees beat paths in 288 runs\n",
      "Paths beat trees in 296 runs\n",
      "Both performed equally good in 193 runs\n"
     ]
    },
    {
     "data": {
      "image/png": "[encoded data removed]",
      "text/plain": [
       "<Figure size 432x288 with 1 Axes>"
      ]
     },
     "metadata": {
      "needs_background": "light"
     },
     "output_type": "display_data"
    },
    {
     "name": "stdout",
     "output_type": "stream",
     "text": [
      "One Tree beat paths in 90 runs\n",
      "Paths beat one tree in 62 runs\n",
      "Both performed equally good in 625 runs\n"
     ]
    },
    {
     "data": {
      "image/png": "[encoded data removed]",
      "text/plain": [
       "<Figure size 432x288 with 1 Axes>"
      ]
     },
     "metadata": {
      "needs_background": "light"
     },
     "output_type": "display_data"
    },
    {
     "name": "stdout",
     "output_type": "stream",
     "text": [
      "Multiple Trees beat One Tree in 315 runs\n",
      "One Tree beat  multiple trees in 316 runs\n",
      "Both performed equally good in 232 runs\n"
     ]
    },
    {
     "data": {
      "image/png": "[encoded data removed]",
      "text/plain": [
       "<Figure size 432x288 with 1 Axes>"
      ]
     },
     "metadata": {
      "needs_background": "light"
     },
     "output_type": "display_data"
    },
    {
     "name": "stdout",
     "output_type": "stream",
     "text": [
      "Ranked Trees beat Unranked Tree in 261 runs\n",
      "Unranked Tree beat ranked trees in 338 runs\n",
      "Both performed equally good in 316 runs\n"
     ]
    }
   ],
   "source": [
    "#0.5\n",
    "rPaths05, rOne05, rMult05 = allInOne('CSVs/curve/trees-2021-08-08_17-28-53-n25.csv')\n"
   ]
  },
  {
   "cell_type": "code",
   "execution_count": 18,
   "metadata": {},
   "outputs": [
    {
     "data": {
      "text/html": [
       "<div>\n",
       "<style scoped>\n",
       "    .dataframe tbody tr th:only-of-type {\n",
       "        vertical-align: middle;\n",
       "    }\n",
       "\n",
       "    .dataframe tbody tr th {\n",
       "        vertical-align: top;\n",
       "    }\n",
       "\n",
       "    .dataframe thead th {\n",
       "        text-align: right;\n",
       "    }\n",
       "</style>\n",
       "<table border=\"1\" class=\"dataframe\">\n",
       "  <thead>\n",
       "    <tr style=\"text-align: right;\">\n",
       "      <th></th>\n",
       "      <th>rep</th>\n",
       "      <th>nrNodes</th>\n",
       "      <th>nrEdges</th>\n",
       "      <th>edgeProb</th>\n",
       "      <th>nrPaths</th>\n",
       "      <th>nrFails</th>\n",
       "      <th>failureModel</th>\n",
       "      <th>failurePercent</th>\n",
       "      <th>hopsRanked</th>\n",
       "      <th>hopsUnranked</th>\n",
       "      <th>spLength</th>\n",
       "      <th>stretch_mult</th>\n",
       "      <th>nodeAdditions</th>\n",
       "      <th>hopsPath</th>\n",
       "      <th>stretch_path</th>\n",
       "      <th>hopsRankedOne</th>\n",
       "      <th>hopsUnrankedOne</th>\n",
       "      <th>stretch_one</th>\n",
       "      <th>overallNodeAdditionsOne</th>\n",
       "      <th>treeChoice</th>\n",
       "    </tr>\n",
       "  </thead>\n",
       "  <tbody>\n",
       "    <tr>\n",
       "      <th>0</th>\n",
       "      <td>1000</td>\n",
       "      <td>25</td>\n",
       "      <td>56</td>\n",
       "      <td>graphml/AttMpls.graphml</td>\n",
       "      <td>3</td>\n",
       "      <td>2</td>\n",
       "      <td>clustered</td>\n",
       "      <td>0.6;-0.3</td>\n",
       "      <td>17</td>\n",
       "      <td>9</td>\n",
       "      <td>4</td>\n",
       "      <td>13</td>\n",
       "      <td>0</td>\n",
       "      <td>-1</td>\n",
       "      <td>-5</td>\n",
       "      <td>-1</td>\n",
       "      <td>-1</td>\n",
       "      <td>-5</td>\n",
       "      <td>0</td>\n",
       "      <td>edgeCount</td>\n",
       "    </tr>\n",
       "    <tr>\n",
       "      <th>1</th>\n",
       "      <td>999</td>\n",
       "      <td>25</td>\n",
       "      <td>56</td>\n",
       "      <td>graphml/AttMpls.graphml</td>\n",
       "      <td>3</td>\n",
       "      <td>2</td>\n",
       "      <td>clustered</td>\n",
       "      <td>0.6;-0.3</td>\n",
       "      <td>11</td>\n",
       "      <td>20</td>\n",
       "      <td>4</td>\n",
       "      <td>7</td>\n",
       "      <td>0</td>\n",
       "      <td>13</td>\n",
       "      <td>9</td>\n",
       "      <td>13</td>\n",
       "      <td>19</td>\n",
       "      <td>9</td>\n",
       "      <td>0</td>\n",
       "      <td>edgeCount</td>\n",
       "    </tr>\n",
       "    <tr>\n",
       "      <th>2</th>\n",
       "      <td>998</td>\n",
       "      <td>25</td>\n",
       "      <td>56</td>\n",
       "      <td>graphml/AttMpls.graphml</td>\n",
       "      <td>2</td>\n",
       "      <td>1</td>\n",
       "      <td>clustered</td>\n",
       "      <td>0.6;-0.3</td>\n",
       "      <td>6</td>\n",
       "      <td>6</td>\n",
       "      <td>4</td>\n",
       "      <td>2</td>\n",
       "      <td>0</td>\n",
       "      <td>8</td>\n",
       "      <td>4</td>\n",
       "      <td>8</td>\n",
       "      <td>8</td>\n",
       "      <td>4</td>\n",
       "      <td>0</td>\n",
       "      <td>edgeCount</td>\n",
       "    </tr>\n",
       "    <tr>\n",
       "      <th>3</th>\n",
       "      <td>997</td>\n",
       "      <td>25</td>\n",
       "      <td>56</td>\n",
       "      <td>graphml/AttMpls.graphml</td>\n",
       "      <td>3</td>\n",
       "      <td>2</td>\n",
       "      <td>clustered</td>\n",
       "      <td>0.6;-0.3</td>\n",
       "      <td>13</td>\n",
       "      <td>8</td>\n",
       "      <td>4</td>\n",
       "      <td>9</td>\n",
       "      <td>4</td>\n",
       "      <td>11</td>\n",
       "      <td>7</td>\n",
       "      <td>11</td>\n",
       "      <td>23</td>\n",
       "      <td>7</td>\n",
       "      <td>4</td>\n",
       "      <td>edgeCount</td>\n",
       "    </tr>\n",
       "    <tr>\n",
       "      <th>4</th>\n",
       "      <td>996</td>\n",
       "      <td>25</td>\n",
       "      <td>56</td>\n",
       "      <td>graphml/AttMpls.graphml</td>\n",
       "      <td>4</td>\n",
       "      <td>3</td>\n",
       "      <td>clustered</td>\n",
       "      <td>0.6;-0.3</td>\n",
       "      <td>8</td>\n",
       "      <td>2</td>\n",
       "      <td>2</td>\n",
       "      <td>6</td>\n",
       "      <td>0</td>\n",
       "      <td>2</td>\n",
       "      <td>0</td>\n",
       "      <td>6</td>\n",
       "      <td>2</td>\n",
       "      <td>4</td>\n",
       "      <td>0</td>\n",
       "      <td>edgeCount</td>\n",
       "    </tr>\n",
       "  </tbody>\n",
       "</table>\n",
       "</div>"
      ],
      "text/plain": [
       "    rep  nrNodes  nrEdges                 edgeProb  nrPaths  nrFails  \\\n",
       "0  1000       25       56  graphml/AttMpls.graphml        3        2   \n",
       "1   999       25       56  graphml/AttMpls.graphml        3        2   \n",
       "2   998       25       56  graphml/AttMpls.graphml        2        1   \n",
       "3   997       25       56  graphml/AttMpls.graphml        3        2   \n",
       "4   996       25       56  graphml/AttMpls.graphml        4        3   \n",
       "\n",
       "  failureModel failurePercent  hopsRanked  hopsUnranked  spLength  \\\n",
       "0    clustered       0.6;-0.3          17             9         4   \n",
       "1    clustered       0.6;-0.3          11            20         4   \n",
       "2    clustered       0.6;-0.3           6             6         4   \n",
       "3    clustered       0.6;-0.3          13             8         4   \n",
       "4    clustered       0.6;-0.3           8             2         2   \n",
       "\n",
       "   stretch_mult  nodeAdditions  hopsPath  stretch_path  hopsRankedOne  \\\n",
       "0            13              0        -1            -5             -1   \n",
       "1             7              0        13             9             13   \n",
       "2             2              0         8             4              8   \n",
       "3             9              4        11             7             11   \n",
       "4             6              0         2             0              6   \n",
       "\n",
       "   hopsUnrankedOne  stretch_one  overallNodeAdditionsOne treeChoice  \n",
       "0               -1           -5                        0  edgeCount  \n",
       "1               19            9                        0  edgeCount  \n",
       "2                8            4                        0  edgeCount  \n",
       "3               23            7                        4  edgeCount  \n",
       "4                2            4                        0  edgeCount  "
      ]
     },
     "metadata": {},
     "output_type": "display_data"
    },
    {
     "name": "stdout",
     "output_type": "stream",
     "text": [
      "Resilience Paths: 63.61556064073226%\n",
      "Resilience One Tree: 79.51945080091534%\n",
      "Resilience Trees: 90.38901601830663%\n"
     ]
    },
    {
     "data": {
      "image/png": "[encoded data removed]",
      "text/plain": [
       "<Figure size 432x288 with 1 Axes>"
      ]
     },
     "metadata": {
      "needs_background": "light"
     },
     "output_type": "display_data"
    },
    {
     "name": "stdout",
     "output_type": "stream",
     "text": [
      "Trees beat paths in 226 runs\n",
      "Paths beat trees in 215 runs\n",
      "Both performed equally good in 115 runs\n"
     ]
    },
    {
     "data": {
      "image/png": "[encoded data removed]",
      "text/plain": [
       "<Figure size 432x288 with 1 Axes>"
      ]
     },
     "metadata": {
      "needs_background": "light"
     },
     "output_type": "display_data"
    },
    {
     "name": "stdout",
     "output_type": "stream",
     "text": [
      "One Tree beat paths in 70 runs\n",
      "Paths beat one tree in 76 runs\n",
      "Both performed equally good in 410 runs\n"
     ]
    },
    {
     "data": {
      "image/png": "[encoded data removed]",
      "text/plain": [
       "<Figure size 432x288 with 1 Axes>"
      ]
     },
     "metadata": {
      "needs_background": "light"
     },
     "output_type": "display_data"
    },
    {
     "name": "stdout",
     "output_type": "stream",
     "text": [
      "Multiple Trees beat One Tree in 281 runs\n",
      "One Tree beat  multiple trees in 228 runs\n",
      "Both performed equally good in 170 runs\n"
     ]
    },
    {
     "data": {
      "image/png": "[encoded data removed]",
      "text/plain": [
       "<Figure size 432x288 with 1 Axes>"
      ]
     },
     "metadata": {
      "needs_background": "light"
     },
     "output_type": "display_data"
    },
    {
     "name": "stdout",
     "output_type": "stream",
     "text": [
      "Ranked Trees beat Unranked Tree in 234 runs\n",
      "Unranked Tree beat ranked trees in 307 runs\n",
      "Both performed equally good in 249 runs\n"
     ]
    }
   ],
   "source": [
    "#0.6\n",
    "rPaths06, rOne06, rMult06 = allInOne('CSVs/curve/trees-2021-08-08_17-29-09-n25.csv')\n"
   ]
  },
  {
   "cell_type": "code",
   "execution_count": 19,
   "metadata": {},
   "outputs": [
    {
     "data": {
      "text/html": [
       "<div>\n",
       "<style scoped>\n",
       "    .dataframe tbody tr th:only-of-type {\n",
       "        vertical-align: middle;\n",
       "    }\n",
       "\n",
       "    .dataframe tbody tr th {\n",
       "        vertical-align: top;\n",
       "    }\n",
       "\n",
       "    .dataframe thead th {\n",
       "        text-align: right;\n",
       "    }\n",
       "</style>\n",
       "<table border=\"1\" class=\"dataframe\">\n",
       "  <thead>\n",
       "    <tr style=\"text-align: right;\">\n",
       "      <th></th>\n",
       "      <th>rep</th>\n",
       "      <th>nrNodes</th>\n",
       "      <th>nrEdges</th>\n",
       "      <th>edgeProb</th>\n",
       "      <th>nrPaths</th>\n",
       "      <th>nrFails</th>\n",
       "      <th>failureModel</th>\n",
       "      <th>failurePercent</th>\n",
       "      <th>hopsRanked</th>\n",
       "      <th>hopsUnranked</th>\n",
       "      <th>spLength</th>\n",
       "      <th>stretch_mult</th>\n",
       "      <th>nodeAdditions</th>\n",
       "      <th>hopsPath</th>\n",
       "      <th>stretch_path</th>\n",
       "      <th>hopsRankedOne</th>\n",
       "      <th>hopsUnrankedOne</th>\n",
       "      <th>stretch_one</th>\n",
       "      <th>overallNodeAdditionsOne</th>\n",
       "      <th>treeChoice</th>\n",
       "    </tr>\n",
       "  </thead>\n",
       "  <tbody>\n",
       "    <tr>\n",
       "      <th>0</th>\n",
       "      <td>1000</td>\n",
       "      <td>25</td>\n",
       "      <td>56</td>\n",
       "      <td>graphml/AttMpls.graphml</td>\n",
       "      <td>2</td>\n",
       "      <td>1</td>\n",
       "      <td>clustered</td>\n",
       "      <td>0.7;-0.3</td>\n",
       "      <td>25</td>\n",
       "      <td>23</td>\n",
       "      <td>5</td>\n",
       "      <td>20</td>\n",
       "      <td>2</td>\n",
       "      <td>-1</td>\n",
       "      <td>-6</td>\n",
       "      <td>-1</td>\n",
       "      <td>-1</td>\n",
       "      <td>-6</td>\n",
       "      <td>2</td>\n",
       "      <td>edgeCount</td>\n",
       "    </tr>\n",
       "    <tr>\n",
       "      <th>1</th>\n",
       "      <td>998</td>\n",
       "      <td>25</td>\n",
       "      <td>56</td>\n",
       "      <td>graphml/AttMpls.graphml</td>\n",
       "      <td>2</td>\n",
       "      <td>1</td>\n",
       "      <td>clustered</td>\n",
       "      <td>0.7;-0.3</td>\n",
       "      <td>10</td>\n",
       "      <td>6</td>\n",
       "      <td>4</td>\n",
       "      <td>6</td>\n",
       "      <td>0</td>\n",
       "      <td>-1</td>\n",
       "      <td>-5</td>\n",
       "      <td>-1</td>\n",
       "      <td>-1</td>\n",
       "      <td>-5</td>\n",
       "      <td>0</td>\n",
       "      <td>edgeCount</td>\n",
       "    </tr>\n",
       "    <tr>\n",
       "      <th>2</th>\n",
       "      <td>996</td>\n",
       "      <td>25</td>\n",
       "      <td>56</td>\n",
       "      <td>graphml/AttMpls.graphml</td>\n",
       "      <td>2</td>\n",
       "      <td>1</td>\n",
       "      <td>clustered</td>\n",
       "      <td>0.7;-0.3</td>\n",
       "      <td>4</td>\n",
       "      <td>4</td>\n",
       "      <td>4</td>\n",
       "      <td>0</td>\n",
       "      <td>0</td>\n",
       "      <td>4</td>\n",
       "      <td>0</td>\n",
       "      <td>4</td>\n",
       "      <td>4</td>\n",
       "      <td>0</td>\n",
       "      <td>0</td>\n",
       "      <td>edgeCount</td>\n",
       "    </tr>\n",
       "    <tr>\n",
       "      <th>3</th>\n",
       "      <td>990</td>\n",
       "      <td>25</td>\n",
       "      <td>56</td>\n",
       "      <td>graphml/AttMpls.graphml</td>\n",
       "      <td>2</td>\n",
       "      <td>1</td>\n",
       "      <td>clustered</td>\n",
       "      <td>0.7;-0.3</td>\n",
       "      <td>3</td>\n",
       "      <td>3</td>\n",
       "      <td>3</td>\n",
       "      <td>0</td>\n",
       "      <td>0</td>\n",
       "      <td>5</td>\n",
       "      <td>2</td>\n",
       "      <td>3</td>\n",
       "      <td>5</td>\n",
       "      <td>0</td>\n",
       "      <td>0</td>\n",
       "      <td>edgeCount</td>\n",
       "    </tr>\n",
       "    <tr>\n",
       "      <th>4</th>\n",
       "      <td>989</td>\n",
       "      <td>25</td>\n",
       "      <td>56</td>\n",
       "      <td>graphml/AttMpls.graphml</td>\n",
       "      <td>5</td>\n",
       "      <td>4</td>\n",
       "      <td>clustered</td>\n",
       "      <td>0.7;-0.3</td>\n",
       "      <td>4</td>\n",
       "      <td>4</td>\n",
       "      <td>4</td>\n",
       "      <td>0</td>\n",
       "      <td>0</td>\n",
       "      <td>12</td>\n",
       "      <td>8</td>\n",
       "      <td>4</td>\n",
       "      <td>4</td>\n",
       "      <td>0</td>\n",
       "      <td>0</td>\n",
       "      <td>edgeCount</td>\n",
       "    </tr>\n",
       "  </tbody>\n",
       "</table>\n",
       "</div>"
      ],
      "text/plain": [
       "    rep  nrNodes  nrEdges                 edgeProb  nrPaths  nrFails  \\\n",
       "0  1000       25       56  graphml/AttMpls.graphml        2        1   \n",
       "1   998       25       56  graphml/AttMpls.graphml        2        1   \n",
       "2   996       25       56  graphml/AttMpls.graphml        2        1   \n",
       "3   990       25       56  graphml/AttMpls.graphml        2        1   \n",
       "4   989       25       56  graphml/AttMpls.graphml        5        4   \n",
       "\n",
       "  failureModel failurePercent  hopsRanked  hopsUnranked  spLength  \\\n",
       "0    clustered       0.7;-0.3          25            23         5   \n",
       "1    clustered       0.7;-0.3          10             6         4   \n",
       "2    clustered       0.7;-0.3           4             4         4   \n",
       "3    clustered       0.7;-0.3           3             3         3   \n",
       "4    clustered       0.7;-0.3           4             4         4   \n",
       "\n",
       "   stretch_mult  nodeAdditions  hopsPath  stretch_path  hopsRankedOne  \\\n",
       "0            20              2        -1            -6             -1   \n",
       "1             6              0        -1            -5             -1   \n",
       "2             0              0         4             0              4   \n",
       "3             0              0         5             2              3   \n",
       "4             0              0        12             8              4   \n",
       "\n",
       "   hopsUnrankedOne  stretch_one  overallNodeAdditionsOne treeChoice  \n",
       "0               -1           -6                        2  edgeCount  \n",
       "1               -1           -5                        0  edgeCount  \n",
       "2                4            0                        0  edgeCount  \n",
       "3                5            0                        0  edgeCount  \n",
       "4                4            0                        0  edgeCount  "
      ]
     },
     "metadata": {},
     "output_type": "display_data"
    },
    {
     "name": "stdout",
     "output_type": "stream",
     "text": [
      "Resilience Paths: 36.7479674796748%\n",
      "Resilience One Tree: 47.479674796747965%\n",
      "Resilience Trees: 61.78861788617886%\n"
     ]
    },
    {
     "data": {
      "image/png": "[encoded data removed]",
      "text/plain": [
       "<Figure size 432x288 with 1 Axes>"
      ]
     },
     "metadata": {
      "needs_background": "light"
     },
     "output_type": "display_data"
    },
    {
     "name": "stdout",
     "output_type": "stream",
     "text": [
      "Trees beat paths in 64 runs\n",
      "Paths beat trees in 100 runs\n",
      "Both performed equally good in 62 runs\n"
     ]
    },
    {
     "data": {
      "image/png": "[encoded data removed]",
      "text/plain": [
       "<Figure size 432x288 with 1 Axes>"
      ]
     },
     "metadata": {
      "needs_background": "light"
     },
     "output_type": "display_data"
    },
    {
     "name": "stdout",
     "output_type": "stream",
     "text": [
      "One Tree beat paths in 18 runs\n",
      "Paths beat one tree in 22 runs\n",
      "Both performed equally good in 186 runs\n"
     ]
    },
    {
     "data": {
      "image/png": "[encoded data removed]",
      "text/plain": [
       "<Figure size 432x288 with 1 Axes>"
      ]
     },
     "metadata": {
      "needs_background": "light"
     },
     "output_type": "display_data"
    },
    {
     "name": "stdout",
     "output_type": "stream",
     "text": [
      "Multiple Trees beat One Tree in 79 runs\n",
      "One Tree beat  multiple trees in 105 runs\n",
      "Both performed equally good in 93 runs\n"
     ]
    },
    {
     "data": {
      "image/png": "[encoded data removed]",
      "text/plain": [
       "<Figure size 432x288 with 1 Axes>"
      ]
     },
     "metadata": {
      "needs_background": "light"
     },
     "output_type": "display_data"
    },
    {
     "name": "stdout",
     "output_type": "stream",
     "text": [
      "Ranked Trees beat Unranked Tree in 110 runs\n",
      "Unranked Tree beat ranked trees in 159 runs\n",
      "Both performed equally good in 111 runs\n"
     ]
    }
   ],
   "source": [
    "#0.7\n",
    "rPaths07, rOne07, rMult07 = allInOne('CSVs/curve/trees-2021-08-08_17-29-27-n25.csv')\n"
   ]
  },
  {
   "cell_type": "code",
   "execution_count": 20,
   "metadata": {},
   "outputs": [
    {
     "data": {
      "text/html": [
       "<div>\n",
       "<style scoped>\n",
       "    .dataframe tbody tr th:only-of-type {\n",
       "        vertical-align: middle;\n",
       "    }\n",
       "\n",
       "    .dataframe tbody tr th {\n",
       "        vertical-align: top;\n",
       "    }\n",
       "\n",
       "    .dataframe thead th {\n",
       "        text-align: right;\n",
       "    }\n",
       "</style>\n",
       "<table border=\"1\" class=\"dataframe\">\n",
       "  <thead>\n",
       "    <tr style=\"text-align: right;\">\n",
       "      <th></th>\n",
       "      <th>rep</th>\n",
       "      <th>nrNodes</th>\n",
       "      <th>nrEdges</th>\n",
       "      <th>edgeProb</th>\n",
       "      <th>nrPaths</th>\n",
       "      <th>nrFails</th>\n",
       "      <th>failureModel</th>\n",
       "      <th>failurePercent</th>\n",
       "      <th>hopsRanked</th>\n",
       "      <th>hopsUnranked</th>\n",
       "      <th>spLength</th>\n",
       "      <th>stretch_mult</th>\n",
       "      <th>nodeAdditions</th>\n",
       "      <th>hopsPath</th>\n",
       "      <th>stretch_path</th>\n",
       "      <th>hopsRankedOne</th>\n",
       "      <th>hopsUnrankedOne</th>\n",
       "      <th>stretch_one</th>\n",
       "      <th>overallNodeAdditionsOne</th>\n",
       "      <th>treeChoice</th>\n",
       "    </tr>\n",
       "  </thead>\n",
       "  <tbody>\n",
       "    <tr>\n",
       "      <th>0</th>\n",
       "      <td>995</td>\n",
       "      <td>25</td>\n",
       "      <td>56</td>\n",
       "      <td>graphml/AttMpls.graphml</td>\n",
       "      <td>2</td>\n",
       "      <td>1</td>\n",
       "      <td>clustered</td>\n",
       "      <td>0.8;-0.3</td>\n",
       "      <td>-1</td>\n",
       "      <td>-1</td>\n",
       "      <td>8</td>\n",
       "      <td>-9</td>\n",
       "      <td>4</td>\n",
       "      <td>-1</td>\n",
       "      <td>-9</td>\n",
       "      <td>-1</td>\n",
       "      <td>-1</td>\n",
       "      <td>-9</td>\n",
       "      <td>4</td>\n",
       "      <td>edgeCount</td>\n",
       "    </tr>\n",
       "    <tr>\n",
       "      <th>1</th>\n",
       "      <td>992</td>\n",
       "      <td>25</td>\n",
       "      <td>56</td>\n",
       "      <td>graphml/AttMpls.graphml</td>\n",
       "      <td>2</td>\n",
       "      <td>1</td>\n",
       "      <td>clustered</td>\n",
       "      <td>0.8;-0.3</td>\n",
       "      <td>17</td>\n",
       "      <td>11</td>\n",
       "      <td>5</td>\n",
       "      <td>12</td>\n",
       "      <td>0</td>\n",
       "      <td>5</td>\n",
       "      <td>0</td>\n",
       "      <td>5</td>\n",
       "      <td>5</td>\n",
       "      <td>0</td>\n",
       "      <td>0</td>\n",
       "      <td>edgeCount</td>\n",
       "    </tr>\n",
       "    <tr>\n",
       "      <th>2</th>\n",
       "      <td>988</td>\n",
       "      <td>25</td>\n",
       "      <td>56</td>\n",
       "      <td>graphml/AttMpls.graphml</td>\n",
       "      <td>4</td>\n",
       "      <td>3</td>\n",
       "      <td>clustered</td>\n",
       "      <td>0.8;-0.3</td>\n",
       "      <td>6</td>\n",
       "      <td>6</td>\n",
       "      <td>4</td>\n",
       "      <td>2</td>\n",
       "      <td>8</td>\n",
       "      <td>-1</td>\n",
       "      <td>-5</td>\n",
       "      <td>6</td>\n",
       "      <td>12</td>\n",
       "      <td>2</td>\n",
       "      <td>4</td>\n",
       "      <td>edgeCount</td>\n",
       "    </tr>\n",
       "    <tr>\n",
       "      <th>3</th>\n",
       "      <td>987</td>\n",
       "      <td>25</td>\n",
       "      <td>56</td>\n",
       "      <td>graphml/AttMpls.graphml</td>\n",
       "      <td>4</td>\n",
       "      <td>3</td>\n",
       "      <td>clustered</td>\n",
       "      <td>0.8;-0.3</td>\n",
       "      <td>9</td>\n",
       "      <td>3</td>\n",
       "      <td>3</td>\n",
       "      <td>6</td>\n",
       "      <td>0</td>\n",
       "      <td>3</td>\n",
       "      <td>0</td>\n",
       "      <td>3</td>\n",
       "      <td>3</td>\n",
       "      <td>0</td>\n",
       "      <td>0</td>\n",
       "      <td>edgeCount</td>\n",
       "    </tr>\n",
       "    <tr>\n",
       "      <th>4</th>\n",
       "      <td>986</td>\n",
       "      <td>25</td>\n",
       "      <td>56</td>\n",
       "      <td>graphml/AttMpls.graphml</td>\n",
       "      <td>2</td>\n",
       "      <td>1</td>\n",
       "      <td>clustered</td>\n",
       "      <td>0.8;-0.3</td>\n",
       "      <td>4</td>\n",
       "      <td>12</td>\n",
       "      <td>4</td>\n",
       "      <td>0</td>\n",
       "      <td>2</td>\n",
       "      <td>4</td>\n",
       "      <td>0</td>\n",
       "      <td>4</td>\n",
       "      <td>4</td>\n",
       "      <td>0</td>\n",
       "      <td>2</td>\n",
       "      <td>edgeCount</td>\n",
       "    </tr>\n",
       "  </tbody>\n",
       "</table>\n",
       "</div>"
      ],
      "text/plain": [
       "   rep  nrNodes  nrEdges                 edgeProb  nrPaths  nrFails  \\\n",
       "0  995       25       56  graphml/AttMpls.graphml        2        1   \n",
       "1  992       25       56  graphml/AttMpls.graphml        2        1   \n",
       "2  988       25       56  graphml/AttMpls.graphml        4        3   \n",
       "3  987       25       56  graphml/AttMpls.graphml        4        3   \n",
       "4  986       25       56  graphml/AttMpls.graphml        2        1   \n",
       "\n",
       "  failureModel failurePercent  hopsRanked  hopsUnranked  spLength  \\\n",
       "0    clustered       0.8;-0.3          -1            -1         8   \n",
       "1    clustered       0.8;-0.3          17            11         5   \n",
       "2    clustered       0.8;-0.3           6             6         4   \n",
       "3    clustered       0.8;-0.3           9             3         3   \n",
       "4    clustered       0.8;-0.3           4            12         4   \n",
       "\n",
       "   stretch_mult  nodeAdditions  hopsPath  stretch_path  hopsRankedOne  \\\n",
       "0            -9              4        -1            -9             -1   \n",
       "1            12              0         5             0              5   \n",
       "2             2              8        -1            -5              6   \n",
       "3             6              0         3             0              3   \n",
       "4             0              2         4             0              4   \n",
       "\n",
       "   hopsUnrankedOne  stretch_one  overallNodeAdditionsOne treeChoice  \n",
       "0               -1           -9                        4  edgeCount  \n",
       "1                5            0                        0  edgeCount  \n",
       "2               12            2                        4  edgeCount  \n",
       "3                3            0                        0  edgeCount  \n",
       "4                4            0                        2  edgeCount  "
      ]
     },
     "metadata": {},
     "output_type": "display_data"
    },
    {
     "name": "stdout",
     "output_type": "stream",
     "text": [
      "Resilience Paths: 27.906976744186046%\n",
      "Resilience One Tree: 36.27906976744186%\n",
      "Resilience Trees: 40.46511627906977%\n"
     ]
    },
    {
     "data": {
      "image/png": "[encoded data removed]",
      "text/plain": [
       "<Figure size 432x288 with 1 Axes>"
      ]
     },
     "metadata": {
      "needs_background": "light"
     },
     "output_type": "display_data"
    },
    {
     "name": "stdout",
     "output_type": "stream",
     "text": [
      "Trees beat paths in 12 runs\n",
      "Paths beat trees in 23 runs\n",
      "Both performed equally good in 25 runs\n"
     ]
    },
    {
     "data": {
      "image/png": "[encoded data removed]",
      "text/plain": [
       "<Figure size 432x288 with 1 Axes>"
      ]
     },
     "metadata": {
      "needs_background": "light"
     },
     "output_type": "display_data"
    },
    {
     "name": "stdout",
     "output_type": "stream",
     "text": [
      "One Tree beat paths in 6 runs\n",
      "Paths beat one tree in 4 runs\n",
      "Both performed equally good in 50 runs\n"
     ]
    },
    {
     "data": {
      "image/png": "[encoded data removed]",
      "text/plain": [
       "<Figure size 432x288 with 1 Axes>"
      ]
     },
     "metadata": {
      "needs_background": "light"
     },
     "output_type": "display_data"
    },
    {
     "name": "stdout",
     "output_type": "stream",
     "text": [
      "Multiple Trees beat One Tree in 17 runs\n",
      "One Tree beat  multiple trees in 24 runs\n",
      "Both performed equally good in 33 runs\n"
     ]
    },
    {
     "data": {
      "image/png": "[encoded data removed]",
      "text/plain": [
       "<Figure size 432x288 with 1 Axes>"
      ]
     },
     "metadata": {
      "needs_background": "light"
     },
     "output_type": "display_data"
    },
    {
     "name": "stdout",
     "output_type": "stream",
     "text": [
      "Ranked Trees beat Unranked Tree in 29 runs\n",
      "Unranked Tree beat ranked trees in 22 runs\n",
      "Both performed equally good in 36 runs\n"
     ]
    }
   ],
   "source": [
    "#0.8\n",
    "rPaths08, rOne08, rMult08 = allInOne('CSVs/curve/trees-2021-08-08_17-29-46-n25.csv')\n"
   ]
  },
  {
   "cell_type": "code",
   "execution_count": 21,
   "metadata": {},
   "outputs": [
    {
     "data": {
      "text/html": [
       "<div>\n",
       "<style scoped>\n",
       "    .dataframe tbody tr th:only-of-type {\n",
       "        vertical-align: middle;\n",
       "    }\n",
       "\n",
       "    .dataframe tbody tr th {\n",
       "        vertical-align: top;\n",
       "    }\n",
       "\n",
       "    .dataframe thead th {\n",
       "        text-align: right;\n",
       "    }\n",
       "</style>\n",
       "<table border=\"1\" class=\"dataframe\">\n",
       "  <thead>\n",
       "    <tr style=\"text-align: right;\">\n",
       "      <th></th>\n",
       "      <th>rep</th>\n",
       "      <th>nrNodes</th>\n",
       "      <th>nrEdges</th>\n",
       "      <th>edgeProb</th>\n",
       "      <th>nrPaths</th>\n",
       "      <th>nrFails</th>\n",
       "      <th>failureModel</th>\n",
       "      <th>failurePercent</th>\n",
       "      <th>hopsRanked</th>\n",
       "      <th>hopsUnranked</th>\n",
       "      <th>spLength</th>\n",
       "      <th>stretch_mult</th>\n",
       "      <th>nodeAdditions</th>\n",
       "      <th>hopsPath</th>\n",
       "      <th>stretch_path</th>\n",
       "      <th>hopsRankedOne</th>\n",
       "      <th>hopsUnrankedOne</th>\n",
       "      <th>stretch_one</th>\n",
       "      <th>overallNodeAdditionsOne</th>\n",
       "      <th>treeChoice</th>\n",
       "    </tr>\n",
       "  </thead>\n",
       "  <tbody>\n",
       "    <tr>\n",
       "      <th>0</th>\n",
       "      <td>988</td>\n",
       "      <td>25</td>\n",
       "      <td>56</td>\n",
       "      <td>graphml/AttMpls.graphml</td>\n",
       "      <td>2</td>\n",
       "      <td>1</td>\n",
       "      <td>clustered</td>\n",
       "      <td>0.9;-0.3</td>\n",
       "      <td>8</td>\n",
       "      <td>4</td>\n",
       "      <td>4</td>\n",
       "      <td>4</td>\n",
       "      <td>0</td>\n",
       "      <td>4</td>\n",
       "      <td>0</td>\n",
       "      <td>4</td>\n",
       "      <td>4</td>\n",
       "      <td>0</td>\n",
       "      <td>0</td>\n",
       "      <td>edgeCount</td>\n",
       "    </tr>\n",
       "    <tr>\n",
       "      <th>1</th>\n",
       "      <td>974</td>\n",
       "      <td>25</td>\n",
       "      <td>56</td>\n",
       "      <td>graphml/AttMpls.graphml</td>\n",
       "      <td>2</td>\n",
       "      <td>1</td>\n",
       "      <td>clustered</td>\n",
       "      <td>0.9;-0.3</td>\n",
       "      <td>3</td>\n",
       "      <td>3</td>\n",
       "      <td>3</td>\n",
       "      <td>0</td>\n",
       "      <td>0</td>\n",
       "      <td>3</td>\n",
       "      <td>0</td>\n",
       "      <td>3</td>\n",
       "      <td>3</td>\n",
       "      <td>0</td>\n",
       "      <td>0</td>\n",
       "      <td>edgeCount</td>\n",
       "    </tr>\n",
       "    <tr>\n",
       "      <th>2</th>\n",
       "      <td>973</td>\n",
       "      <td>25</td>\n",
       "      <td>56</td>\n",
       "      <td>graphml/AttMpls.graphml</td>\n",
       "      <td>5</td>\n",
       "      <td>4</td>\n",
       "      <td>clustered</td>\n",
       "      <td>0.9;-0.3</td>\n",
       "      <td>-1</td>\n",
       "      <td>-1</td>\n",
       "      <td>7</td>\n",
       "      <td>-8</td>\n",
       "      <td>0</td>\n",
       "      <td>-1</td>\n",
       "      <td>-8</td>\n",
       "      <td>-1</td>\n",
       "      <td>-1</td>\n",
       "      <td>-8</td>\n",
       "      <td>0</td>\n",
       "      <td>edgeCount</td>\n",
       "    </tr>\n",
       "    <tr>\n",
       "      <th>3</th>\n",
       "      <td>971</td>\n",
       "      <td>25</td>\n",
       "      <td>56</td>\n",
       "      <td>graphml/AttMpls.graphml</td>\n",
       "      <td>3</td>\n",
       "      <td>2</td>\n",
       "      <td>clustered</td>\n",
       "      <td>0.9;-0.3</td>\n",
       "      <td>2</td>\n",
       "      <td>2</td>\n",
       "      <td>2</td>\n",
       "      <td>0</td>\n",
       "      <td>10</td>\n",
       "      <td>2</td>\n",
       "      <td>0</td>\n",
       "      <td>2</td>\n",
       "      <td>2</td>\n",
       "      <td>0</td>\n",
       "      <td>4</td>\n",
       "      <td>edgeCount</td>\n",
       "    </tr>\n",
       "    <tr>\n",
       "      <th>4</th>\n",
       "      <td>963</td>\n",
       "      <td>25</td>\n",
       "      <td>56</td>\n",
       "      <td>graphml/AttMpls.graphml</td>\n",
       "      <td>3</td>\n",
       "      <td>2</td>\n",
       "      <td>clustered</td>\n",
       "      <td>0.9;-0.3</td>\n",
       "      <td>-1</td>\n",
       "      <td>-1</td>\n",
       "      <td>7</td>\n",
       "      <td>-8</td>\n",
       "      <td>0</td>\n",
       "      <td>-1</td>\n",
       "      <td>-8</td>\n",
       "      <td>-1</td>\n",
       "      <td>-1</td>\n",
       "      <td>-8</td>\n",
       "      <td>0</td>\n",
       "      <td>edgeCount</td>\n",
       "    </tr>\n",
       "  </tbody>\n",
       "</table>\n",
       "</div>"
      ],
      "text/plain": [
       "   rep  nrNodes  nrEdges                 edgeProb  nrPaths  nrFails  \\\n",
       "0  988       25       56  graphml/AttMpls.graphml        2        1   \n",
       "1  974       25       56  graphml/AttMpls.graphml        2        1   \n",
       "2  973       25       56  graphml/AttMpls.graphml        5        4   \n",
       "3  971       25       56  graphml/AttMpls.graphml        3        2   \n",
       "4  963       25       56  graphml/AttMpls.graphml        3        2   \n",
       "\n",
       "  failureModel failurePercent  hopsRanked  hopsUnranked  spLength  \\\n",
       "0    clustered       0.9;-0.3           8             4         4   \n",
       "1    clustered       0.9;-0.3           3             3         3   \n",
       "2    clustered       0.9;-0.3          -1            -1         7   \n",
       "3    clustered       0.9;-0.3           2             2         2   \n",
       "4    clustered       0.9;-0.3          -1            -1         7   \n",
       "\n",
       "   stretch_mult  nodeAdditions  hopsPath  stretch_path  hopsRankedOne  \\\n",
       "0             4              0         4             0              4   \n",
       "1             0              0         3             0              3   \n",
       "2            -8              0        -1            -8             -1   \n",
       "3             0             10         2             0              2   \n",
       "4            -8              0        -1            -8             -1   \n",
       "\n",
       "   hopsUnrankedOne  stretch_one  overallNodeAdditionsOne treeChoice  \n",
       "0                4            0                        0  edgeCount  \n",
       "1                3            0                        0  edgeCount  \n",
       "2               -1           -8                        0  edgeCount  \n",
       "3                2            0                        4  edgeCount  \n",
       "4               -1           -8                        0  edgeCount  "
      ]
     },
     "metadata": {},
     "output_type": "display_data"
    },
    {
     "name": "stdout",
     "output_type": "stream",
     "text": [
      "Resilience Paths: 27.397260273972602%\n",
      "Resilience One Tree: 31.506849315068493%\n",
      "Resilience Trees: 35.61643835616438%\n"
     ]
    },
    {
     "data": {
      "image/png": "[encoded data removed]",
      "text/plain": [
       "<Figure size 432x288 with 1 Axes>"
      ]
     },
     "metadata": {
      "needs_background": "light"
     },
     "output_type": "display_data"
    },
    {
     "name": "stdout",
     "output_type": "stream",
     "text": [
      "Trees beat paths in 6 runs\n",
      "Paths beat trees in 6 runs\n",
      "Both performed equally good in 8 runs\n"
     ]
    },
    {
     "data": {
      "image/png": "[encoded data removed]",
      "text/plain": [
       "<Figure size 432x288 with 1 Axes>"
      ]
     },
     "metadata": {
      "needs_background": "light"
     },
     "output_type": "display_data"
    },
    {
     "name": "stdout",
     "output_type": "stream",
     "text": [
      "One Tree beat paths in 2 runs\n",
      "Paths beat one tree in 1 runs\n",
      "Both performed equally good in 17 runs\n"
     ]
    },
    {
     "data": {
      "image/png": "[encoded data removed]",
      "text/plain": [
       "<Figure size 432x288 with 1 Axes>"
      ]
     },
     "metadata": {
      "needs_background": "light"
     },
     "output_type": "display_data"
    },
    {
     "name": "stdout",
     "output_type": "stream",
     "text": [
      "Multiple Trees beat One Tree in 6 runs\n",
      "One Tree beat  multiple trees in 7 runs\n",
      "Both performed equally good in 10 runs\n"
     ]
    },
    {
     "data": {
      "image/png": "[encoded data removed]",
      "text/plain": [
       "<Figure size 432x288 with 1 Axes>"
      ]
     },
     "metadata": {
      "needs_background": "light"
     },
     "output_type": "display_data"
    },
    {
     "name": "stdout",
     "output_type": "stream",
     "text": [
      "Ranked Trees beat Unranked Tree in 7 runs\n",
      "Unranked Tree beat ranked trees in 8 runs\n",
      "Both performed equally good in 11 runs\n"
     ]
    }
   ],
   "source": [
    "#0.9\n",
    "rPaths09, rOne09, rMult09 = allInOne('CSVs/curve/trees-2021-08-08_17-29-59-n25.csv')\n"
   ]
  },
  {
   "cell_type": "code",
   "execution_count": 22,
   "metadata": {},
   "outputs": [],
   "source": [
    "xVals = [0.3, 0.4, 0.5, 0.6, 0.7, 0.8, 0.9]\n",
    "yValsPaths = [rPaths03, rPaths04, rPaths05, rPaths06, rPaths07, rPaths08, rPaths09]\n",
    "yValsOne = [rOne03, rOne04, rOne05, rOne06, rOne07, rOne08, rOne09]\n",
    "yValsMult = [rMult03, rMult04, rMult05, rMult06, rMult07, rMult08, rMult09]"
   ]
  },
  {
   "cell_type": "code",
   "execution_count": 29,
   "metadata": {},
   "outputs": [
    {
     "data": {
      "image/png": "[encoded data removed]",
      "text/plain": [
       "<Figure size 432x288 with 1 Axes>"
      ]
     },
     "metadata": {
      "needs_background": "light"
     },
     "output_type": "display_data"
    }
   ],
   "source": [
    "import matplotlib.pyplot as plt\n",
    "\n",
    "plt.plot(xVals, yValsPaths, marker='o', markerfacecolor='blue', markersize=6, color='skyblue', linewidth=4)\n",
    "plt.plot(xVals, yValsOne, marker='o', markerfacecolor='red', markersize=6, color='darkred', linewidth=4)\n",
    "plt.plot(xVals, yValsMult, marker='o', markerfacecolor='green', markersize=6, color='darkgreen', linewidth=4)\n",
    "plt.title('Resilience - Failure Rate')\n",
    "plt.xlabel('Failure Rate')\n",
    "plt.ylabel('Resilience')\n",
    "plt.show()"
   ]
  },
  {
   "cell_type": "code",
   "execution_count": null,
   "metadata": {},
   "outputs": [],
   "source": [
    "#do for adversarial and random model too"
   ]
  },
  {
   "cell_type": "code",
   "execution_count": null,
   "metadata": {},
   "outputs": [],
   "source": [
    "#gutes n und p finden in literatur"
   ]
  },
  {
   "cell_type": "code",
   "execution_count": null,
   "metadata": {},
   "outputs": [],
   "source": [
    "#do relative drop-off!"
   ]
  }
 ],
 "metadata": {
  "kernelspec": {
   "display_name": "Python 3",
   "language": "python",
   "name": "python3"
  },
  "language_info": {
   "codemirror_mode": {
    "name": "ipython",
    "version": 3
   },
   "file_extension": ".py",
   "mimetype": "text/x-python",
   "name": "python",
   "nbconvert_exporter": "python",
   "pygments_lexer": "ipython3",
   "version": "3.8.6"
  }
 },
 "nbformat": 4,
 "nbformat_minor": 4
}
